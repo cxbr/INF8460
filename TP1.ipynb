{
 "cells": [
  {
   "cell_type": "markdown",
   "metadata": {
    "id": "znlt8jyJKg-5"
   },
   "source": [
    "##### INF8460 – Traitement automatique de la langue naturelle - Automne 2024\n",
    "### TP1 - Recherche de documents avec une métrique de similarité\n"
   ]
  },
  {
   "cell_type": "markdown",
   "metadata": {},
   "source": [
    "## Mise en place"
   ]
  },
  {
   "cell_type": "markdown",
   "metadata": {},
   "source": [
    "### Objectif du TP\n",
    "\n",
    "La recherche d'information est le processus d'accès aux données, généralement des documents ou d'autres données non structurées, à partir d'une requête. Dans ce TP, vous aurez en entrée une requête textuelle sous forme d'affirmation. Il faudra retrouver dans un corpus de littérature scientifique les documents pertinents qui justifient ou infirment la véracité de cette affirmation. Vous utiliserez des modèles vectoriels et des métriques de similarité pour cette tâche."
   ]
  },
  {
   "cell_type": "markdown",
   "metadata": {},
   "source": [
    "### Jeux de données\n",
    "\n",
    "Dans ce TP, vous utiliserez le jeu de données dans le répertoire _data_. Il s'agit d'un ensemble de données comprenant 809 affirmations rédigées par des experts et 5183 documents de références pour ces affirmations. Ces documents contiennent des phrases qui confirment ou infirment (contredisent) les affirmations. L'objectif est donc de trouver un document pertinent, c'est-à-dire contenant la ou les phrases qui permettent d'évaluer une affirmation donnée en entrée en utilisant une similarité sémantique. \n",
    "\n",
    "Le jeu de données comprend :\n",
    "\n",
    "1. Un corpus (_corpus.jsonl_) qui contient des documents décrits avec les informations suivantes :\n",
    "    - 'doc_id' : permet d'identifier le document en entrée\n",
    "    - 'title' : donne le titre du document\n",
    "    - 'abstract': est le résumé du document\n",
    "    - 'structured': indique si le document est structuré ou pas\n",
    "\n",
    "2. Un ensemble d'affirmations (_claims.jsonl_) qui contient des documents décrits avec les informations suivantes :\n",
    "    - 'id' : identifie l'affirmation.\n",
    "    - 'claim' : est l'affirmation en tant que telle.\n",
    "    - 'evidence' : précise quelles phrases du document sont pertinentes pour l'affirmation. Chaque phrase est accompagnée d'une étiquette de véracité (confirm/contradict) pour indiquer si la phrase confirme ou contredit l'affirmation.  \n",
    "    - 'cited_doc_ids' : indique les identifiants des documents cités.\n",
    "\n",
    "\n",
    "\n",
    "Dans _claims.jsonl_, seuls les identifiants des documents sont renseignés. Pour avoir les détails d'un document tel que le titre (\"title\") et le résumé (\"abstract\"), il faudra consulter le fichier _corpus.jsonl_. \n",
    "\n",
    "Voici un exemple :\n",
    "\n",
    "- **Affirmation (claim)** : Consumption of whole fruits increases the risk of type 2 diabetes.\n",
    "- **Cited document(s) ID(s)** : 1974176\n",
    "- **Evidence (sentence in the document containing the proof)** : [{'sentences': [11], 'label': 'CONTRADICT'}]\n",
    "\n",
    "  Ici [11] constitue le numéro de la phrase qui contredit l'affirmation.\n",
    "\n",
    "- **Cited document(s) title(s)** : Fruit consumption and risk of type 2 diabetes: results from three prospective longitudinal cohort studies\n",
    "- **Cited document(s) abstract(s) (list of sentences)** : \n",
    "    - [0] 'OBJECTIVE To determine whether individual fruits are differentially associated with risk of type 2 diabetes.\\n'\n",
    "    - [1] 'DESIGN Prospective longitudinal cohort study.'\n",
    "    - ...\n",
    "    - [10] 'CONCLUSION Our findings suggest the presence of heterogeneity in the associations between individual fruit consumption and risk of type 2 diabetes.'\n",
    "    - [11] 'Greater consumption of specific whole fruits, particularly blueberries, grapes, and apples, is significantly associated with a lower risk of type 2 diabetes, whereas greater consumption of fruit juice is associated with a higher risk.'\n",
    "\n",
    "Le champ \"evidence\" indique la phrase au niveau du résumé du document qui confirme ou infirme l'affirmation, d'où le numéro de la phrase et le label qui y sont renseignés. Dans le cas particulier de l'exemple ci-dessus, on voit bien que la onzième phrase du résumé du document est la plus pertinente pour l'affirmation et qu'elle la contredit, ce qui explique le label \"CONTRADICT\" dans \"evidence\". Cependant, dans le cadre de ce TP, on ne s'intéresse qu'à la présence de cette phrase pertinente dans le document, donc on ne considérera pas cette colonne \"evidence\" dans la suite du TP."
   ]
  },
  {
   "cell_type": "markdown",
   "metadata": {
    "id": "26Qe_-7z25EE"
   },
   "source": [
    "### Librairies permises\n",
    "- Jupyter notebook\n",
    "- NLTK\n",
    "- Numpy \n",
    "- Pandas\n",
    "- Sklearn\n",
    "- PowerLaw\n",
    "- Matplotlib\n",
    "- TQDM\n",
    "- BM25\n",
    "- Pour toute autre librairie, demandez à votre chargé de laboratoire"
   ]
  },
  {
   "cell_type": "markdown",
   "metadata": {
    "id": "zupXN9tr3oEa"
   },
   "source": [
    "## Étapes du TP\n",
    "A partir du notebook _INF8460_A24_TP1_ qui est distribué, vous devez réaliser les étapes suivantes. (Notez que les cellules dans le squelette sont là à titre informatif - il est fort probable que vous rajoutiez des sections au fur et à mesure de votre TP)."
   ]
  },
  {
   "cell_type": "code",
   "execution_count": 1,
   "metadata": {},
   "outputs": [],
   "source": [
    "# Lien vers les fichiers à utiliser\n",
    "# Ne pas modifier\n",
    "\n",
    "PATH = 'data/ai2_data/'"
   ]
  },
  {
   "cell_type": "code",
   "execution_count": 2,
   "metadata": {},
   "outputs": [],
   "source": [
    "# !pip install rank_bm25 \n",
    "# !pip install powerlaw"
   ]
  },
  {
   "cell_type": "code",
   "execution_count": 3,
   "metadata": {},
   "outputs": [],
   "source": [
    "# Import des librairies\n",
    "\n",
    "import numpy as np\n",
    "import pandas as pd\n",
    "import powerlaw\n",
    "from collections import defaultdict, Counter\n",
    "from tqdm import tqdm\n",
    "import matplotlib.pyplot as plt\n",
    "from typing import List, Dict\n",
    "\n",
    "import nltk\n",
    "from nltk.tokenize import word_tokenize\n",
    "from nltk.stem.porter import PorterStemmer\n",
    "from nltk.corpus import stopwords\n",
    "from string import punctuation\n",
    "\n",
    "import sklearn\n",
    "from sklearn.feature_extraction.text import TfidfVectorizer\n",
    "from sklearn.metrics.pairwise import cosine_similarity\n",
    "\n",
    "from rank_bm25 import BM25Okapi"
   ]
  },
  {
   "cell_type": "code",
   "execution_count": 4,
   "metadata": {},
   "outputs": [
    {
     "name": "stderr",
     "output_type": "stream",
     "text": [
      "[nltk_data] Downloading package stopwords to\n",
      "[nltk_data]     C:\\Users\\youne\\AppData\\Roaming\\nltk_data...\n",
      "[nltk_data]   Package stopwords is already up-to-date!\n",
      "[nltk_data] Downloading package punkt to\n",
      "[nltk_data]     C:\\Users\\youne\\AppData\\Roaming\\nltk_data...\n",
      "[nltk_data]   Package punkt is already up-to-date!\n"
     ]
    },
    {
     "data": {
      "text/plain": [
       "True"
      ]
     },
     "execution_count": 4,
     "metadata": {},
     "output_type": "execute_result"
    }
   ],
   "source": [
    "nltk.download('stopwords')\n",
    "stop_words = stopwords.words('english')\n",
    "nltk.download('punkt')"
   ]
  },
  {
   "cell_type": "markdown",
   "metadata": {},
   "source": [
    "### 1. Traitement des données (15 points)\n",
    "Vous allez effectuer une analyse afin d'avoir une idée claire des données que vous aurez à manipuler."
   ]
  },
  {
   "cell_type": "markdown",
   "metadata": {},
   "source": [
    "#### 1.1 Chargement des données (2 points)"
   ]
  },
  {
   "cell_type": "markdown",
   "metadata": {},
   "source": [
    "##### 1.1.1 Chargement et affichage des données (1 point)\n",
    "\n",
    "Chargez les données '_claims.jsonl_' et '_corpus.jsonl_' puis affichez-les dans des dataframes en utilisant panda."
   ]
  },
  {
   "cell_type": "code",
   "execution_count": 5,
   "metadata": {},
   "outputs": [
    {
     "data": {
      "text/html": [
       "<div>\n",
       "<style scoped>\n",
       "    .dataframe tbody tr th:only-of-type {\n",
       "        vertical-align: middle;\n",
       "    }\n",
       "\n",
       "    .dataframe tbody tr th {\n",
       "        vertical-align: top;\n",
       "    }\n",
       "\n",
       "    .dataframe thead th {\n",
       "        text-align: right;\n",
       "    }\n",
       "</style>\n",
       "<table border=\"1\" class=\"dataframe\">\n",
       "  <thead>\n",
       "    <tr style=\"text-align: right;\">\n",
       "      <th></th>\n",
       "      <th>id</th>\n",
       "      <th>claim</th>\n",
       "      <th>evidence</th>\n",
       "      <th>cited_doc_ids</th>\n",
       "    </tr>\n",
       "  </thead>\n",
       "  <tbody>\n",
       "    <tr>\n",
       "      <th>0</th>\n",
       "      <td>0</td>\n",
       "      <td>0-dimensional biomaterials lack inductive prop...</td>\n",
       "      <td>{}</td>\n",
       "      <td>[31715818]</td>\n",
       "    </tr>\n",
       "    <tr>\n",
       "      <th>1</th>\n",
       "      <td>2</td>\n",
       "      <td>1 in 5 million in UK have abnormal PrP positiv...</td>\n",
       "      <td>{'13734012': [{'sentences': [4], 'label': 'CON...</td>\n",
       "      <td>[13734012]</td>\n",
       "    </tr>\n",
       "    <tr>\n",
       "      <th>2</th>\n",
       "      <td>4</td>\n",
       "      <td>1-1% of colorectal cancer patients are diagnos...</td>\n",
       "      <td>{}</td>\n",
       "      <td>[22942787]</td>\n",
       "    </tr>\n",
       "    <tr>\n",
       "      <th>3</th>\n",
       "      <td>6</td>\n",
       "      <td>10% of sudden infant death syndrome (SIDS) dea...</td>\n",
       "      <td>{}</td>\n",
       "      <td>[2613775]</td>\n",
       "    </tr>\n",
       "    <tr>\n",
       "      <th>4</th>\n",
       "      <td>9</td>\n",
       "      <td>32% of liver transplantation programs required...</td>\n",
       "      <td>{'44265107': [{'sentences': [15], 'label': 'SU...</td>\n",
       "      <td>[44265107]</td>\n",
       "    </tr>\n",
       "    <tr>\n",
       "      <th>...</th>\n",
       "      <td>...</td>\n",
       "      <td>...</td>\n",
       "      <td>...</td>\n",
       "      <td>...</td>\n",
       "    </tr>\n",
       "    <tr>\n",
       "      <th>804</th>\n",
       "      <td>1403</td>\n",
       "      <td>siRNA knockdown of A20 accelerates tumor progr...</td>\n",
       "      <td>{'33370': [{'sentences': [6], 'label': 'CONTRA...</td>\n",
       "      <td>[33370, 38355793]</td>\n",
       "    </tr>\n",
       "    <tr>\n",
       "      <th>805</th>\n",
       "      <td>1404</td>\n",
       "      <td>siRNA knockdown of A20 slows tumor progression...</td>\n",
       "      <td>{'33370': [{'sentences': [6], 'label': 'SUPPOR...</td>\n",
       "      <td>[33370, 38355793]</td>\n",
       "    </tr>\n",
       "    <tr>\n",
       "      <th>806</th>\n",
       "      <td>1405</td>\n",
       "      <td>taa1 tar1 tar2 triple mutants in Arabidopsis d...</td>\n",
       "      <td>{}</td>\n",
       "      <td>[10504681]</td>\n",
       "    </tr>\n",
       "    <tr>\n",
       "      <th>807</th>\n",
       "      <td>1406</td>\n",
       "      <td>β-sheet opening occurs during pleurotolysin po...</td>\n",
       "      <td>{'2617858': [{'sentences': [4], 'label': 'SUPP...</td>\n",
       "      <td>[2617858]</td>\n",
       "    </tr>\n",
       "    <tr>\n",
       "      <th>808</th>\n",
       "      <td>1407</td>\n",
       "      <td>β1/Ketel is able to bind microtubules.</td>\n",
       "      <td>{}</td>\n",
       "      <td>[8087082, 29863668]</td>\n",
       "    </tr>\n",
       "  </tbody>\n",
       "</table>\n",
       "<p>809 rows × 4 columns</p>\n",
       "</div>"
      ],
      "text/plain": [
       "       id                                              claim  \\\n",
       "0       0  0-dimensional biomaterials lack inductive prop...   \n",
       "1       2  1 in 5 million in UK have abnormal PrP positiv...   \n",
       "2       4  1-1% of colorectal cancer patients are diagnos...   \n",
       "3       6  10% of sudden infant death syndrome (SIDS) dea...   \n",
       "4       9  32% of liver transplantation programs required...   \n",
       "..    ...                                                ...   \n",
       "804  1403  siRNA knockdown of A20 accelerates tumor progr...   \n",
       "805  1404  siRNA knockdown of A20 slows tumor progression...   \n",
       "806  1405  taa1 tar1 tar2 triple mutants in Arabidopsis d...   \n",
       "807  1406  β-sheet opening occurs during pleurotolysin po...   \n",
       "808  1407             β1/Ketel is able to bind microtubules.   \n",
       "\n",
       "                                              evidence        cited_doc_ids  \n",
       "0                                                   {}           [31715818]  \n",
       "1    {'13734012': [{'sentences': [4], 'label': 'CON...           [13734012]  \n",
       "2                                                   {}           [22942787]  \n",
       "3                                                   {}            [2613775]  \n",
       "4    {'44265107': [{'sentences': [15], 'label': 'SU...           [44265107]  \n",
       "..                                                 ...                  ...  \n",
       "804  {'33370': [{'sentences': [6], 'label': 'CONTRA...    [33370, 38355793]  \n",
       "805  {'33370': [{'sentences': [6], 'label': 'SUPPOR...    [33370, 38355793]  \n",
       "806                                                 {}           [10504681]  \n",
       "807  {'2617858': [{'sentences': [4], 'label': 'SUPP...            [2617858]  \n",
       "808                                                 {}  [8087082, 29863668]  \n",
       "\n",
       "[809 rows x 4 columns]"
      ]
     },
     "execution_count": 5,
     "metadata": {},
     "output_type": "execute_result"
    }
   ],
   "source": [
    "# TODO\n",
    "df_claims = pd.read_json(PATH + 'claims.jsonl', lines=True)\n",
    "df_claims\n",
    "# END TODO"
   ]
  },
  {
   "cell_type": "code",
   "execution_count": 6,
   "metadata": {},
   "outputs": [
    {
     "data": {
      "text/html": [
       "<div>\n",
       "<style scoped>\n",
       "    .dataframe tbody tr th:only-of-type {\n",
       "        vertical-align: middle;\n",
       "    }\n",
       "\n",
       "    .dataframe tbody tr th {\n",
       "        vertical-align: top;\n",
       "    }\n",
       "\n",
       "    .dataframe thead th {\n",
       "        text-align: right;\n",
       "    }\n",
       "</style>\n",
       "<table border=\"1\" class=\"dataframe\">\n",
       "  <thead>\n",
       "    <tr style=\"text-align: right;\">\n",
       "      <th></th>\n",
       "      <th>doc_id</th>\n",
       "      <th>title</th>\n",
       "      <th>abstract</th>\n",
       "      <th>structured</th>\n",
       "    </tr>\n",
       "  </thead>\n",
       "  <tbody>\n",
       "    <tr>\n",
       "      <th>0</th>\n",
       "      <td>4983</td>\n",
       "      <td>Microstructural development of human newborn c...</td>\n",
       "      <td>[Alterations of the architecture of cerebral w...</td>\n",
       "      <td>False</td>\n",
       "    </tr>\n",
       "    <tr>\n",
       "      <th>1</th>\n",
       "      <td>5836</td>\n",
       "      <td>Induction of myelodysplasia by myeloid-derived...</td>\n",
       "      <td>[Myelodysplastic syndromes (MDS) are age-depen...</td>\n",
       "      <td>False</td>\n",
       "    </tr>\n",
       "    <tr>\n",
       "      <th>2</th>\n",
       "      <td>7912</td>\n",
       "      <td>BC1 RNA, the transcript from a master gene for...</td>\n",
       "      <td>[ID elements are short interspersed elements (...</td>\n",
       "      <td>False</td>\n",
       "    </tr>\n",
       "    <tr>\n",
       "      <th>3</th>\n",
       "      <td>18670</td>\n",
       "      <td>The DNA Methylome of Human Peripheral Blood Mo...</td>\n",
       "      <td>[DNA methylation plays an important role in bi...</td>\n",
       "      <td>False</td>\n",
       "    </tr>\n",
       "    <tr>\n",
       "      <th>4</th>\n",
       "      <td>19238</td>\n",
       "      <td>The human myelin basic protein gene is include...</td>\n",
       "      <td>[Two human Golli (for gene expressed in the ol...</td>\n",
       "      <td>False</td>\n",
       "    </tr>\n",
       "    <tr>\n",
       "      <th>...</th>\n",
       "      <td>...</td>\n",
       "      <td>...</td>\n",
       "      <td>...</td>\n",
       "      <td>...</td>\n",
       "    </tr>\n",
       "    <tr>\n",
       "      <th>5178</th>\n",
       "      <td>195689316</td>\n",
       "      <td>Body-mass index and cause-specific mortality i...</td>\n",
       "      <td>[BACKGROUND The main associations of body-mass...</td>\n",
       "      <td>True</td>\n",
       "    </tr>\n",
       "    <tr>\n",
       "      <th>5179</th>\n",
       "      <td>195689757</td>\n",
       "      <td>Targeting metabolic remodeling in glioblastoma...</td>\n",
       "      <td>[A key aberrant biological difference between ...</td>\n",
       "      <td>False</td>\n",
       "    </tr>\n",
       "    <tr>\n",
       "      <th>5180</th>\n",
       "      <td>196664003</td>\n",
       "      <td>Signaling architectures that transmit unidirec...</td>\n",
       "      <td>[A signaling pathway transmits information fro...</td>\n",
       "      <td>False</td>\n",
       "    </tr>\n",
       "    <tr>\n",
       "      <th>5181</th>\n",
       "      <td>198133135</td>\n",
       "      <td>Association between pre-diabetes, type 2 diabe...</td>\n",
       "      <td>[AIMS Trabecular bone score (TBS) is a surroga...</td>\n",
       "      <td>True</td>\n",
       "    </tr>\n",
       "    <tr>\n",
       "      <th>5182</th>\n",
       "      <td>198309074</td>\n",
       "      <td>Adhesion molecules and chemokines: relation to...</td>\n",
       "      <td>[Introduction: Among the inflammatory mediator...</td>\n",
       "      <td>False</td>\n",
       "    </tr>\n",
       "  </tbody>\n",
       "</table>\n",
       "<p>5183 rows × 4 columns</p>\n",
       "</div>"
      ],
      "text/plain": [
       "         doc_id                                              title  \\\n",
       "0          4983  Microstructural development of human newborn c...   \n",
       "1          5836  Induction of myelodysplasia by myeloid-derived...   \n",
       "2          7912  BC1 RNA, the transcript from a master gene for...   \n",
       "3         18670  The DNA Methylome of Human Peripheral Blood Mo...   \n",
       "4         19238  The human myelin basic protein gene is include...   \n",
       "...         ...                                                ...   \n",
       "5178  195689316  Body-mass index and cause-specific mortality i...   \n",
       "5179  195689757  Targeting metabolic remodeling in glioblastoma...   \n",
       "5180  196664003  Signaling architectures that transmit unidirec...   \n",
       "5181  198133135  Association between pre-diabetes, type 2 diabe...   \n",
       "5182  198309074  Adhesion molecules and chemokines: relation to...   \n",
       "\n",
       "                                               abstract  structured  \n",
       "0     [Alterations of the architecture of cerebral w...       False  \n",
       "1     [Myelodysplastic syndromes (MDS) are age-depen...       False  \n",
       "2     [ID elements are short interspersed elements (...       False  \n",
       "3     [DNA methylation plays an important role in bi...       False  \n",
       "4     [Two human Golli (for gene expressed in the ol...       False  \n",
       "...                                                 ...         ...  \n",
       "5178  [BACKGROUND The main associations of body-mass...        True  \n",
       "5179  [A key aberrant biological difference between ...       False  \n",
       "5180  [A signaling pathway transmits information fro...       False  \n",
       "5181  [AIMS Trabecular bone score (TBS) is a surroga...        True  \n",
       "5182  [Introduction: Among the inflammatory mediator...       False  \n",
       "\n",
       "[5183 rows x 4 columns]"
      ]
     },
     "execution_count": 6,
     "metadata": {},
     "output_type": "execute_result"
    }
   ],
   "source": [
    "df_corpus = pd.read_json(PATH + 'corpus.jsonl', lines=True)\n",
    "df_corpus"
   ]
  },
  {
   "cell_type": "markdown",
   "metadata": {},
   "source": [
    "##### 1.1.2 Statistique sur les évidences (1 point)\n",
    "\n",
    "Calculez les pourcentages d'apparition de chaque label des évidences dans \"_df_claims_\" (CONTRADICT ou SUPPORT). Pour rappel les évidences sont les extraits pertinents des résumés qui supportent ou contredisent les affirmations. "
   ]
  },
  {
   "cell_type": "code",
   "execution_count": 7,
   "metadata": {},
   "outputs": [
    {
     "name": "stdout",
     "output_type": "stream",
     "text": [
      "CONTRADICT: 35.63%\n",
      "SUPPORT: 64.37%\n"
     ]
    }
   ],
   "source": [
    "# On calcule les pourcentages des labels present dans evidence\n",
    "# TODO\n",
    "label_counts = {\"CONTRADICT\": 0, \"SUPPORT\": 0}\n",
    "\n",
    "for evidence_dict in df_claims['evidence']:\n",
    "    for id, evidence_list in evidence_dict.items():\n",
    "        for evidence in evidence_list:\n",
    "            label = evidence['label']\n",
    "            if label in label_counts:\n",
    "                label_counts[label] += 1\n",
    "total_evidences = sum(label_counts.values())\n",
    "label_percentages = {label: (count / total_evidences) * 100 for label, count in label_counts.items()}\n",
    "\n",
    "for label, percentage in label_percentages.items():\n",
    "    print(f\"{label}: {percentage:.2f}%\")\n",
    "# END TODO"
   ]
  },
  {
   "cell_type": "markdown",
   "metadata": {},
   "source": [
    "> Réponse attendue:\n",
    "> \n",
    "> CONTRADICT: 35.63%\n",
    "> \n",
    "> SUPPORT: 64.37%"
   ]
  },
  {
   "cell_type": "markdown",
   "metadata": {},
   "source": [
    "#### 1.2 Analyse statistique des données (7 points)\n",
    "\n",
    "Nous allons faire une suite de transformations sur les données pour les rendre plus faciles à manipuler."
   ]
  },
  {
   "cell_type": "markdown",
   "metadata": {},
   "source": [
    "##### 1.2.1 Implémentation de la fonction \"_list_to_string_\" \n",
    "\n",
    "Nous mettons à votre disposition la fonction \"_list_to_string_\" qui transforme une liste de phrases en un texte en les concaténant et enlèvant tous les caractères de nouvelle ligne (`\\n`) pour s'assurer que nous avons un texte complet. "
   ]
  },
  {
   "cell_type": "code",
   "execution_count": 8,
   "metadata": {},
   "outputs": [],
   "source": [
    "# On transforme la liste de phrases en un texte\n",
    "def list_to_string(x):\n",
    "    if isinstance(x, list):\n",
    "        return ' '.join(str(i).replace(\"\\n\",\"\").replace(\"  \",\" \") for i in x)  # Enlève les caractère de retour à la ligne et convertit les éléments de la liste en chaînes et les joint\n",
    "    return str(x)"
   ]
  },
  {
   "cell_type": "markdown",
   "metadata": {},
   "source": [
    "##### 1.2.2 Utilisation de la fonction \"_list_to_string_\" \n",
    "\n",
    "Appliquons cette fonction \"_list_to_string_\" aux colonnes \"_title_\" et \"abstract\" du dataframe \"_df_corpus_\"."
   ]
  },
  {
   "cell_type": "code",
   "execution_count": 9,
   "metadata": {},
   "outputs": [],
   "source": [
    "# On applique la fonction aux colonnes \"title\" et \"abstract\"\n",
    "df_corpus['title']    = df_corpus['title'].apply(list_to_string)\n",
    "df_corpus['abstract'] = df_corpus['abstract'].apply(list_to_string)"
   ]
  },
  {
   "cell_type": "markdown",
   "metadata": {},
   "source": [
    "##### 1.2.3 Ajout de la colonne \"_text_\" dans \"df_corpus\"\n",
    "\n",
    "\n",
    "Ajoutons maintenant une colonne \"_text_\" qui est la concaténation du titre (\"_title_\") et du résumé (\"_abstract_\") au niveau du dataframe \"df_corpus\"."
   ]
  },
  {
   "cell_type": "code",
   "execution_count": 10,
   "metadata": {},
   "outputs": [],
   "source": [
    "# On concatene les textes dans \"title\" et \"abstract\"\n",
    "df_corpus['text'] = df_corpus['title'] + \" \" + df_corpus['abstract']"
   ]
  },
  {
   "cell_type": "markdown",
   "metadata": {},
   "source": [
    "##### 1.2.4 Ajout de colonnes dans \"_df_claims_\" (1 point)\n",
    "\n",
    "Ajoutez les colonnes \"_claim_length_\" et \"_num_cited_doc_\" qui donnent, pour chaque affirmation, le nombre de mots dans la colonne \"_claim_\" et le nombre de documents cités au niveau de la colonne \"_cited_doc_ids_\" pour le dataframe \"_df_claims_\". Vous pouvez considérer que des mots sont simplement une séquence de caractères séparés par un espace."
   ]
  },
  {
   "cell_type": "code",
   "execution_count": 11,
   "metadata": {},
   "outputs": [],
   "source": [
    "# TODO\n",
    "df_claims['claim_length']  = df_claims['claim'].apply(lambda x: len(x.split()))\n",
    "df_claims['num_cited_doc'] = df_claims['cited_doc_ids'].apply(lambda x: len(x))\n",
    "# END TODO"
   ]
  },
  {
   "cell_type": "markdown",
   "metadata": {},
   "source": [
    "##### 1.2.5 Ajout des colonnes de mesures de longeurs de textes (documents) (1 point)\n",
    "\n",
    "Ajoutez les colonnes \"_title_length_\", \"_abstract_length_\" et \"_text_length_\" qui donnent le nombre de mots dans les colonnes \"_title_\", \"_abstract_\" et \"_text_\" du dataframe \"_df_corpus_\". Pour le reste du TP, nous définirons la longueur du \"_title_\", \"_abstract_\" et du \"_text_\" comme étant le nombre de mots dans les chaînes de caractères respectives. Encore une fois, vous pouvez considérer que des mots sont simplement une séquence de caractères séparés par un espace."
   ]
  },
  {
   "cell_type": "code",
   "execution_count": 12,
   "metadata": {},
   "outputs": [],
   "source": [
    "# TODO\n",
    "df_corpus['title_length']    = df_corpus['title'].apply(lambda x: len(x.split()))\n",
    "df_corpus['abstract_length'] = df_corpus['abstract'].apply(lambda x: len(x.split()))\n",
    "df_corpus['text_length']     = df_corpus['text'].apply(lambda x: len(x.split()))\n",
    "# END TODO"
   ]
  },
  {
   "cell_type": "markdown",
   "metadata": {},
   "source": [
    "##### 1.2.6 Analyse statistique (1.5 point)\n",
    "\n",
    "Faites l'analyse statistique des données en affichant le \"_min_\", le \"_max_\" et la \"_moyenne_\" pour les deux colonnes \"_claim_length_\" et \"_num_cited_doc_\" que vous venez de créer."
   ]
  },
  {
   "cell_type": "code",
   "execution_count": 13,
   "metadata": {},
   "outputs": [
    {
     "name": "stdout",
     "output_type": "stream",
     "text": [
      "claim_length : min : 3.00, max : 39.00, mean : 12.33\n",
      "num_cited_doc : min : 1.00, max : 5.00, mean : 1.14\n"
     ]
    }
   ],
   "source": [
    "# TODO\n",
    "statistics = {\n",
    "    'claim_length': {\n",
    "        'min':  df_claims['claim_length'].min(),\n",
    "        'max':  df_claims['claim_length'].max(),\n",
    "        'mean': df_claims['claim_length'].mean()\n",
    "    },\n",
    "    'num_cited_doc': {\n",
    "        'min':  df_claims['num_cited_doc'].min(),\n",
    "        'max':  df_claims['num_cited_doc'].max(),\n",
    "        'mean': df_claims['num_cited_doc'].mean()\n",
    "    }\n",
    "}\n",
    "for column, stats in statistics.items():\n",
    "    print(f\"{column} : min : {stats['min']:.2f}, max : {stats['max']:.2f}, mean : {stats['mean']:.2f}\")\n",
    "# END TODO"
   ]
  },
  {
   "cell_type": "markdown",
   "metadata": {},
   "source": [
    "##### 1.2.7 Histogrammes (2 points)\n",
    "\n",
    "En considérant le dataframe du corpus de résumés (\"_df_corpus_\"), affichez dans 3 histogrammes les distributions suivantes:\n",
    "\n",
    "- Fréquence des titres ('_title_') en fonction de leur longueur\n",
    "- Fréquence des résumés ('_abstract_') en fonction de leur longueur\n",
    "- Fréquence des textes ('_text_') en fonction de leur longueur\n",
    "\n",
    "Utilisez la valeur de 30 pour le paramètre \"_bins_\""
   ]
  },
  {
   "cell_type": "code",
   "execution_count": 14,
   "metadata": {},
   "outputs": [
    {
     "data": {
      "image/png": "[encoded data removed]",
      "text/plain": [
       "<Figure size 1800x600 with 3 Axes>"
      ]
     },
     "metadata": {},
     "output_type": "display_data"
    }
   ],
   "source": [
    "# TODO\n",
    "plt.figure(figsize=(18, 6))\n",
    "\n",
    "plt.subplot(1, 3, 1)\n",
    "plt.hist(df_corpus['title_length'], bins=30, edgecolor='black')\n",
    "plt.title('Fréquence des titres en fonction de leur longueur')\n",
    "plt.xlabel('Longueur des titres')\n",
    "plt.ylabel('Fréquence')\n",
    "\n",
    "plt.subplot(1, 3, 2)\n",
    "plt.hist(df_corpus['abstract_length'], bins=30, edgecolor='black')\n",
    "plt.title('Fréquence des résumés en fonction de leur longueur')\n",
    "plt.xlabel('Longueur des résumés')\n",
    "plt.ylabel('Fréquence')\n",
    "\n",
    "plt.subplot(1, 3, 3)\n",
    "plt.hist(df_corpus['text_length'], bins=30, edgecolor='black')\n",
    "plt.title('Fréquence des textes en fonction de leur longueur')\n",
    "plt.xlabel('Longueur des textes')\n",
    "plt.ylabel('Fréquence')\n",
    "\n",
    "plt.tight_layout()\n",
    "plt.show()\n",
    "# END TODO"
   ]
  },
  {
   "cell_type": "markdown",
   "metadata": {},
   "source": [
    "##### 1.2.8 Quelles remarques faites-vous sur les affirmations (claims) et les documents ? (1.5 points) \n",
    "\n",
    "En observant les maximums, les minimums et les moyennes, que remarquez-vous à propos des affirmations ('_claims_') ? À l'aide des graphiques générés, comparez également les documents."
   ]
  },
  {
   "cell_type": "code",
   "execution_count": 15,
   "metadata": {},
   "outputs": [],
   "source": [
    "# TODO\n",
    "# Les affirmations sont globalement concises, avec une faible variance dans la longueur.\n",
    "# Le faible nombre moyen de documents cités (1.14) montre que chaque affirmation est généralement soutenue par une source unique ou très peu de sources.\n",
    "# De plus, les histogrammes montrent également que la majorité des documents sont relativement courts.\n",
    "# END TODO"
   ]
  },
  {
   "cell_type": "markdown",
   "metadata": {},
   "source": [
    "#### 1.3 Pré-traitement (6 points)\n",
    "Les affirmations et résumés de texte de votre ensemble de données doivent d’abord être représentés et indexés pour ensuite pouvoir effectuer une recherche de document (pouvant être \"_title_\", \"_abstract_\" ou la fusion des deux représentée par \"_text_\") qui justifie/contredit une affirmation. Vous devez donc implémenter une étape de pré-traitement des données."
   ]
  },
  {
   "cell_type": "markdown",
   "metadata": {},
   "source": [
    "##### 1.3.1 Implémentation de la fonction \"_tokenize_sentence_\" (1 point)\n",
    "\n",
    "Implémentez la fonction \"_tokenize_sentence_\" pour la segmentation d'une phrase en une liste de jetons. Utilisez la librarie `nltk`."
   ]
  },
  {
   "cell_type": "code",
   "execution_count": 16,
   "metadata": {},
   "outputs": [],
   "source": [
    "# TODO\n",
    "def tokenize_sentence(sentence):\n",
    "    return word_tokenize(sentence)\n",
    "# END TODO"
   ]
  },
  {
   "cell_type": "markdown",
   "metadata": {},
   "source": [
    "##### 1.3.2 Implémentation de la fonction \"_tokenize_text_\" (1 point)\n",
    "Implémentez la fonction \"_tokenize_text_\" qui utilise \"_tokenize_sentence_\" pour faire la segmentation d'un texte (liste de phrases)."
   ]
  },
  {
   "cell_type": "code",
   "execution_count": 17,
   "metadata": {},
   "outputs": [],
   "source": [
    "# TODO\n",
    "def tokenize_text(text):\n",
    "    sentences = sent_tokenize(text)\n",
    "    return [tokenize_sentence(sentence) for sentence in sentences]\n",
    "# END TODO"
   ]
  },
  {
   "cell_type": "markdown",
   "metadata": {},
   "source": [
    "##### 1.3.3 Implémentation de la fonction \"_stem_tokens_\" (1 point)\n",
    "\n",
    "Implémentez la fonction \"_stem_tokens_\" qui prend une liste de jetons (tokens) en entrée et retourne une liste contenant leur forme racinisée (stems) en utilisant l'algorithme de racinisation PorterStemmer de la bibliothèque nltk."
   ]
  },
  {
   "cell_type": "code",
   "execution_count": 18,
   "metadata": {},
   "outputs": [],
   "source": [
    "# TODO\n",
    "def stem_tokens(tokens):\n",
    "    return [PorterStemmer().stem(token) for token in tokens]\n",
    "# END TODO"
   ]
  },
  {
   "cell_type": "markdown",
   "metadata": {},
   "source": [
    "##### 1.3.4 Pré-traitement (2 points)\n",
    "\n",
    "En utilisant vos précédentes fonctions, faites maintenant le pré-traitement des champs \"_text_\", \"_title_\" et \"_abstract_\" du dataframe \"_df_corpus_\" et \"_claim_\" du dataframe \"_df_claims_\" en suivant les étapes suivantes:\n",
    "- conversion en minuscules\n",
    "- segmentation (tokenization) des passages\n",
    "- suppression des stop-words et ponctuation\n",
    "- racinisation (stemming) des jetons\n",
    "\n",
    "Nommez la liste des affirmations pré-traitées par \"_claims_preprocessed_\". Pour le corpus de documents considérez les ensembles de titres \"_title_\", de résumés \"abstract\" et la fusion des deux \"_text_\" et nommez les listes correspondantes par \"_titles_preprocessed_\", \"_abstracts_preprocessed_\" et \"_texts_preprocessed_\" respectivement."
   ]
  },
  {
   "cell_type": "code",
   "execution_count": 19,
   "metadata": {},
   "outputs": [],
   "source": [
    "# TODO\n",
    "def remove_stopwords(tokens):\n",
    "    return [token for token in tokens if token not in stop_words]\n",
    "\n",
    "def remove_punctuation(tokens):\n",
    "    return [token for token in tokens if token not in punctuation]\n",
    "\n",
    "def convert_to_lowercase(text):\n",
    "    return text.lower()\n",
    "\n",
    "def preprocess_text(text):\n",
    "    text   = convert_to_lowercase(text)\n",
    "    tokens = tokenize_sentence(text)\n",
    "    tokens = remove_stopwords(tokens)\n",
    "    tokens = remove_punctuation(tokens)\n",
    "    tokens = stem_tokens(tokens)\n",
    "    return tokens\n",
    "\n",
    "def preprocess_corpus(corpus):\n",
    "    return [preprocess_text(text) for text in corpus]\n",
    "\n",
    "claims_preprocessed    = preprocess_corpus(df_claims['claim'])\n",
    "titles_preprocessed    = preprocess_corpus(df_corpus['title'])\n",
    "abstracts_preprocessed = preprocess_corpus(df_corpus['abstract'])\n",
    "texts_preprocessed     = preprocess_corpus(df_corpus['text'])\n",
    "# END TODO"
   ]
  },
  {
   "cell_type": "markdown",
   "metadata": {},
   "source": [
    "##### 1.3.5 Jetons uniques (types) (1 point)\n",
    "\n",
    "Affichez maintenant le nombre total de jetons dans tous les textes (_text_) et affirmations (_claim_) (en les considérant comme un seul corpus) après le pré-traitement. Puis, affichez le nombre de jetons uniques (types) dans les textes (_text_) et les affirmations (_claim_). "
   ]
  },
  {
   "cell_type": "code",
   "execution_count": 20,
   "metadata": {},
   "outputs": [
    {
     "name": "stdout",
     "output_type": "stream",
     "text": [
      "Nombre total de jetons dans tous les textes et affirmations : 742202\n",
      "Nombre de jetons uniques : 45195\n"
     ]
    }
   ],
   "source": [
    "# TODO\n",
    "def flatten(xss):\n",
    "    return [x for xs in xss for x in xs]\n",
    "    \n",
    "all_tokens = flatten(claims_preprocessed) + flatten(texts_preprocessed)\n",
    "print(f\"Nombre total de jetons dans tous les textes et affirmations : {len(all_tokens)}\")\n",
    "print(f\"Nombre de jetons uniques : {len(set(all_tokens))}\")\n",
    "# END TODO"
   ]
  },
  {
   "cell_type": "markdown",
   "metadata": {
    "id": "3qH8-QAw8BEV"
   },
   "source": [
    "### 2. Représentation des affirmations et des documents  (45 points)"
   ]
  },
  {
   "cell_type": "markdown",
   "metadata": {},
   "source": [
    "#### 2.1  Vocabulaire (15 points)"
   ]
  },
  {
   "cell_type": "markdown",
   "metadata": {},
   "source": [
    "##### 2.1.1 Implémentation de la fonction \"_get_vocab_\" (3 points)\n",
    "\n",
    "Implémentez la fonction \"_get_vocab_\" qui prend une liste de textes composés chacun d'une liste de jetons et retourne un dictionnaire dont les clés sont les jetons uniques et les valeurs sont leur fréquence dans l'ensemble des textes."
   ]
  },
  {
   "cell_type": "code",
   "execution_count": 21,
   "metadata": {},
   "outputs": [],
   "source": [
    "# TODO\n",
    "def get_vocab(tokenized_texts):\n",
    "    return dict(Counter(token for tokens in tokenized_texts for token in tokens))\n",
    "# END TODO"
   ]
  },
  {
   "cell_type": "markdown",
   "metadata": {},
   "source": [
    "##### 2.1.2 Implémentez la fonction \"_show_top_N_types_\" (3 points)\n",
    "\n",
    "Implémentez la fonction \"show_top_N_types\" qui affiche les N jetons les plus fréquents à partir d'un dictionnaire comme celui retourné par la fonction \"_get_vocab_\".\n",
    "\n",
    "La fonction prend deux arguments: le dictionnaire \"_dictionary_\" et le paramètre \"_N_\". "
   ]
  },
  {
   "cell_type": "code",
   "execution_count": 22,
   "metadata": {},
   "outputs": [],
   "source": [
    "# TODO\n",
    "def show_top_N_types(dictionary, N):\n",
    "    sorted_tokens = sorted(dictionary.items(), key=lambda item: item[1], reverse=True)\n",
    "    print(f\"Les {N} types les plus fréquents:\")\n",
    "    for token, freq in sorted_tokens[:N]:\n",
    "        print(f\"('{token}', {freq})\")\n",
    "# END TODO"
   ]
  },
  {
   "cell_type": "markdown",
   "metadata": {},
   "source": [
    "##### 2.1.3 Construction du vocabulaire (1 point)\n",
    "\n",
    "Construisez maintenant le vocabulaire pour les affirmations et le corpus de documents à partir des listes \"texts_preprocessed\" et \"claims_preprocessed\". \n",
    "\n",
    "Ensuite affichez les 15 jetons les plus fréquents ainsi que leur fréquence."
   ]
  },
  {
   "cell_type": "code",
   "execution_count": 23,
   "metadata": {},
   "outputs": [
    {
     "name": "stdout",
     "output_type": "stream",
     "text": [
      "Les 15 types les plus fréquents:\n",
      "('cell', 10464)\n",
      "('patient', 4175)\n",
      "('activ', 4145)\n",
      "('studi', 4014)\n",
      "('use', 3799)\n",
      "('express', 3626)\n",
      "('result', 3213)\n",
      "('protein', 3083)\n",
      "('gene', 3004)\n",
      "('cancer', 2945)\n",
      "('increas', 2794)\n",
      "('associ', 2659)\n",
      "('effect', 2567)\n",
      "('function', 2515)\n",
      "('human', 2464)\n"
     ]
    }
   ],
   "source": [
    "# TODO\n",
    "combined_vocab = get_vocab(texts_preprocessed + claims_preprocessed)\n",
    "show_top_N_types(combined_vocab, 15)\n",
    "# END TODO"
   ]
  },
  {
   "cell_type": "markdown",
   "metadata": {},
   "source": [
    "Sortie attendue:\n",
    "\n",
    "```Nombre de types composant le vocabulaire: 45195\n",
    "Les 15 types les plus fréquents:\n",
    "('cell', 10464)\n",
    "('patient', 4175)\n",
    "('activ', 4145)\n",
    "('studi', 4014)\n",
    "('use', 3799)\n",
    "('express', 3626)\n",
    "('result', 3213)\n",
    "('protein', 3083)\n",
    "('gene', 3004)\n",
    "('cancer', 2945)\n",
    "('increas', 2794)\n",
    "('associ', 2659)\n",
    "('effect', 2567)\n",
    "('function', 2515)\n",
    "('human', 2464)"
   ]
  },
  {
   "cell_type": "markdown",
   "metadata": {},
   "source": [
    "##### 2.1.4 Implémentation de la fonction \"_show_distribution_\" (4 points)\n",
    "\n",
    "Implémentez la fonction \"__show_distribution__\" qui permet de visualiser la distribution des fréquences des jetons à partir d'un dictionnaire comme celui retourné par la fonction \"_get_vocab_\", en utilisant un graphique où l'axe des abscisses représente le rang d'un type (après un tri par ordre de fréquence décroissante) et l'axe des ordonnées représente sa fréquence sur une échelle logarithmique.  \n",
    "\n",
    "Par exemple, le point (10000, 10) voudrait dire que le 10000ème mot le plus fréquent a une fréquence à peu prés egale à 10 dans le vocabulaire."
   ]
  },
  {
   "cell_type": "code",
   "execution_count": 24,
   "metadata": {},
   "outputs": [
    {
     "data": {
      "image/png": "[encoded data removed]",
      "text/plain": [
       "<Figure size 640x480 with 1 Axes>"
      ]
     },
     "metadata": {},
     "output_type": "display_data"
    }
   ],
   "source": [
    "# TODO\n",
    "def show_distribution(dictionary):\n",
    "    sorted_frequencies = sorted(dictionary.values(), reverse=True)\n",
    "    ranks = np.arange(1, len(sorted_frequencies) + 1)\n",
    "    log_frequencies = np.log(sorted_frequencies)\n",
    "    plt.plot(ranks, log_frequencies)\n",
    "    plt.xlabel(\"Rang\")\n",
    "    plt.ylabel(\"Fréquence\")\n",
    "    plt.title(\"Distribution des fréquences des jetons\")\n",
    "    plt.show()\n",
    "    \n",
    "show_distribution(combined_vocab)\n",
    "# END TODO"
   ]
  },
  {
   "cell_type": "markdown",
   "metadata": {},
   "source": [
    "##### 2.1.5 Vérification de la loi de Zipf (4 points)\n",
    "\n",
    "Afin de vérifier la loi de Zipf, donnez une estimation de la valeur de la constante k de cette loi définie comme suit: \n",
    "\n",
    "$$ f \\approx \\frac{k}{r^\\alpha} $$ \n",
    "\n",
    "où $ f $ est la fréquence d'un mot, $ r $ est le rang de ce mot dans la liste triée par fréquence décroissante, et $ k $ est une constante. Etant données les fluctuations sur les valeurs de fréquence, vous pouvez utiliser la librairie ['powerlaw'](https://pypi.org/project/powerlaw/) conçue pour analyser et ajuster des distributions de loi de puissance aux données et qui peut être utile dans l'estimation de $ \\alpha $.\n",
    "\n",
    "Affichez la constante $ k $ trouvée, les fréquences réelles des mots avec celles qui sont prédites par la loi de Zipf."
   ]
  },
  {
   "cell_type": "code",
   "execution_count": 25,
   "metadata": {},
   "outputs": [
    {
     "name": "stdout",
     "output_type": "stream",
     "text": [
      "Calculating best minimal value for power law fit\n",
      "Alpha : 1.6618271950224173\n",
      "k : 10464.0\n"
     ]
    },
    {
     "data": {
      "image/png": "[encoded data removed]",
      "text/plain": [
       "<Figure size 1000x600 with 1 Axes>"
      ]
     },
     "metadata": {},
     "output_type": "display_data"
    }
   ],
   "source": [
    "# TODO\n",
    "def zipf_law_verification(vocab):\n",
    "    frequencies = np.array(sorted(vocab.values(), reverse=True))\n",
    "    ranks = np.arange(1, len(frequencies) + 1)\n",
    "    fit = powerlaw.Fit(frequencies, discrete=True)\n",
    "    alpha = fit.power_law.alpha\n",
    "    print(f\"Alpha : {alpha}\")\n",
    "    k = frequencies[0] * ranks[0] ** alpha\n",
    "    print(f\"k : {k}\")\n",
    "    predicted_frequencies = k / ranks ** alpha\n",
    "    plt.figure(figsize=(10, 6))\n",
    "    plt.loglog(ranks, frequencies, 'b.', label=\"Fréquences réelles\")\n",
    "    plt.loglog(ranks, predicted_frequencies, 'r-', label=\"Fréquences prédites de Zipf\")\n",
    "    plt.xlabel('Rang')\n",
    "    plt.ylabel('Fréquence')\n",
    "    plt.legend()\n",
    "    plt.title('Vérification de la loi de Zipf')\n",
    "    plt.show()\n",
    "    \n",
    "zipf_law_verification(combined_vocab)\n",
    "# END TODO"
   ]
  },
  {
   "cell_type": "markdown",
   "metadata": {
    "id": "pdxcQdRJ818T"
   },
   "source": [
    "#### 2.2  Création d’un modèle sac de mots (10 points)"
   ]
  },
  {
   "cell_type": "markdown",
   "metadata": {},
   "source": [
    "##### 2.2.1 Répresentation de texte (5 points)\n",
    "\n",
    "En utilisant sklearn et à partir de vos données pré-traitées (\"_claims_preprocessed_\", \"_titles_preprocessed_\", \"_abstracts_preprocessed_\" et \"_texts_preprocessed_\"), représentez chaque affirmation (_claim_) et document avec le vocabulaire créé 'précédemment dans la variables \"_claims_preprocessed_joined\", \"_titles_preprocessed_joined_\", \"_abstract_preprocessed_joined_\" et \"_texts_preprocessed_joined_\". Cela veut dire que tout jeton qui n'est pas dans le vocabulaire doit être enlevé dans le document et l'affirmation. Faites cela pour les trois possibilités de représentation de document: \"_title_\", \"_abstract_\" et \"_text_\"."
   ]
  },
  {
   "cell_type": "code",
   "execution_count": 26,
   "metadata": {
    "id": "NKJxoJSwBovJ"
   },
   "outputs": [],
   "source": [
    "# TODO\n",
    "def filter_and_join(tokens_list, vocab):\n",
    "    return [' '.join(token for token in tokens if token in vocab) for tokens in tokens_list]\n",
    "\n",
    "claims_preprocessed_joined    = filter_and_join(claims_preprocessed, combined_vocab)\n",
    "titles_preprocessed_joined    = filter_and_join(titles_preprocessed, combined_vocab)\n",
    "abstracts_preprocessed_joined = filter_and_join(abstracts_preprocessed, combined_vocab)\n",
    "texts_preprocessed_joined     = filter_and_join(texts_preprocessed, combined_vocab)\n",
    "# END TODO"
   ]
  },
  {
   "cell_type": "markdown",
   "metadata": {},
   "source": [
    "##### 2.2.2 Pondération (4 points)\n",
    "\n",
    "En utilisant un modèle sac de mots basé sur des unigrammes et des bigrammes, créez une représentation vectorielle de vos documents (titles, abstracts, texts) et de vos affirmations (claims) avec TF-IDF en utilisant le TfidfVectorizer de sklearn. "
   ]
  },
  {
   "cell_type": "code",
   "execution_count": 27,
   "metadata": {},
   "outputs": [],
   "source": [
    "# TODO\n",
    "vectorizer = TfidfVectorizer(ngram_range=(1, 2))\n",
    "vectorizer.fit(claims_preprocessed_joined + texts_preprocessed_joined + abstracts_preprocessed_joined + titles_preprocessed_joined) \n",
    "claims_tfidf    = vectorizer.transform(claims_preprocessed_joined) \n",
    "titles_tfidf    = vectorizer.transform(titles_preprocessed_joined)\n",
    "abstracts_tfidf = vectorizer.transform(abstracts_preprocessed_joined)\n",
    "texts_tfidf     = vectorizer.transform(texts_preprocessed_joined)\n",
    "# END TODO"
   ]
  },
  {
   "cell_type": "markdown",
   "metadata": {},
   "source": [
    "##### 2.2.3 Affichage (1 point)\n",
    "\n",
    "Affichez les dimensions (shape) de vos corpus (claims, text, title, abstract) après vectorisation"
   ]
  },
  {
   "cell_type": "code",
   "execution_count": 28,
   "metadata": {},
   "outputs": [
    {
     "data": {
      "text/plain": [
       "(809, 473643)"
      ]
     },
     "execution_count": 28,
     "metadata": {},
     "output_type": "execute_result"
    }
   ],
   "source": [
    "# TODO\n",
    "claims_tfidf.shape\n",
    "# END TODO"
   ]
  },
  {
   "cell_type": "markdown",
   "metadata": {},
   "source": [
    "Sortie attendue pour \"_claims_\"\n",
    "```\n",
    "(809, 473643)\n",
    "```"
   ]
  },
  {
   "cell_type": "code",
   "execution_count": 29,
   "metadata": {},
   "outputs": [
    {
     "data": {
      "text/plain": [
       "(5183, 473643)"
      ]
     },
     "execution_count": 29,
     "metadata": {},
     "output_type": "execute_result"
    }
   ],
   "source": [
    "# TODO\n",
    "texts_tfidf.shape\n",
    "# END TODO"
   ]
  },
  {
   "cell_type": "markdown",
   "metadata": {},
   "source": [
    "Sortie attendue pour \"_texts_\"\n",
    "```\n",
    "(5183, 473643)\n",
    "```"
   ]
  },
  {
   "cell_type": "code",
   "execution_count": 30,
   "metadata": {},
   "outputs": [
    {
     "data": {
      "text/plain": [
       "(5183, 473643)"
      ]
     },
     "execution_count": 30,
     "metadata": {},
     "output_type": "execute_result"
    }
   ],
   "source": [
    "# TODO\n",
    "titles_tfidf.shape\n",
    "# END TODO"
   ]
  },
  {
   "cell_type": "markdown",
   "metadata": {},
   "source": [
    "Sortie attendue pour \"_titles_\"\n",
    "```\n",
    "(5183, 473643)\n",
    "```"
   ]
  },
  {
   "cell_type": "code",
   "execution_count": 31,
   "metadata": {},
   "outputs": [
    {
     "data": {
      "text/plain": [
       "(5183, 473643)"
      ]
     },
     "execution_count": 31,
     "metadata": {},
     "output_type": "execute_result"
    }
   ],
   "source": [
    "# TODO\n",
    "abstracts_tfidf.shape\n",
    "# END TODO"
   ]
  },
  {
   "cell_type": "markdown",
   "metadata": {},
   "source": [
    "Sortie attendue pour abstracts\n",
    "```\n",
    "(5183, 473643)"
   ]
  },
  {
   "cell_type": "markdown",
   "metadata": {
    "id": "sMrNWcxL9QNF"
   },
   "source": [
    "#### 2.3 Pertinence d'un document (20 points)"
   ]
  },
  {
   "cell_type": "markdown",
   "metadata": {},
   "source": [
    "Maintenant que vous avez une représentation de vos affirmations \"_claims_\" et documents (\"_texts_\", \"_titles_\", \"_abstracts_\"), il faut être capable de déterminer quel document sera le plus pertinent pour une affirmation donnée."
   ]
  },
  {
   "cell_type": "markdown",
   "metadata": {
    "id": "3AsiWH2O9XKD"
   },
   "source": [
    "##### 2.3.1 Implémentation de \"_eval_similarity_\" (3 points)\n",
    "\n",
    "Implémentez la fonction \"_eval_similarity_\" pour évaluer la similarité cosinus entre la représentation de l'affirmation et celle de chaque document. La fonction prend une liste d'affirmations et une liste de documents et retourne une matrice où chaque ligne représente une affirmation et chaque colonne représente un document (\"title\", \"abstract\" ou \"text\") et les valeurs sont les similarités cosinus entre une affirmation et un document."
   ]
  },
  {
   "cell_type": "code",
   "execution_count": 32,
   "metadata": {},
   "outputs": [],
   "source": [
    "# TODO\n",
    "def eval_similarity(claims_tfidf, documents_tfidf):\n",
    "    return cosine_similarity(claims_tfidf, documents_tfidf)\n",
    "# END TODO"
   ]
  },
  {
   "cell_type": "markdown",
   "metadata": {
    "id": "5_gDSgTv9fCu"
   },
   "source": [
    "##### 2.3.2 Implémentation de la fonction \"_rank_texts_\" (2 points)\n",
    "\n",
    "Implémentez la fonction \"_rank_texts_\", qui, au moyen de la précédente (_eval_similarity_), retourne le top-N (N=1,3,5) des documents pertinents pour une affirmation donnée (N est un paramètre). Ces documents devront être ordonnés du plus pertinent au moins pertinent. Idéalement, le document à la position 1 sera celui qui contient la preuve (ou justification) de l'affirmation. Il faudra retourner non pas les indices des documents dans le dataframe mais plutôt leur identifiants au niveau de la colonne \"_doc_id_\"."
   ]
  },
  {
   "cell_type": "code",
   "execution_count": 33,
   "metadata": {},
   "outputs": [],
   "source": [
    "# TODO\n",
    "def rank_texts(claim_id, similarities, n=5):\n",
    "    similarity = similarities[claim_id]\n",
    "    sorted_indices = np.argsort(similarity)\n",
    "    top_n_indices = sorted_indices[-n:]  \n",
    "    top_n_values_with_attr = [(similarity[i], df_corpus.loc[i, 'doc_id']) for i in top_n_indices]\n",
    "    sorted_top_n = sorted(top_n_values_with_attr, key=lambda x: x[0], reverse=True)\n",
    "    return [doc_id for _, doc_id in sorted_top_n]\n",
    "# END TODO"
   ]
  },
  {
   "cell_type": "markdown",
   "metadata": {},
   "source": [
    "##### 2.3.3 Préparation des dataframes de réponses (1 point) \n",
    "\n",
    "Vous allez écrire la fonction \"prepare_results_df\" qui crée les dataframes qui vont contenir les résultats de la recherche de documents pertinents pour les affirmations.\n",
    "\n",
    "La fonction \"prepare_results_df\" prend les arguments suivants:\n",
    "\n",
    "- '_df_': le dataframe original nommé '_df_claims_' à partir duquel on crée les autres, \n",
    "- '_columns_to_drop_': les colonnes à supprimer \n",
    "- '_column_to_rename_': le nom de la colonne de référence dans le dataframe original qui sera renommée \"gold standard passage\"\n",
    "\n",
    "et effectue les opérations suivantes:\n",
    "\n",
    "1. Créer un nouveau dataframe à partir de \"_df_claims_\" en supprimant toutes les colonnes sauf \"cited_doc_ids\".\n",
    "2. Renommer la colonne \"cited_doc_ids\" en \"gold standard passage\".\n",
    "3. Ajouter les colonnes \"top_1\", \"top_3\", et \"top_5\" au dataframe, \n",
    "en les initialisant avec des chaînes de zéros séparés par des points-\n",
    "virgules, correspondant respectivement à des configurations de 1, 3, et \n",
    "5 zéros pour toutes les lignes.\n",
    "\n",
    "Vous utiliserez ensuite cette fonction pour créer les dataframes \"results_titles_df\", \"results_abstracts_df\" et \"results_texts_df\", qui seront destinés à contenir les résultats de recherche de documents pour \"title\", \"abstract\" et \"text\" respectivement."
   ]
  },
  {
   "cell_type": "code",
   "execution_count": 34,
   "metadata": {},
   "outputs": [],
   "source": [
    "# TODO\n",
    "def prepare_results_df(df, columns_to_drop, column_to_rename):\n",
    "    df_results = df.drop(columns=columns_to_drop)\n",
    "    df_results = df_results.rename(columns={column_to_rename: \"gold standard passage\"})\n",
    "    df_results['top_1'] = '0'\n",
    "    df_results['top_3'] = '0;0;0'\n",
    "    df_results['top_5'] = '0;0;0;0;0'\n",
    "    return df_results\n",
    "\n",
    "columns_to_keep = ['id', 'cited_doc_ids']\n",
    "columns_to_drop = [col for col in df_claims.columns if col not in columns_to_keep]\n",
    "# END TODO"
   ]
  },
  {
   "cell_type": "code",
   "execution_count": 35,
   "metadata": {},
   "outputs": [
    {
     "data": {
      "text/html": [
       "<div>\n",
       "<style scoped>\n",
       "    .dataframe tbody tr th:only-of-type {\n",
       "        vertical-align: middle;\n",
       "    }\n",
       "\n",
       "    .dataframe tbody tr th {\n",
       "        vertical-align: top;\n",
       "    }\n",
       "\n",
       "    .dataframe thead th {\n",
       "        text-align: right;\n",
       "    }\n",
       "</style>\n",
       "<table border=\"1\" class=\"dataframe\">\n",
       "  <thead>\n",
       "    <tr style=\"text-align: right;\">\n",
       "      <th></th>\n",
       "      <th>id</th>\n",
       "      <th>gold standard passage</th>\n",
       "      <th>top_1</th>\n",
       "      <th>top_3</th>\n",
       "      <th>top_5</th>\n",
       "    </tr>\n",
       "  </thead>\n",
       "  <tbody>\n",
       "    <tr>\n",
       "      <th>0</th>\n",
       "      <td>0</td>\n",
       "      <td>[31715818]</td>\n",
       "      <td>0</td>\n",
       "      <td>0;0;0</td>\n",
       "      <td>0;0;0;0;0</td>\n",
       "    </tr>\n",
       "    <tr>\n",
       "      <th>1</th>\n",
       "      <td>2</td>\n",
       "      <td>[13734012]</td>\n",
       "      <td>0</td>\n",
       "      <td>0;0;0</td>\n",
       "      <td>0;0;0;0;0</td>\n",
       "    </tr>\n",
       "    <tr>\n",
       "      <th>2</th>\n",
       "      <td>4</td>\n",
       "      <td>[22942787]</td>\n",
       "      <td>0</td>\n",
       "      <td>0;0;0</td>\n",
       "      <td>0;0;0;0;0</td>\n",
       "    </tr>\n",
       "    <tr>\n",
       "      <th>3</th>\n",
       "      <td>6</td>\n",
       "      <td>[2613775]</td>\n",
       "      <td>0</td>\n",
       "      <td>0;0;0</td>\n",
       "      <td>0;0;0;0;0</td>\n",
       "    </tr>\n",
       "    <tr>\n",
       "      <th>4</th>\n",
       "      <td>9</td>\n",
       "      <td>[44265107]</td>\n",
       "      <td>0</td>\n",
       "      <td>0;0;0</td>\n",
       "      <td>0;0;0;0;0</td>\n",
       "    </tr>\n",
       "    <tr>\n",
       "      <th>...</th>\n",
       "      <td>...</td>\n",
       "      <td>...</td>\n",
       "      <td>...</td>\n",
       "      <td>...</td>\n",
       "      <td>...</td>\n",
       "    </tr>\n",
       "    <tr>\n",
       "      <th>804</th>\n",
       "      <td>1403</td>\n",
       "      <td>[33370, 38355793]</td>\n",
       "      <td>0</td>\n",
       "      <td>0;0;0</td>\n",
       "      <td>0;0;0;0;0</td>\n",
       "    </tr>\n",
       "    <tr>\n",
       "      <th>805</th>\n",
       "      <td>1404</td>\n",
       "      <td>[33370, 38355793]</td>\n",
       "      <td>0</td>\n",
       "      <td>0;0;0</td>\n",
       "      <td>0;0;0;0;0</td>\n",
       "    </tr>\n",
       "    <tr>\n",
       "      <th>806</th>\n",
       "      <td>1405</td>\n",
       "      <td>[10504681]</td>\n",
       "      <td>0</td>\n",
       "      <td>0;0;0</td>\n",
       "      <td>0;0;0;0;0</td>\n",
       "    </tr>\n",
       "    <tr>\n",
       "      <th>807</th>\n",
       "      <td>1406</td>\n",
       "      <td>[2617858]</td>\n",
       "      <td>0</td>\n",
       "      <td>0;0;0</td>\n",
       "      <td>0;0;0;0;0</td>\n",
       "    </tr>\n",
       "    <tr>\n",
       "      <th>808</th>\n",
       "      <td>1407</td>\n",
       "      <td>[8087082, 29863668]</td>\n",
       "      <td>0</td>\n",
       "      <td>0;0;0</td>\n",
       "      <td>0;0;0;0;0</td>\n",
       "    </tr>\n",
       "  </tbody>\n",
       "</table>\n",
       "<p>809 rows × 5 columns</p>\n",
       "</div>"
      ],
      "text/plain": [
       "       id gold standard passage top_1  top_3      top_5\n",
       "0       0            [31715818]     0  0;0;0  0;0;0;0;0\n",
       "1       2            [13734012]     0  0;0;0  0;0;0;0;0\n",
       "2       4            [22942787]     0  0;0;0  0;0;0;0;0\n",
       "3       6             [2613775]     0  0;0;0  0;0;0;0;0\n",
       "4       9            [44265107]     0  0;0;0  0;0;0;0;0\n",
       "..    ...                   ...   ...    ...        ...\n",
       "804  1403     [33370, 38355793]     0  0;0;0  0;0;0;0;0\n",
       "805  1404     [33370, 38355793]     0  0;0;0  0;0;0;0;0\n",
       "806  1405            [10504681]     0  0;0;0  0;0;0;0;0\n",
       "807  1406             [2617858]     0  0;0;0  0;0;0;0;0\n",
       "808  1407   [8087082, 29863668]     0  0;0;0  0;0;0;0;0\n",
       "\n",
       "[809 rows x 5 columns]"
      ]
     },
     "execution_count": 35,
     "metadata": {},
     "output_type": "execute_result"
    }
   ],
   "source": [
    "results_titles_df = prepare_results_df(df_claims, columns_to_drop, 'cited_doc_ids')\n",
    "results_titles_df"
   ]
  },
  {
   "cell_type": "code",
   "execution_count": 36,
   "metadata": {},
   "outputs": [
    {
     "data": {
      "text/html": [
       "<div>\n",
       "<style scoped>\n",
       "    .dataframe tbody tr th:only-of-type {\n",
       "        vertical-align: middle;\n",
       "    }\n",
       "\n",
       "    .dataframe tbody tr th {\n",
       "        vertical-align: top;\n",
       "    }\n",
       "\n",
       "    .dataframe thead th {\n",
       "        text-align: right;\n",
       "    }\n",
       "</style>\n",
       "<table border=\"1\" class=\"dataframe\">\n",
       "  <thead>\n",
       "    <tr style=\"text-align: right;\">\n",
       "      <th></th>\n",
       "      <th>id</th>\n",
       "      <th>gold standard passage</th>\n",
       "      <th>top_1</th>\n",
       "      <th>top_3</th>\n",
       "      <th>top_5</th>\n",
       "    </tr>\n",
       "  </thead>\n",
       "  <tbody>\n",
       "    <tr>\n",
       "      <th>0</th>\n",
       "      <td>0</td>\n",
       "      <td>[31715818]</td>\n",
       "      <td>0</td>\n",
       "      <td>0;0;0</td>\n",
       "      <td>0;0;0;0;0</td>\n",
       "    </tr>\n",
       "    <tr>\n",
       "      <th>1</th>\n",
       "      <td>2</td>\n",
       "      <td>[13734012]</td>\n",
       "      <td>0</td>\n",
       "      <td>0;0;0</td>\n",
       "      <td>0;0;0;0;0</td>\n",
       "    </tr>\n",
       "    <tr>\n",
       "      <th>2</th>\n",
       "      <td>4</td>\n",
       "      <td>[22942787]</td>\n",
       "      <td>0</td>\n",
       "      <td>0;0;0</td>\n",
       "      <td>0;0;0;0;0</td>\n",
       "    </tr>\n",
       "    <tr>\n",
       "      <th>3</th>\n",
       "      <td>6</td>\n",
       "      <td>[2613775]</td>\n",
       "      <td>0</td>\n",
       "      <td>0;0;0</td>\n",
       "      <td>0;0;0;0;0</td>\n",
       "    </tr>\n",
       "    <tr>\n",
       "      <th>4</th>\n",
       "      <td>9</td>\n",
       "      <td>[44265107]</td>\n",
       "      <td>0</td>\n",
       "      <td>0;0;0</td>\n",
       "      <td>0;0;0;0;0</td>\n",
       "    </tr>\n",
       "    <tr>\n",
       "      <th>...</th>\n",
       "      <td>...</td>\n",
       "      <td>...</td>\n",
       "      <td>...</td>\n",
       "      <td>...</td>\n",
       "      <td>...</td>\n",
       "    </tr>\n",
       "    <tr>\n",
       "      <th>804</th>\n",
       "      <td>1403</td>\n",
       "      <td>[33370, 38355793]</td>\n",
       "      <td>0</td>\n",
       "      <td>0;0;0</td>\n",
       "      <td>0;0;0;0;0</td>\n",
       "    </tr>\n",
       "    <tr>\n",
       "      <th>805</th>\n",
       "      <td>1404</td>\n",
       "      <td>[33370, 38355793]</td>\n",
       "      <td>0</td>\n",
       "      <td>0;0;0</td>\n",
       "      <td>0;0;0;0;0</td>\n",
       "    </tr>\n",
       "    <tr>\n",
       "      <th>806</th>\n",
       "      <td>1405</td>\n",
       "      <td>[10504681]</td>\n",
       "      <td>0</td>\n",
       "      <td>0;0;0</td>\n",
       "      <td>0;0;0;0;0</td>\n",
       "    </tr>\n",
       "    <tr>\n",
       "      <th>807</th>\n",
       "      <td>1406</td>\n",
       "      <td>[2617858]</td>\n",
       "      <td>0</td>\n",
       "      <td>0;0;0</td>\n",
       "      <td>0;0;0;0;0</td>\n",
       "    </tr>\n",
       "    <tr>\n",
       "      <th>808</th>\n",
       "      <td>1407</td>\n",
       "      <td>[8087082, 29863668]</td>\n",
       "      <td>0</td>\n",
       "      <td>0;0;0</td>\n",
       "      <td>0;0;0;0;0</td>\n",
       "    </tr>\n",
       "  </tbody>\n",
       "</table>\n",
       "<p>809 rows × 5 columns</p>\n",
       "</div>"
      ],
      "text/plain": [
       "       id gold standard passage top_1  top_3      top_5\n",
       "0       0            [31715818]     0  0;0;0  0;0;0;0;0\n",
       "1       2            [13734012]     0  0;0;0  0;0;0;0;0\n",
       "2       4            [22942787]     0  0;0;0  0;0;0;0;0\n",
       "3       6             [2613775]     0  0;0;0  0;0;0;0;0\n",
       "4       9            [44265107]     0  0;0;0  0;0;0;0;0\n",
       "..    ...                   ...   ...    ...        ...\n",
       "804  1403     [33370, 38355793]     0  0;0;0  0;0;0;0;0\n",
       "805  1404     [33370, 38355793]     0  0;0;0  0;0;0;0;0\n",
       "806  1405            [10504681]     0  0;0;0  0;0;0;0;0\n",
       "807  1406             [2617858]     0  0;0;0  0;0;0;0;0\n",
       "808  1407   [8087082, 29863668]     0  0;0;0  0;0;0;0;0\n",
       "\n",
       "[809 rows x 5 columns]"
      ]
     },
     "execution_count": 36,
     "metadata": {},
     "output_type": "execute_result"
    }
   ],
   "source": [
    "results_abstracts_df = prepare_results_df(df_claims, columns_to_drop, 'cited_doc_ids')\n",
    "results_abstracts_df"
   ]
  },
  {
   "cell_type": "code",
   "execution_count": 37,
   "metadata": {},
   "outputs": [
    {
     "data": {
      "text/html": [
       "<div>\n",
       "<style scoped>\n",
       "    .dataframe tbody tr th:only-of-type {\n",
       "        vertical-align: middle;\n",
       "    }\n",
       "\n",
       "    .dataframe tbody tr th {\n",
       "        vertical-align: top;\n",
       "    }\n",
       "\n",
       "    .dataframe thead th {\n",
       "        text-align: right;\n",
       "    }\n",
       "</style>\n",
       "<table border=\"1\" class=\"dataframe\">\n",
       "  <thead>\n",
       "    <tr style=\"text-align: right;\">\n",
       "      <th></th>\n",
       "      <th>id</th>\n",
       "      <th>gold standard passage</th>\n",
       "      <th>top_1</th>\n",
       "      <th>top_3</th>\n",
       "      <th>top_5</th>\n",
       "    </tr>\n",
       "  </thead>\n",
       "  <tbody>\n",
       "    <tr>\n",
       "      <th>0</th>\n",
       "      <td>0</td>\n",
       "      <td>[31715818]</td>\n",
       "      <td>0</td>\n",
       "      <td>0;0;0</td>\n",
       "      <td>0;0;0;0;0</td>\n",
       "    </tr>\n",
       "    <tr>\n",
       "      <th>1</th>\n",
       "      <td>2</td>\n",
       "      <td>[13734012]</td>\n",
       "      <td>0</td>\n",
       "      <td>0;0;0</td>\n",
       "      <td>0;0;0;0;0</td>\n",
       "    </tr>\n",
       "    <tr>\n",
       "      <th>2</th>\n",
       "      <td>4</td>\n",
       "      <td>[22942787]</td>\n",
       "      <td>0</td>\n",
       "      <td>0;0;0</td>\n",
       "      <td>0;0;0;0;0</td>\n",
       "    </tr>\n",
       "    <tr>\n",
       "      <th>3</th>\n",
       "      <td>6</td>\n",
       "      <td>[2613775]</td>\n",
       "      <td>0</td>\n",
       "      <td>0;0;0</td>\n",
       "      <td>0;0;0;0;0</td>\n",
       "    </tr>\n",
       "    <tr>\n",
       "      <th>4</th>\n",
       "      <td>9</td>\n",
       "      <td>[44265107]</td>\n",
       "      <td>0</td>\n",
       "      <td>0;0;0</td>\n",
       "      <td>0;0;0;0;0</td>\n",
       "    </tr>\n",
       "    <tr>\n",
       "      <th>...</th>\n",
       "      <td>...</td>\n",
       "      <td>...</td>\n",
       "      <td>...</td>\n",
       "      <td>...</td>\n",
       "      <td>...</td>\n",
       "    </tr>\n",
       "    <tr>\n",
       "      <th>804</th>\n",
       "      <td>1403</td>\n",
       "      <td>[33370, 38355793]</td>\n",
       "      <td>0</td>\n",
       "      <td>0;0;0</td>\n",
       "      <td>0;0;0;0;0</td>\n",
       "    </tr>\n",
       "    <tr>\n",
       "      <th>805</th>\n",
       "      <td>1404</td>\n",
       "      <td>[33370, 38355793]</td>\n",
       "      <td>0</td>\n",
       "      <td>0;0;0</td>\n",
       "      <td>0;0;0;0;0</td>\n",
       "    </tr>\n",
       "    <tr>\n",
       "      <th>806</th>\n",
       "      <td>1405</td>\n",
       "      <td>[10504681]</td>\n",
       "      <td>0</td>\n",
       "      <td>0;0;0</td>\n",
       "      <td>0;0;0;0;0</td>\n",
       "    </tr>\n",
       "    <tr>\n",
       "      <th>807</th>\n",
       "      <td>1406</td>\n",
       "      <td>[2617858]</td>\n",
       "      <td>0</td>\n",
       "      <td>0;0;0</td>\n",
       "      <td>0;0;0;0;0</td>\n",
       "    </tr>\n",
       "    <tr>\n",
       "      <th>808</th>\n",
       "      <td>1407</td>\n",
       "      <td>[8087082, 29863668]</td>\n",
       "      <td>0</td>\n",
       "      <td>0;0;0</td>\n",
       "      <td>0;0;0;0;0</td>\n",
       "    </tr>\n",
       "  </tbody>\n",
       "</table>\n",
       "<p>809 rows × 5 columns</p>\n",
       "</div>"
      ],
      "text/plain": [
       "       id gold standard passage top_1  top_3      top_5\n",
       "0       0            [31715818]     0  0;0;0  0;0;0;0;0\n",
       "1       2            [13734012]     0  0;0;0  0;0;0;0;0\n",
       "2       4            [22942787]     0  0;0;0  0;0;0;0;0\n",
       "3       6             [2613775]     0  0;0;0  0;0;0;0;0\n",
       "4       9            [44265107]     0  0;0;0  0;0;0;0;0\n",
       "..    ...                   ...   ...    ...        ...\n",
       "804  1403     [33370, 38355793]     0  0;0;0  0;0;0;0;0\n",
       "805  1404     [33370, 38355793]     0  0;0;0  0;0;0;0;0\n",
       "806  1405            [10504681]     0  0;0;0  0;0;0;0;0\n",
       "807  1406             [2617858]     0  0;0;0  0;0;0;0;0\n",
       "808  1407   [8087082, 29863668]     0  0;0;0  0;0;0;0;0\n",
       "\n",
       "[809 rows x 5 columns]"
      ]
     },
     "execution_count": 37,
     "metadata": {},
     "output_type": "execute_result"
    }
   ],
   "source": [
    "results_texts_df = prepare_results_df(df_claims, columns_to_drop, 'cited_doc_ids')\n",
    "results_texts_df"
   ]
  },
  {
   "cell_type": "markdown",
   "metadata": {},
   "source": [
    "> Sortie attendue pour chaque dataframe préparé\n",
    "<div>\n",
    "<style scoped>\n",
    "    .dataframe tbody tr th:only-of-type {\n",
    "        vertical-align: middle;\n",
    "    }\n",
    "\n",
    "    .dataframe tbody tr th {\n",
    "        vertical-align: top;\n",
    "    }\n",
    "\n",
    "    .dataframe thead th {\n",
    "        text-align: right;\n",
    "    }\n",
    "</style>\n",
    "<table border=\"1\" class=\"dataframe\">\n",
    "  <thead>\n",
    "    <tr style=\"text-align: right;\">\n",
    "      <th></th>\n",
    "      <th>id</th>\n",
    "      <th>gold standard passage</th>\n",
    "      <th>top_1</th>\n",
    "      <th>top_3</th>\n",
    "      <th>top_5</th>\n",
    "    </tr>\n",
    "  </thead>\n",
    "  <tbody>\n",
    "    <tr>\n",
    "      <th>0</th>\n",
    "      <td>0</td>\n",
    "      <td>[31715818]</td>\n",
    "      <td>0</td>\n",
    "      <td>0;0;0</td>\n",
    "      <td>0;0;0;0;0</td>\n",
    "    </tr>\n",
    "    <tr>\n",
    "      <th>1</th>\n",
    "      <td>2</td>\n",
    "      <td>[13734012]</td>\n",
    "      <td>0</td>\n",
    "      <td>0;0;0</td>\n",
    "      <td>0;0;0;0;0</td>\n",
    "    </tr>\n",
    "    <tr>\n",
    "      <th>2</th>\n",
    "      <td>4</td>\n",
    "      <td>[22942787]</td>\n",
    "      <td>0</td>\n",
    "      <td>0;0;0</td>\n",
    "      <td>0;0;0;0;0</td>\n",
    "    </tr>\n",
    "  </tbody>\n",
    "</table>\n",
    "</div>"
   ]
  },
  {
   "cell_type": "markdown",
   "metadata": {},
   "source": [
    "##### 2.3.4 Implémentation de la fonction \"_fill_results_\" (2 points)\n",
    "\n",
    "Vous devez maintenant implémenter la fonction \"_fill_results_\" qui remplit les dataframes préparés dans l'étape précédente en utilisant les resultats de recherche de document.\n",
    "Cette fonction prend les arguments suivant: \n",
    "- \"_results_\" : matrice contenant les valeurs de similarite des affirmations et des documents\n",
    "- \"_results_texts_df_\" : Dataframe contenant les affirmations ainsi que les colonnes \"top_1\", \"top_3\", \"top_5\" où doivent être mis les top-n documents les plus pertinents.\n",
    "\n",
    "Les deux arguments contiennent le même nombre d'éléments et pour le même indice, font référence à la même affirmation."
   ]
  },
  {
   "cell_type": "code",
   "execution_count": 38,
   "metadata": {},
   "outputs": [],
   "source": [
    "# TODO\n",
    "def fill_results(results, results_texts_df):\n",
    "    for i in range(results_texts_df.shape[0]):\n",
    "        top_1_values = results['top_1'][i]\n",
    "        top_3_values = results['top_3'][i]\n",
    "        top_5_values = results['top_5'][i]\n",
    "        results_texts_df.at[i, 'top_1'] = ';'.join(map(str, top_1_values))\n",
    "        results_texts_df.at[i, 'top_3'] = ';'.join(map(str, top_3_values))\n",
    "        results_texts_df.at[i, 'top_5'] = ';'.join(map(str, top_5_values))\n",
    "    return results_texts_df\n",
    "# END TODO"
   ]
  },
  {
   "cell_type": "markdown",
   "metadata": {
    "id": "EqRUGA9D9xoI"
   },
   "source": [
    "##### 2.3.5 Exécution des fonctions \"_rank_texts_\" et fill_results(2 points)\n",
    "\n",
    "Exécutez maintenant votre fonction \"_rank_texts_\" sur toutes les affirmations (claims) et toutes les représentations de documents (title, abstract, text) en mettant les résultats dans les variables \"results_texts\", \"results_titles\" et \"results_abstracts\". Ensuite appelez la fonction \"_fill_results_\" qui remplit les dataframes \"_results_titles_df_\", \"_results_abstracts_df_\", et \"_results_texts_df_\" contenant les résultats de recheche de documents."
   ]
  },
  {
   "cell_type": "code",
   "execution_count": 39,
   "metadata": {},
   "outputs": [],
   "source": [
    "# TODO\n",
    "similarity_text     = eval_similarity(claims_tfidf, texts_tfidf)\n",
    "similarity_abstract = eval_similarity(claims_tfidf, abstracts_tfidf)\n",
    "similarity_title    = eval_similarity(claims_tfidf, titles_tfidf)\n",
    "\n",
    "text_matrix = {\n",
    "    'top_1': np.zeros((claims_tfidf.shape[0], 1), dtype=object),\n",
    "    'top_3': np.zeros((claims_tfidf.shape[0], 3), dtype=object),\n",
    "    'top_5': np.zeros((claims_tfidf.shape[0], 5), dtype=object)\n",
    "}\n",
    "abstract_matrix = {\n",
    "    'top_1': np.zeros((claims_tfidf.shape[0], 1), dtype=object),\n",
    "    'top_3': np.zeros((claims_tfidf.shape[0], 3), dtype=object),\n",
    "    'top_5': np.zeros((claims_tfidf.shape[0], 5), dtype=object)\n",
    "}\n",
    "title_matrix = {\n",
    "    'top_1': np.zeros((claims_tfidf.shape[0], 1), dtype=object),\n",
    "    'top_3': np.zeros((claims_tfidf.shape[0], 3), dtype=object),\n",
    "    'top_5': np.zeros((claims_tfidf.shape[0], 5), dtype=object)\n",
    "}\n",
    "\n",
    "for i in range(claims_tfidf.shape[0]):\n",
    "    text_matrix['top_1'][i, :] = rank_texts(i, similarity_text, 1)\n",
    "    text_matrix['top_3'][i, :] = rank_texts(i, similarity_text, 3)\n",
    "    text_matrix['top_5'][i, :] = rank_texts(i, similarity_text, 5)\n",
    "    \n",
    "    abstract_matrix['top_1'][i, :] = rank_texts(i, similarity_abstract, 1)\n",
    "    abstract_matrix['top_3'][i, :] = rank_texts(i, similarity_abstract, 3)\n",
    "    abstract_matrix['top_5'][i, :] = rank_texts(i, similarity_abstract, 5)\n",
    "    \n",
    "    title_matrix['top_1'][i, :] = rank_texts(i, similarity_title, 1)\n",
    "    title_matrix['top_3'][i, :] = rank_texts(i, similarity_title, 3)\n",
    "    title_matrix['top_5'][i, :] = rank_texts(i, similarity_title, 5)\n",
    "\n",
    "results_texts_df     = fill_results(text_matrix, results_texts_df)\n",
    "results_abstracts_df = fill_results(abstract_matrix, results_abstracts_df)\n",
    "results_titles_df    = fill_results(title_matrix, results_titles_df)\n",
    "# END TODO"
   ]
  },
  {
   "cell_type": "markdown",
   "metadata": {},
   "source": [
    "##### 2.3.6 Enregistrement des dataframes \n",
    "\n",
    "On enregistre les dataframes dans des fichiers .csv."
   ]
  },
  {
   "cell_type": "code",
   "execution_count": 40,
   "metadata": {},
   "outputs": [],
   "source": [
    "# TODO\n",
    "results_titles_df.to_csv('results_titles.csv', index=False)\n",
    "results_abstracts_df.to_csv('results_abstracts.csv', index=False)\n",
    "results_texts_df.to_csv('results_texts.csv', index=False)\n",
    "# END TODO"
   ]
  },
  {
   "cell_type": "markdown",
   "metadata": {
    "id": "4qWHRy8oZvOt"
   },
   "source": [
    "##### 2.3.7 Implémentation de la fonction \"_show_top_n_passages_\" (3 points)\n",
    "\n",
    "Vous devez maintenant implémenter une fonction \"_show_top_n_passages_\" qui affiche le top-n ainsi que le texte (document) attendu pour une affirmation donnée. Ici on considère que document est representé par \"_text_\" donc la fusion du titre (\"_title_\") et du résumé (\"_abstract_\")"
   ]
  },
  {
   "cell_type": "code",
   "execution_count": 41,
   "metadata": {
    "id": "-l9sKrgC-Sq7"
   },
   "outputs": [],
   "source": [
    "# TODO\n",
    "def show_top_n_passages(id, n, df_texts):\n",
    "    print(f\"Identifiant : {id}\\nTop-{n} documents : {df_texts.loc[id, f'top_{n}']}\\n\")\n",
    "# END TODO"
   ]
  },
  {
   "cell_type": "markdown",
   "metadata": {},
   "source": [
    "##### 2.3.8 Affichage (1 point)\n",
    "\n",
    "Appliquez cette fonction sur l'affirmation ayant pour identifiant 211 et affichez le top-5 des documents les plus pertinents retrouvés."
   ]
  },
  {
   "cell_type": "code",
   "execution_count": 42,
   "metadata": {},
   "outputs": [
    {
     "name": "stdout",
     "output_type": "stream",
     "text": [
      "Identifiant : 211\n",
      "Top-5 documents : 2601324;1550937;17814815;14893428;25789730\n",
      "\n"
     ]
    }
   ],
   "source": [
    "# TODO\n",
    "show_top_n_passages(211, 5, results_texts_df)\n",
    "# END TODO"
   ]
  },
  {
   "cell_type": "markdown",
   "metadata": {},
   "source": [
    "##### 2.3.9 Évaluation (3 points)\n",
    "\n",
    "Vous devez maintenant implémenter la fonction \"_evaluate_\" qui, à partir des colonnes *Gold standard passage* et de vos top-N respectifs, calcule la précision top-N (N=1,3,5) sur l’ensemble de données en paramètre et l’affiche. \n",
    "\n",
    "Cette précision connue sous le nom \"precision at k (precision@k)\" se calcule de la manière suivante:\n",
    "\n",
    "\n",
    "$$\n",
    "\\text{precision@k} = \\frac{\\text{nombre d'éléments corrects}}{\\text{nombre total d'éléments k retrouvés}}\n",
    "$$\n",
    "\n",
    "\n",
    "Veillez à ce que la fonction soit générique. "
   ]
  },
  {
   "cell_type": "code",
   "execution_count": 43,
   "metadata": {},
   "outputs": [],
   "source": [
    "# TODO\n",
    "def evaluate(df, gold_col='gold standard passage', top_n_cols=['top_1', 'top_3', 'top_5']):\n",
    "    precisions = {col: 0 for col in top_n_cols}\n",
    "    for _, row in df.iterrows():\n",
    "        gold_standard = set(row[gold_col])\n",
    "        for col in top_n_cols:\n",
    "            top_n = set(map(int, row[col].split(';')))\n",
    "            correct_predictions = len(gold_standard & top_n)\n",
    "            precision_at_k = correct_predictions / len(top_n)\n",
    "            precisions[col] += precision_at_k\n",
    "    for col in top_n_cols:\n",
    "        precisions[col] /= len(df)\n",
    "    for col in top_n_cols:\n",
    "        print(f'Precision@{col[-1]} : {precisions[col]:.4f}')\n",
    "    return precisions\n",
    "# END TODO"
   ]
  },
  {
   "cell_type": "markdown",
   "metadata": {},
   "source": [
    "##### 2.3.10 Affichage (1 point)\n",
    "\n",
    "Appliquez cette fonction pour calculer la précision des documents retrouvés en utilisant les titres (\"_title_\"), les résumés (\"_abstract_\") et la fusion des deux (\"_text_\")."
   ]
  },
  {
   "cell_type": "code",
   "execution_count": 44,
   "metadata": {},
   "outputs": [
    {
     "name": "stdout",
     "output_type": "stream",
     "text": [
      "Results for titles :\n",
      "Precision@1 : 0.3214\n",
      "Precision@3 : 0.1652\n",
      "Precision@5 : 0.1108\n",
      "\n",
      "Results for abstracts:\n",
      "Precision@1 : 0.4660\n",
      "Precision@3 : 0.2171\n",
      "Precision@5 : 0.1451\n",
      "\n",
      "Results for texts:\n",
      "Precision@1 : 0.4870\n",
      "Precision@3 : 0.2266\n",
      "Precision@5 : 0.1515\n"
     ]
    }
   ],
   "source": [
    "# TODO\n",
    "print('Results for titles :')\n",
    "titles_precision = evaluate(results_titles_df)\n",
    "print('\\nResults for abstracts:')\n",
    "abstracts_precision = evaluate(results_abstracts_df)\n",
    "print('\\nResults for texts:')\n",
    "texts_precision = evaluate(results_texts_df)\n",
    "# END TODO"
   ]
  },
  {
   "cell_type": "markdown",
   "metadata": {},
   "source": [
    "##### 2.3.11 Graphique (2 points)\n",
    "\n",
    "Tracez un graphique des valeurs de précisions des documents retrouvés (\"__title__\", \"__abstract__\", \"__text__\") pour différents N (1,3,5)."
   ]
  },
  {
   "cell_type": "code",
   "execution_count": 45,
   "metadata": {},
   "outputs": [
    {
     "data": {
      "image/png": "[encoded data removed]",
      "text/plain": [
       "<Figure size 640x480 with 1 Axes>"
      ]
     },
     "metadata": {},
     "output_type": "display_data"
    }
   ],
   "source": [
    "# TODO\n",
    "titles_precisions = [titles_precision['top_1'], titles_precision['top_3'], titles_precision['top_5']]\n",
    "abstracts_precisions = [abstracts_precision['top_1'], abstracts_precision['top_3'], abstracts_precision['top_5']]\n",
    "texts_precisions = [texts_precision['top_1'], texts_precision['top_3'], texts_precision['top_5']]\n",
    "\n",
    "k_values = [1, 3, 5]\n",
    "\n",
    "plt.plot(k_values, titles_precisions, label='Title Precision')\n",
    "plt.plot(k_values, abstracts_precisions, label='Abstract Precision')\n",
    "plt.plot(k_values, texts_precisions, label='Text Precision')\n",
    "plt.title('Valeurs de précisions des documents pour différents N (1,3,5)')\n",
    "plt.xlabel('k')\n",
    "plt.ylabel('Précision')\n",
    "plt.xticks(k_values)\n",
    "plt.legend()\n",
    "plt.show()\n",
    "# END TODO"
   ]
  },
  {
   "cell_type": "markdown",
   "metadata": {
    "id": "vI_2JXRxAygz"
   },
   "source": [
    "### 3 Amélioration avec BM25 (20 points)"
   ]
  },
  {
   "cell_type": "markdown",
   "metadata": {},
   "source": [
    "BM25 (Best Matching 25) est un algorithme de recherche utilisé pour évaluer la pertinence des documents par rapport à une requête. Basé sur le modèle de récupération d'informations probabilistes, BM25 calcule un score de pertinence en tenant compte de la fréquence des termes de la requête dans chaque document et dans le corpus global mais aussi de la longueur des documents. \n",
    "\n",
    "BM25 est pertinent pour la recherche d'information car il offre un bon équilibre entre précision et rappel, il gère efficacement de grandes collections de documents et permet des ajustements pour différents types de corpus. Il est largement utilisé dans les moteurs de recherche et les systèmes de recommandation.\n",
    "\n",
    "Dans cette partie on vous demande de la tester au moyen de la librairie rank_bm25 pour cette tâche de recherche de texte qui justifie ou contredit une affirmation donnée. Vous allez utiliser le corpus et les affirmations et procéder comme indiqué dans la suite."
   ]
  },
  {
   "cell_type": "markdown",
   "metadata": {},
   "source": [
    "##### 3.1 Initialisation du modèle BM25 (3 points)\n",
    "Réutilisez les variables \"claims_preprocessed_joined\", \"texts_preprocessed_joined\", \"titles_preprocessed_joined\" et \"abstract_preprocessed_joined\" définies à la question `2.2.1` pour initialiser les modèles BM25 pour les documents (\"__titles__\", \"__abstracts__\" et \"__text__\"). Il faudra transformer chaque séquence (dont les jetons étaient joints pour former une seule chaîne) en une liste de jetons. Vous utiliserez la classe \"_BM250kapi_\" à ce niveau. "
   ]
  },
  {
   "cell_type": "code",
   "execution_count": 46,
   "metadata": {},
   "outputs": [],
   "source": [
    "# TODO\n",
    "def tokenize_list(texts):\n",
    "    return [text.split() for text in texts]\n",
    "\n",
    "tokenized_claims_preprocessed_joined    = tokenize_list(claims_preprocessed_joined)\n",
    "tokenized_titles_preprocessed_joined    = tokenize_list(titles_preprocessed_joined)\n",
    "tokenized_abstracts_preprocessed_joined = tokenize_list(abstracts_preprocessed_joined)\n",
    "tokenized_texts_preprocessed_joined     = tokenize_list(texts_preprocessed_joined)\n",
    "\n",
    "bm25_claims    = BM25Okapi(tokenized_claims_preprocessed_joined)\n",
    "bm25_titles    = BM25Okapi(tokenized_titles_preprocessed_joined)\n",
    "bm25_abstracts = BM25Okapi(tokenized_abstracts_preprocessed_joined)\n",
    "bm25_texts     = BM25Okapi(tokenized_texts_preprocessed_joined)\n",
    "# END TODO"
   ]
  },
  {
   "cell_type": "markdown",
   "metadata": {},
   "source": [
    "##### 3.2 Utilisation du modèle BM25 (5 points)\n",
    "\n",
    "Retrouvez les identifiants des documents pour les cinq meilleures correspondances de \"_title_\", de \"_abstract_\" et de \"_text_\" en utilisant le score BM25 pour chaque affirmation (claim) traitée, et mettez à jour les résultats avec les identifiants de documents correspondants."
   ]
  },
  {
   "cell_type": "code",
   "execution_count": 47,
   "metadata": {},
   "outputs": [],
   "source": [
    "# TODO\n",
    "def rank_texts_bm25(claim, bm25, n):\n",
    "    scores = bm25.get_scores(claim)\n",
    "    sorted_indices = np.argsort(scores)\n",
    "    top_n_indices = sorted_indices[-n:]\n",
    "    top_n_values_with_attr = [(scores[i], df_corpus.loc[i, 'doc_id']) for i in top_n_indices]\n",
    "    sorted_top_n = sorted(top_n_values_with_attr, key=lambda x: x[0], reverse=True)\n",
    "    return [doc_id for _, doc_id in sorted_top_n]\n",
    "# END TODO"
   ]
  },
  {
   "cell_type": "markdown",
   "metadata": {},
   "source": [
    "##### 3.3 Affichage des performances (4 points)\n",
    "\n",
    "Affichez les résultats des performances BM25 pour les configurations Top1, Top3 et Top5 avec \"_title_\", \"_asbtract_\" et \"_text_\"."
   ]
  },
  {
   "cell_type": "code",
   "execution_count": 48,
   "metadata": {},
   "outputs": [],
   "source": [
    "results_titles_bm25_df    = prepare_results_df(df_claims, columns_to_drop, 'cited_doc_ids')\n",
    "results_abstracts_bm25_df = prepare_results_df(df_claims, columns_to_drop, 'cited_doc_ids')\n",
    "results_texts_bm25_df     = prepare_results_df(df_claims, columns_to_drop, 'cited_doc_ids')"
   ]
  },
  {
   "cell_type": "code",
   "execution_count": 49,
   "metadata": {},
   "outputs": [
    {
     "data": {
      "text/html": [
       "<div>\n",
       "<style scoped>\n",
       "    .dataframe tbody tr th:only-of-type {\n",
       "        vertical-align: middle;\n",
       "    }\n",
       "\n",
       "    .dataframe tbody tr th {\n",
       "        vertical-align: top;\n",
       "    }\n",
       "\n",
       "    .dataframe thead th {\n",
       "        text-align: right;\n",
       "    }\n",
       "</style>\n",
       "<table border=\"1\" class=\"dataframe\">\n",
       "  <thead>\n",
       "    <tr style=\"text-align: right;\">\n",
       "      <th></th>\n",
       "      <th>id</th>\n",
       "      <th>gold standard passage</th>\n",
       "      <th>top_1</th>\n",
       "      <th>top_3</th>\n",
       "      <th>top_5</th>\n",
       "    </tr>\n",
       "  </thead>\n",
       "  <tbody>\n",
       "    <tr>\n",
       "      <th>0</th>\n",
       "      <td>0</td>\n",
       "      <td>[31715818]</td>\n",
       "      <td>26071782</td>\n",
       "      <td>26071782;21257564;18953920</td>\n",
       "      <td>26071782;21257564;18953920;26731863;825728</td>\n",
       "    </tr>\n",
       "    <tr>\n",
       "      <th>1</th>\n",
       "      <td>2</td>\n",
       "      <td>[13734012]</td>\n",
       "      <td>13734012</td>\n",
       "      <td>13734012;18617259;4828631</td>\n",
       "      <td>13734012;18617259;4828631;42240424;17333231</td>\n",
       "    </tr>\n",
       "    <tr>\n",
       "      <th>2</th>\n",
       "      <td>4</td>\n",
       "      <td>[22942787]</td>\n",
       "      <td>10958594</td>\n",
       "      <td>10958594;24980622;1387104</td>\n",
       "      <td>10958594;24980622;1387104;5641851;13030852</td>\n",
       "    </tr>\n",
       "    <tr>\n",
       "      <th>3</th>\n",
       "      <td>6</td>\n",
       "      <td>[2613775]</td>\n",
       "      <td>23117378</td>\n",
       "      <td>23117378;2613775;35521287</td>\n",
       "      <td>23117378;2613775;35521287;20240998;21050357</td>\n",
       "    </tr>\n",
       "    <tr>\n",
       "      <th>4</th>\n",
       "      <td>9</td>\n",
       "      <td>[44265107]</td>\n",
       "      <td>44265107</td>\n",
       "      <td>44265107;25182647;24700152</td>\n",
       "      <td>44265107;25182647;24700152;21186109;14647747</td>\n",
       "    </tr>\n",
       "    <tr>\n",
       "      <th>...</th>\n",
       "      <td>...</td>\n",
       "      <td>...</td>\n",
       "      <td>...</td>\n",
       "      <td>...</td>\n",
       "      <td>...</td>\n",
       "    </tr>\n",
       "    <tr>\n",
       "      <th>804</th>\n",
       "      <td>1403</td>\n",
       "      <td>[33370, 38355793]</td>\n",
       "      <td>38355793</td>\n",
       "      <td>38355793;33370;33638477</td>\n",
       "      <td>38355793;33370;33638477;3419802;19644821</td>\n",
       "    </tr>\n",
       "    <tr>\n",
       "      <th>805</th>\n",
       "      <td>1404</td>\n",
       "      <td>[33370, 38355793]</td>\n",
       "      <td>38355793</td>\n",
       "      <td>38355793;33370;33638477</td>\n",
       "      <td>38355793;33370;33638477;3419802;22180793</td>\n",
       "    </tr>\n",
       "    <tr>\n",
       "      <th>806</th>\n",
       "      <td>1405</td>\n",
       "      <td>[10504681]</td>\n",
       "      <td>10504681</td>\n",
       "      <td>10504681;20402596;19950357</td>\n",
       "      <td>10504681;20402596;19950357;38675228;4350400</td>\n",
       "    </tr>\n",
       "    <tr>\n",
       "      <th>807</th>\n",
       "      <td>1406</td>\n",
       "      <td>[2617858]</td>\n",
       "      <td>2617858</td>\n",
       "      <td>2617858;1744752;3441524</td>\n",
       "      <td>2617858;1744752;3441524;14362678;10577574</td>\n",
       "    </tr>\n",
       "    <tr>\n",
       "      <th>808</th>\n",
       "      <td>1407</td>\n",
       "      <td>[8087082, 29863668]</td>\n",
       "      <td>29863668</td>\n",
       "      <td>29863668;7549811;24555417</td>\n",
       "      <td>29863668;7549811;24555417;35231675;21598000</td>\n",
       "    </tr>\n",
       "  </tbody>\n",
       "</table>\n",
       "<p>809 rows × 5 columns</p>\n",
       "</div>"
      ],
      "text/plain": [
       "       id gold standard passage     top_1                       top_3  \\\n",
       "0       0            [31715818]  26071782  26071782;21257564;18953920   \n",
       "1       2            [13734012]  13734012   13734012;18617259;4828631   \n",
       "2       4            [22942787]  10958594   10958594;24980622;1387104   \n",
       "3       6             [2613775]  23117378   23117378;2613775;35521287   \n",
       "4       9            [44265107]  44265107  44265107;25182647;24700152   \n",
       "..    ...                   ...       ...                         ...   \n",
       "804  1403     [33370, 38355793]  38355793     38355793;33370;33638477   \n",
       "805  1404     [33370, 38355793]  38355793     38355793;33370;33638477   \n",
       "806  1405            [10504681]  10504681  10504681;20402596;19950357   \n",
       "807  1406             [2617858]   2617858     2617858;1744752;3441524   \n",
       "808  1407   [8087082, 29863668]  29863668   29863668;7549811;24555417   \n",
       "\n",
       "                                            top_5  \n",
       "0      26071782;21257564;18953920;26731863;825728  \n",
       "1     13734012;18617259;4828631;42240424;17333231  \n",
       "2      10958594;24980622;1387104;5641851;13030852  \n",
       "3     23117378;2613775;35521287;20240998;21050357  \n",
       "4    44265107;25182647;24700152;21186109;14647747  \n",
       "..                                            ...  \n",
       "804      38355793;33370;33638477;3419802;19644821  \n",
       "805      38355793;33370;33638477;3419802;22180793  \n",
       "806   10504681;20402596;19950357;38675228;4350400  \n",
       "807     2617858;1744752;3441524;14362678;10577574  \n",
       "808   29863668;7549811;24555417;35231675;21598000  \n",
       "\n",
       "[809 rows x 5 columns]"
      ]
     },
     "execution_count": 49,
     "metadata": {},
     "output_type": "execute_result"
    }
   ],
   "source": [
    "# TODO\n",
    "text_matrix = {\n",
    "    'top_1': np.zeros((len(tokenized_claims_preprocessed_joined), 1), dtype=object),\n",
    "    'top_3': np.zeros((len(tokenized_claims_preprocessed_joined), 3), dtype=object),\n",
    "    'top_5': np.zeros((len(tokenized_claims_preprocessed_joined), 5), dtype=object)\n",
    "}\n",
    "abstract_matrix = {\n",
    "    'top_1': np.zeros((len(tokenized_claims_preprocessed_joined), 1), dtype=object),\n",
    "    'top_3': np.zeros((len(tokenized_claims_preprocessed_joined), 3), dtype=object),\n",
    "    'top_5': np.zeros((len(tokenized_claims_preprocessed_joined), 5), dtype=object)\n",
    "}\n",
    "title_matrix = {\n",
    "    'top_1': np.zeros((len(tokenized_claims_preprocessed_joined), 1), dtype=object),\n",
    "    'top_3': np.zeros((len(tokenized_claims_preprocessed_joined), 3), dtype=object),\n",
    "    'top_5': np.zeros((len(tokenized_claims_preprocessed_joined), 5), dtype=object)\n",
    "}\n",
    "\n",
    "for i in range(len(tokenized_claims_preprocessed_joined)):\n",
    "    text_matrix['top_1'][i, :] = rank_texts_bm25(tokenized_claims_preprocessed_joined[i], bm25_texts, 1)\n",
    "    text_matrix['top_3'][i, :] = rank_texts_bm25(tokenized_claims_preprocessed_joined[i], bm25_texts, 3)\n",
    "    text_matrix['top_5'][i, :] = rank_texts_bm25(tokenized_claims_preprocessed_joined[i], bm25_texts, 5)\n",
    "\n",
    "    abstract_matrix['top_1'][i, :] = rank_texts_bm25(tokenized_claims_preprocessed_joined[i], bm25_abstracts, 1)\n",
    "    abstract_matrix['top_3'][i, :] = rank_texts_bm25(tokenized_claims_preprocessed_joined[i], bm25_abstracts, 3)\n",
    "    abstract_matrix['top_5'][i, :] = rank_texts_bm25(tokenized_claims_preprocessed_joined[i], bm25_abstracts, 5)\n",
    "\n",
    "    title_matrix['top_1'][i, :] = rank_texts_bm25(tokenized_claims_preprocessed_joined[i], bm25_titles, 1)\n",
    "    title_matrix['top_3'][i, :] = rank_texts_bm25(tokenized_claims_preprocessed_joined[i], bm25_titles, 3)\n",
    "    title_matrix['top_5'][i, :] = rank_texts_bm25(tokenized_claims_preprocessed_joined[i], bm25_titles, 5)\n",
    "\n",
    "results_texts_bm25_df = fill_results(text_matrix, results_texts_bm25_df)\n",
    "results_texts_bm25_df\n",
    "# END TODO"
   ]
  },
  {
   "cell_type": "code",
   "execution_count": 50,
   "metadata": {},
   "outputs": [
    {
     "data": {
      "text/html": [
       "<div>\n",
       "<style scoped>\n",
       "    .dataframe tbody tr th:only-of-type {\n",
       "        vertical-align: middle;\n",
       "    }\n",
       "\n",
       "    .dataframe tbody tr th {\n",
       "        vertical-align: top;\n",
       "    }\n",
       "\n",
       "    .dataframe thead th {\n",
       "        text-align: right;\n",
       "    }\n",
       "</style>\n",
       "<table border=\"1\" class=\"dataframe\">\n",
       "  <thead>\n",
       "    <tr style=\"text-align: right;\">\n",
       "      <th></th>\n",
       "      <th>id</th>\n",
       "      <th>gold standard passage</th>\n",
       "      <th>top_1</th>\n",
       "      <th>top_3</th>\n",
       "      <th>top_5</th>\n",
       "    </tr>\n",
       "  </thead>\n",
       "  <tbody>\n",
       "    <tr>\n",
       "      <th>0</th>\n",
       "      <td>0</td>\n",
       "      <td>[31715818]</td>\n",
       "      <td>26071782</td>\n",
       "      <td>26071782;21257564;825728</td>\n",
       "      <td>26071782;21257564;825728;28138927;26731863</td>\n",
       "    </tr>\n",
       "    <tr>\n",
       "      <th>1</th>\n",
       "      <td>2</td>\n",
       "      <td>[13734012]</td>\n",
       "      <td>13734012</td>\n",
       "      <td>13734012;18617259;42240424</td>\n",
       "      <td>13734012;18617259;42240424;17333231;21616324</td>\n",
       "    </tr>\n",
       "    <tr>\n",
       "      <th>2</th>\n",
       "      <td>4</td>\n",
       "      <td>[22942787]</td>\n",
       "      <td>1387104</td>\n",
       "      <td>1387104;24980622;10958594</td>\n",
       "      <td>1387104;24980622;10958594;5641851;13030852</td>\n",
       "    </tr>\n",
       "    <tr>\n",
       "      <th>3</th>\n",
       "      <td>6</td>\n",
       "      <td>[2613775]</td>\n",
       "      <td>23117378</td>\n",
       "      <td>23117378;2613775;20240998</td>\n",
       "      <td>23117378;2613775;20240998;35521287;21050357</td>\n",
       "    </tr>\n",
       "    <tr>\n",
       "      <th>4</th>\n",
       "      <td>9</td>\n",
       "      <td>[44265107]</td>\n",
       "      <td>44265107</td>\n",
       "      <td>44265107;25182647;24700152</td>\n",
       "      <td>44265107;25182647;24700152;21186109;16737210</td>\n",
       "    </tr>\n",
       "    <tr>\n",
       "      <th>...</th>\n",
       "      <td>...</td>\n",
       "      <td>...</td>\n",
       "      <td>...</td>\n",
       "      <td>...</td>\n",
       "      <td>...</td>\n",
       "    </tr>\n",
       "    <tr>\n",
       "      <th>804</th>\n",
       "      <td>1403</td>\n",
       "      <td>[33370, 38355793]</td>\n",
       "      <td>38355793</td>\n",
       "      <td>38355793;33370;3419802</td>\n",
       "      <td>38355793;33370;3419802;33638477;19644821</td>\n",
       "    </tr>\n",
       "    <tr>\n",
       "      <th>805</th>\n",
       "      <td>1404</td>\n",
       "      <td>[33370, 38355793]</td>\n",
       "      <td>38355793</td>\n",
       "      <td>38355793;33370;3419802</td>\n",
       "      <td>38355793;33370;3419802;22180793;33638477</td>\n",
       "    </tr>\n",
       "    <tr>\n",
       "      <th>806</th>\n",
       "      <td>1405</td>\n",
       "      <td>[10504681]</td>\n",
       "      <td>10504681</td>\n",
       "      <td>10504681;20402596;19950357</td>\n",
       "      <td>10504681;20402596;19950357;38675228;4350400</td>\n",
       "    </tr>\n",
       "    <tr>\n",
       "      <th>807</th>\n",
       "      <td>1406</td>\n",
       "      <td>[2617858]</td>\n",
       "      <td>2617858</td>\n",
       "      <td>2617858;1744752;3441524</td>\n",
       "      <td>2617858;1744752;3441524;14362678;10577574</td>\n",
       "    </tr>\n",
       "    <tr>\n",
       "      <th>808</th>\n",
       "      <td>1407</td>\n",
       "      <td>[8087082, 29863668]</td>\n",
       "      <td>7549811</td>\n",
       "      <td>7549811;35231675;24555417</td>\n",
       "      <td>7549811;35231675;24555417;29863668;21598000</td>\n",
       "    </tr>\n",
       "  </tbody>\n",
       "</table>\n",
       "<p>809 rows × 5 columns</p>\n",
       "</div>"
      ],
      "text/plain": [
       "       id gold standard passage     top_1                       top_3  \\\n",
       "0       0            [31715818]  26071782    26071782;21257564;825728   \n",
       "1       2            [13734012]  13734012  13734012;18617259;42240424   \n",
       "2       4            [22942787]   1387104   1387104;24980622;10958594   \n",
       "3       6             [2613775]  23117378   23117378;2613775;20240998   \n",
       "4       9            [44265107]  44265107  44265107;25182647;24700152   \n",
       "..    ...                   ...       ...                         ...   \n",
       "804  1403     [33370, 38355793]  38355793      38355793;33370;3419802   \n",
       "805  1404     [33370, 38355793]  38355793      38355793;33370;3419802   \n",
       "806  1405            [10504681]  10504681  10504681;20402596;19950357   \n",
       "807  1406             [2617858]   2617858     2617858;1744752;3441524   \n",
       "808  1407   [8087082, 29863668]   7549811   7549811;35231675;24555417   \n",
       "\n",
       "                                            top_5  \n",
       "0      26071782;21257564;825728;28138927;26731863  \n",
       "1    13734012;18617259;42240424;17333231;21616324  \n",
       "2      1387104;24980622;10958594;5641851;13030852  \n",
       "3     23117378;2613775;20240998;35521287;21050357  \n",
       "4    44265107;25182647;24700152;21186109;16737210  \n",
       "..                                            ...  \n",
       "804      38355793;33370;3419802;33638477;19644821  \n",
       "805      38355793;33370;3419802;22180793;33638477  \n",
       "806   10504681;20402596;19950357;38675228;4350400  \n",
       "807     2617858;1744752;3441524;14362678;10577574  \n",
       "808   7549811;35231675;24555417;29863668;21598000  \n",
       "\n",
       "[809 rows x 5 columns]"
      ]
     },
     "execution_count": 50,
     "metadata": {},
     "output_type": "execute_result"
    }
   ],
   "source": [
    "results_abstracts_bm25_df = fill_results(abstract_matrix, results_abstracts_bm25_df)\n",
    "results_abstracts_bm25_df"
   ]
  },
  {
   "cell_type": "code",
   "execution_count": 51,
   "metadata": {},
   "outputs": [
    {
     "data": {
      "text/html": [
       "<div>\n",
       "<style scoped>\n",
       "    .dataframe tbody tr th:only-of-type {\n",
       "        vertical-align: middle;\n",
       "    }\n",
       "\n",
       "    .dataframe tbody tr th {\n",
       "        vertical-align: top;\n",
       "    }\n",
       "\n",
       "    .dataframe thead th {\n",
       "        text-align: right;\n",
       "    }\n",
       "</style>\n",
       "<table border=\"1\" class=\"dataframe\">\n",
       "  <thead>\n",
       "    <tr style=\"text-align: right;\">\n",
       "      <th></th>\n",
       "      <th>id</th>\n",
       "      <th>gold standard passage</th>\n",
       "      <th>top_1</th>\n",
       "      <th>top_3</th>\n",
       "      <th>top_5</th>\n",
       "    </tr>\n",
       "  </thead>\n",
       "  <tbody>\n",
       "    <tr>\n",
       "      <th>0</th>\n",
       "      <td>0</td>\n",
       "      <td>[31715818]</td>\n",
       "      <td>16532419</td>\n",
       "      <td>16532419;25602549;42421723</td>\n",
       "      <td>16532419;25602549;42421723;14831629;34935825</td>\n",
       "    </tr>\n",
       "    <tr>\n",
       "      <th>1</th>\n",
       "      <td>2</td>\n",
       "      <td>[13734012]</td>\n",
       "      <td>32481310</td>\n",
       "      <td>32481310;4828631;103007</td>\n",
       "      <td>32481310;4828631;103007;1583134;3870062</td>\n",
       "    </tr>\n",
       "    <tr>\n",
       "      <th>2</th>\n",
       "      <td>4</td>\n",
       "      <td>[22942787]</td>\n",
       "      <td>24980622</td>\n",
       "      <td>24980622;10958594;39903312</td>\n",
       "      <td>24980622;10958594;39903312;31616203;12074066</td>\n",
       "    </tr>\n",
       "    <tr>\n",
       "      <th>3</th>\n",
       "      <td>6</td>\n",
       "      <td>[2613775]</td>\n",
       "      <td>2613775</td>\n",
       "      <td>2613775;23117378;21050357</td>\n",
       "      <td>2613775;23117378;21050357;7711685;39381118</td>\n",
       "    </tr>\n",
       "    <tr>\n",
       "      <th>4</th>\n",
       "      <td>9</td>\n",
       "      <td>[44265107]</td>\n",
       "      <td>44265107</td>\n",
       "      <td>44265107;24700152;9056874</td>\n",
       "      <td>44265107;24700152;9056874;8190282;14647747</td>\n",
       "    </tr>\n",
       "    <tr>\n",
       "      <th>...</th>\n",
       "      <td>...</td>\n",
       "      <td>...</td>\n",
       "      <td>...</td>\n",
       "      <td>...</td>\n",
       "      <td>...</td>\n",
       "    </tr>\n",
       "    <tr>\n",
       "      <th>804</th>\n",
       "      <td>1403</td>\n",
       "      <td>[33370, 38355793]</td>\n",
       "      <td>14615911</td>\n",
       "      <td>14615911;33370;23777820</td>\n",
       "      <td>14615911;33370;23777820;6944800;24282306</td>\n",
       "    </tr>\n",
       "    <tr>\n",
       "      <th>805</th>\n",
       "      <td>1404</td>\n",
       "      <td>[33370, 38355793]</td>\n",
       "      <td>14615911</td>\n",
       "      <td>14615911;33370;23777820</td>\n",
       "      <td>14615911;33370;23777820;6944800;24282306</td>\n",
       "    </tr>\n",
       "    <tr>\n",
       "      <th>806</th>\n",
       "      <td>1405</td>\n",
       "      <td>[10504681]</td>\n",
       "      <td>5849439</td>\n",
       "      <td>5849439;464511;435529</td>\n",
       "      <td>5849439;464511;435529;9769310;7681810</td>\n",
       "    </tr>\n",
       "    <tr>\n",
       "      <th>807</th>\n",
       "      <td>1406</td>\n",
       "      <td>[2617858]</td>\n",
       "      <td>2617858</td>\n",
       "      <td>2617858;4857085;10577574</td>\n",
       "      <td>2617858;4857085;10577574;27768226;11419230</td>\n",
       "    </tr>\n",
       "    <tr>\n",
       "      <th>808</th>\n",
       "      <td>1407</td>\n",
       "      <td>[8087082, 29863668]</td>\n",
       "      <td>7549811</td>\n",
       "      <td>7549811;45199834;16090672</td>\n",
       "      <td>7549811;45199834;16090672;38127792;7912</td>\n",
       "    </tr>\n",
       "  </tbody>\n",
       "</table>\n",
       "<p>809 rows × 5 columns</p>\n",
       "</div>"
      ],
      "text/plain": [
       "       id gold standard passage     top_1                       top_3  \\\n",
       "0       0            [31715818]  16532419  16532419;25602549;42421723   \n",
       "1       2            [13734012]  32481310     32481310;4828631;103007   \n",
       "2       4            [22942787]  24980622  24980622;10958594;39903312   \n",
       "3       6             [2613775]   2613775   2613775;23117378;21050357   \n",
       "4       9            [44265107]  44265107   44265107;24700152;9056874   \n",
       "..    ...                   ...       ...                         ...   \n",
       "804  1403     [33370, 38355793]  14615911     14615911;33370;23777820   \n",
       "805  1404     [33370, 38355793]  14615911     14615911;33370;23777820   \n",
       "806  1405            [10504681]   5849439       5849439;464511;435529   \n",
       "807  1406             [2617858]   2617858    2617858;4857085;10577574   \n",
       "808  1407   [8087082, 29863668]   7549811   7549811;45199834;16090672   \n",
       "\n",
       "                                            top_5  \n",
       "0    16532419;25602549;42421723;14831629;34935825  \n",
       "1         32481310;4828631;103007;1583134;3870062  \n",
       "2    24980622;10958594;39903312;31616203;12074066  \n",
       "3      2613775;23117378;21050357;7711685;39381118  \n",
       "4      44265107;24700152;9056874;8190282;14647747  \n",
       "..                                            ...  \n",
       "804      14615911;33370;23777820;6944800;24282306  \n",
       "805      14615911;33370;23777820;6944800;24282306  \n",
       "806         5849439;464511;435529;9769310;7681810  \n",
       "807    2617858;4857085;10577574;27768226;11419230  \n",
       "808       7549811;45199834;16090672;38127792;7912  \n",
       "\n",
       "[809 rows x 5 columns]"
      ]
     },
     "execution_count": 51,
     "metadata": {},
     "output_type": "execute_result"
    }
   ],
   "source": [
    "results_titles_bm25_df = fill_results(title_matrix, results_titles_bm25_df)\n",
    "results_titles_bm25_df"
   ]
  },
  {
   "cell_type": "code",
   "execution_count": 52,
   "metadata": {},
   "outputs": [
    {
     "name": "stdout",
     "output_type": "stream",
     "text": [
      "Results for titles :\n",
      "Precision@1 : 0.3239\n",
      "Precision@3 : 0.1475\n",
      "Precision@5 : 0.0994\n",
      "\n",
      "Results for abstracts :\n",
      "Precision@1 : 0.5538\n",
      "Precision@3 : 0.2344\n",
      "Precision@5 : 0.1567\n",
      "\n",
      "Results for texts :\n",
      "Precision@1 : 0.5674\n",
      "Precision@3 : 0.2394\n",
      "Precision@5 : 0.1582\n"
     ]
    }
   ],
   "source": [
    "print('Results for titles :')\n",
    "precisions_titles_bm25 = evaluate(results_titles_bm25_df)\n",
    "print('\\nResults for abstracts :')\n",
    "precisions_abstracts_bm25 = evaluate(results_abstracts_bm25_df)\n",
    "print('\\nResults for texts :')\n",
    "precisions_texts_bm25 = evaluate(results_texts_bm25_df)"
   ]
  },
  {
   "cell_type": "markdown",
   "metadata": {},
   "source": [
    "##### 3.4 Graphique (4 points)\n",
    "\n",
    "Dans un même graphique, affichez les performances pour les deux modèles (TF-IDF et BM25) dans la recherche des documents (text, title et abstract) pour les affirmations."
   ]
  },
  {
   "cell_type": "code",
   "execution_count": 53,
   "metadata": {},
   "outputs": [
    {
     "data": {
      "image/png": "[encoded data removed]",
      "text/plain": [
       "<Figure size 640x480 with 1 Axes>"
      ]
     },
     "metadata": {},
     "output_type": "display_data"
    }
   ],
   "source": [
    "# TODO\n",
    "title_precisions_bm25 = [precisions_titles_bm25['top_1'], precisions_titles_bm25['top_3'], precisions_titles_bm25['top_5']]\n",
    "abstract_precisions_bm25 = [precisions_abstracts_bm25['top_1'], precisions_abstracts_bm25['top_3'], precisions_abstracts_bm25['top_5']]\n",
    "text_precisions_bm25 = [precisions_texts_bm25['top_1'], precisions_texts_bm25['top_3'], precisions_texts_bm25['top_5']]\n",
    "\n",
    "text_precisions_tf_idf = [texts_precision['top_1'], texts_precision['top_3'], texts_precision['top_5']]\n",
    "title_precisions_tf_idf = [titles_precision['top_1'], titles_precision['top_3'], titles_precision['top_5']]\n",
    "abstract_precisions_tf_idf = [abstracts_precision['top_1'], abstracts_precision['top_3'], abstracts_precision['top_5']]\n",
    "\n",
    "k_values = [1, 3, 5]\n",
    "\n",
    "plt.plot(k_values, title_precisions_bm25, label='Title BM25')\n",
    "plt.plot(k_values, abstract_precisions_bm25, label='Abstract BM25')\n",
    "plt.plot(k_values, text_precisions_bm25, label='Text BM25')\n",
    "\n",
    "plt.plot(k_values, text_precisions_tf_idf, label='Title Precision')\n",
    "plt.plot(k_values, title_precisions_tf_idf, label='Abstract Precision')\n",
    "plt.plot(k_values, abstract_precisions_tf_idf, label='Text Precision')\n",
    "\n",
    "plt.title('Valeurs de précisions des documents pour différents N (1,3,5)')\n",
    "plt.xlabel('k')\n",
    "plt.ylabel('Précision')\n",
    "plt.xticks(k_values)\n",
    "plt.legend()\n",
    "plt.show()\n",
    "# END TODO"
   ]
  },
  {
   "cell_type": "markdown",
   "metadata": {},
   "source": [
    "##### 3.5 Observation (4 points)\n",
    "\n",
    "Par rapport à vos résultats avec TF-IDF, observez-vous une amélioration ou une détérioration des performances, qu'est ce qui explique cela ? (Donnez au moins trois justifications)\n",
    "\n",
    "En observant le graphique, on constate que les scores de précision pour BM25 sont globalement plus élevés que ceux de TF-IDF pour les documents \"abstract\" et \"text,\" indiquant une meilleure performance de BM25. En revanche, pour les \"title,\" BM25 affiche des performances légèrement inférieures à celles de TF-IDF.\n",
    "\n",
    "Voici comment les ajustements de BM25 expliquent ces différences observées :\n",
    "\n",
    "Biais lié à la fréquence d’un terme : Le graphique montre que la précision de BM25 pour les \"abstract\" et \"text\" est constamment supérieure à celle de TF-IDF. Cela s'explique par le fait que BM25 atténue l'impact des termes fréquents, ce qui rend les scores plus représentatifs de la pertinence réelle des documents. Cette correction du biais de fréquence des termes permet d’obtenir une précision plus élevée.\n",
    "\n",
    "Prise en compte de la longueur des documents : Les \"abstract\" et \"text\" sont généralement plus longs et variés que les \"title.\" Grâce à la prise en compte de la longueur des documents, BM25 ajuste les scores de manière à rendre les résultats plus pertinents, d’où l’amélioration notable de la précision observée sur le graphique pour ces deux types de documents.\n",
    "\n",
    "Contrôle de la variation des longueurs de documents : La capacité de BM25 à ajuster dynamiquement l'influence de la longueur des documents permet d'obtenir une meilleure performance sur les documents \"abstract\" et \"text,\" qui présentent des variations de taille plus importantes. Cependant, les \"title\" étant de longueur relativement uniforme et généralement courts, l'avantage de BM25 est moins marqué, expliquant ainsi la légère détérioration par rapport à TF-IDF."
   ]
  }
 ],
 "metadata": {
  "colab": {
   "collapsed_sections": [
    "1tMX8go24rB_",
    "4ItqD8yL-utW",
    "0kzLIzqD-vp7",
    "VIRjMFlY-wHL",
    "R41oj9nI-wwi",
    "3FibZKYkHi06"
   ],
   "name": "TP2 solution.ipynb",
   "provenance": []
  },
  "kernelspec": {
   "display_name": "Python 3 (ipykernel)",
   "language": "python",
   "name": "python3"
  },
  "language_info": {
   "codemirror_mode": {
    "name": "ipython",
    "version": 3
   },
   "file_extension": ".py",
   "mimetype": "text/x-python",
   "name": "python",
   "nbconvert_exporter": "python",
   "pygments_lexer": "ipython3",
   "version": "3.11.9"
  }
 },
 "nbformat": 4,
 "nbformat_minor": 4
}
