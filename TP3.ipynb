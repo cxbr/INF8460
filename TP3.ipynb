{
  "cells": [
    {
      "cell_type": "markdown",
      "metadata": {
        "id": "G9ZPAA_02tRR"
      },
      "source": [
        "##### INF8460 – Traitement automatique de la langue naturelle - Automne 2024\n",
        "\n",
        "## TP3: Génération automatique de mots-clés (concepts) avec une architecture Transformer\n"
      ]
    },
    {
      "cell_type": "markdown",
      "metadata": {
        "id": "1FayMA0Z9Fxp"
      },
      "source": [
        "## 1. Objectif du TP\n",
        "\n",
        "Dans ce TP, vous allez devoir implémenter en `PyTorch` un modèle suivant l'architecture Transformer créée initialement dans l'article \"[Attention Is All You Need](https://arxiv.org/pdf/1706.03762)\".\n",
        "<br>\n",
        "Votre tâche sera d'implémenter l'architecture du Transformer et d'entraîner un modèle de type Transformer à générer les concepts clés d'une phrase. Votre modèle prendra donc en entrée une phrase quelconque en anglais et produira en sortie une séquence de mots correspondant aux concepts les plus importants de la phrase. Par exemple :\n",
        "<br>\n",
        "\n",
        "**Entrée** : \"The dog jumped over the fence.\" <br>\n",
        "**Sortie attendue** : ['dog' 'jump' 'fence']\n",
        "\n",
        "Cette tâche a d'ailleurs plusieurs applications dans le monde réel allant de la génération de résumés jusqu'à la création de bases de connaissances à partir d'un texte.\n",
        "\n",
        "\n",
        "#### Requis et ressources utiles\n",
        "\n",
        "Il est fortement conseillé de s'être familiarisé avec la librairie `PyTorch` avant d'entamer le TP. Par exemple, vous devriez savoir comment fonctionne un objet de type `nn.Module` et ce que la fonction `forward` de cet objet fait. Plusieurs tutoriels sont disponibles sur internet expliquant clairement le fonctionnement de la librairie. Voici certaines ressources qui peuvent être utiles :\n",
        "- [Build The Neural Network](https://pytorch.org/tutorials/beginner/basics/buildmodel_tutorial.html)\n",
        "- [PyTorch Tutorial](https://github.com/yunjey/pytorch-tutorial?tab=readme-ov-file)\n",
        "\n",
        "\n",
        "## 2. Jeu de données\n",
        "\n",
        "Le jeu de données est composé de paires (phrase, concepts) où une phrase est mentionnée et la liste des concepts les plus importants de la phrase est indiquée. Le jeu de données est divisé en ensembles d'entraînement, de validation et de test :\n",
        "- Entraînement : 4500 examples (train.csv)\n",
        "- Validation : 500 examples (val.csv)\n",
        "- Test : 500 examples (test.csv)\n",
        "\n",
        "Pour une même séquence de concepts, il y a 3 phrases pouvant être associées à ces concepts. Par exemple, pour les concepts : ['cat' 'laptop' 'lie'], les phrases suivantes y sont associées :\n",
        "- A cat lying on a laptop\n",
        "- A large cat lies down next to a laptop.\n",
        "- There is a cat lying on top of the laptop.\n"
      ]
    },
    {
      "cell_type": "markdown",
      "metadata": {
        "id": "26Qe_-7z25EE"
      },
      "source": [
        "## 3. LIBRAIRIES PERMISES\n",
        "- Jupyter notebook\n",
        "- PyTorch\n",
        "- nltk\n",
        "- transformers\n",
        "- pandas\n",
        "- matplotlib\n",
        "- numpy\n",
        "- Huggingface\n",
        "\n",
        "\n",
        "Pour toute autre librairie, demandez à votre chargé de laboratoire"
      ]
    },
    {
      "cell_type": "markdown",
      "metadata": {
        "id": "Ssmtsfa12_CQ"
      },
      "source": [
        "## 4. INFRASTRUCTURE\n",
        "\n",
        "- Vous avez accès aux GPU du local L-4818. Dans ce cas, vous devez utiliser le dossier temp (voir le tutoriel VirtualEnv.pdf)"
      ]
    },
    {
      "cell_type": "markdown",
      "metadata": {
        "id": "Hn5uuxc59Fxp"
      },
      "source": [
        "## 5. ÉTAPES DU TP"
      ]
    },
    {
      "cell_type": "code",
      "execution_count": 4,
      "metadata": {
        "id": "eNlUvpo32tRS"
      },
      "outputs": [],
      "source": [
        "# Pytorch\n",
        "import torch\n",
        "import torch.nn as nn\n",
        "import torch.nn.functional as F\n",
        "import torch.optim as O\n",
        "from torch.utils.data import DataLoader\n",
        "\n",
        "# ML\n",
        "import pandas as pd\n",
        "import nltk\n",
        "from nltk.tokenize import word_tokenize\n",
        "import matplotlib.pyplot as plt\n",
        "import math\n",
        "import numpy as np\n",
        "\n",
        "# System\n",
        "from dataclasses import dataclass\n",
        "import time\n",
        "import re\n",
        "\n",
        "# Huggingface\n",
        "from tokenizers import CharBPETokenizer"
      ]
    },
    {
      "cell_type": "markdown",
      "metadata": {
        "id": "ZHahteTL9Fxq"
      },
      "source": [
        "Il vous faudra peut-être télécharger ce module de `nltk`"
      ]
    },
    {
      "cell_type": "code",
      "execution_count": 5,
      "metadata": {
        "id": "xAjX6Fzz9MjK"
      },
      "outputs": [],
      "source": [
        "# nltk.download('punkt')"
      ]
    },
    {
      "cell_type": "markdown",
      "metadata": {
        "id": "AIwDxV0G2tRS"
      },
      "source": [
        "### 1. Charger les données (2 points)\n",
        "\n",
        "La première étape va être de charger les données des fichiers d'entraînement et d'évaluation. Pour cela, nous allons utiliser la classe `Dataset` de `PyTorch`. Complétez les fonctions de cette classe."
      ]
    },
    {
      "cell_type": "code",
      "execution_count": 6,
      "metadata": {
        "id": "Ppkz_YFb2tRS"
      },
      "outputs": [],
      "source": [
        "class CustomDataset(torch.utils.data.Dataset):\n",
        "\n",
        "    def __init__(self, file_path: str = None, data: pd.DataFrame = None):\n",
        "\n",
        "        if file_path is None and data is None:\n",
        "            raise Exception('A file path or a dataframe must be passed to create a CustomDataset')\n",
        "\n",
        "        if file_path != None:\n",
        "            self.data = pd.read_csv(file_path)\n",
        "        else:\n",
        "            self.data = data.copy()\n",
        "\n",
        "        # TODO : Enlever les données qui sont nulles et\n",
        "        # assigner le résultat dans la variable data\n",
        "        self.data = self.data.dropna()\n",
        "        # END TODO\n",
        "\n",
        "    def __len__(self):\n",
        "        # TODO : Retourne le nombre de données\n",
        "        return len(self.data)\n",
        "        # END TODO\n",
        "\n",
        "    def __getitem__(self, idx: int):\n",
        "        # TODO : Retourne l'élément à l'index \"idx\"\n",
        "        return self.data.iloc[idx]\n",
        "        # END TODO\n",
        "\n",
        "    def get_column(self, column: str):\n",
        "        # TODO : Retourne toutes les rangées de la colonne \"column\"\n",
        "        return self.data[column]\n",
        "        # END TODO\n",
        "\n",
        "    def get_batch(self, idx: int, size):\n",
        "        # TODO : Retourne toutes les rangées de l'index \"idx\" à \"idx\" + \"size\"\n",
        "        return self.data.iloc[idx:idx + size]\n",
        "        # END TODO\n",
        "\n",
        "    def transform(self, function):\n",
        "        self.data = self.data.apply(function)\n",
        "\n",
        "    def sample(self, nb_samples, random_state=42):\n",
        "        return self.data.sample(n=nb_samples, random_state=random_state)"
      ]
    },
    {
      "cell_type": "code",
      "execution_count": 7,
      "metadata": {
        "id": "2CWT0dXF2tRT"
      },
      "outputs": [],
      "source": [
        "root = 'data/'\n",
        "\n",
        "train_dataset = CustomDataset(root + 'train.csv')\n",
        "test_dataset = CustomDataset(root + 'test.csv')\n",
        "val_dataset = CustomDataset(root + 'val.csv')\n",
        "\n",
        "INPUT_COLUMN = 'sentence'\n",
        "OUTPUT_COLUMN = 'concepts'\n",
        "MAX_LENGTH = 16\n",
        "DEVICE = 'cuda' if torch.cuda.is_available() else 'cpu' # Vous pouvez changer sur quelle machine les calculs seront effectués"
      ]
    },
    {
      "cell_type": "code",
      "execution_count": 8,
      "metadata": {
        "colab": {
          "base_uri": "https://localhost:8080/"
        },
        "id": "rv_Bjpg92tRT",
        "outputId": "044cce6b-195e-4b73-9bfd-ea6b3b3b841e"
      },
      "outputs": [
        {
          "name": "stdout",
          "output_type": "stream",
          "text": [
            "Training set size :  4500\n",
            "Validation set size :  500\n",
            "Testing set size :  500\n"
          ]
        }
      ],
      "source": [
        "print('Training set size : ', len(train_dataset))\n",
        "print('Validation set size : ', len(val_dataset))\n",
        "print('Testing set size : ', len(test_dataset))"
      ]
    },
    {
      "cell_type": "markdown",
      "metadata": {
        "id": "c-HmDFdv2tRT"
      },
      "source": [
        "### 2. Statistiques (5 points)"
      ]
    },
    {
      "cell_type": "markdown",
      "metadata": {
        "id": "p92b0tB79Fxr"
      },
      "source": [
        "Avant d'entamer la création du modèle, il est important de se familiariser avec les données et d'évaluer la taille des données avec lesquelles nous travaillons."
      ]
    },
    {
      "cell_type": "markdown",
      "metadata": {
        "id": "5oOmXpLE2tRT"
      },
      "source": [
        "#### 2.1 Histogramme du nombre de caractères (2 points)\n",
        "\n",
        "Complétez la méthode `show_histogram_nb_characters` qui affiche un histogramme de la distribution du nombre de caractères des exemples de la colonne passée en paramètre. L'axe des abscisses devra représenter le nombre de caractères et l'axe des ordonnées le nombre de documents. Utilisez des bacs (bins) de 20 pour l'histogramme. Affichez ensuite la distribution du nombre de caractères sur l'ensemble d'entraînement pour la colonne 'sentence' et la colonne 'concepts'."
      ]
    },
    {
      "cell_type": "code",
      "execution_count": 9,
      "metadata": {
        "colab": {
          "base_uri": "https://localhost:8080/",
          "height": 927
        },
        "id": "38GHBsHZ2tRT",
        "outputId": "e292ef59-eb83-4ec9-cc10-8726f3d37bb4"
      },
      "outputs": [
        {
          "data": {
            "image/png": "[encoded data removed]",
            "text/plain": [
              "<Figure size 640x480 with 1 Axes>"
            ]
          },
          "metadata": {},
          "output_type": "display_data"
        },
        {
          "data": {
            "image/png": "[encoded data removed]",
            "text/plain": [
              "<Figure size 640x480 with 1 Axes>"
            ]
          },
          "metadata": {},
          "output_type": "display_data"
        }
      ],
      "source": [
        "def show_histogram_nb_chararacters(dataset: CustomDataset, column: str):\n",
        "\n",
        "    \"\"\"\n",
        "    Affiche la distribution de la colonne passé en paramètre. L'histogramme doit contenir un titre et des titres sur les axes\n",
        "\n",
        "    dataset: Dataset contenant plusieurs colonne dont la colonne dont les statistiques doivent être affichées\n",
        "    column: Colonne à afficher\n",
        "\n",
        "    \"\"\"\n",
        "    # TODO\n",
        "    data = dataset.get_column(column)\n",
        "    data = data.apply(len)\n",
        "\n",
        "    plt.hist(data, bins=20, edgecolor='black')\n",
        "    plt.title(f'Distribution du nombre de caractères pour la colonne \"{column}\"')\n",
        "    plt.xlabel('Nombre de caractères')\n",
        "    plt.ylabel('Nombre de documents')\n",
        "    plt.show()\n",
        "    # END TODO\n",
        "\n",
        "\n",
        "show_histogram_nb_chararacters(train_dataset, INPUT_COLUMN)\n",
        "show_histogram_nb_chararacters(train_dataset, OUTPUT_COLUMN)"
      ]
    },
    {
      "cell_type": "markdown",
      "metadata": {
        "id": "zOOUTrZU2tRT"
      },
      "source": [
        "#### 2.2 Histogramme du nombre de mots par document (2 points)\n",
        "\n",
        "De la même manière, complétez la méthode `show_histogram_nb_words` qui affiche un histogramme de la distribution du nombre de mots des exemples de la colonne passée en paramètre. Utilisez des bacs (bins) de 20 pour l'histogramme. Affichez ensuite la distribution du nombre de mots sur l'ensemble d'entraînement pour les colonnes \"sentence\" et \"concepts\". Dans le cas de la colonne 'concepts', assurez-vous que les '[', ']' et les apostrophes ne soient pas considérées comme des mots.\n",
        "\n",
        "Indice : Utilisez la méthode word_tokenize() de nltk."
      ]
    },
    {
      "cell_type": "code",
      "execution_count": 10,
      "metadata": {
        "colab": {
          "base_uri": "https://localhost:8080/",
          "height": 927
        },
        "id": "wq97r1Yc2tRT",
        "outputId": "fbe75bdb-288a-4df9-8540-4878670203a3"
      },
      "outputs": [
        {
          "data": {
            "image/png": "[encoded data removed]",
            "text/plain": [
              "<Figure size 640x480 with 1 Axes>"
            ]
          },
          "metadata": {},
          "output_type": "display_data"
        },
        {
          "data": {
            "image/png": "[encoded data removed]",
            "text/plain": [
              "<Figure size 640x480 with 1 Axes>"
            ]
          },
          "metadata": {},
          "output_type": "display_data"
        }
      ],
      "source": [
        "def show_histogram_nb_words(dataset: CustomDataset, column: str):\n",
        "\n",
        "    \"\"\"\n",
        "    Affiche la distribution de la colonne passé en paramètre du dataset. L'histogramme doit contenir un titre et des titres sur les axes\n",
        "\n",
        "    dataset: Dataset contenant plusieurs colonne dont la colonne dont les statistiques doivent être affichées\n",
        "    column: Colonne à afficher\n",
        "\n",
        "    \"\"\"\n",
        "    # TODO\n",
        "    data = dataset.get_column(column)\n",
        "    if column == 'concepts':\n",
        "        data = data.apply(lambda x: re.sub(r\"[\\'\\[\\]]\", \"\", x))\n",
        "    data = data.apply(lambda x: len(word_tokenize(x)))\n",
        "\n",
        "    plt.hist(data, bins=20, edgecolor='black')\n",
        "    plt.title(f'Distribution du nombre de mots pour la colonne \"{column}\"')\n",
        "    plt.xlabel('Nombre de mots')\n",
        "    plt.ylabel('Nombre de documents')\n",
        "    plt.show()\n",
        "    # END TODO\n",
        "\n",
        "show_histogram_nb_words(train_dataset, INPUT_COLUMN)\n",
        "show_histogram_nb_words(train_dataset, OUTPUT_COLUMN)"
      ]
    },
    {
      "cell_type": "markdown",
      "metadata": {
        "id": "fKAGNVSe2tRT"
      },
      "source": [
        "#### 2.3 Commentez les graphiques (1 points)\n",
        "1. Est-ce que les distributions suivent des distributions normales ?\n",
        "\n",
        "La distribution des caractères pour \"sentences\" suit une forme asymétrique, avec un pic vers le milieu du graphique et un déclin progressif au-delà. On observe un résultat similaire pour la distribution du nombre de mots. Ces deux distributions ne sont donc pas tout à fait normales, car elles présentent une légère asymétrie à droite.\n",
        "\n",
        "La distribution du nombre de caractères pour la colonne \"concepts\" semble plus proche d'une distribution normale que celle de \"sentences\", bien qu'elle présente également une légère asymétrie. La distribution du nombre de mots pour \"concepts\" est strictement concentrée autour de 3 mots, ce qui empêche de la considérer comme normale.\n",
        "\n",
        "3. Qu'observez-vous de spécial sur la distribution du nombre de mots de la colonne \"concepts\" ? Pourquoi est-elle ainsi ?\n",
        "\n",
        "Le fait que la colonne \"concepts\" présente une seule bande dans son graphe signifie que tous les documents de cette colonne contiennent exactement le même nombre de mots, cela est dû au fait que nos fichiers de données ont précisément 3 mots pour chaque \"concept\"."
      ]
    },
    {
      "cell_type": "markdown",
      "metadata": {
        "id": "EDnurIIU2tRT"
      },
      "source": [
        "### 3. Segmentation (Tokenization) (5 points)"
      ]
    },
    {
      "cell_type": "markdown",
      "metadata": {
        "id": "BU1nJ3xT2tRT"
      },
      "source": [
        "#### 3.1 Entraînement du segmenteur (tokenizer) (3 points)\n",
        "La fonction `word_tokenize()` de `nltk` est utile pour rapidement ressortir des statistiques, mais elle reste très générale et inefficace. Afin de réduire le plus possible la taille du vocabulaire, nous allons entraîner notre propre Tokenizer en nous basant sur l'algorithme BPE (Byte Pair Encoding). L'algorithme BPE est une méthode de compression de texte qui permet de créer des tokenizers efficaces en regroupant les caractères les plus fréquents. Il commence par diviser le texte en caractères uniques, puis itérativement fusionne les paires de caractères les plus fréquentes en nouveaux symboles. Ce processus continue jusqu'à atteindre un nombre prédéfini de jetons (tokens), permettant ainsi de gérer des vocabulaires de différentes tailles de manière flexible et efficace. À l'aide de BPE, nous allons transformer les mots en nombres pour pouvoir les passer au Transformer par la suite. Chaque jeton (token) sera associé à un nombre correspondant à l'indice du jeton dans le vocabulaire. Une séquence en entrée sera ainsi représentée comme une séquence de nombres.\n",
        "\n",
        "De plus, des jetons spéciaux seront ajoutés au tokenizer pour spécifier le début d'une phrase (begin-of-sequence : `[BOS]`) et la fin d'une phrase (end-of-sequence : `[EOS]`). Un jeton de padding `[PAD]` sera utilisé afin de s'assurer que toutes les phrases ont la même taille. Finalement, un jeton `[UNK]` sera utilisé pour les jetons inconnus.\n",
        "\n",
        "Pour créer ce vocabulaire à l'aide de l'algorithme BPE, il faudra entraîner le tokenizer sur notre ensemble d'entraînement pour qu'il puisse encoder efficacement les mots qui y sont présents. L'entraînement est déjà implémenté par la classe `ByteLevelBPYTokenizer` de la librairie `tokenizers`.\n",
        "\n",
        "Vous n'avez qu'à compléter la fonction :\n",
        "- `data_generator` qui retourne un générateur d'un lot (batch) de texte provenant de l'ensemble d'entraînement. Pour chaque lot, les colonnes \"sentence\" et \"concepts\" sont concaténées pour former la chaîne finale qui sera envoyée au tokenizer. Les lots sont utiles lors de l'entraînement pour accélérer l'entraînement en parallélisant le tout et en évitant de charger tout notre ensemble d'entraînement en mémoire directement."
      ]
    },
    {
      "cell_type": "code",
      "execution_count": 11,
      "metadata": {
        "id": "T7ouSYOn9Fxr"
      },
      "outputs": [],
      "source": [
        "VOCAB_SIZE = 8000\n",
        "special_tokens = ['[PAD]', '[BOS]', '[EOS]', '[UNK]']\n",
        "base_tokenizer = CharBPETokenizer(unk_token=special_tokens[-1])\n",
        "tokenizer_batch_size = 64\n",
        "\n",
        "def data_generator():\n",
        "    \"\"\"\n",
        "    Generateur qui retourne un lot (batch) de texte provenant de l'ensemble d'entraînement.\n",
        "    Pour chaque élément d'un lot, les colonnes \"target\" et \"concepts\" sont concaténée.\n",
        "    \"\"\"\n",
        "    for i in range(0, len(train_dataset), tokenizer_batch_size):\n",
        "\n",
        "        # TODO\n",
        "        batch = train_dataset.get_batch(i, tokenizer_batch_size)\n",
        "        text = batch[INPUT_COLUMN] + batch[OUTPUT_COLUMN]\n",
        "        # END TODO\n",
        "\n",
        "        yield text\n"
      ]
    },
    {
      "cell_type": "markdown",
      "metadata": {
        "id": "JS-nxpFN9Fxr"
      },
      "source": [
        "Vous devez maintenant compléter la fonction :\n",
        "- `train_tokenizer` qui prend en paramètre un tokenizer pour entraîner ce dernier à l'aide de la fonction [train_from_iterator](https://github.com/huggingface/tokenizers/blob/main/bindings/python/py_src/tokenizers/implementations/byte_level_bpe.py). Le générateur de données (data_generator) est envoyé à la fonction train_from_iterator tout comme la taille du vocabulaire, les jetons spéciaux et la fréquence minimum d'une séquence pour la considérer comme un jeton. Indiquez explicitement une fréquence minimum de 2."
      ]
    },
    {
      "cell_type": "code",
      "execution_count": 12,
      "metadata": {
        "id": "Xhy4Axwq9Fxr"
      },
      "outputs": [],
      "source": [
        "\n",
        "from tokenizers import AddedToken, Tokenizer, decoders, pre_tokenizers, processors, trainers\n",
        "\n",
        "def train_tokenizer(tokenizer: CharBPETokenizer):\n",
        "    \"\"\"\n",
        "    Entraîne le tokenizer passé en paramètre en appelant la fonction train_from_iterator\n",
        "    et en spécifiant le générateur de donnée (data_generator), la taille du vocabulaire,\n",
        "    les jetons spéciaux et une fréquence minimum de 2 (indiquez le explicitement)\n",
        "    \"\"\"\n",
        "    # TODO\n",
        "    tokenizer.train_from_iterator(\n",
        "        data_generator(),\n",
        "        vocab_size=VOCAB_SIZE,\n",
        "        min_frequency=2,\n",
        "        special_tokens=special_tokens\n",
        "    )\n",
        "    # END TODO\n",
        "\n",
        "train_tokenizer(base_tokenizer)\n",
        "\n",
        "# On ajoute les jetons de début, de fin de phrase et de jeton inconnu\n",
        "bos_token_id = base_tokenizer.token_to_id(\"[BOS]\")\n",
        "eos_token_id = base_tokenizer.token_to_id(\"[EOS]\")\n",
        "unk_token_id = base_tokenizer.token_to_id(\"[UNK]\")\n",
        "\n",
        "# On applique un template au tokenizer pour qu'il ajoute\n",
        "# les jetons au début et à la fin de chaque phrase\n",
        "base_tokenizer.post_processor = processors.TemplateProcessing(\n",
        "    single=f\"[BOS]:0 $A:0 [EOS]:0\",\n",
        "    special_tokens=[\n",
        "        (\"[BOS]\", bos_token_id),\n",
        "        (\"[EOS]\", eos_token_id),\n",
        "    ],\n",
        ")\n"
      ]
    },
    {
      "cell_type": "markdown",
      "metadata": {
        "id": "goTLCnvu9Fxr"
      },
      "source": [
        "Nous allons maintenant transformer notre tokenizer pour qu'il soit compatible avec l'API de la librairie Huggingface. Cela permettra entre autre de faciliter les appels de méthodes pour modifier facilement nos entrées. Par exemple, avec l'API de Huggingface, nous pouvons simplement appeler la méthode `tokenize` pour diviser une séquence en jetons (`Welcome` -> `[W, el, come]`). De la même manière, l'API nous permet d'appeler les méthodes `encode` et `decode` pour transformer une chaîne de caractères en séquences d'indices de jetons (`Welcome` -> `[36, 170, 664]`) et inversement."
      ]
    },
    {
      "cell_type": "code",
      "execution_count": 13,
      "metadata": {
        "colab": {
          "base_uri": "https://localhost:8080/"
        },
        "id": "lFU2lsU52tRU",
        "outputId": "bdea1066-b87a-457d-9db3-7c9e65fafcc6"
      },
      "outputs": [
        {
          "name": "stderr",
          "output_type": "stream",
          "text": [
            "/usr/local/lib/python3.10/dist-packages/transformers/tokenization_utils_base.py:1601: FutureWarning: `clean_up_tokenization_spaces` was not set. It will be set to `True` by default. This behavior will be depracted in transformers v4.45, and will be then set to `False` by default. For more details check this issue: https://github.com/huggingface/transformers/issues/31884\n",
            "  warnings.warn(\n"
          ]
        }
      ],
      "source": [
        "from transformers import PreTrainedTokenizerFast\n",
        "\n",
        "tokenizer = PreTrainedTokenizerFast(tokenizer_object=base_tokenizer._tokenizer, truncation=True)\n",
        "tokenizer.add_special_tokens({\n",
        "    'pad_token': \"[PAD]\",\n",
        "    'bos_token': \"[BOS]\",\n",
        "    'eos_token': \"[EOS]\",\n",
        "    'unk_token': \"[UNK]\"\n",
        "});"
      ]
    },
    {
      "cell_type": "markdown",
      "metadata": {
        "id": "I1HQ12tm9Fxr"
      },
      "source": [
        "Testons maintenant notre tokenizer sur une phrase de test"
      ]
    },
    {
      "cell_type": "code",
      "execution_count": 14,
      "metadata": {
        "colab": {
          "base_uri": "https://localhost:8080/"
        },
        "id": "RXwsa-s92tRU",
        "outputId": "18fa1145-9bd6-496d-def1-12d1d065ddc3"
      },
      "outputs": [
        {
          "name": "stdout",
          "output_type": "stream",
          "text": [
            "Welcome ! The boat arrived at the station ! 🤗  \n",
            "\n",
            "['W', 'el', 'come</w>', '!</w>', 'The</w>', 'boat</w>', 'arrived</w>', 'at</w>', 'the</w>', 'station</w>', '!</w>', '[UNK]']\n"
          ]
        }
      ],
      "source": [
        "test_input = 'Welcome ! The boat arrived at the station ! 🤗 '\n",
        "print(test_input, '\\n')\n",
        "print(tokenizer.tokenize(test_input))"
      ]
    },
    {
      "cell_type": "markdown",
      "metadata": {
        "id": "M9VPYkgF9Fxr"
      },
      "source": [
        "Observons maintenant la même phrase, mais une fois encodée en nombre. Décodons-la ensuite à partir de sa version encodée pour voir si nous retrouvons la phrase initiale.\n",
        "\n",
        "- La méthode `encode` permet de transformer une séquence de mots en séquence de nombres correspondant aux indices des différents jetons de la phrase dans le vocabulaire\n",
        "- La méthode `decode` permet de transformer une séquence d'indices de jetons en phrase lisible."
      ]
    },
    {
      "cell_type": "code",
      "execution_count": 15,
      "metadata": {
        "colab": {
          "base_uri": "https://localhost:8080/"
        },
        "id": "OGYIbuYw2tRU",
        "outputId": "7a0b49d6-7133-4572-bb43-857b9dc9cb75"
      },
      "outputs": [
        {
          "name": "stdout",
          "output_type": "stream",
          "text": [
            "Texte initial :  Welcome ! The boat arrived at the station ! 🤗 \n",
            "====================================================================================================\n",
            "Texte encodé :  [1, 36, 170, 664, 100, 277, 274, 2907, 126, 118, 254, 100, 3, 2]\n",
            "Texte décodé :  [BOS]Welcome! The boat arrived at the station! [UNK][EOS]\n"
          ]
        }
      ],
      "source": [
        "print('Texte initial : ', test_input)\n",
        "print('=' * 100)\n",
        "print('Texte encodé : ', tokenizer.encode(test_input))\n",
        "print('Texte décodé : ', tokenizer.decode(tokenizer.encode(test_input)))"
      ]
    },
    {
      "cell_type": "markdown",
      "metadata": {
        "id": "bgAOmSe-9Fxr"
      },
      "source": [
        "#### 3.2 Que remarquez-vous dans la version segmentée (tokenized) de la phrase de test ? Quelles sont les différences entre la phrase initiale et la phrase décodée ? Pourquoi ? (2 points)\n",
        "\n",
        "Dans la version segmentée, on remarque un mot divisé en sous-mots. \"Welcome\" est divisé en ['W', 'el', 'come</w>']. C'est dû à l’utilisation de la méthode tokenize de l’API Huggingface, qui divise une séquence en sous-unités (Welcome -> [W, el, come]). Cette segmentation permet de gérer des mots rares ou inconnus plus efficacement.\n",
        "\n",
        "Dans la version décodée, on observe quelques différences par rapport à la phrase initiale :\n",
        "- L'émoji 🤗 n'est pas reconnu par le tokenizer et est donc remplacé par le token [UNK]. Ça arrive souvent lorsque le modèle n’a pas été entraîné pour traiter certains caractères spéciaux ou emojis.\n",
        "- On retrouve les tokens [BOS] et [EOS], qui indiquent respectivement le début et la fin de la séquence. Ces tokens servent à délimiter la phrase et permettre au modèle de mieux comprendre les limites contextuelles de la séquence.\n"
      ]
    },
    {
      "cell_type": "markdown",
      "metadata": {
        "id": "SJt5coCQ9Fxs"
      },
      "source": [
        "### 4. Transformer (28 points)"
      ]
    },
    {
      "cell_type": "markdown",
      "metadata": {
        "id": "P2qoKbLl9Fxs"
      },
      "source": [
        "Il est maintenant le temps de construire les couches du Transformer. Son architecture globale est présentée dans la figure suivante. :\n",
        "\n",
        "![Transformer](images/transformer.png)\n",
        "\n",
        "Les couches sont définies pour vous et vous n'avez qu'à compléter, à moins d'indication contraire, la fonction `forward` de chacune des classes qui prend un tenseur en entrée et effectue une transformation sur celui-ci pour générer une sortie. Cette transformation varie en fonction de chaque classe. Une description de ce que doit faire la classe est indiquée à chaque étape. Lorsque la fonction `forward` est complexe, une figure est fournie pour vous guider. Attention, ne changez pas le constructeur ou le nom de la classe !"
      ]
    },
    {
      "cell_type": "markdown",
      "metadata": {
        "id": "hxIkdQnH9Fxs"
      },
      "source": [
        "#### 4.1 Positional Embedding\n",
        "Le Transformer encode l'information de l'ordre des mots dans les plongements des mots. Des plongements de position sont calculés et ils sont ajoutés aux plongements de contexte. Dans ce cas-ci la classe `PositionalEmbedding` vous est donnée."
      ]
    },
    {
      "cell_type": "code",
      "execution_count": null,
      "metadata": {
        "id": "jWGyCzdH2tRU"
      },
      "outputs": [],
      "source": [
        "class PositionalEmbedding(nn.Module):\n",
        "    \"\"\"\n",
        "    Cette classe a été prise de l'implémentation originale du papier 'Attention Is All You Need'\n",
        "    \"\"\"\n",
        "\n",
        "    def __init__(self, max_seq_length, embedding_dim):\n",
        "        super(PositionalEmbedding, self).__init__()\n",
        "\n",
        "        self.max_seq_length = max_seq_length\n",
        "        self.embedding_dim = embedding_dim\n",
        "\n",
        "        pe = torch.zeros(max_seq_length, self.embedding_dim)\n",
        "        position = torch.arange(0, max_seq_length, dtype=torch.float).unsqueeze(1)\n",
        "        div_term = torch.exp(torch.arange(0, self.embedding_dim, 2).float() * -(math.log(10000.0) / self.embedding_dim))\n",
        "\n",
        "        pe[:, 0::2] = torch.sin(position * div_term)\n",
        "        pe[:, 1::2] = torch.cos(position * div_term)\n",
        "\n",
        "        self.register_buffer('pe', pe.unsqueeze(0))\n",
        "\n",
        "    def forward(self, x: torch.Tensor):\n",
        "        return x + self.pe[:, :x.size(1)]\n"
      ]
    },
    {
      "cell_type": "markdown",
      "metadata": {
        "id": "qGaeIr1r9Fxs"
      },
      "source": [
        "#### 4.2 Attention (6 points)\n",
        "Le mécanisme d'attention est le coeur de l'architecture du Transformer. Il permet notamment la parallélisation de l'entraînement tout en garantissant un lien direct entre tous les jetons. Vous devrez implémenter la fonction `scaled_dot_product_attention` qui effectue le calcul principal derrière le mécanisme d'attention. Cette fonction prend en entrée les tenseurs `Q`, `K`, `V` et effectue le calcul suivant :\n",
        "$$A = \\texttt{softmax}\\Big( \\frac{Q K^T \\odot M}{\\texttt{head\\_dim}} \\Big) V$$\n",
        "où $M$ est le masque d'attention qui doit être appliqué. Plus de détails sont indiqués dans la description de la fonction à propos du masque. Par rapport au tenseur de clés, vous remarquerez dans la formule qu'une transposée est appliquée sur ce tenseur. Étant donné qu'un tenseur possède plus que 2 dimensions, il est important de spécifier quelles dimensions seront transposées dans le tenseur. Dans notre cas, il s'agit des dimensions correspondants aux jetons de la séquence et aux plongements des jetons"
      ]
    },
    {
      "cell_type": "code",
      "execution_count": null,
      "metadata": {
        "id": "lVVuGLFY2tRU"
      },
      "outputs": [],
      "source": [
        "class MultiHeadAttention(nn.Module):\n",
        "    def __init__(self, model_dim, num_heads):\n",
        "        super(MultiHeadAttention, self).__init__()\n",
        "        assert model_dim % num_heads == 0, \"La dimension du modèle doit être divisible par le nombre de têtes d'attention\"\n",
        "\n",
        "        self.model_dim = model_dim\n",
        "        self.num_heads = num_heads\n",
        "        self.head_dim = model_dim // num_heads\n",
        "\n",
        "        self.wq = nn.Linear(model_dim, model_dim) # Query\n",
        "        self.wk = nn.Linear(model_dim, model_dim) # Key\n",
        "        self.wv = nn.Linear(model_dim, model_dim) # Value\n",
        "        self.wo = nn.Linear(model_dim, model_dim) # Output\n",
        "\n",
        "        self.mask_value = -1e9\n",
        "\n",
        "    def scaled_dot_product_attention(self, Q, K, V, mask=None):\n",
        "        \"\"\"\n",
        "        Calcule les plongements d'attention en utilisant la formule\n",
        "\n",
        "        attn = softmax(Q * K^T @ mask / head_dim) * V\n",
        "\n",
        "        Args :\n",
        "            Q : plongements des queries\n",
        "            Taille : [batch_size, num_heads, seq_length, head_dim]\n",
        "\n",
        "            K : plongements des keys\n",
        "            Taille : [batch_size, num_heads, seq_length, head_dim]\n",
        "\n",
        "            V : plongement des values\n",
        "            Taille : [batch_size, num_heads, seq_length, head_dim]\n",
        "\n",
        "            mask : Masque d'attention qui doit être appliqué avant le softmax pour que\n",
        "            les jetons ne portent pas leur attention sur certains jetons. Le masque est\n",
        "            notamment utilisé dans le décodeur pour s'assurer que le transformer n'ait\n",
        "            pas accès aux futurs jetons lorsqu'il essaie de prédire le prochain jeton.\n",
        "            Il contient des valeurs 0 ou 1. Une valeur de 0 à la position i,j indique\n",
        "            que pour le jeton i, le jeton j doit être masqué. Pour masquer la valeur,\n",
        "            il suffit de mettre une valeur très petite (self.mask_value) à l'indice i,j.\n",
        "            La fonction masked_fill de PyTorch pourrait être utile\n",
        "            Taille : [1, seq_length, seq_length]\n",
        "\n",
        "        Returns :\n",
        "        Résultat du calcul d'attention de taille [batch_size, num_heads, seq_length, head_dim]\n",
        "        \"\"\"\n",
        "        # TODO\n",
        "        scores = torch.matmul(Q, K.transpose(-2, -1)) / math.sqrt(self.head_dim)\n",
        "        if mask is not None:\n",
        "            scores = scores.masked_fill(mask == 0, self.mask_value)\n",
        "        attention_weights = F.softmax(scores, dim=-1)\n",
        "        return torch.matmul(attention_weights, V)\n",
        "        # END TODO\n",
        "\n",
        "    def split_heads(self, x):\n",
        "        \"\"\"\n",
        "        Sépare une entrée sur plusieurs têtes d'attention\n",
        "\n",
        "        Args :\n",
        "            x : Tenseur d'entrée\n",
        "            Taille : [batch_size, seq_length, model_dim]\n",
        "\n",
        "        Returns :\n",
        "        Tenseur séparé sur plusieurs têtes d'attention\n",
        "        Taille : [batch_size, num_heads, seq_length, head_dim]\n",
        "        \"\"\"\n",
        "        return x.view(x.shape[0], x.shape[1], self.num_heads, self.head_dim).transpose(1, 2)\n",
        "\n",
        "    def combine_heads(self, x):\n",
        "        \"\"\"\n",
        "        Combine une entrée à travers les têtes d'attention\n",
        "\n",
        "        Args :\n",
        "            x : Tenseur d'entrée\n",
        "            Taille : [batch_size, num_heads, seq_length, head_dim]\n",
        "\n",
        "        Returns :\n",
        "        Tenseur séparé sur plusieurs têtes d'attention\n",
        "        Taille : [batch_size, seq_length, model_dim]\n",
        "        \"\"\"\n",
        "        return x.transpose(1, 2).contiguous().view(x.shape[0], x.shape[2], self.model_dim)\n",
        "\n",
        "    def forward(self, queries, keys, values, mask=None):\n",
        "        \"\"\"\n",
        "        Exécute le mécanisme d'attention à travers plusieurs têtes\n",
        "        d'attention\n",
        "\n",
        "        Args :\n",
        "            queries : plongements des queries\n",
        "            Taille : [batch_size, seq_length, model_dim]\n",
        "\n",
        "            keys : plongements des keys\n",
        "            Taille : [batch_size, seq_length, model_dim]\n",
        "\n",
        "            values : plongement des values\n",
        "            Taille : [batch_size, seq_length, model_dim]\n",
        "\n",
        "            mask : mask qui sera appliqué\n",
        "            Taille : [1, seq_length, seq_length]\n",
        "\n",
        "        Returns :\n",
        "        Tenseur contenant les plongements finaux de chaque indice de\n",
        "        la séquence\n",
        "        Taille : [batch_size, seq_length, model_dim]\n",
        "        \"\"\"\n",
        "        Q = self.split_heads(self.wq(queries))\n",
        "        K = self.split_heads(self.wk(keys))\n",
        "        V = self.split_heads(self.wv(values))\n",
        "\n",
        "        attn_output = self.scaled_dot_product_attention(Q, K, V, mask)\n",
        "        return self.wo(self.combine_heads(attn_output))"
      ]
    },
    {
      "cell_type": "code",
      "execution_count": null,
      "metadata": {
        "colab": {
          "base_uri": "https://localhost:8080/"
        },
        "id": "4RmDSGKW9Fxs",
        "outputId": "9ea294a3-141f-4c45-cb7c-f8fe672dbd47"
      },
      "outputs": [
        {
          "name": "stdout",
          "output_type": "stream",
          "text": [
            "tensor([[[-0.6789,  2.8487,  2.8666, -1.1983,  3.2915,  0.5359],\n",
            "         [-0.3437,  3.1045,  3.0715, -1.1405,  3.2748,  0.3843],\n",
            "         [-2.5825,  4.2728, -0.0114, -2.2663, -0.0922, -2.4731],\n",
            "         [-2.5749,  4.2706, -0.0056, -2.2613, -0.0874, -2.4694]]])\n"
          ]
        }
      ],
      "source": [
        "def test_attention():\n",
        "    batch_size = 1\n",
        "    seq_length = 4\n",
        "    model_dim = 6\n",
        "    num_heads = 2\n",
        "\n",
        "    torch.random.manual_seed(42)\n",
        "    attention = MultiHeadAttention(model_dim=model_dim, num_heads=num_heads)\n",
        "    inputs = torch.randint(0, 10, (batch_size, seq_length, model_dim), dtype=torch.float32)\n",
        "    mask = (1 - torch.triu(torch.ones(1, seq_length, seq_length), diagonal=1))\n",
        "    print(attention.forward(inputs, inputs, inputs, mask=mask).detach())\n",
        "\n",
        "test_attention()"
      ]
    },
    {
      "cell_type": "markdown",
      "metadata": {
        "id": "LYhfAMYn9Fxv"
      },
      "source": [
        "Sortie attendue :\n",
        "```\n",
        "tensor([[[-0.6789,  2.8487,  2.8666, -1.1983,  3.2915,  0.5359],\n",
        "         [-0.3437,  3.1045,  3.0715, -1.1405,  3.2748,  0.3843],\n",
        "         [-2.5825,  4.2728, -0.0114, -2.2663, -0.0922, -2.4731],\n",
        "         [-2.5749,  4.2706, -0.0056, -2.2613, -0.0874, -2.4694]]])\n",
        "```"
      ]
    },
    {
      "cell_type": "markdown",
      "metadata": {
        "id": "sWlUCL9J9Fxv"
      },
      "source": [
        "#### 4.3 Encodeur (6 points)\n",
        "L'encodeur du Transformer encode la séquence d'entrée dans des vecteurs de contexte avant d'envoyer ces vecteurs de contexte au décodeur pour qu'ils puissent être utilisés pour générer la séquence de sortie. Vous n'avez qu'à compléter les fonctions `forward` des classes `TransformerFeedForward`, `EncoderLayer` et `Encoder`. L'architecture d'une couche d'encodeur `EncoderLayer` est décrite dans la figure suivante :\n",
        "\n",
        "![EncoderLayer](images/encoder_layer.png)"
      ]
    },
    {
      "cell_type": "markdown",
      "metadata": {
        "id": "GXmZRBKw9Fxv"
      },
      "source": [
        "La classe `TransformerFeedForward` représente une couche simple de réseaux de neurones avec la fonction d'activation `ReLU` qui sera présente dans l'encodeur. Son architecture est décrite dans la figure suivante :\n",
        "\n",
        "![TransformerFeedForward](images/transformer_feed_forward.png)"
      ]
    },
    {
      "cell_type": "code",
      "execution_count": null,
      "metadata": {
        "id": "NtiCsab89Fxv"
      },
      "outputs": [],
      "source": [
        "class TransformerFeedForward(nn.Module):\n",
        "\n",
        "    def __init__(self, model_dim: int, ff_dim: int) -> None:\n",
        "        super(TransformerFeedForward, self).__init__()\n",
        "        self.model_dim = model_dim\n",
        "        self.ff_dim = ff_dim\n",
        "\n",
        "        self.ff1 = nn.Linear(model_dim, ff_dim)\n",
        "        self.ff2 = nn.Linear(ff_dim, model_dim)\n",
        "\n",
        "    def forward(self, x: torch.Tensor):\n",
        "        \"\"\"\n",
        "        Applique les deux couches linéaires (ff) consécutivement avec la fonction\n",
        "        d'activation ReLU après chaque couche linéaire\n",
        "\n",
        "        Args :\n",
        "            x : Tenseur d'entrée de taille [batch_size, model_dim]\n",
        "\n",
        "        Returns :\n",
        "        Tenseur après être passé à travers les couches linéaires de taille\n",
        "        [batch_size, model_dim]\n",
        "        \"\"\"\n",
        "        # TODO\n",
        "        x = F.relu(self.ff1(x))\n",
        "        x = F.relu(self.ff2(x))\n",
        "        return x\n",
        "        # END TODO"
      ]
    },
    {
      "cell_type": "markdown",
      "metadata": {
        "id": "SOdPH-wA9Fxv"
      },
      "source": [
        "La classe `EncoderLayer` représente une seule couche qui applique le mécanisme d'attention sur la sortie de la couche précédente. Dans le cas de la première couche d'encodeur, il s'agit simplement de la couche de plongements des jetons. Par la suite, le résultat du mécanisme d'attention est normalisé et envoyé à une couche de réseau de neurones."
      ]
    },
    {
      "cell_type": "code",
      "execution_count": null,
      "metadata": {
        "id": "WM-OxKRy2tRU"
      },
      "outputs": [],
      "source": [
        "class EncoderLayer(nn.Module):\n",
        "\n",
        "    def __init__(self, model_dim: int, ff_dim: int, dropout_rate: int = 0.3, num_heads=8) -> None:\n",
        "        super(EncoderLayer, self).__init__()\n",
        "\n",
        "        self.self_attention = MultiHeadAttention(model_dim=model_dim, num_heads=num_heads)\n",
        "        self.feed_forward = TransformerFeedForward(model_dim=model_dim, ff_dim=ff_dim)\n",
        "        self.attention_layer_norm = nn.LayerNorm(model_dim)\n",
        "        self.ff_layer_norm = nn.LayerNorm(model_dim)\n",
        "        self.dropout = nn.Dropout(dropout_rate)\n",
        "\n",
        "    def forward(self, x: torch.Tensor, encoder_mask: torch.Tensor = None):\n",
        "        \"\"\"\n",
        "        Applique la couche d'attention, de normalisation et de réseau de neurones\n",
        "        sur l'entrée\n",
        "\n",
        "        Args :\n",
        "            x : Tenseur d'entrée de l'encodeur correspondant à la séquence d'entrée\n",
        "            Taille : [batch_size, seq_length, model_dim]\n",
        "\n",
        "        Returns :\n",
        "        Tenseur après avoir appliqués les couches de taille [batch_size, seq_length,\n",
        "        model_dim]\n",
        "        \"\"\"\n",
        "        # TODO\n",
        "        attn_output = self.self_attention(x, x, x, encoder_mask)\n",
        "        attn_output = self.attention_layer_norm(x + self.dropout(attn_output))\n",
        "        ff_output = self.feed_forward(attn_output)\n",
        "        return self.ff_layer_norm(attn_output + self.dropout(ff_output))\n",
        "        # END TODO"
      ]
    },
    {
      "cell_type": "markdown",
      "metadata": {
        "id": "ktqwGE8r9Fxv"
      },
      "source": [
        "La classe `Encoder` correspond à une suite de plusieurs couches d'encodeurs. La fonction `forward` de cette classe doit appeler chacune des couches (`EncoderLayer`) une à la suite de l'autre en passant à la couche courante la sortie de la couche précédente. Le masque est partagé entre toutes les couches `EncoderLayer`."
      ]
    },
    {
      "cell_type": "code",
      "execution_count": null,
      "metadata": {
        "id": "75n3oqTP2tRV"
      },
      "outputs": [],
      "source": [
        "class Encoder(nn.Module):\n",
        "\n",
        "    def __init__(self, num_layers: int, model_dim: int, ff_dim: int, dropout_rate: int = 0.3, num_heads=8) -> None:\n",
        "        super(Encoder, self).__init__()\n",
        "\n",
        "        self.layers = nn.ModuleList(\n",
        "            [EncoderLayer(\n",
        "                model_dim=model_dim,\n",
        "                ff_dim=ff_dim,\n",
        "                dropout_rate=dropout_rate,\n",
        "                num_heads=num_heads,\n",
        "            ) for _ in range(num_layers)]\n",
        "        )\n",
        "\n",
        "    def forward(self, x: torch.Tensor, encoder_mask: torch.LongTensor = None):\n",
        "        \"\"\"\n",
        "        Applique toutes les couches d'encodeur consécutivement\n",
        "\n",
        "        Args :\n",
        "            x : Tenseur d'entrée de l'encodeur correspondant à la séquence d'entrée\n",
        "            Taille : [batch_size, seq_length, model_dim]\n",
        "\n",
        "            encoder_mask : Tenseur contenant le masque qui sera utilisé par l'encodeur\n",
        "            pour cacher certains jetons (notamment les jetons [PAD])\n",
        "        Returns :\n",
        "        Tenseur après avoir appliqués les couches dans l'encodeur de taille\n",
        "        [batch_size, seq_length, model_dim]\n",
        "        \"\"\"\n",
        "        # TODO\n",
        "        for layer in self.layers:\n",
        "            x = layer(x, encoder_mask)\n",
        "        return x\n",
        "        # END TODO"
      ]
    },
    {
      "cell_type": "markdown",
      "metadata": {
        "id": "YBfB3AjY9Fxw"
      },
      "source": [
        "#### 4.4 Décodeur (8 points)\n",
        "Le décodeur est la partie du Transformer qui génère la séquence de sortie en prenant le contexte de la séquence d'entrée et les jetons qui ont été générés précédemment. De la même manière que l'encodeur, la classe `DecoderLayer` représente une seule couche de décodeur. L'architecture du `DecoderLayer` est présentée dans la figure suivante :\n",
        "\n",
        "![DecoderLayer](images/decoder_layer.png)"
      ]
    },
    {
      "cell_type": "code",
      "execution_count": null,
      "metadata": {
        "id": "Fj8tGjvg2tRV"
      },
      "outputs": [],
      "source": [
        "class DecoderLayer(nn.Module):\n",
        "\n",
        "    def __init__(self, model_dim: int, ff_dim: int, dropout_rate: int = 0.3, num_heads=8) -> None:\n",
        "        super(DecoderLayer, self).__init__()\n",
        "\n",
        "        self.self_attention = MultiHeadAttention(model_dim=model_dim, num_heads=num_heads)\n",
        "        self.cross_attention = MultiHeadAttention(model_dim=model_dim, num_heads=num_heads)\n",
        "\n",
        "        self.feed_forward = TransformerFeedForward(model_dim=model_dim, ff_dim=ff_dim)\n",
        "\n",
        "        self.self_attention_layer_norm = nn.LayerNorm(model_dim)\n",
        "        self.cross_attention_layer_norm = nn.LayerNorm(model_dim)\n",
        "        self.ff_layer_norm = nn.LayerNorm(model_dim)\n",
        "\n",
        "        self.dropout = nn.Dropout(dropout_rate)\n",
        "\n",
        "    def forward(self,\n",
        "                x: torch.Tensor,\n",
        "                encoder_out: torch.Tensor,\n",
        "                encoder_mask: torch.LongTensor = None,\n",
        "                decoder_mask: torch.LongTensor = None):\n",
        "        \"\"\"\n",
        "        Applique les couches d'attention, de normalisation et de réseau de neurones\n",
        "        sur l'entrée\n",
        "\n",
        "        Args :\n",
        "            x : Entrée du décodeur correspondant à la séquence de sortie décalée vers\n",
        "            la droite\n",
        "            Taille : [batch_size, seq_length, model_dim]\n",
        "\n",
        "            encoder_output : Sortie de l'encodeur utilisé pour la couche de cross-\n",
        "            attention\n",
        "            Taille : [batch_size, seq_length, model_dim]\n",
        "\n",
        "            encoder_mask : Masque qui cache certains jetons dans la séquence d'entrée.\n",
        "            Par exemple, les jetons [PAD] seront cachés puisqu'ils ne sont utilisés que\n",
        "            pour aggrandir les séquences jusqu'à la fenêtre de contexte du Transformer\n",
        "            Taille : [batch_size, seq_length, seq_length]\n",
        "\n",
        "            decoder_mask : Masque qui cache certains jetons dans la séquence de sortie.\n",
        "            Ce masque est notamment utilisé dans le décodeur pour s'assurer que le\n",
        "            transformer n'ait pas accès aux futurs jetons lorsqu'il essaie de prédire\n",
        "            le prochain jeton.\n",
        "            Taille : [batch_size, seq_length, seq_length]\n",
        "        \"\"\"\n",
        "        # TODO\n",
        "        self_attn_output = self.self_attention(x, x, x, decoder_mask)\n",
        "        self_attn_output = self.self_attention_layer_norm(x + self.dropout(self_attn_output))\n",
        "\n",
        "        cross_attn_output = self.cross_attention(self_attn_output, encoder_out, encoder_out, encoder_mask)\n",
        "        cross_attn_output = self.cross_attention_layer_norm(self_attn_output + self.dropout(cross_attn_output))\n",
        "\n",
        "        ff_output = self.feed_forward(cross_attn_output)\n",
        "        return self.ff_layer_norm(cross_attn_output + self.dropout(ff_output))\n",
        "        # END TODO"
      ]
    },
    {
      "cell_type": "markdown",
      "metadata": {
        "id": "dnhBKIIU9Fxw"
      },
      "source": [
        "La classe `Decoder` représente toutes les couches du décodeur. La fonction `forward` de cette classe doit appeler chacune des couches (`DecoderLayer`) une à la suite de l'autre en passant à la couche courante la sortie de la couche précédente. Les attributs `encoder_out`, `encoder_mask` et `decoder_mask` sont partagés entre toutes les couches `DecoderLayer`."
      ]
    },
    {
      "cell_type": "code",
      "execution_count": null,
      "metadata": {
        "id": "MdjZSpzd2tRV"
      },
      "outputs": [],
      "source": [
        "class Decoder(nn.Module):\n",
        "\n",
        "    def __init__(self, num_layers: int, model_dim: int, ff_dim: int, dropout_rate: int = 0.3, num_heads=8) -> None:\n",
        "        super(Decoder, self).__init__()\n",
        "\n",
        "        self.layers = nn.ModuleList(\n",
        "            [DecoderLayer(\n",
        "                model_dim=model_dim,\n",
        "                ff_dim=ff_dim,\n",
        "                dropout_rate=dropout_rate,\n",
        "                num_heads=num_heads,\n",
        "            ) for _ in range(num_layers)]\n",
        "        )\n",
        "\n",
        "    def forward(self, x: torch.Tensor, encoder_out: torch.Tensor, encoder_mask: torch.LongTensor = None, decoder_mask: torch.LongTensor = None):\n",
        "        \"\"\"\n",
        "        Applique toutes les couches du décodeur consécutivement\n",
        "\n",
        "        Args :\n",
        "            x : Tenseur d'entrée du décodeur correspondant à la séquence de sortie\n",
        "            Taille : [batch_size, seq_length, model_dim]\n",
        "\n",
        "            encoder_out : Tenseur contenant la séquence d'entrée encodée par l'encodeur\n",
        "\n",
        "            encoder_mask : Tenseur contenant le masque qui sera utilisé par l'encodeur\n",
        "            pour cacher certains jetons (notamment les jetons [PAD])\n",
        "\n",
        "            decoder_mask : Tenseur contenant le masque qui sera utilisé par le décodeur\n",
        "            pour cacher certains jetons (notamment les jetons [PAD] et les jetons futurs)\n",
        "\n",
        "        Returns :\n",
        "        Tenseur après avoir appliqués les couches dans l'encodeur de taille\n",
        "        [batch_size, seq_length, model_dim]\n",
        "        \"\"\"\n",
        "        # TODO\n",
        "        for layer in self.layers:\n",
        "            x = layer(x, encoder_out, encoder_mask, decoder_mask)\n",
        "        return x\n",
        "        # END TODO"
      ]
    },
    {
      "cell_type": "markdown",
      "metadata": {
        "id": "rqH-GpDP9Fxw"
      },
      "source": [
        "#### 4.5 Transformer (8 points)\n",
        "\n",
        "L'architecture du Transformer est maintenant prête à être assemblée. En utilisant les différentes couches que vous avez implémentées, complétez la fonction `forward` de la classe `Transformer` qui, à partir de l'entrée de l'encodeur et du décodeur, génère la sortie du décodeur. L'architecture, telle que présentée précédemment, correspond à la figure suivante :\n",
        "\n",
        "![Transformer](images/transformer.png)\n",
        "\n",
        "La fonction forward doit passer les entrées à l'encodeur et au décodeur pour pouvoir générer une prédiction en fonction d'une entrée en appliquant les bons masques et encodages de position."
      ]
    },
    {
      "cell_type": "code",
      "execution_count": null,
      "metadata": {
        "id": "UMWUXGRC2tRV"
      },
      "outputs": [],
      "source": [
        "@dataclass\n",
        "class TransformerConfig:\n",
        "\n",
        "    model_dim: int = 512\n",
        "    ff_dim: int = 2048\n",
        "\n",
        "    nb_encoder: int = 6\n",
        "    nb_decoder: int = 6\n",
        "\n",
        "    num_heads: int = 8\n",
        "\n",
        "    max_seq_length: int = MAX_LENGTH\n",
        "    vocab_size: int = VOCAB_SIZE\n",
        "    device: str = 'cpu'\n",
        "    pad_token_id: int = 0\n",
        "\n",
        "\n",
        "class Transformer(nn.Module):\n",
        "\n",
        "    def __init__(self, config: TransformerConfig) -> None:\n",
        "        super(Transformer, self).__init__()\n",
        "\n",
        "        self.config = config\n",
        "        self.enc_embeddings = nn.Embedding(\n",
        "            num_embeddings=config.vocab_size,\n",
        "            embedding_dim=config.model_dim\n",
        "        )\n",
        "\n",
        "        self.dec_embeddings = nn.Embedding(\n",
        "            num_embeddings=config.vocab_size,\n",
        "            embedding_dim=config.model_dim\n",
        "        )\n",
        "\n",
        "        self.positional_embeddings = PositionalEmbedding(\n",
        "            max_seq_length=config.max_seq_length,\n",
        "            embedding_dim=config.model_dim\n",
        "        )\n",
        "\n",
        "        self.encoder = Encoder(config.nb_encoder, config.model_dim, config.ff_dim, num_heads=config.num_heads)\n",
        "        self.decoder = Decoder(config.nb_decoder, config.model_dim, config.ff_dim, num_heads=config.num_heads)\n",
        "\n",
        "        self.linear_projection = nn.Linear(config.model_dim, config.vocab_size)\n",
        "        self.device = config.device\n",
        "\n",
        "    def generate_mask(self, src, tgt):\n",
        "        \"\"\"\n",
        "        Génère les masques d'attentions pour l'encodeur et le décodeur du transformer en\n",
        "        se basant sur le jeton de pad donné dans la configuration du transformer. Dans le\n",
        "        cas du décodeur, un masque causal est également calculé pour empêcher les jetons\n",
        "        de porter leur attention sur les jetons futurs\n",
        "\n",
        "        Args :\n",
        "            src : Séquence d'entrée\n",
        "\n",
        "        \"\"\"\n",
        "        src_mask = (src != self.config.pad_token_id).unsqueeze(1).unsqueeze(2)\n",
        "        tgt_mask = (tgt != self.config.pad_token_id).unsqueeze(1).unsqueeze(3)\n",
        "        seq_length = tgt.size(1)\n",
        "        nopeak_mask = (1 - torch.triu(torch.ones(1, seq_length, seq_length), diagonal=1)).bool().to(self.device)\n",
        "        tgt_mask = tgt_mask & nopeak_mask\n",
        "        return src_mask, tgt_mask\n",
        "\n",
        "    def forward(self, encoder_x: torch.Tensor, decoder_x: torch.Tensor):\n",
        "        \"\"\"\n",
        "        Génère la sortie du décodeur étant donné une entrée pour l'encodeur et une entrée\n",
        "        pour le décodeur\n",
        "\n",
        "        Args :\n",
        "            encoder_x : Tenseur d'entrée de l'encodeur\n",
        "            Taille : [batch_size, seq_length]\n",
        "\n",
        "            decoder_x : Tenseur d'entrée du décodeur\n",
        "            Taille : [batch_size, seq_length]\n",
        "\n",
        "        Returns :\n",
        "        Sortie du décodeur correspondant au prédictions du jeton le plus proche. Attention,\n",
        "        n'appliquez pas softmax sur ces prédictions. Ce tenseur devrait avoir une taille de\n",
        "        [batch_size, seq_length, vocab_size]\n",
        "        \"\"\"\n",
        "\n",
        "        # TODO\n",
        "        src_mask, tgt_mask = self.generate_mask(encoder_x, decoder_x)\n",
        "        encoder_x = self.encoder.forward(self.positional_embeddings(self.enc_embeddings(encoder_x)))\n",
        "        decoder_x = self.decoder.forward(self.positional_embeddings(self.dec_embeddings(decoder_x)), encoder_x, src_mask, tgt_mask)\n",
        "        return self.linear_projection(decoder_x)\n",
        "        # END TODO"
      ]
    },
    {
      "cell_type": "markdown",
      "metadata": {
        "id": "09w2xPmk9Fxw"
      },
      "source": [
        "### 5. Padding et coupure (5 points)\n",
        "\n",
        "Il est important, lors de l'entraînement que toutes les séquences aient la même longueur de texte, car le Transformer prend toujours un nombre fixe de jetons. Cette taille correspond à sa fenêtre de contexte. Afin de s'assurer que toutes les séquences de texte dans un lot d'entraînement soient de la même longueur, nous allons couper les séquences trop longues et ajouter des jetons à celles qui sont trop courtes. Le jeton qui sera ajouté sera le jeton de \"padding\" du tokenizer (`[PAD]`).\n",
        "\n",
        "Complétez la fonction `tokenize` de la classe `DataCollator` qui s'occupe d'appeler le tokenizer avec les textes passés en paramètre en spécifiant les paramètres suivants :\n",
        "- `padding`: `\"max_length\"` (Attention on veut la chaîne de charactère `\"max_length\"`, pas la variable)\n",
        "- `truncation`: `True`\n",
        "- `max_length`: La taille maximale passée dans le constructeur\n",
        "- `return_tensors`: `pt`\n",
        "- `return_token_type_ids`: `False`\n",
        "- `add_special_tokens`: `True`\n",
        "\n",
        "Complétez la fonction `__call__` qui s'occupe de prendre un lot de données (le lot/batch correspondant à un sous-ensemble de l'ensemble d'entraînement) et retourne les entrées de l'encodeur et du décodeur ainsi que la sortie du décodeur du Transformer. Vous devrez prendre le lot passé en paramètre et transformer les colonnes `sentence` et `concepts` du lot en jetons. Les jetons de la colonne `sentence` seront envoyés à l'encodeur et les jetons de la colonne `concepts` seront envoyés au décodeur."
      ]
    },
    {
      "cell_type": "code",
      "execution_count": null,
      "metadata": {
        "id": "FgvbPOmY9Fxw"
      },
      "outputs": [],
      "source": [
        "from typing import Dict, List, Union\n",
        "\n",
        "\n",
        "class DataCollator:\n",
        "    def __init__(self, tokenizer: Tokenizer, max_length: int, device: str = 'cpu') -> None:\n",
        "        self.tokenizer = tokenizer\n",
        "        self.max_length = max_length\n",
        "        self.device = device\n",
        "\n",
        "        self.pad_token_id = tokenizer.pad_token_id\n",
        "        self.bos_token_id = tokenizer.bos_token_id\n",
        "        self.eos_token_id = tokenizer.eos_token_id\n",
        "\n",
        "    def tokenize(self, texts):\n",
        "        \"\"\"\n",
        "        Transforme la séquence de textes en séquence d'indice de jetons\n",
        "\n",
        "        Args :\n",
        "            texts : Textes à transformer\n",
        "\n",
        "        Returns :\n",
        "        Indices des jetons des textes\n",
        "        \"\"\"\n",
        "        # TODO\n",
        "        return self.tokenizer(\n",
        "            texts,\n",
        "            padding=\"max_length\",\n",
        "            truncation=True,\n",
        "            max_length=self.max_length,\n",
        "            return_tensors=\"pt\",\n",
        "            return_token_type_ids=False,\n",
        "            add_special_tokens=True\n",
        "        )\n",
        "        # END TODO\n",
        "\n",
        "    def __call__(self, batch: List[Dict[str, Union[str, int]]]) -> Dict[str, torch.Tensor]:\n",
        "        \"\"\"\n",
        "        Transforme une batch contenant les colonnes target et concepts en les envoyant au tokenizer\n",
        "        et préparant les jetons aux entrées et sorties de l'encodeur et du décodeur\n",
        "        \"\"\"\n",
        "        # TODO :\n",
        "        encoder = self.tokenize([x['sentence'] for x in batch]) # ids des jetons des entrées\n",
        "        decoder = self.tokenize([x['concepts'] for x in batch]) # ids des jetons des sorties\n",
        "        encoder = encoder['input_ids'].clone().detach().to(self.device)\n",
        "        decoder = decoder['input_ids'].clone().detach().to(self.device)\n",
        "        # END TODO\n",
        "\n",
        "        \"\"\"\n",
        "        Dans le décodeur, la séquence attendue est décalée vers la droite d'un jeton à l'entrée du décodeur.\n",
        "        Par exemple, si on veut faire de la traduction, nous pourrions avoir la séquence suivante :\n",
        "\n",
        "        La pomme est verte -> The apple is green\n",
        "\n",
        "        Les valeurs du dictionnaire de retour serait donc :\n",
        "\n",
        "        +-------------+--------+--------+--------+--------+--------+--------+\n",
        "        |   Valeur    | Jeton1 | Jeton2 | Jeton3 | Jeton4 | Jeton5 | Jeton6 |\n",
        "        +-------------+--------+--------+--------+--------+--------+--------+\n",
        "        | encoder_in  | [BOS]  | la     | pomme  | est    | verte  | [EOS]  |\n",
        "        | decoder_in  | [BOS]  | The    | apple  | is     | green  | [EOS]  |\n",
        "        | decoder_out | The    | apple  | is     | green  | [EOS]  | [PAD]  |\n",
        "        +-------------+--------+--------+--------+--------+--------+--------+\n",
        "\n",
        "        Par exemple, pour le jeton 3, le transformer essaiera de prédire le jeton \"is\" avec comme information\n",
        "        tous les jetons de l'encodeur et tous les jetons précédents le \"is\" ([BOS] The apple).\n",
        "\n",
        "        C'est d'ailleurs à cause de ce décalage que nous enlevons le premier jetons dans 'decoder_out'. Aussi,\n",
        "        le dernier jetons dans 'decoder_in' est enlevé, car le Transformer ne devrait jamais voir le jeton\n",
        "        de fin de phrase, car cela voudrait dire que la séquence est terminée. Il devrait seulement le prédire.\n",
        "        \"\"\"\n",
        "        return {\n",
        "            'encoder_in': encoder.to(self.device),\n",
        "            'decoder_in': decoder[:, :-1].to(self.device),\n",
        "            'decoder_out': decoder[:, 1:].to(self.device),\n",
        "        }\n"
      ]
    },
    {
      "cell_type": "code",
      "execution_count": null,
      "metadata": {
        "colab": {
          "base_uri": "https://localhost:8080/"
        },
        "id": "ms_zfOuw9Fxw",
        "outputId": "301a4393-5e76-4f37-a394-0e3b324cf21c"
      },
      "outputs": [
        {
          "name": "stdout",
          "output_type": "stream",
          "text": [
            "====================================================================================================\n",
            "\n",
            "Encoder in detokenized : \n",
            "\n",
            " [BOS]two elephants standing next to each other in their pen [EOS][PAD][PAD][PAD][PAD]\n",
            "[BOS]A big elephant that is standing there quietly in the pen . [EOS]\n",
            "\n",
            "Decoder in detokenized : \n",
            "\n",
            " [BOS][ ' elephant ' ' pen ' ' stand ' ] [EOS][PAD][PAD]\n",
            "[BOS][ ' elephant ' ' pen ' ' stand ' ] [EOS][PAD][PAD]\n",
            "\n",
            "Decoder out detokenized : \n",
            "\n",
            " [ ' elephant ' ' pen ' ' stand ' ] [EOS][PAD][PAD][PAD]\n",
            "[ ' elephant ' ' pen ' ' stand ' ] [EOS][PAD][PAD][PAD]\n",
            "\n",
            "====================================================================================================\n"
          ]
        }
      ],
      "source": [
        "def test_data_collator():\n",
        "    data_collator = DataCollator(tokenizer=tokenizer, max_length=16)\n",
        "    sample_data = test_dataset[:2]\n",
        "    result = data_collator(CustomDataset(data=sample_data))\n",
        "    print('=' * 100)\n",
        "    print()\n",
        "    print('Encoder in detokenized : \\n\\n', '\\n'.join(tokenizer.batch_decode(result['encoder_in'])))\n",
        "    print()\n",
        "    print('Decoder in detokenized : \\n\\n', '\\n'.join(tokenizer.batch_decode(result['decoder_in'])))\n",
        "    print()\n",
        "    print('Decoder out detokenized : \\n\\n', '\\n'.join(tokenizer.batch_decode(result['decoder_out'])))\n",
        "    print()\n",
        "    print('=' * 100)\n",
        "\n",
        "test_data_collator()"
      ]
    },
    {
      "cell_type": "markdown",
      "metadata": {
        "id": "ft9grnXB9Fxw"
      },
      "source": [
        "Sortie attendue :\n",
        "```\n",
        "====================================================================================================\n",
        "\n",
        "Encoder in detokenized :\n",
        "\n",
        " [BOS]two elephants standing next to each other in their pen [EOS][PAD][PAD][PAD][PAD]\n",
        "[BOS]A big elephant that is standing there quietly in the pen. [EOS]\n",
        "\n",
        "Decoder in detokenized :\n",
        "\n",
        " [BOS]['elephant'' pen'' stand'] [EOS][PAD][PAD]\n",
        "[BOS]['elephant'' pen'' stand'] [EOS][PAD][PAD]\n",
        "\n",
        "Decoder out detokenized :\n",
        "\n",
        " ['elephant'' pen'' stand'] [EOS][PAD][PAD][PAD]\n",
        "['elephant'' pen'' stand'] [EOS][PAD][PAD][PAD]\n",
        "\n",
        "====================================================================================================\n",
        "```"
      ]
    },
    {
      "cell_type": "markdown",
      "metadata": {
        "id": "GrA7t_Xy9Fxw"
      },
      "source": [
        "### 6. Création de lots (Batching)\n",
        "\n",
        "Nous allons utiliser la classe `DataLoader` de PyTorch pour charger les données en \"batchs\". La classe `DataCollator` sera passée en paramètre lors du chargement des données pour automatiquement transformer le texte en jetons."
      ]
    },
    {
      "cell_type": "code",
      "execution_count": null,
      "metadata": {
        "id": "lptJkGPm9Fxw"
      },
      "outputs": [],
      "source": [
        "BATCH_SIZE = 256\n",
        "TEST_BATCH_SIZE = 128\n",
        "\n",
        "collator = DataCollator(tokenizer=tokenizer, max_length=MAX_LENGTH, device=DEVICE)\n",
        "train_loader = DataLoader(train_dataset, batch_size=BATCH_SIZE, shuffle=True, collate_fn=collator)\n",
        "val_loader = DataLoader(val_dataset, batch_size=BATCH_SIZE, shuffle=False, collate_fn=collator)\n",
        "test_loader = DataLoader(test_dataset, batch_size=TEST_BATCH_SIZE, shuffle=False, collate_fn=collator)"
      ]
    },
    {
      "cell_type": "markdown",
      "metadata": {
        "id": "7R_9-0va9Fxw"
      },
      "source": [
        "### 7. Entraînement (26 points)"
      ]
    },
    {
      "cell_type": "markdown",
      "metadata": {
        "id": "9BCgDQaf9Fxw"
      },
      "source": [
        "#### 7.1 Boucle d'entraînement (20 points)\n",
        "\n",
        "Pour pouvoir générer des prédictions qui ont du sens, il faut entraîner le modèle à effectuer ces prédictions à partir des données d'entraînement. Pour cela, la classe `Trainer` sera utilisée. Elle permettra au modèle, à partir de données d'entraînement, d'apprendre la bonne combinaison de paramètres qui effectue les meilleures prédictions. Nous validerons ensuite les prédictions avec l'ensemble de test. L'ensemble de validation sera utilisé durant l'entraînement pour s'assurer que le modèle apprend bien.\n",
        "\n",
        "Compléter les fonctions `train_epoch` et `validation_epoch` de la classe `Trainer` pour permettre au transformer passé en paramètre du constructeur d'être entraîné avec les données d'entraînement.\n",
        "\n",
        "La fonction `train_epoch` doit :\n",
        "- Parcourir toutes les lots (batchs) d'entraînement et pour chaque lot :\n",
        "  - Entraîner le modèle pour ce lot en évaluant la fonction de perte et mettant à jour les paramètres en fonction des gradients\n",
        "- Calculer la perte d'entraînement moyenne\n",
        "- Mettre la perte d'entraînement dans un objet de la classe `History`\n",
        "\n",
        "La fonction `validation_epoch` doit :\n",
        "- Parcourir tous les lots de validation et pour chaque lot :\n",
        "  - Évaluer le modèle sur ce lot en évaluant la fonction de perte\n",
        "- Calculer la perte de validation moyenne\n",
        "- Mettre la perte de validation dans un objet de la classe `History`"
      ]
    },
    {
      "cell_type": "code",
      "execution_count": null,
      "metadata": {
        "id": "HhqDUPeB2tRV"
      },
      "outputs": [],
      "source": [
        "from tqdm import tqdm\n",
        "\n",
        "class History:\n",
        "\n",
        "    def __init__(self):\n",
        "        self.t_loss = []\n",
        "        self.v_loss = []\n",
        "        self.time_to_train = -1\n",
        "\n",
        "class Trainer:\n",
        "\n",
        "    def __init__(self,\n",
        "                 transformer: Transformer,\n",
        "                 train_loader: DataLoader,\n",
        "                 val_loader: DataLoader,\n",
        "                 num_epochs: int,\n",
        "                 loss_function = None,\n",
        "                 device='cpu',\n",
        "                 saving_path='model') -> None:\n",
        "        \"\"\"\n",
        "        Args :\n",
        "            transformer: Modèle qui sera entraîné\n",
        "\n",
        "            train_loader: Objet contenant les données d'entraînement en batch\n",
        "\n",
        "            val_loader: Objet contenant les données de validation en batch\n",
        "\n",
        "            num_epochs: Nombre d'étape d'entraînement (une étape équivaut à\n",
        "            parcourir toutes les données une fois)\n",
        "\n",
        "            loss_function: Fonction de perte utilisée lors de l'entraînement. Si\n",
        "            le paramètre est laissé à `None`, la fonction d'entropie croisée sera\n",
        "            utilisée en ignorant les jetons de pad (retrouvés avec la config du modèle)\n",
        "\n",
        "            device: Machine sur laquelle le modèle sera entraîné\n",
        "        \"\"\"\n",
        "\n",
        "        self.model = transformer\n",
        "        self.train_loader = train_loader\n",
        "        self.val_loader = val_loader\n",
        "        self.num_epochs = num_epochs\n",
        "        self.device = device\n",
        "        self.saving_path = saving_path\n",
        "\n",
        "        self.optimizer = O.Adam(self.model.parameters(), lr=0.0001, betas=(0.9, 0.98), eps=1e-9)\n",
        "\n",
        "        if loss_function is None:\n",
        "            self.loss_function = nn.CrossEntropyLoss(ignore_index=transformer.config.pad_token_id).to(self.device)\n",
        "        else:\n",
        "            self.loss_function = loss_function\n",
        "\n",
        "    def compute_loss(self, logits: torch.Tensor, labels: torch.Tensor):\n",
        "        \"\"\"\n",
        "        Trouve la valeur de la fonction de perte (self.loss_function)\n",
        "        étant donné les probabilités (logits) prédits et les vraies\n",
        "        valeurs (labels)\n",
        "\n",
        "        Args :\n",
        "            logits:     Probabilités prédites par le modèle sur le prochain\n",
        "                        jeton pour chacun des jetons de la séquence\n",
        "                        Tenseur de taille : [batch_size, seq_length, vocab_size]\n",
        "\n",
        "            labels:     Jetons qui devraient être prédis comme les prochains\n",
        "                        jetons pour chaque jeton de la séquence\n",
        "                        Tenseur de taille : [batch_size, seq_length]\n",
        "        \"\"\"\n",
        "\n",
        "        _, _, vocab_size = logits.shape\n",
        "        return self.loss_function(logits.contiguous().view(-1, vocab_size), labels.contiguous().view(-1))\n",
        "\n",
        "    def train_epoch(self, history):\n",
        "        \"\"\"\n",
        "        Entraîne le modèle sur tous les lots du `self.train_loader` et calcule\n",
        "        la perte d'entraînement moyen en l'ajoutant à l'objet history passé en\n",
        "        paramètre\n",
        "\n",
        "        Args :\n",
        "            history :   Objet contenant les statistiques d'entraînement d'un modèle\n",
        "        \"\"\"\n",
        "\n",
        "        # TODO\n",
        "        self.model.train()\n",
        "        total_loss = 0\n",
        "        for batch in tqdm(self.train_loader, desc='Training'):\n",
        "            self.optimizer.zero_grad()\n",
        "            logits = self.model.forward(batch['encoder_in'], batch['decoder_in'])\n",
        "            loss = self.compute_loss(logits, batch['decoder_out'])\n",
        "            loss.backward()\n",
        "            self.optimizer.step()\n",
        "            total_loss += loss.item()\n",
        "        history.t_loss.append(total_loss / len(self.train_loader))\n",
        "        # END TODO\n",
        "\n",
        "    def validation_epoch(self, history):\n",
        "        \"\"\"\n",
        "        Évalue le modèle sur tous les lots du `self.val_loader` et calcule\n",
        "        la perte de validation moyen en l'ajoutant à l'objet history passé en\n",
        "        paramètre\n",
        "\n",
        "        Args :\n",
        "            history :   Objet contenant les statistiques d'entraînement d'un modèle\n",
        "        \"\"\"\n",
        "\n",
        "        # TODO\n",
        "        self.model.eval()\n",
        "        total_loss = 0\n",
        "        for batch in tqdm(self.val_loader, desc='Validation'):\n",
        "            self.optimizer.zero_grad()\n",
        "            logits = self.model.forward(batch['encoder_in'], batch['decoder_in'])\n",
        "            loss = self.compute_loss(logits, batch['decoder_out'])\n",
        "            total_loss += loss.item()\n",
        "        history.v_loss.append(total_loss / len(self.val_loader))\n",
        "        # END TODO\n",
        "\n",
        "\n",
        "    def train(self) -> History:\n",
        "        \"\"\"\n",
        "        Entraîne `self.model` en utilisant les données de `self.train_loader`\n",
        "\n",
        "        Returns :\n",
        "        Historique contenant les perte d'entraînement et de validation moyennes\n",
        "        pour chaque étape (epoch) d'entraînement\n",
        "        \"\"\"\n",
        "        history = History()\n",
        "        start = time.time()\n",
        "        self.model.to(self.device)\n",
        "\n",
        "\n",
        "        for epoch in range(self.num_epochs):\n",
        "\n",
        "            self.train_epoch(history)\n",
        "            self.validation_epoch(history)\n",
        "\n",
        "            print(f'Epoch {epoch} / {self.num_epochs} : train_loss = {history.t_loss[-1]}, val_loss = {history.v_loss[-1]}')\n",
        "\n",
        "            if epoch > 0 and epoch % 10 == 0:\n",
        "                self.save(f'{self.saving_path}_{epoch}.pt')\n",
        "\n",
        "        end = time.time()\n",
        "        history.time_to_train = end - start\n",
        "        self.save(f'{self.saving_path}_{self.num_epochs}.pt')\n",
        "        return history\n",
        "\n",
        "    def save(self, path: str):\n",
        "        \"\"\"\n",
        "        Saves the model in the specified path\n",
        "        \"\"\"\n",
        "        torch.save(self.model.state_dict(), path)\n",
        "\n",
        "    @staticmethod\n",
        "    def load(config: TransformerConfig, path: str):\n",
        "        \"\"\"\n",
        "        Loads the model from the specified path\n",
        "        \"\"\"\n",
        "        model = Transformer(config)\n",
        "        model.load_state_dict(torch.load(path))\n",
        "        return model"
      ]
    },
    {
      "cell_type": "markdown",
      "metadata": {
        "id": "Rh33P37P9Fxx"
      },
      "source": [
        "#### 7.2 Nombre de paramètres (2 points)\n",
        "Complétez maintenant la fonction `count_parameters` permettant de calculer le nombre de paramètres du modèle"
      ]
    },
    {
      "cell_type": "code",
      "execution_count": null,
      "metadata": {
        "colab": {
          "base_uri": "https://localhost:8080/"
        },
        "id": "mUnb2fRp2tRV",
        "outputId": "f435149f-f5fd-4a75-ebc0-840c11723fc5"
      },
      "outputs": [
        {
          "name": "stdout",
          "output_type": "stream",
          "text": [
            "Nombre de paramètres :  56434496\n"
          ]
        }
      ],
      "source": [
        "def count_parameters(model):\n",
        "    \"\"\"\n",
        "    Calcule le nombre de paramètres que l'on peut entraîner dans un modèle\n",
        "\n",
        "    Args :\n",
        "        model : Modèle dont on veut savoir le nombre de paramètres\n",
        "\n",
        "    Returns :\n",
        "    Nombre de paramètres\n",
        "    \"\"\"\n",
        "    # TODO\n",
        "    return sum(p.numel() for p in model.parameters() if p.requires_grad)\n",
        "    # END TODO\n",
        "\n",
        "config = TransformerConfig()\n",
        "config.device = DEVICE\n",
        "model = Transformer(config)\n",
        "\n",
        "print('Nombre de paramètres : ', count_parameters(model))"
      ]
    },
    {
      "cell_type": "markdown",
      "metadata": {
        "id": "VyvX8Loe2tRV"
      },
      "source": [
        "#### 7.3 Entraînement (4 points)\n",
        "Entraînez maintenant le modèle pour 30 époques"
      ]
    },
    {
      "cell_type": "code",
      "execution_count": null,
      "metadata": {
        "colab": {
          "base_uri": "https://localhost:8080/"
        },
        "id": "Cf6Q-9v12tRc",
        "outputId": "eb823537-5c8f-4eda-c058-0a7f475777ed"
      },
      "outputs": [
        {
          "name": "stderr",
          "output_type": "stream",
          "text": [
            "Training: 100%|██████████| 18/18 [04:40<00:00, 15.57s/it]\n",
            "Validation: 100%|██████████| 2/2 [00:08<00:00,  4.16s/it]\n"
          ]
        },
        {
          "name": "stdout",
          "output_type": "stream",
          "text": [
            "Epoch 0 / 30 : train_loss = 3.901674826939901, val_loss = 3.0239181518554688\n"
          ]
        },
        {
          "name": "stderr",
          "output_type": "stream",
          "text": [
            "Training: 100%|██████████| 18/18 [03:22<00:00, 11.25s/it]\n",
            "Validation: 100%|██████████| 2/2 [00:07<00:00,  3.95s/it]\n"
          ]
        },
        {
          "name": "stdout",
          "output_type": "stream",
          "text": [
            "Epoch 1 / 30 : train_loss = 2.3567733234829373, val_loss = 2.738417148590088\n"
          ]
        },
        {
          "name": "stderr",
          "output_type": "stream",
          "text": [
            "Training: 100%|██████████| 18/18 [03:25<00:00, 11.41s/it]\n",
            "Validation: 100%|██████████| 2/2 [00:07<00:00,  3.74s/it]\n"
          ]
        },
        {
          "name": "stdout",
          "output_type": "stream",
          "text": [
            "Epoch 2 / 30 : train_loss = 2.0046146313349404, val_loss = 2.645005941390991\n"
          ]
        },
        {
          "name": "stderr",
          "output_type": "stream",
          "text": [
            "Training: 100%|██████████| 18/18 [03:23<00:00, 11.29s/it]\n",
            "Validation: 100%|██████████| 2/2 [00:07<00:00,  3.99s/it]\n"
          ]
        },
        {
          "name": "stdout",
          "output_type": "stream",
          "text": [
            "Epoch 3 / 30 : train_loss = 1.8153803282313876, val_loss = 2.556514620780945\n"
          ]
        },
        {
          "name": "stderr",
          "output_type": "stream",
          "text": [
            "Training: 100%|██████████| 18/18 [03:21<00:00, 11.21s/it]\n",
            "Validation: 100%|██████████| 2/2 [00:07<00:00,  3.71s/it]\n"
          ]
        },
        {
          "name": "stdout",
          "output_type": "stream",
          "text": [
            "Epoch 4 / 30 : train_loss = 1.6322684950298734, val_loss = 2.4563428163528442\n"
          ]
        },
        {
          "name": "stderr",
          "output_type": "stream",
          "text": [
            "Training: 100%|██████████| 18/18 [03:22<00:00, 11.26s/it]\n",
            "Validation: 100%|██████████| 2/2 [00:07<00:00,  3.96s/it]\n"
          ]
        },
        {
          "name": "stdout",
          "output_type": "stream",
          "text": [
            "Epoch 5 / 30 : train_loss = 1.5459353460205927, val_loss = 2.461050271987915\n"
          ]
        },
        {
          "name": "stderr",
          "output_type": "stream",
          "text": [
            "Training: 100%|██████████| 18/18 [03:22<00:00, 11.25s/it]\n",
            "Validation: 100%|██████████| 2/2 [00:07<00:00,  3.80s/it]\n"
          ]
        },
        {
          "name": "stdout",
          "output_type": "stream",
          "text": [
            "Epoch 6 / 30 : train_loss = 1.4945907062954373, val_loss = 2.4598278999328613\n"
          ]
        },
        {
          "name": "stderr",
          "output_type": "stream",
          "text": [
            "Training: 100%|██████████| 18/18 [03:22<00:00, 11.26s/it]\n",
            "Validation: 100%|██████████| 2/2 [00:08<00:00,  4.00s/it]\n"
          ]
        },
        {
          "name": "stdout",
          "output_type": "stream",
          "text": [
            "Epoch 7 / 30 : train_loss = 1.4359606968031988, val_loss = 2.4158517122268677\n"
          ]
        },
        {
          "name": "stderr",
          "output_type": "stream",
          "text": [
            "Training: 100%|██████████| 18/18 [03:27<00:00, 11.53s/it]\n",
            "Validation: 100%|██████████| 2/2 [00:07<00:00,  3.67s/it]\n"
          ]
        },
        {
          "name": "stdout",
          "output_type": "stream",
          "text": [
            "Epoch 8 / 30 : train_loss = 1.3363330960273743, val_loss = 2.3149904012680054\n"
          ]
        },
        {
          "name": "stderr",
          "output_type": "stream",
          "text": [
            "Training: 100%|██████████| 18/18 [03:14<00:00, 10.81s/it]\n",
            "Validation: 100%|██████████| 2/2 [00:08<00:00,  4.18s/it]\n"
          ]
        },
        {
          "name": "stdout",
          "output_type": "stream",
          "text": [
            "Epoch 9 / 30 : train_loss = 1.206024984518687, val_loss = 2.2429226636886597\n"
          ]
        },
        {
          "name": "stderr",
          "output_type": "stream",
          "text": [
            "Training: 100%|██████████| 18/18 [03:15<00:00, 10.85s/it]\n",
            "Validation: 100%|██████████| 2/2 [00:07<00:00,  3.66s/it]\n"
          ]
        },
        {
          "name": "stdout",
          "output_type": "stream",
          "text": [
            "Epoch 10 / 30 : train_loss = 1.0793243050575256, val_loss = 2.195132255554199\n"
          ]
        },
        {
          "name": "stderr",
          "output_type": "stream",
          "text": [
            "Training: 100%|██████████| 18/18 [03:16<00:00, 10.90s/it]\n",
            "Validation: 100%|██████████| 2/2 [00:07<00:00,  3.87s/it]\n"
          ]
        },
        {
          "name": "stdout",
          "output_type": "stream",
          "text": [
            "Epoch 11 / 30 : train_loss = 0.9644877678818173, val_loss = 2.1576260328292847\n"
          ]
        },
        {
          "name": "stderr",
          "output_type": "stream",
          "text": [
            "Training: 100%|██████████| 18/18 [03:48<00:00, 12.67s/it]\n",
            "Validation: 100%|██████████| 2/2 [00:07<00:00,  3.86s/it]\n"
          ]
        },
        {
          "name": "stdout",
          "output_type": "stream",
          "text": [
            "Epoch 12 / 30 : train_loss = 0.8609312044249641, val_loss = 2.119013786315918\n"
          ]
        },
        {
          "name": "stderr",
          "output_type": "stream",
          "text": [
            "Training: 100%|██████████| 18/18 [03:50<00:00, 12.83s/it]\n",
            "Validation: 100%|██████████| 2/2 [00:07<00:00,  3.67s/it]\n"
          ]
        },
        {
          "name": "stdout",
          "output_type": "stream",
          "text": [
            "Epoch 13 / 30 : train_loss = 0.7695142295625474, val_loss = 2.0797181129455566\n"
          ]
        },
        {
          "name": "stderr",
          "output_type": "stream",
          "text": [
            "Training: 100%|██████████| 18/18 [03:37<00:00, 12.07s/it]\n",
            "Validation: 100%|██████████| 2/2 [00:08<00:00,  4.20s/it]\n"
          ]
        },
        {
          "name": "stdout",
          "output_type": "stream",
          "text": [
            "Epoch 14 / 30 : train_loss = 0.6848303576310476, val_loss = 2.0490803122520447\n"
          ]
        },
        {
          "name": "stderr",
          "output_type": "stream",
          "text": [
            "Training: 100%|██████████| 18/18 [03:15<00:00, 10.85s/it]\n",
            "Validation: 100%|██████████| 2/2 [00:08<00:00,  4.19s/it]\n"
          ]
        },
        {
          "name": "stdout",
          "output_type": "stream",
          "text": [
            "Epoch 15 / 30 : train_loss = 0.6084639132022858, val_loss = 2.0421037673950195\n"
          ]
        },
        {
          "name": "stderr",
          "output_type": "stream",
          "text": [
            "Training: 100%|██████████| 18/18 [04:45<00:00, 15.88s/it]\n",
            "Validation: 100%|██████████| 2/2 [00:07<00:00,  3.75s/it]\n"
          ]
        },
        {
          "name": "stdout",
          "output_type": "stream",
          "text": [
            "Epoch 16 / 30 : train_loss = 0.5409597804148992, val_loss = 2.0452226400375366\n"
          ]
        },
        {
          "name": "stderr",
          "output_type": "stream",
          "text": [
            "Training: 100%|██████████| 18/18 [04:29<00:00, 14.95s/it]\n",
            "Validation: 100%|██████████| 2/2 [00:11<00:00,  5.69s/it]\n"
          ]
        },
        {
          "name": "stdout",
          "output_type": "stream",
          "text": [
            "Epoch 17 / 30 : train_loss = 0.4763638509644402, val_loss = 2.0169020295143127\n"
          ]
        },
        {
          "name": "stderr",
          "output_type": "stream",
          "text": [
            "Training: 100%|██████████| 18/18 [03:57<00:00, 13.18s/it]\n",
            "Validation: 100%|██████████| 2/2 [00:08<00:00,  4.12s/it]\n"
          ]
        },
        {
          "name": "stdout",
          "output_type": "stream",
          "text": [
            "Epoch 18 / 30 : train_loss = 0.4208969175815582, val_loss = 1.999518632888794\n"
          ]
        },
        {
          "name": "stderr",
          "output_type": "stream",
          "text": [
            "Training: 100%|██████████| 18/18 [03:14<00:00, 10.80s/it]\n",
            "Validation: 100%|██████████| 2/2 [00:07<00:00,  3.53s/it]\n"
          ]
        },
        {
          "name": "stdout",
          "output_type": "stream",
          "text": [
            "Epoch 19 / 30 : train_loss = 0.37018196284770966, val_loss = 2.0006709694862366\n"
          ]
        },
        {
          "name": "stderr",
          "output_type": "stream",
          "text": [
            "Training: 100%|██████████| 18/18 [03:16<00:00, 10.92s/it]\n",
            "Validation: 100%|██████████| 2/2 [00:07<00:00,  3.70s/it]\n"
          ]
        },
        {
          "name": "stdout",
          "output_type": "stream",
          "text": [
            "Epoch 20 / 30 : train_loss = 0.32310063971413505, val_loss = 2.009660542011261\n"
          ]
        },
        {
          "name": "stderr",
          "output_type": "stream",
          "text": [
            "Training: 100%|██████████| 18/18 [03:09<00:00, 10.52s/it]\n",
            "Validation: 100%|██████████| 2/2 [00:07<00:00,  3.85s/it]\n"
          ]
        },
        {
          "name": "stdout",
          "output_type": "stream",
          "text": [
            "Epoch 21 / 30 : train_loss = 0.28423286146587795, val_loss = 2.0287399888038635\n"
          ]
        },
        {
          "name": "stderr",
          "output_type": "stream",
          "text": [
            "Training: 100%|██████████| 18/18 [03:54<00:00, 13.00s/it]\n",
            "Validation: 100%|██████████| 2/2 [00:07<00:00,  3.76s/it]\n"
          ]
        },
        {
          "name": "stdout",
          "output_type": "stream",
          "text": [
            "Epoch 22 / 30 : train_loss = 0.24619137992461523, val_loss = 2.008297622203827\n"
          ]
        },
        {
          "name": "stderr",
          "output_type": "stream",
          "text": [
            "Training: 100%|██████████| 18/18 [06:00<00:00, 20.01s/it]\n",
            "Validation: 100%|██████████| 2/2 [00:21<00:00, 10.76s/it]\n"
          ]
        },
        {
          "name": "stdout",
          "output_type": "stream",
          "text": [
            "Epoch 23 / 30 : train_loss = 0.21156046042839685, val_loss = 2.0184419751167297\n"
          ]
        },
        {
          "name": "stderr",
          "output_type": "stream",
          "text": [
            "Training: 100%|██████████| 18/18 [04:13<00:00, 14.07s/it]\n",
            "Validation: 100%|██████████| 2/2 [00:08<00:00,  4.37s/it]\n"
          ]
        },
        {
          "name": "stdout",
          "output_type": "stream",
          "text": [
            "Epoch 24 / 30 : train_loss = 0.18017200960053337, val_loss = 2.0815773010253906\n"
          ]
        },
        {
          "name": "stderr",
          "output_type": "stream",
          "text": [
            "Training: 100%|██████████| 18/18 [03:33<00:00, 11.86s/it]\n",
            "Validation: 100%|██████████| 2/2 [00:08<00:00,  4.22s/it]\n"
          ]
        },
        {
          "name": "stdout",
          "output_type": "stream",
          "text": [
            "Epoch 25 / 30 : train_loss = 0.15858961807356942, val_loss = 2.0071781277656555\n"
          ]
        },
        {
          "name": "stderr",
          "output_type": "stream",
          "text": [
            "Training: 100%|██████████| 18/18 [03:54<00:00, 13.03s/it]\n",
            "Validation: 100%|██████████| 2/2 [00:11<00:00,  5.78s/it]\n"
          ]
        },
        {
          "name": "stdout",
          "output_type": "stream",
          "text": [
            "Epoch 26 / 30 : train_loss = 0.13414381403062078, val_loss = 2.0500482320785522\n"
          ]
        },
        {
          "name": "stderr",
          "output_type": "stream",
          "text": [
            "Training: 100%|██████████| 18/18 [03:41<00:00, 12.33s/it]\n",
            "Validation: 100%|██████████| 2/2 [00:08<00:00,  4.41s/it]\n"
          ]
        },
        {
          "name": "stdout",
          "output_type": "stream",
          "text": [
            "Epoch 27 / 30 : train_loss = 0.1131563890311453, val_loss = 2.0905587673187256\n"
          ]
        },
        {
          "name": "stderr",
          "output_type": "stream",
          "text": [
            "Training: 100%|██████████| 18/18 [03:39<00:00, 12.20s/it]\n",
            "Validation: 100%|██████████| 2/2 [00:08<00:00,  4.22s/it]\n"
          ]
        },
        {
          "name": "stdout",
          "output_type": "stream",
          "text": [
            "Epoch 28 / 30 : train_loss = 0.09606004547741678, val_loss = 2.1129684448242188\n"
          ]
        },
        {
          "name": "stderr",
          "output_type": "stream",
          "text": [
            "Training: 100%|██████████| 18/18 [03:40<00:00, 12.24s/it]\n",
            "Validation: 100%|██████████| 2/2 [00:08<00:00,  4.22s/it]\n"
          ]
        },
        {
          "name": "stdout",
          "output_type": "stream",
          "text": [
            "Epoch 29 / 30 : train_loss = 0.0821529481973913, val_loss = 2.07129830121994\n"
          ]
        }
      ],
      "source": [
        "# TODO\n",
        "trainer = Trainer(\n",
        "    transformer=model,\n",
        "    train_loader=train_loader,\n",
        "    val_loader=val_loader,\n",
        "    num_epochs=30,\n",
        "    device=DEVICE\n",
        ")\n",
        "history = trainer.train() # Mettez le résultat de l'entraînement dans cette variable\n",
        "# END TODO"
      ]
    },
    {
      "cell_type": "markdown",
      "metadata": {
        "id": "vu1ngd3XojkF"
      },
      "source": [
        "### 8. Historique d'entraînement (5 points)"
      ]
    },
    {
      "cell_type": "markdown",
      "metadata": {
        "id": "paXl6ZeL9Fxx"
      },
      "source": [
        "#### 8.1 Graphique (2 points)\n",
        "Complétez la fonction `show_history` qui affiche l'historique d'entraînement (perte d'entraînement et perte de validation par époque, utilisez des pas de 5 époques) du modèle dans un graphe."
      ]
    },
    {
      "cell_type": "code",
      "execution_count": null,
      "metadata": {
        "colab": {
          "base_uri": "https://localhost:8080/",
          "height": 472
        },
        "id": "w9oPTKOB9Fxx",
        "outputId": "59fd18df-2fb1-4e0d-cccc-9d18d40911cd"
      },
      "outputs": [
        {
          "data": {
            "image/png": "[encoded data removed]",
            "text/plain": [
              "<Figure size 640x480 with 1 Axes>"
            ]
          },
          "metadata": {},
          "output_type": "display_data"
        }
      ],
      "source": [
        "def show_history(history: History):\n",
        "    \"\"\"\n",
        "    Affiche l'historique d'entraînement du modèle dans un graphique\n",
        "\n",
        "    Args :\n",
        "        history : Objet contenant les pertes d'entraînement et de\n",
        "        validation de chaque étape d'entraînement\n",
        "    \"\"\"\n",
        "    # TODO\n",
        "    plt.plot(history.t_loss, label=\"Training Loss\")\n",
        "    plt.plot(history.v_loss, label=\"Validation Loss\")\n",
        "    plt.title('Training and Validation Loss over Epochs')\n",
        "    plt.xlabel('Epochs')\n",
        "    plt.ylabel('Loss')\n",
        "    plt.legend()\n",
        "    plt.show()\n",
        "    # END TODO\n",
        "\n",
        "show_history(history)"
      ]
    },
    {
      "cell_type": "markdown",
      "metadata": {
        "id": "9LwB7-VX9Fxx"
      },
      "source": [
        "#### 8.2 Est-ce que le modèle semble être en sur-apprentissage ? Pourquoi ? Que feriez-vous pour résoudre ce problème ? (2 points)\n",
        "On observe une diminution continue du loss d'entraînement, tandis que le loss de validation stagne et/ou augmente. Cela indique que le modèle apprend à bien performer sur les données d'entraînement, mais ne généralise pas bien sur les données de validation, montrant le phénomène de sur-apprentissage, où le modèle apprend à \"mémoriser\" les données d'entraînement plutôt qu'à en extraire des caractéristiques générales.\n",
        "\n",
        "Pour résoudre ce problème, on peut utiliser une stratégie de early stopping, qui stop automatiquement l'entraînement lorsque la performance sur les données de validation cesse de s'améliorer. Dans notre cas, on pourrait donc réduire le nombre d'epochs, ce qui permettrait d'éviter un ajustement excessif aux données d'entraînement."
      ]
    },
    {
      "cell_type": "markdown",
      "metadata": {
        "id": "IndyxKRWBFiQ"
      },
      "source": [
        "#### 8.3 Lors de l'entraînement, un modèle a été sauvegardé à chaque 10 époques. En vous basant sur le graphique de la fonction de perte durant l'entraînement, choisissez la sauvegarde du modèle qui n'est pas en sur-apprentissage et chargez le pour l'évaluation à l'aide de la fonction `load` de la classe `Trainer`. Chargez également le dernier modèle sauvegardé pour comparer les résultats. (1 point)\n",
        "\n",
        "Nous dénoterons le modèle arrêté avant le sur-apprentissage comme étant : `stopped_model`\n",
        "\n",
        "Nous dénoterons le dernier modèle sauvegardé comme étant : `last_model`"
      ]
    },
    {
      "cell_type": "code",
      "execution_count": null,
      "metadata": {
        "id": "O96q-EK2BZr9",
        "outputId": "ae403d68-09f7-4bd8-f3c4-04dc6ec8ca2a"
      },
      "outputs": [
        {
          "name": "stderr",
          "output_type": "stream",
          "text": [
            "C:\\Users\\coral\\AppData\\Local\\Temp\\ipykernel_30076\\2565677472.py:156: FutureWarning: You are using `torch.load` with `weights_only=False` (the current default value), which uses the default pickle module implicitly. It is possible to construct malicious pickle data which will execute arbitrary code during unpickling (See https://github.com/pytorch/pytorch/blob/main/SECURITY.md#untrusted-models for more details). In a future release, the default value for `weights_only` will be flipped to `True`. This limits the functions that could be executed during unpickling. Arbitrary objects will no longer be allowed to be loaded via this mode unless they are explicitly allowlisted by the user via `torch.serialization.add_safe_globals`. We recommend you start setting `weights_only=True` for any use case where you don't have full control of the loaded file. Please open an issue on GitHub for any issues related to this experimental feature.\n",
            "  model.load_state_dict(torch.load(path))\n"
          ]
        }
      ],
      "source": [
        "# TODO\n",
        "\n",
        "# Mettez vos deux modèles entraînés dans ces variables pour la suite\n",
        "stopped_model = trainer.load(config, 'model_10.pt')\n",
        "last_model = trainer.load(config, 'model_30.pt')\n",
        "\n",
        "# END TODO"
      ]
    },
    {
      "cell_type": "markdown",
      "metadata": {
        "id": "W95hjKY19Fxx"
      },
      "source": [
        "### 9. Évaluation (20 points)"
      ]
    },
    {
      "cell_type": "markdown",
      "metadata": {
        "id": "oM_j2M0A9Fxx",
        "tags": []
      },
      "source": [
        "#### 9.1 Génération (10 points)\n",
        "Maintenant que le modèle est entraîné, nous pouvons tester ses générations. Complétez la fonction `generate` qui génère, pour un lot de données, les prédictions d'un modèle sur les concepts clés de la phrase donnée en paramètre."
      ]
    },
    {
      "cell_type": "code",
      "execution_count": null,
      "metadata": {
        "id": "UmoO5WYT9Fxx"
      },
      "outputs": [],
      "source": [
        "def generate(model: Transformer, encoder_in: torch.tensor, bos_token_id: int, eos_token_id: int, max_length=MAX_LENGTH):\n",
        "    \"\"\"\n",
        "    Génère les prédictions d'un modèle pour des phrases données en paramètre. Pour cela, vous devez\n",
        "    initialiser un tenseur X contenant les jetons de début de phrase (bos_token_id). Ensuite, ce\n",
        "    tenseur sera passé comme entrée au décodeur avec `encoder_in` comme entrée à l'encodeur. Le modèle\n",
        "    génèrera un jeton en sortie qui sera le jeton le plus probable étant donné le jeton de début de\n",
        "    phrase et la séquence passée dans l'encodeur. Ce jeton devra être concaténé au tenseur initial X\n",
        "    pour former une séquence de deux jetons. Cette nouvelle séquence est ensuite réenvoyée au décodeur.\n",
        "    Un jeton en sortie sera généré correspondant au jeton le plus probable étant donné la séquence de\n",
        "    deux jetons et l'entrée de l'encodeur. Le nouveau jeton est concaténé au tenseur X et l'opération\n",
        "    est répétée jusqu'à ce que le décodeur génère le jeton de fin de phrase.\n",
        "\n",
        "    Args :\n",
        "        model : Modèle effectuant les prédictions\n",
        "\n",
        "        inputs : Tenseur contenant les phrases d'entrées sous forme d'indices de jetons\n",
        "\n",
        "        bos_token_id : Jeton d'entrée du tokenizer utilisé pour initialiser le tenseur de génération\n",
        "\n",
        "        eos_token_id : Jeton de fin du tokenizer utilisé pour détecter la fin d'une séquence\n",
        "\n",
        "        max_length : Nombre maximal de jetons qui doivent être générés par le modèle\n",
        "\n",
        "    Returns :\n",
        "    Génération du modèle de chacune des phrases en entrée\n",
        "    \"\"\"\n",
        "    # TODO\n",
        "    model.eval()\n",
        "    batch_size = encoder_in.size(0)\n",
        "    decoder_in = torch.tensor([[bos_token_id]] * batch_size, device=encoder_in.device)\n",
        "    for i in range(max_length):\n",
        "        logits = model.forward(encoder_in, decoder_in)\n",
        "        next_token = logits.argmax(dim=-1)[:, -1].unsqueeze(1)\n",
        "        decoder_in = torch.cat([decoder_in, next_token], dim=-1)\n",
        "        if (next_token == eos_token_id).all():\n",
        "            break\n",
        "    return decoder_in\n",
        "    # END TODO"
      ]
    },
    {
      "cell_type": "code",
      "execution_count": null,
      "metadata": {
        "id": "5t_4T4Eg9Fxx"
      },
      "outputs": [],
      "source": [
        "def get_predictions(model, tokenizer):\n",
        "\n",
        "    bos_token_id = tokenizer(\"\")['input_ids'][0]\n",
        "    eos_token_id = tokenizer(\"\")['input_ids'][1]\n",
        "\n",
        "    sentences = []\n",
        "    predictions = []\n",
        "    ground_truth = []\n",
        "    for test_data in test_loader:\n",
        "\n",
        "        inputs = test_data['encoder_in']\n",
        "        result = generate(model, inputs, bos_token_id, eos_token_id)\n",
        "\n",
        "        sentences.extend(tokenizer.batch_decode(test_data['encoder_in'], skip_special_tokens=True))\n",
        "        ground_truth.extend(tokenizer.batch_decode(test_data['decoder_out'], skip_special_tokens=True))\n",
        "        predictions.extend(tokenizer.batch_decode(result, skip_special_tokens=True))\n",
        "\n",
        "    return sentences, ground_truth, predictions\n",
        "\n",
        "sentences_stopped, ground_truth_stopped, predictions_stopped = get_predictions(stopped_model, tokenizer)\n",
        "sentences_last, ground_truth_last, predictions_last = get_predictions(last_model, tokenizer)"
      ]
    },
    {
      "cell_type": "code",
      "execution_count": null,
      "metadata": {
        "id": "2e8pOemw9Fxx"
      },
      "outputs": [],
      "source": [
        "predictions_stopped = pd.DataFrame({'sentences': sentences_stopped, 'ground_truth': ground_truth_stopped, 'predictions': predictions_stopped})\n",
        "predictions_last = pd.DataFrame({'sentences': sentences_last, 'ground_truth': ground_truth_last, 'predictions': predictions_last})"
      ]
    },
    {
      "cell_type": "markdown",
      "metadata": {
        "id": "vGOifYaW9Fxx"
      },
      "source": [
        "#### 9.2 Évaluation naive de la génération (1 point)\n",
        "Nous allons d'abord mesurer l'efficacité de notre modèle pour extraire les concepts à l'aide d'une métrique de correspondance exacte (exact match). Pour cela, nous allons mesurer le nombre de générations (`predictions`) qui sont identiques à celles qui sont attendues dans l'ensemble de référence (`ground truth`) et diviser le tout par le nombre totaux d'éléments dans l'ensemble de référence. Ainsi, la métrique EM (exact match) équivaut à :\n",
        "\n",
        "$$\\text{EM} = \\frac{\\text{Nombre d'éléments identiques entre l'ensemble généré et l'ensemble de référence}}{\\text{Nombre d'éléments dans l'ensemble de référence}}$$"
      ]
    },
    {
      "cell_type": "code",
      "execution_count": null,
      "metadata": {
        "colab": {
          "base_uri": "https://localhost:8080/"
        },
        "id": "3owRHw1D9Fxx",
        "outputId": "2ebbe3d6-4f61-4edc-f148-2ebc1de48443"
      },
      "outputs": [
        {
          "name": "stdout",
          "output_type": "stream",
          "text": [
            "La métrique EM du modèle arrêté selon la fonction de perte est 0.20 %\n",
            "La métrique EM du dernier modèle est 13.40 %\n"
          ]
        }
      ],
      "source": [
        "def compute_em_score(data):\n",
        "    \"\"\"\n",
        "    Évalue la métrique EM du modèle en utilisant la métrique BLEU\n",
        "    Args :\n",
        "        - data : DataFrame contenant les colonnes predictions et ground_truth\n",
        "\n",
        "    Returns :\n",
        "    La métrique EM du modèle en pourcentage\n",
        "    \"\"\"\n",
        "    # TODO\n",
        "    return ((data['predictions'] == data['ground_truth']).sum() / len(data)) * 100\n",
        "    # END TODO\n",
        "\n",
        "print(f\"La métrique EM du modèle arrêté selon la fonction de perte est {compute_em_score(predictions_stopped):.2f} %\")\n",
        "print(f\"La métrique EM du dernier modèle est {compute_em_score(predictions_last):.2f} %\")"
      ]
    },
    {
      "cell_type": "markdown",
      "metadata": {
        "id": "8TlJ99y99Fxy"
      },
      "source": [
        "#### 9.3 Quels problèmes voyez-vous avec cette manière de calculer la performance du modèle ? (1 point)\n",
        "\n",
        "La métrique EM indique que le modèle a réalisé une prédiction correspondant à seulement 0.20% dans le premier cas et 13,40% dans le second, deux valeurs très faibles. Cela suggère que le modèle a des difficultés à apprendre les correspondances appropriées. En effet, l'EM compare directement les prédictions aux labels de vérité de base, ce qui signifie qu'une prédiction est considérée comme correcte uniquement si elle correspond exactement au label attendu.\n",
        "\n",
        "Cette approche peut poser des problèmes dans des situations où une légère variation de la réponse est acceptable, mais qui est pourtant jugée incorrecte. De plus, l'EM ne prend pas en compte les prédictions partiellement correctes. Par exemple, si la réponse attendue est une phrase longue et que la prédiction omet un mot, celle-ci sera classée comme incorrecte à 100%, même si elle reste globalement pertinente."
      ]
    },
    {
      "cell_type": "markdown",
      "metadata": {
        "id": "v5TGstQP9Fxy"
      },
      "source": [
        "#### 9.4 Métrique BLEU (4 points)\n",
        "Pour pallier à ce problème, la métrique BLEU sera utilisée puisqu'elle est basée sur le nombre de n-gramme qui sont présents dans les prédictions et les séquences voulues. La formule est donnée ci-dessous :\n",
        "$$BLEU = BP * exp \\Big( \\sum_{n=1}^{N} w_n \\log p_n \\Big)$$\n",
        "\n",
        "Considérant que $r$ est la phrase de référence (voulue) et $c$ la phrase générée (candidate), $p_n$ est la précision modifiée pour le n-gramme (correspondant au ratio de la fréquence maximum du n-gramme dans la phrase de référence par la fréquence du n-gramme):\n",
        "$$p_n = \\frac{\\sum_{\\text{n-gramme} \\in c} \\min\\Big( \\max_{r} \\text{Count$_r$(n-gramme)}, \\text{Count$_c$(n-gramme)} \\Big)}{\\sum_{\\text{n-gramme} \\in c} \\text{Count$_c$(n-gramme)}}$$\n",
        "\n",
        "Notez que le $\\max_{r}$ est présent ici car BLEU accepte plusieurs phrases de référence pour une même phrase générée. Cependant, dans notre cas, il y a seulement une seule phrase de référence.\n",
        "\n",
        "Posons ensuite $|r|$ comme le nombre de mots dans la phrase cible et $|c|$ comme le nombre de mots dans la phrase prédite. Si $c>r$, alors BP vaut 1. Sinon $$BP = exp(1 - \\frac{|r|}{|c|})$$\n",
        "\n",
        "Les valeurs des poids $w_n$ est ce qui donne les différentes variations de la métrique BLEU. Dans notre cas, la métrique BLEU-1 sera utilisée. La valeur maximale du score BLEU est 1 et la valeur minimale est 0.\n",
        "\n",
        "Vous pouvez utiliser la fonction `sentence_bleu` de `nltk` pour calculer votre score BLEU. N'oubliez pas d'enlever les apostrophes et les crochets des générations avant votre calcul."
      ]
    },
    {
      "cell_type": "code",
      "execution_count": null,
      "metadata": {
        "colab": {
          "base_uri": "https://localhost:8080/"
        },
        "id": "dChq1yTK9Fxy",
        "outputId": "570a935f-f889-42a4-8dc0-1018062be2d3"
      },
      "outputs": [
        {
          "name": "stdout",
          "output_type": "stream",
          "text": [
            "Le score BLEU du modèle arrêté selon la fonction de perte est 0.76\n",
            "Le score BLEU du dernier modèle est 0.89.\n"
          ]
        },
        {
          "name": "stderr",
          "output_type": "stream",
          "text": [
            "c:\\Users\\coral\\anaconda3\\Lib\\site-packages\\nltk\\translate\\bleu_score.py:577: UserWarning: \n",
            "The hypothesis contains 0 counts of 3-gram overlaps.\n",
            "Therefore the BLEU score evaluates to 0, independently of\n",
            "how many N-gram overlaps of lower order it contains.\n",
            "Consider using lower n-gram order or use SmoothingFunction()\n",
            "  warnings.warn(_msg)\n",
            "c:\\Users\\coral\\anaconda3\\Lib\\site-packages\\nltk\\translate\\bleu_score.py:577: UserWarning: \n",
            "The hypothesis contains 0 counts of 4-gram overlaps.\n",
            "Therefore the BLEU score evaluates to 0, independently of\n",
            "how many N-gram overlaps of lower order it contains.\n",
            "Consider using lower n-gram order or use SmoothingFunction()\n",
            "  warnings.warn(_msg)\n"
          ]
        }
      ],
      "source": [
        "def compute_bleu(predictions):\n",
        "    \"\"\"\n",
        "    Évalue la précision du modèle en utilisant la métrique BLEU\n",
        "    Args :\n",
        "        - data : DataFrame contenant les colonnes predictions et ground_truth\n",
        "\n",
        "    Returns :\n",
        "        La moyenne du score BLEU\n",
        "    \"\"\"\n",
        "    weights = (1, 0, 0, 0) # Use Bleu-1\n",
        "    # TODO\n",
        "    return np.mean([nltk.translate.bleu_score.sentence_bleu([gt.split()], p.split(), weights=weights) for gt, p in zip(predictions['ground_truth'], predictions['predictions'])])\n",
        "    # END TODO\n",
        "\n",
        "print(f\"Le score BLEU du modèle arrêté selon la fonction de perte est {compute_bleu(predictions_stopped):.2f}\")\n",
        "print(f\"Le score BLEU du dernier modèle est {compute_bleu(predictions_last):.2f}.\")"
      ]
    },
    {
      "cell_type": "markdown",
      "metadata": {
        "id": "rZ2DjH3ZeRVO"
      },
      "source": [
        "#### 9.5 Quel est l'avantage d'utiliser la métrique BLEU par rapport à la métrique EM basée sur la comparaison de chaîne de caractères ? (2 points)\n",
        "\n",
        "La métrique BLEU offre une plus grande flexibilité en évaluant la qualité des prédictions sur la base des n-grammes, ce qui permet de prendre en compte les variations linguistiques. En considérant des sous-unités de texte, BLEU permet qu'une phrase soit partiellement correcte, même si elle n'est pas identique à la vérité de base. De plus, BLEU intègre un composant de précision qui compare le nombre d'n-grammes présents dans les prédictions par rapport à ceux de la vérité de base. Cette approche offre une évaluation de la qualité des informations générées, plutôt que de se limiter à une correspondance exacte. Cela peut expliquer les scores plus élevés obtenus avec BLEU par rapport à ceux de la métrique EM."
      ]
    },
    {
      "cell_type": "markdown",
      "metadata": {
        "id": "f06F1OICfO7_"
      },
      "source": [
        "#### 9.6 Que remarquez-vous par rapport aux performances du modèle arrêté avant le sur-apprentissage selon la fonction de perte versus celles du dernier modèle ? Quelles sont les raisons qui peuvent expliquer cela ? (2 points)\n",
        "\n",
        "Les performances du modèle arrêté après 10 epochs sont inférieures à celles de celui entraîné pendant 30 epochs. Il semble donc que le premier modèle, même si il a été arrêté avant le sur-apprentissage, n’a pas eu suffisamment de temps pour bien généraliser. Par contre, le dernier modèle a tout de même amélioré ses performances en obtenant un score BLEU supérieur.\n",
        "\n",
        "En analysant le graphique de la fonction de perte en entraînement et en validation, on a observé que la validation loss commence à stagner/augmenter vers 10 epochs, indiquant un début de sur-apprentissage. Cependant, ce sur-apprentissage ne semble pas corréler avec les scores BLEU obtenus. Donc on voit que la minimisation de la loss (l'entropie dans notre cas) n'est pas toujours bien corrélée avec l’optimisation du score BLEU. Ce score est l’indicateur de performance que nous cherchons à maximiser, car il est mieux adapté pour évaluer la qualité des prédictions. La perte peut diminuer même si le modèle commence à sur-apprendre, mais le score BLEU montre que les prédictions se rapprochent de plus en plus des données cibles avec un entraînement plus poussé, jusqu’à un certain point. Donc, un entraînement prolongé, bien que conduisant à un sur-apprentissage léger, a permis au modèle de capturer davantage de nuances et de variations dans les données d'entraînement, optimisant ainsi le score BLEU."
      ]
    },
    {
      "cell_type": "markdown",
      "metadata": {
        "id": "C2cXyEuA9Fxy"
      },
      "source": [
        "### 10. Exploration (4 points)"
      ]
    },
    {
      "cell_type": "markdown",
      "metadata": {
        "id": "U99e4YjL9Fxy"
      },
      "source": [
        "#### 10.1 Explorez les générations actuelles de votre modèle et ressortez 2 problèmes que le modèle a lors de la génération qui font diminuer son score BLEU. (2 points)\n",
        "Lors de la génération, le modèle peut parfois ignorer certains mots ou expressions importants qui sont présents dans la phrase de référence. Ces omissions peuvent être dues à une difficulté à retenir certaines informations sur de longues séquences ou à une attention insuffisante sur les parties clés du texte d'entrée. Par exemple, si la phrase de référence contient une liste d'éléments et que le modèle en omet un, le score BLEU sera pénalisé, car les n-grammes ne correspondent pas.\n",
        "\n",
        "Le modèle peut reformuler certaines parties de la phrase en utilisant des synonymes ou des structures syntaxiques différentes. Bien que ces reformulations puissent être correctes sur le plan linguistique, elles entraînent une baisse du score BLEU, qui repose sur des correspondances exactes de n-grammes entre la prédiction et la référence. Par exemple, si la référence est \"le chien court rapidement\" et que le modèle génère \"le chien court vite\", le sens est préservé, mais la différence d'expression peut réduire le score BLEU."
      ]
    },
    {
      "cell_type": "markdown",
      "metadata": {
        "id": "JfdKeifU9Fxy"
      },
      "source": [
        "#### 10.2 Amélioration des métriques (2 points)\n",
        "L'exemple ci-dessous montre 2 générations de 2 modèles pour la phrase \"A dog is eating a flower\". Bien que la génération du modèle 2 soit beaucoup plus proche sémantiquement de la référence que celle du modèle 1, la métrique BLEU retourne 0.0 dans les deux cas. En effet, puisque la métrique ne compare que les n-grammes, la prédiction du modèle 2 est quand même de 0, car aucun des mots dans la prédiction ne sont présents dans les concepts voulus."
      ]
    },
    {
      "cell_type": "code",
      "execution_count": null,
      "metadata": {
        "colab": {
          "base_uri": "https://localhost:8080/"
        },
        "id": "Gd8Y64Pv9Fxy",
        "outputId": "475dccf0-52c5-4025-a083-10463fab3cf9"
      },
      "outputs": [
        {
          "name": "stdout",
          "output_type": "stream",
          "text": [
            "Concepts voulus ['dog' 'eat' 'flower']\n",
            "Prédiction du modèle 1 : ['car' 'hit' 'person']\n",
            "BLEU : 0.00\n",
            "Prédiction du modèle 2 : ['animal' 'eating' 'plant']\n",
            "BLEU : 0.00\n"
          ]
        }
      ],
      "source": [
        "ground_truth = \"['dog' 'eat' 'flower']\"\n",
        "\n",
        "prediction_1 = \"['car' 'hit' 'person']\"\n",
        "preds = pd.DataFrame({'predictions': [prediction_1], 'ground_truth': [ground_truth]})\n",
        "\n",
        "print(f\"Concepts voulus {ground_truth}\")\n",
        "print(f\"Prédiction du modèle 1 : {prediction_1}\")\n",
        "print(f\"BLEU : {compute_bleu(preds):.2f}\")\n",
        "\n",
        "prediction_2 = \"['animal' 'eating' 'plant']\"\n",
        "preds = pd.DataFrame({'predictions': [prediction_2], 'ground_truth': [ground_truth]})\n",
        "\n",
        "print(f\"Prédiction du modèle 2 : {prediction_2}\")\n",
        "print(f\"BLEU : {compute_bleu(preds):.2f}\")"
      ]
    },
    {
      "cell_type": "markdown",
      "metadata": {
        "id": "OLVBUJ2e9Fxy"
      },
      "source": [
        "Proposez (sans l'implémenter) une meilleure métrique pour évaluer les modèles face à cette tâche d'extraction qui donnerait un score plus élevé à la prédiction du modèle 2.\n",
        "\n",
        "BERTScore : Cette métrique utilise des représentations sémantiques des mots via des embeddings de BERT. Contrairement à BLEU, elle évalue la similarité en mesurant les similarités cosinus entre les vecteurs des jetons. Cela permettrait à la prédiction du modèle 2 (\"animal\" - \"dog\" et \"eating\" - \"eat\") d'obtenir un score plus élevé, car BERTScore évalue les similarités contextuelles et sémantiques entre les jetons. Pour inclure les n-grammes, on peut adapter la métrique en effectuant des moyennes de similarités sur des paires d'expressions multi-mots, permettant de capturer des relations contextuelles qui se manifestent mieux à travers des séquences plus longues (comme \"eat\" et \"eating food\")."
      ]
    }
  ],
  "metadata": {
    "accelerator": "GPU",
    "colab": {
      "gpuType": "T4",
      "provenance": []
    },
    "kernelspec": {
      "display_name": "Python 3",
      "language": "python",
      "name": "python3"
    },
    "language_info": {
      "codemirror_mode": {
        "name": "ipython",
        "version": 3
      },
      "file_extension": ".py",
      "mimetype": "text/x-python",
      "name": "python",
      "nbconvert_exporter": "python",
      "pygments_lexer": "ipython3",
      "version": "3.10.0"
    }
  },
  "nbformat": 4,
  "nbformat_minor": 0
}
