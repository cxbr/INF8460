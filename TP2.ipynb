{
 "cells": [
  {
   "cell_type": "markdown",
   "metadata": {
    "id": "iJLLyHwj4UOK"
   },
   "source": [
    "##### INF8460 – Traitement automatique de la langue naturelle - Automne 2024\n",
    "\n",
    "## TP2: Plongements de mots"
   ]
  },
  {
   "cell_type": "markdown",
   "metadata": {
    "id": "z-IQen664UOT"
   },
   "source": [
    "### Objectif du TP\n",
    "\n",
    "L'objectif de ce TP est d'entraîner un modèle de plongements lexicaux qui intègre des notions de synonymie et d'antonymie en utilisant des réseaux de neurones.\n",
    "\n",
    "Contrairement aux plongements vus en cours comme GloVe ou Word2Vec, qui positionnent souvent les mots à proximité équivalente de leurs synonymes et antonymes, nous chercherons à faire distinguer à nos modèles les synonymes et antonymes, en rapprochant les mots de leurs synonymes et en les éloignant de leurs antonymes.\n",
    "\n",
    "### Jeux de données\n",
    "\n",
    "**Paires de synonymes et antonymes** (entraînement) : Les fichiers `train_synonyms.txt` et `train_antonymms.txt` contiennent les paires de synonymes et d'antonymes qui serviront à l'entraînement de nos modèles.\n",
    "- train_synonyms: ~640k paires de synonymes\n",
    "- train_antonyms: ~12k paires d'antonymes\n",
    "\n",
    "**SimLex-999** (test) : Le fichier `simlex_english.txt` contient 1000 paires de mots et leur similarité entre 0 et 10. Des antonymes auront une similarité de 0 et des mots proches auront une similarité plus élevée. Par exemples :\n",
    "\n",
    "- *nice* & *cruel* -> 0\n",
    "- *violent* & *angry* -> 5.9\n",
    "- *essential* & *necessary* -> 9.8\n",
    "\n",
    "### Développement du TP\n",
    "\n",
    "Le TP suivra les étapes suivantes:\n",
    "\n",
    "- Partie 1 : Familiarisation avec GloVe, modèle de plongements de mots pré-entraîné\n",
    "- Partie 2 : Évaluation de GloVe sur SimLex-999\n",
    "- Partie 3 : Mise en place de la méthode d'entraînement\n",
    "- Partie 4 : Entraînement de zéro (baseline)\n",
    "- Partie 5 : Entraînement utilisant GloVe pré-entraîné et conclusion\n",
    "\n",
    "Le TP est noté sur 89 points."
   ]
  },
  {
   "cell_type": "markdown",
   "metadata": {
    "id": "Hq58QYRY4UOV"
   },
   "source": [
    "### Librairies autorisées\n",
    "\n",
    "+ numpy\n",
    "+ pandas\n",
    "+ torch\n",
    "+ matplotlib\n",
    "\n",
    "Si vous voulez utiliser une autre librairie, veuillez demander à votre chargé de lab.\n",
    "\n",
    "### Imports\n",
    "\n",
    "Les imports effectués dans la cellule suivante devraient être suffisants pour faire tout ce TP."
   ]
  },
  {
   "cell_type": "code",
   "execution_count": 1,
   "metadata": {
    "id": "5gEGQz1z4UOZ"
   },
   "outputs": [],
   "source": [
    "from tqdm import tqdm\n",
    "import gc\n",
    "\n",
    "import numpy as np\n",
    "import pandas as pd\n",
    "import matplotlib.pyplot as plt\n",
    "\n",
    "import torch\n",
    "import torch.nn as nn\n",
    "import torch.nn.functional as F\n",
    "import torch.optim as optim\n",
    "from torch.utils.data import DataLoader"
   ]
  },
  {
   "cell_type": "markdown",
   "metadata": {
    "id": "bY8YOHU44UOa"
   },
   "source": [
    "### 1. GloVe (10 Points)"
   ]
  },
  {
   "cell_type": "markdown",
   "metadata": {
    "id": "P0Bx4JDA4UOc"
   },
   "source": [
    "Dans ce TP, nous allons utiliser le modèle pré-entraîné GloVe qui crée des plongements lexicaux de mots."
   ]
  },
  {
   "cell_type": "markdown",
   "metadata": {
    "id": "bDd-64-E4UOd"
   },
   "source": [
    "#### 1.1 Chargement du modèle\n",
    "\n",
    "La cellule suivante permet charger le modèle GloVe pré-entraîné. Le chargement du modèle peut prendre quelques minutes."
   ]
  },
  {
   "cell_type": "code",
   "execution_count": 2,
   "metadata": {
    "id": "7AJHEYQU4UOe"
   },
   "outputs": [],
   "source": [
    "# # Décommenter pour télécharger les GloVe embeddings à partir de https://nlp.stanford.edu/projects/glove/\n",
    "# !wget http://nlp.stanford.edu/data/glove.42B.300d.zip -P /content\n",
    "# !unzip /content/glove.42B.300d.zip -d /content"
   ]
  },
  {
   "cell_type": "code",
   "execution_count": 3,
   "metadata": {
    "id": "1kyd1FKm4UOi"
   },
   "outputs": [],
   "source": [
    "pretrained_model_path = 'glove.42B.300d.txt'\n",
    "\n",
    "data_root = 'data'\n",
    "\n",
    "train_synonyms_path = f\"{data_root}/train_synonyms.txt\"\n",
    "train_antonyms_path = f\"{data_root}/train_antonyms.txt\"\n",
    "\n",
    "eval_simlex = f'{data_root}/simlex_english.txt'"
   ]
  },
  {
   "cell_type": "code",
   "execution_count": 4,
   "metadata": {
    "id": "9sEkigeB4UOj"
   },
   "outputs": [],
   "source": [
    "def load_word_vectors(filepath, vocab=None):\n",
    "    \"\"\"\n",
    "    Télécharge le modèle pré-entraîné de plongements de mots en pytorch\n",
    "    \"\"\"\n",
    "    word_to_index = {}\n",
    "    embeddings = []\n",
    "    index = 0\n",
    "\n",
    "    with open(filepath, 'r', encoding='utf-8') as f:\n",
    "        for line in f:\n",
    "            split_line = line.split()\n",
    "            word = split_line[0]\n",
    "            if vocab is None or word in vocab:\n",
    "                embedding = np.array(split_line[1:], dtype=np.float32)\n",
    "                word_to_index[word] = index\n",
    "                embeddings.append(embedding)\n",
    "                index += 1\n",
    "\n",
    "    embeddings = np.stack(embeddings)\n",
    "    embeddings = torch.from_numpy(embeddings)\n",
    "    return word_to_index, embeddings"
   ]
  },
  {
   "cell_type": "code",
   "execution_count": 5,
   "metadata": {
    "id": "ZNO5zBi04UOk"
   },
   "outputs": [],
   "source": [
    "word_to_index, embeddings = load_word_vectors(pretrained_model_path)"
   ]
  },
  {
   "cell_type": "markdown",
   "metadata": {
    "id": "WU8iSDuT4UOk"
   },
   "source": [
    "#### 1.2 Implémentez la fonction `cosine_similarity` avec pytorch et sans utiliser `torch.nn.CosineSimilarity` (2 points)"
   ]
  },
  {
   "cell_type": "code",
   "execution_count": 6,
   "metadata": {
    "id": "BjWsaUIO4UOl"
   },
   "outputs": [],
   "source": [
    "def cosine_similarity(a, b):\n",
    "    \"\"\"\n",
    "    Calcule la matrice de similarité cosinus entre deux matrices\n",
    "\n",
    "    Args :\n",
    "        a   : torch.Tensor, shape=(n, d)\n",
    "        b   : torch.Tensor, shape=(m, d)\n",
    "\n",
    "    Returns:\n",
    "    torch.Tensor, shape=(n, m)\n",
    "    \"\"\"\n",
    "    # TODO\n",
    "    dot_product = torch.matmul(a, b.T)\n",
    "    a_norm = torch.norm(a, dim=1, keepdim=True)\n",
    "    b_norm = torch.norm(b, dim=1, keepdim=True)\n",
    "    return dot_product / (a_norm * b_norm)\n",
    "    # END TODO"
   ]
  },
  {
   "cell_type": "markdown",
   "metadata": {
    "id": "HDabQk8s4UOl"
   },
   "source": [
    "#### 1.3 Complétez la fonction `n_closest_vect` qui retourne les n mots les plus proches d'un mot donné. (5 points)\n",
    "\n",
    "`n_closest_vect` prendra en entrée la matrice des plongements `embeddings`, le dictionnaire de correspondance entre les mots et les indices `word_to_index`, le plongement d'un mot `word` et le nombre `n` de mots attendus. La fonction devra retourner la liste des mots dont les plongements sont les plus proches du vecteur de référence et leur similarité cosinus.\n",
    "\n",
    "C'est-à-dire les n mots avec lesquels le mot a la plus grande similarité cosinus. Utilisez la fonction `cosine_similarity` que vous venez d'implémenter."
   ]
  },
  {
   "cell_type": "code",
   "execution_count": 7,
   "metadata": {
    "id": "pSw6etPs4UOm"
   },
   "outputs": [],
   "source": [
    "def n_closest_vect(embeddings, word_to_index, word, n=5):\n",
    "    \"\"\"\n",
    "    Trouve les n mots les plus proches du vecteur donné et leur similarité\n",
    "\n",
    "    Args :\n",
    "        embeddings      : torch.Tensor, shape=(vocab_size, embedding_dim)\n",
    "        Matrice de plongement de tous les mots\n",
    "\n",
    "        word_to_index   : dict\n",
    "        Dictionnaire qui relie un mot à son index dans le vocabulaire\n",
    "\n",
    "        word            : torch.Tensor, shape=(embedding_dim,)\n",
    "        Plongement du mot dont on cherche les n mots les plus proches\n",
    "\n",
    "        n               : int, number of closest words to return\n",
    "        Nombre de mots à retourner\n",
    "\n",
    "    Returns:\n",
    "    Liste de tuple contenant les n mots les plus similaires avec leur coefficient\n",
    "    de similarité\n",
    "    \"\"\"\n",
    "    # TODO\n",
    "    similarities = cosine_similarity(embeddings, word.unsqueeze(0)).squeeze()\n",
    "    sorted_similarities, indices = torch.sort(similarities, descending=True)\n",
    "    index_to_word = list(word_to_index.keys())\n",
    "    top_n_similar_words = [\n",
    "        (index_to_word[idx], float(sorted_similarities[i]))\n",
    "        for i, idx in enumerate(indices[:n])\n",
    "    ]\n",
    "    return top_n_similar_words\n",
    "    # END TODO"
   ]
  },
  {
   "cell_type": "code",
   "execution_count": 8,
   "metadata": {
    "id": "qWaBjntH4UOm"
   },
   "outputs": [
    {
     "name": "stdout",
     "output_type": "stream",
     "text": [
      "[('morning', 1.0), ('afternoon', 0.8665472865104675), ('evening', 0.7880071401596069), ('yesterday', 0.7614549994468689), ('sunday', 0.7548925280570984)]\n"
     ]
    }
   ],
   "source": [
    "# Exemple\n",
    "print(n_closest_vect(embeddings, word_to_index, embeddings[word_to_index['morning']]))"
   ]
  },
  {
   "cell_type": "markdown",
   "metadata": {
    "id": "uCOD3Dno4UOn"
   },
   "source": [
    "Sortie attendue :\n",
    "```\n",
    "[('morning', 1.0), ('afternoon', 0.8665473461151123), ('evening', 0.7880070209503174), ('yesterday', 0.7614548206329346), ('sunday', 0.7548925876617432)]\n",
    "```"
   ]
  },
  {
   "cell_type": "markdown",
   "metadata": {
    "id": "N3X_txt84UOn"
   },
   "source": [
    "#### 1.4 Quelle est la similarité cosinus entre 'fast' et 'slow' ? Entre 'fast' et 'rapid' ? Commentez les résultats et expliquez leur origine. (3 points)"
   ]
  },
  {
   "cell_type": "code",
   "execution_count": 9,
   "metadata": {
    "id": "yPj8NlvT4UOo"
   },
   "outputs": [
    {
     "name": "stdout",
     "output_type": "stream",
     "text": [
      "Similarité entre 'fast' et 'slow' : 0.7113727331161499\n",
      "Similarité entre 'fast' et 'rapid' : 0.6445335149765015\n",
      "Même si 'fast' et 'slow' sont des antonymes, leur co-occurrence fréquente dans des contextes similaires les rapproche dans l'espace d'embeddings, d'où une similarité cosinus relativement élevée.\n",
      "'fast' et 'rapid,' en tant que synonymes, apparaissent dans des contextes similaires et donc ont également une forte similarité cosinus.\n",
      "Ces résultats illustrent comment les embeddings de mots capturent à la fois la similarité contextuelle et la relation sémantique, et non uniquement la polarité (opposition ou synonymie) des mots.\n"
     ]
    }
   ],
   "source": [
    "# TODO\n",
    "def cosine_similarity_between_2_words(word1, word2, embeddings, word_to_index):\n",
    "    embedding1 = embeddings[word_to_index[word1]].unsqueeze(0)\n",
    "    embedding2 = embeddings[word_to_index[word2]].unsqueeze(0)\n",
    "\n",
    "    similarite = cosine_similarity(embedding1, embedding2).item()\n",
    "\n",
    "    print(f\"Similarité entre '{word1}' et '{word2}' : {similarite}\")\n",
    "    return similarite\n",
    "\n",
    "cosine_similarity_between_2_words('fast', 'slow', embeddings, word_to_index)\n",
    "cosine_similarity_between_2_words('fast', 'rapid', embeddings, word_to_index)\n",
    "\n",
    "print(\"Même si 'fast' et 'slow' sont des antonymes, leur co-occurrence fréquente dans des contextes similaires les rapproche dans l'espace d'embeddings, d'où une similarité cosinus relativement élevée.\") \n",
    "print(\"'fast' et 'rapid,' en tant que synonymes, apparaissent dans des contextes similaires et donc ont également une forte similarité cosinus.\")\n",
    "print(\"Ces résultats illustrent comment les embeddings de mots capturent à la fois la similarité contextuelle et la relation sémantique, et non uniquement la polarité (opposition ou synonymie) des mots.\")\n",
    "# END TODO"
   ]
  },
  {
   "cell_type": "markdown",
   "metadata": {
    "id": "Oc6jLltQ4UOo"
   },
   "source": [
    "### 2. Évaluation (12 Points)\n",
    "\n",
    "#### Données\n",
    "\n",
    "Les cellules qui suivent permettent de télécharger les données et de se restreindre au vocabulaire qui nous sera utile, pour éviter de charger des plongements inutiles.\n",
    "\n",
    "Comme décrit dans l'introduction, nous avons 3 fichiers de données:\n",
    "- Des paires de synonymes pour l'entraînement (`train_synonyms.txt`)\n",
    "- Des paires d'antonymes pour l'entraînement (`train_antonymms.txt`)\n",
    "- Des paires de mots avec leur similarité pour l'évaluation (`simlex_english.txt`)"
   ]
  },
  {
   "cell_type": "code",
   "execution_count": 10,
   "metadata": {
    "id": "iKF1eprf4UOp"
   },
   "outputs": [],
   "source": [
    "def load_data(filepath):\n",
    "    \"\"\"\n",
    "    Télécharge les paires de synonymes et antonymes\n",
    "    \"\"\"\n",
    "    data = []\n",
    "    with open(filepath, 'r', encoding='utf-8') as f:\n",
    "        for line in f:\n",
    "            pair = line.strip().split()\n",
    "            assert pair[0].startswith('en_') and pair[0].startswith('en_')\n",
    "            data.append((pair[0][3:], pair[1][3:]))\n",
    "    return data\n",
    "\n",
    "def data_to_tensor(data, word_to_index):\n",
    "    indices = [word_to_index[word] for pair in data for word in pair if word in word_to_index]\n",
    "    return torch.tensor(indices).view(-1, 2)"
   ]
  },
  {
   "cell_type": "code",
   "execution_count": 11,
   "metadata": {
    "id": "AKZh2Y_A4UOp"
   },
   "outputs": [],
   "source": [
    "# Données d'entraînement\n",
    "train_synonyms = load_data(train_synonyms_path)\n",
    "train_antonyms = load_data(train_antonyms_path)\n",
    "\n",
    "# Données d'évaluation\n",
    "evaluation_simlex = pd.read_csv(eval_simlex, sep='\\t') # pd dataframe with columns 'word 1', 'word 2', 'score'\n",
    "\n",
    "# On se restreint au vocabulaire qu'on va utiliser pour éviter de charger des embeddings inutiles\n",
    "vocab = set([word for pair in train_synonyms + train_antonyms for word in pair])\n",
    "eval_vocab = set(evaluation_simlex['word 1']).union(set(evaluation_simlex['word 2']))\n",
    "vocab.update(eval_vocab)\n",
    "\n",
    "glove_word_to_index, glove_embeddings = load_word_vectors(pretrained_model_path, vocab)"
   ]
  },
  {
   "cell_type": "markdown",
   "metadata": {
    "id": "dQ5xXqrg4UOp"
   },
   "source": [
    "#### 2.1 Observation du jeu de données SimLex-999. (2 points)\n",
    "\n",
    "Affichez l'histogramme de fréquence des scores de similarité dans le jeu de données SimLex-999. Utilisez `bins=40`. Votre axe des x doit représenter le score de similarité et votre axe des y doit représenter la fréquence. Comment interpréter un score de 0?"
   ]
  },
  {
   "cell_type": "code",
   "execution_count": 12,
   "metadata": {
    "id": "92noQia74UOq"
   },
   "outputs": [
    {
     "data": {
      "image/png": "[encoded data removed]",
      "text/plain": [
       "<Figure size 640x480 with 1 Axes>"
      ]
     },
     "metadata": {},
     "output_type": "display_data"
    },
    {
     "name": "stdout",
     "output_type": "stream",
     "text": [
      "Un score de 0 signifie qu'il n'y a aucune similarité sémantique entre les deux mots dans SimLex-999. Cela montre qu'ils ne partagent pas de contexte commun ou qu'ils sont complètement différents dans leur usage.\n"
     ]
    }
   ],
   "source": [
    "# TODO\n",
    "plt.hist(evaluation_simlex['score'], bins=40)\n",
    "plt.xlabel(\"Score de similarité\")\n",
    "plt.ylabel(\"Fréquence\")\n",
    "plt.title(\"Histogramme des scores de similarité de SimLex-999\")\n",
    "plt.show()\n",
    "\n",
    "print(\"Un score de 0 signifie qu'il n'y a aucune similarité sémantique entre les deux mots dans SimLex-999. Cela montre qu'ils ne partagent pas de contexte commun ou qu'ils sont complètement différents dans leur usage.\")\n",
    "# END TODO"
   ]
  },
  {
   "cell_type": "markdown",
   "metadata": {
    "id": "URF82j9D4UOq"
   },
   "source": [
    "#### 2.2 Corrélation de Spearman\n",
    "\n",
    "\n",
    "La corrélation de Spearman est une mesure de la relation monotone entre deux variables $x$ et $y$. Elle est comprise entre -1 et 1. Plutôt que de comparer les valeurs brutes des variables, elle compare leurs rangs. Elle est calculée comme suit :\n",
    "$$\\rho (x, y) = 1 - \\frac{6 \\sum_{i=1}^n (r_{x_i} - r_{y_i})^2}{n(n^2 - 1)}$$\n",
    "où $r_{x_i}$ est le rang de la i-ème valeur de la variable x, $r_{y_i}$ est le rang de la i-ème valeur de la variable y, $n$ est le nombre total de paires d'observations $(x, y)$.\n",
    "\n",
    "Les rangs sont attribués en ordonnant les valeurs de chaque variable du plus petit au plus grand. La plus petite valeur reçoit le rang 1, la suivante le rang 2, et ainsi de suite.\n",
    "\n",
    "##### Expliquez pourquoi on utilise la corrélation de Spearman plutôt que la corrélation entre les valeurs des variables. (3 points)\n"
   ]
  },
  {
   "cell_type": "markdown",
   "metadata": {},
   "source": [
    "La corrélation de Spearman utilise les rangs des valeurs, ce qui réduit l'impact des valeurs extrêmes (outliers) par rapport à la corrélation de Pearson. De plus, Spearman capture la tendance croissante ou décroissante entre deux variables, même si la relation n'est pas linéaire. Enfin, Spearman ne suppose aucune distribution spécifique des données, ce qui le rend adapté aux données non normalement distribuées ou avec des relations complexes."
   ]
  },
  {
   "cell_type": "markdown",
   "metadata": {
    "id": "8Vk1ArgK4UOr"
   },
   "source": [
    "#### 2.3 Implémentation de la corrélation de Spearman (2 points)\n",
    "\n",
    "Complétez la fonction suivante pour calculer la corrélation de Spearman entre deux listes de valeurs."
   ]
  },
  {
   "cell_type": "code",
   "execution_count": 13,
   "metadata": {
    "id": "0JyPFdai4UOr"
   },
   "outputs": [],
   "source": [
    "def spearman_rank_correlation(x, y):\n",
    "    \"\"\"\n",
    "    Calcule la corrélation de Spearman entre deux listes de valeurs.\n",
    "\n",
    "    Args:\n",
    "        x   : list of float\n",
    "        y   : list of float\n",
    "\n",
    "    Returns:\n",
    "    La corrélation de Spearman entre les deux listes (float).\n",
    "    \"\"\"\n",
    "    # TODO\n",
    "    x_rank = np.argsort(np.argsort(x))\n",
    "    y_rank = np.argsort(np.argsort(y))\n",
    "    n = len(x)\n",
    "    d = np.sum((x_rank - y_rank) ** 2)\n",
    "    spearman_corr = 1 - (6 * d) / (n * (n ** 2 - 1))\n",
    "    return spearman_corr\n",
    "    # END TODO"
   ]
  },
  {
   "cell_type": "markdown",
   "metadata": {
    "id": "OcVCighu4UOs"
   },
   "source": [
    "#### 2.4 Évaluation du modèle GloVe (2 points)\n",
    "\n",
    "\n",
    "Retrouvez les plongements du modèle GloVe de tous les mots du jeu de données SimLex-999, puis calculez la similarité cosinus entre les paires.\n",
    "\n",
    "Calculez ensuite la corrélation de Spearman entre les scores de simlex et les similarités cosinus obtenues et affichez-la."
   ]
  },
  {
   "cell_type": "code",
   "execution_count": 14,
   "metadata": {
    "id": "3V0eoUFw4UOs"
   },
   "outputs": [
    {
     "name": "stdout",
     "output_type": "stream",
     "text": [
      "Corrélation de Spearman : 0.29\n"
     ]
    }
   ],
   "source": [
    "# TODO\n",
    "similarities = []\n",
    "simlex_scores = evaluation_simlex['score'].tolist()\n",
    "\n",
    "for _, row in evaluation_simlex.iterrows():\n",
    "    word1, word2 = row['word 1'], row['word 2']\n",
    "    if word1 in glove_word_to_index and word2 in glove_word_to_index:\n",
    "        idx1 = glove_word_to_index[word1]\n",
    "        idx2 = glove_word_to_index[word2]\n",
    "        embedding1 = glove_embeddings[idx1]\n",
    "        embedding2 = glove_embeddings[idx2]\n",
    "        cos_sim = torch.nn.functional.cosine_similarity(embedding1.unsqueeze(0), embedding2.unsqueeze(0)).item()\n",
    "        similarities.append(cos_sim)\n",
    "    else:\n",
    "        similarities.append(0)\n",
    "\n",
    "spearman_corr = float(spearman_rank_correlation(similarities, simlex_scores))\n",
    "print(f\"Corrélation de Spearman : {spearman_corr:.2f}\")\n",
    "# END TODO"
   ]
  },
  {
   "cell_type": "markdown",
   "metadata": {
    "id": "IPJ5JKOn4UOt"
   },
   "source": [
    "Résultat attendu: 0.29"
   ]
  },
  {
   "cell_type": "markdown",
   "metadata": {
    "id": "8zR5Y7ST4UOu"
   },
   "source": [
    "#### 2.5 Interprétation du résultat (3 points)\n",
    "\n",
    "Qu'est ce que ce nombre représente et que peut-on en conclure sur la qualité des plongements GloVe (2 conclusions) ?\n",
    "\n",
    "La corrélation de Spearman mesure à quel point les rangs des similarités cosinus (calculées avec GloVe) sont alignés avec les rangs des scores de SimLex-999, qui sont des jugements humains sur la similarité entre les mots. Une corrélation de 0.29 indique qu'il y a une certaine correspondance entre les deux, mais cette relation est loin d'être parfaite. En d'autres termes, GloVe capte une partie des similarités sémantiques, mais pas toutes.\n",
    "\n",
    "Les plongements GloVe capturent des relations sémantiques : Une corrélation positive (0.29) signifie que GloVe parvient à capturer une partie des relations sémantiques entre les mots, alignant leurs similarités cosinus avec celles jugées par les humains. Cela montre que GloVe réussit à modéliser certaines relations contextuelles et sémantiques entre les mots.\n",
    "Les plongements GloVe ont des limites dans la capture des nuances sémantiques : Une corrélation de 0.29 reste relativement faible, ce qui suggère que GloVe ne parvient pas à capturer toutes les nuances de la similarité sémantique perçue par les humains. Cela peut être dû au fait que GloVe est basé sur des co-occurrences statiques de mots dans un corpus, ce qui peut limiter sa capacité à capturer des relations complexes, comme les ambiguïtés contextuelles ou les relations sémantiques profondes entre certains mots."
   ]
  },
  {
   "cell_type": "markdown",
   "metadata": {
    "id": "9w5tVb9l4UOu"
   },
   "source": [
    "### 3. Description de la méthode contrastive (33 Points)\n",
    "\n",
    "Nous allons maintenant implémenter une méthode contrastive de plongements de mots. Elle vise à améliorer les plongements lexicaux de mots en tenant compte des synonymes et antonymes.\n",
    "\n",
    "Notre modèle se basera simplement sur une matrice de plongements de mots, qui associe à chaque mot un vecteur de plongement.\n",
    "\n",
    "L'idée est d'entraîner ce modèle à rapprocher les plongements de synonymes et d'éloigner ceux d'antonymes.\n",
    "\n",
    "La cellule suivante définit le modèle et ses attributs."
   ]
  },
  {
   "cell_type": "code",
   "execution_count": 15,
   "metadata": {
    "id": "7o0TPNjb4UOu"
   },
   "outputs": [],
   "source": [
    "class ContrastiveWordEmbeddingModel(nn.Module):\n",
    "    def __init__(self, embeddings, device='cpu', margin_plus=0.6, margin_minus=0., regularization=1e-9):\n",
    "        super(ContrastiveWordEmbeddingModel, self).__init__()\n",
    "\n",
    "        self.device = device\n",
    "\n",
    "        # Hyperparamètres pour les fonctions de coût\n",
    "        self.margin_plus = margin_plus\n",
    "        self.margin_minus = margin_minus\n",
    "        self.regularization = regularization\n",
    "\n",
    "        # Initialisation des plongements de mots\n",
    "        self.embeddings = nn.Embedding.from_pretrained(embeddings.detach().clone(), freeze=False).to(self.device)\n",
    "        self.original_embeddings = nn.Embedding.from_pretrained(embeddings.detach().clone(), freeze=True).to(self.device)"
   ]
  },
  {
   "cell_type": "markdown",
   "metadata": {
    "id": "DcUz4E7S4UOv"
   },
   "source": [
    "#### 3.1 Création des négatifs\n",
    "\n",
    "Pendant l'entraînement, au lieu de traiter tout le jeu d'entraînement d'un coup, nous allons avoir des lots (batchs) de paires de synonymes $B_S$ et d'antonymes $B_A$.\n",
    "\n",
    "Dans un lot de synonymes, on définit le négatif d'un mot comme le mot du lot le plus proche qui n'est pas dans la même paire. Intuitivement, c'est le mot que le modèle devrait confondre le plus avec le synonyme. Similairement, dans un lot d'antonymes, on définit le négatif d'un mot comme le mot du lot le plus éloigné qui n'est pas dans la même paire.\n",
    "\n",
    "On répète ce processus pour chaque mot de chaque paire de synonymes et d'antonymes.\n",
    "\n",
    "*Attention, un mot peut apparaître plusieurs fois dans un lot avec des synonymes ou antonymes différents, et il ne peut être le négatif d'aucun de ses synonymes, ou antonymes.*\n",
    "\n",
    "##### 3.1.1 Exemple pour illustrer l'implémentation\n",
    "\n",
    "Prenons un exemple avec un lot $B_S$ de synonymes de taille 3. On veut construire le lot de négatifs $T_S$\n",
    "\n",
    "$B_S$:\n",
    "- (arbre, plante)\n",
    "- (voiture, véhicule)\n",
    "- (arbre, buisson)\n",
    "\n",
    "On a 5 mots uniques dans le lot: arbre, plante, voiture, véhicule, buisson. Supposons que la matrice de similarité cosinus soit la suivante :\n",
    "\n",
    "|       | arbre | plante | voiture | véhicule | buisson |\n",
    "|-------|-------|--------|--------|----------|---------|\n",
    "| arbre | 1     | 0.8    | 0.1    | 0.2      | 0.9     |\n",
    "| plante| 0.8   | 1      | 0.3    | 0.4      | 0.7     |\n",
    "| voiture| 0.1  | 0.3    | 1      | 0.9      | 0.2     |\n",
    "| véhicule| 0.2 | 0.4    | 0.9    | 1        | 0.3     |\n",
    "| buisson| 0.9  | 0.7    | 0.2    | 0.3      | 1       |\n",
    "\n",
    "\n",
    "On commence par calculer les voisins de chaque mot du lot $B_S$. Le voisin d'un mot $m$ est défini comme tout mot qui apparait dans au moins une paire avec $m$ dans $B_S$. Un mot est aussi considéré comme son propre voisin.\n",
    "\n",
    "- voisins de arbre : arbre, plante, buisson\n",
    "- voisins de plante : plante, arbre\n",
    "- voisins de voiture : voiture, véhicule\n",
    "- voisins de véhicule : véhicule, voiture\n",
    "- voisins de buisson : buisson, arbre\n",
    "\n",
    "Après avoir masqué les voisins, la matrice est :\n",
    "\n",
    "|       | arbre | plante | voiture | véhicule | buisson |\n",
    "|-------|-------|--------|--------|----------|---------|\n",
    "| arbre | -inf  | -inf   | 0.1    | 0.2      | -inf    |\n",
    "| plante| -inf  | -inf   | 0.3    | 0.4      | 0.7     |\n",
    "| voiture| 0.1  | 0.3    | -inf   | -inf     | 0.2     |\n",
    "| véhicule| 0.2 | 0.4    | -inf   | -inf     | 0.3     |\n",
    "| buisson| -inf | 0.7    | 0.2    | 0.3      | -inf    |\n",
    "\n",
    "Pour calculer les négatifs, on prend le maximum de chaque ligne (donc le mot le plus similaire qui n'est pas un voisin) :\n",
    "\n",
    "Ici,\n",
    "- le négatif d'arbre est véhicule\n",
    "- le négatif de plante est buisson\n",
    "- le négatif de voiture est plante\n",
    "- le négatif de véhicule est plante\n",
    "- le négatif de buisson est plante\n",
    "\n",
    "En reprenant le batch $B_S$:\n",
    "- (arbre, plante)\n",
    "- (voiture, véhicule)\n",
    "- (arbre, buisson)\n",
    "\n",
    "$T_S$ sera composé de paires composées du négatif de chaque élément de $B_S$ :\n",
    "\n",
    "$B_S$ -> $T_S$\n",
    "- (arbre, plante) $\\rightarrow$ (véhicule, buisson), car le négatif d'arbre est véhicule et le négatif de plante est buisson\n",
    "- (voiture, véhicule) $\\rightarrow$ (plante, plante), car le négatif de voiture est plante et le négatif de véhicule est plante\n",
    "- (arbre, buisson) $\\rightarrow$ (véhicule, plante), car le négatif d'arbre est véhicule et le négatif de buisson est plante\n",
    "\n",
    "$T_S$ sera donc :\n",
    "- (véhicule, buisson)\n",
    "- (plante, plante)\n",
    "- (véhicule, plante)"
   ]
  },
  {
   "cell_type": "markdown",
   "metadata": {
    "id": "TWsg18tP4UOw"
   },
   "source": [
    "##### 3.1.2 Implémentez la fonction `prepare_neighbors` qui renvoit la liste des voisins de chaque mot dans le lot. (4 points)\n",
    "\n",
    "Les voisins d'un mot $m$ sont tous les mots du lot qui apparaissent dans au moins une paire avec $m$. Utilisez les bons indices (indice dans la matrice d'embeddings et indice dans le lot). Le résultat est une liste de liste de voisins, où `neighbors[i]` est la liste des voisins du mot `i` dans le lot."
   ]
  },
  {
   "cell_type": "code",
   "execution_count": 16,
   "metadata": {
    "id": "cnnnc29L4UOx"
   },
   "outputs": [],
   "source": [
    "def prepare_neighbors(index_pairs, unique_idx, index_to_idx):\n",
    "    \"\"\"\n",
    "    Prépare les voisins pour chaque mot dans les paires de mots.\n",
    "\n",
    "    Args :\n",
    "        index_pairs     : torch.Tensor de seconde dimension 2\n",
    "        Tensor contenant les indices des embeddings des mots dans le vocabulaire.\n",
    "        Des indices qui sont reliés ensemble par une ligne dans ce tenseur ont\n",
    "        une relation sémantique entre eux (synonymes ou antonymes).\n",
    "\n",
    "        unique_idx      : set\n",
    "        Ensemble de tous les indices qui sont mentionnés dans la liste `index_pairs`.\n",
    "\n",
    "        index_to_idx    : dict\n",
    "        Dictionnaire associant un indice mentionné dans `index_pairs` à son indice dans\n",
    "        la liste qui sera retournée. Par exemple, si dans ce dictionnaire, la clé 4 est\n",
    "        associée à la valeur 12, cela veut dire que les voisins du mot 4 dans le vocabulaire\n",
    "        seront retournés à l'indice 12 dans la liste de retour.\n",
    "\n",
    "    Returns:\n",
    "    Une liste où chaque élément est une liste des indices des voisins pour chaque mot (l'indice dans la liste correspond à l'indice unique).\n",
    "    \"\"\"\n",
    "    # TODO\n",
    "    neighbors = [[] for _ in range(len(unique_idx))]\n",
    "    for idx1, idx2 in index_pairs.tolist():\n",
    "        idx1_mapped = index_to_idx[idx1]\n",
    "        idx2_mapped = index_to_idx[idx2]\n",
    "        neighbors[idx1_mapped].append(idx1_mapped)\n",
    "        neighbors[idx1_mapped].append(idx2_mapped)\n",
    "        neighbors[idx2_mapped].append(idx2_mapped)\n",
    "        neighbors[idx2_mapped].append(idx1_mapped)\n",
    "    return neighbors\n",
    "    # END TODO"
   ]
  },
  {
   "cell_type": "code",
   "execution_count": 17,
   "metadata": {
    "id": "9RKXPJTP4UOy"
   },
   "outputs": [
    {
     "name": "stdout",
     "output_type": "stream",
     "text": [
      "[[0, 2], [1, 4], [2, 0, 2, 3], [3, 2], [4, 1]]\n"
     ]
    }
   ],
   "source": [
    "# Exemple\n",
    "index_pairs = torch.tensor([[0, 12], [12, 31], [53, 4]])\n",
    "unique_idx = {0, 4, 12, 31, 53}\n",
    "index_to_idx = {0: 0, 4: 1, 12: 2, 31: 3, 53: 4}\n",
    "print(prepare_neighbors(index_pairs, unique_idx, index_to_idx))"
   ]
  },
  {
   "cell_type": "markdown",
   "metadata": {
    "id": "rNiMyRvc4UPD"
   },
   "source": [
    "Réponse attendue\n",
    "\n",
    "`[[0, 2], [1, 4], [2, 0, 2, 3], [3, 2], [4, 1]]`"
   ]
  },
  {
   "cell_type": "markdown",
   "metadata": {
    "id": "A9ZHPDjo4UPD"
   },
   "source": [
    "##### 3.1.3 Implémentez la fonction `select_negatives` qui renvoit un dictionnaire qui associe à chaque élément son négatif. (4 points)\n",
    "\n",
    "Pour chaque élément du lot, on cherche le voisin le plus proche qui n'est pas le voisin de l'autre élément de la paire.\n",
    "\n",
    "Utilisez un masque pour cacher, dans la matrice de similarité, les voisins.\n",
    "\n",
    "La fonction utilise un paramètre `synonym` qui indique si on travaille sur un lot de synonymes ou d'antonymes. En cas de synonymes, on cherche le voisin le plus proche qui n'est pas un voisin de l'autre élément de la paire. En cas d'antonymes, on cherche le voisin le plus éloigné qui n'est pas un voisin de l'autre élément de la paire."
   ]
  },
  {
   "cell_type": "code",
   "execution_count": 18,
   "metadata": {
    "id": "mvt4_q7F4UPE"
   },
   "outputs": [],
   "source": [
    "def select_negatives(indices, similarity_matrix, neighbors, synonym=True):\n",
    "    \"\"\"\n",
    "    Sélectionne les exemples négatifs à partir de la matrice de similarité et des voisins.\n",
    "\n",
    "    Args :\n",
    "        indices             : torch.Tensor (vocab_size)\n",
    "        Indices des mots présents dans le vocabulaires\n",
    "\n",
    "        similarity_matrix   : torch.Tensor (vocab_size, vocab_size)\n",
    "        Matrice de similarité entre tous les mots présents dans le vocabulaire.\n",
    "\n",
    "        neighbors           : list of lists\n",
    "        Liste des voisins de chaque mot. Par exemple, le premier élément de la liste\n",
    "        contiendra tous les voisins du mot 0 dans le vocabulaire.\n",
    "\n",
    "        synonym             : bool, optional (default=True)\n",
    "        Indique si l'on cherche des négatifs pour les synonymes (True) ou pour les antonymes (False).\n",
    "\n",
    "    Returns:\n",
    "    Dictionnaire mappant les mots avec leurs indices de négatifs {mot_index: négatif_index}.\n",
    "    \"\"\"\n",
    "    # TODO HINT: Utilisez un mask pour ignorer les voisins\n",
    "    mask_value = float('-inf') if synonym else float('inf')\n",
    "    mask = torch.ones_like(similarity_matrix, dtype=bool)\n",
    "    for i, neighbors_list in enumerate(neighbors):\n",
    "        mask[i, neighbors_list] = False\n",
    "    similarity_matrix_masked = similarity_matrix.masked_fill(~mask, mask_value)\n",
    "    negative_indices = similarity_matrix_masked.argmax(dim=1) if synonym else similarity_matrix_masked.argmin(dim=1)\n",
    "    return {index.item(): negative_indices[i].item() for i, index in enumerate(indices)}\n",
    "    # END TODO"
   ]
  },
  {
   "cell_type": "code",
   "execution_count": 19,
   "metadata": {
    "id": "Sfv-57kg4UPE"
   },
   "outputs": [
    {
     "name": "stdout",
     "output_type": "stream",
     "text": [
      "{0: 1, 1: 3, 2: 4, 3: 1, 4: 2}\n"
     ]
    }
   ],
   "source": [
    "# Exemple\n",
    "indices = torch.tensor([0, 1, 2, 3, 4])\n",
    "neighbors = [[0, 2], [1, 4], [2, 0, 2, 3], [3, 2], [4, 1]]\n",
    "\n",
    "similarity_matrix = torch.tensor([\t\n",
    "    [ 1.0000, -0.4263, -0.7167, -0.9838, -0.5823],\n",
    "    [-0.4263,  1.0000, -0.1600,  0.5088, -0.3708],\n",
    "    [-0.7167, -0.1600,  1.0000,  0.7247,  0.5631],\n",
    "    [-0.9838,  0.5088,  0.7247,  1.0000,  0.4394],\n",
    "    [-0.5823, -0.3708,  0.5631,  0.4394,  1.0000]\n",
    "    ])\n",
    "\n",
    "print(select_negatives(indices, similarity_matrix, neighbors, synonym=True))"
   ]
  },
  {
   "cell_type": "markdown",
   "metadata": {
    "id": "h33NhFWQ4UPF"
   },
   "source": [
    "Réponse attendue\n",
    "\n",
    "`{0: 1, 1: 3, 2: 4, 3: 1, 4: 2}`"
   ]
  },
  {
   "cell_type": "markdown",
   "metadata": {
    "id": "Jtdg_on24UPF"
   },
   "source": [
    "##### 3.1.4 Implémentez la fonction `run_negative_extraction` qui prépare les paires de synonymes et d'antonymes et appelle `prepare_neighbors` et `select_negatives`. (4 points)\n",
    "\n",
    "Préparez les indices uniques des mots du batch, calculez la similarité des mots, et appelez `prepare_neighbors` et `select_negatives`."
   ]
  },
  {
   "cell_type": "code",
   "execution_count": 20,
   "metadata": {
    "id": "dobAHjDB4UPF"
   },
   "outputs": [],
   "source": [
    "def run_negative_extraction(model, index_pairs, synonym=True):\n",
    "    \"\"\"\n",
    "    Extrait les exemples négatifs pour un ensemble de paires de mots.\n",
    "\n",
    "    Args :\n",
    "        index_pairs : torch.Tensor de seconde dimension 2\n",
    "        Contient les indices des mots.\n",
    "\n",
    "        synonym     : bool, optional (default=True)\n",
    "        Indique si l'on cherche des négatifs pour les synonymes (True) ou pour les antonymes (False).\n",
    "\n",
    "    Returns:\n",
    "    Dictionnaire mappant les indices des mots avec leurs indices de négatifs {mot_index: négatif_index}.\n",
    "    \"\"\"\n",
    "    # TODO\n",
    "    unique_idx = list(set(index_pairs.flatten().tolist()))\n",
    "    index_to_idx = {idx: i for i, idx in enumerate(unique_idx)}\n",
    "    neighbors = prepare_neighbors(index_pairs, unique_idx, index_to_idx)\n",
    "    indices = torch.tensor(unique_idx)\n",
    "    embeddings = model.embeddings(indices)\n",
    "    similarity_matrix = cosine_similarity(embeddings, embeddings)\n",
    "    return select_negatives(indices, similarity_matrix, neighbors, synonym=synonym)\n",
    "    # END TODO"
   ]
  },
  {
   "cell_type": "markdown",
   "metadata": {
    "id": "XIUB8hMx4UPG"
   },
   "source": [
    "#### 3.2 Fonctions de coût\n",
    "\n",
    "Pour chaque paire de synonymes $(x^l, x^r)$ *pour x left et x right* dans le lot $B_S$, nous trouvons un négatif $(t^l, t^r)$ ce qui constitue le lot $T_S$:\n",
    "- $ t^l $ est le mot dans le lot le plus proche de $ x^l $ mais qui n'est pas $ x^r $.\n",
    "- $ t^r $ est le mot dans le lot le plus proche de $ x^r $ mais qui n'est pas $ x^l $.\n",
    "\n",
    "De même, pour chaque paire d'antonymes $(x^l, x^r)$ dans le lot $B_A$, nous trouvons un négatif $(t^l, t^r)$ ce qui constitue le lot $T_A$:\n",
    "- $ t^l $ est le mot dans le lot le plus éloigné de $ x^l $ mais qui n'est pas $ x^r $.\n",
    "- $ t^r $ est le mot dans le lot le plus éloigné de $ x^r $ mais qui n'est pas $ x^l $.\n",
    "\n",
    "\n",
    "Comparer un mot à son synonyme (ou antonyme) et à son négatif permet d'entraîner le modèle sur des exemples difficiles qui forcent le modèle à apprendre des représentations plus robustes.\n",
    "\n",
    "Il y aura trois fonctions de coût :\n",
    "1. **Attraction** : Attire les synonymes plus proches les uns des autres.\n",
    "2. **Répulsion** : Repousse les antonymes plus loin les uns des autres.\n",
    "3. **Régularisation** : Évite que les plongements ne s'éloignent trop de ceux du modèle pré-entraîné.\n",
    "\n",
    "Les fonctions de coût sont définies comme suit, en sommant sur `i`, les paires de synonymes et d'antonymes dans les lots $B_S$ et $B_A$ :\n",
    "\n",
    "1. **Attraction** :\n",
    "$$ S(B_S, T_S) = \\sum_{i=1}^{|B_S|} \\left[ \\max \\left(0, \\delta_{syn} + x_i^l t_i^l - x_i^l x_i^r \\right) + \\max \\left( 0, \\delta_{syn} + x_i^r t_i^r - x_i^l x_i^r \\right) \\right] $$\n",
    "\n",
    "1. **Répulsion** :\n",
    "$$ A(B_A, T_A) = \\sum_{i=1}^{|B_A|} \\left[ \\max \\left(0, \\delta_{ant} + x_i^l x_i^r - x_i^l t_i^l \\right) + \\max \\left( 0, \\delta_{ant} + x_i^r x_i^l - x_i^r t_i^r \\right) \\right] $$\n",
    "\n",
    "1. **Régularisation** :\n",
    "$$ R(B_S, B_A) = \\sum_{x_i \\in V(B_S \\cup B_A)} \\lambda_{reg} \\| \\hat{x}_i - x_i \\|^2 $$\n",
    "\n",
    "La fonction de coût totale est la somme de ces trois termes :\n",
    "$$ C(B_S, T_S, B_A, T_A) = S(B_S, T_S) + A(B_A, T_A) + R(B_S, B_A) $$\n",
    "\n",
    "$\\delta_{syn}$, $\\delta_{ant}$ et $\\lambda_{reg}$ sont des hyperparamètres."
   ]
  },
  {
   "cell_type": "markdown",
   "metadata": {
    "id": "4Xz8nr074UPG"
   },
   "source": [
    "Avec l'exemple précédent, prenons\n",
    "> + $x_i^l$ : voiture\n",
    "> + $x_i^r$: véhicule\n",
    "> + $t_i^l$: plante\n",
    ">\n",
    "> On veut que voiture et véhicule aient un plus grand produit scalaire que voiture et plante, donc que $\\delta_{syn} + x_i^l t_i^l - x_i^l x_i^r <0$, et donc que $S$ soit minimisé. De même pour la deuxième partie de l'équation, symmétrique, avec le 2nd élément du couple."
   ]
  },
  {
   "cell_type": "markdown",
   "metadata": {
    "id": "JBCayb894UPH"
   },
   "source": [
    "##### 3.2.1 Implémentez la fonction `synonym_cost` qui calcule la fonction de coût d'attraction (sur les paires de synonymes). (5 points)\n",
    "\n",
    "$$ S(B_S, T_S) = \\sum_{i=1}^{|B_S|} \\left[ \\max \\left(0, \\delta_{syn} + x_i^l t_i^l - x_i^l x_i^r \\right) + \\max \\left( 0, \\delta_{syn} + x_i^r t_i^r - x_i^l x_i^r \\right) \\right] $$\n",
    "\n",
    "Le membre de gauche pénalise si le mot de gauche est plus éloigné de son négatif que de son synonyme. De même, le membre de droite pénalise si le mot de gauche est plus éloigné de son négatif que de son synonyme.\n"
   ]
  },
  {
   "cell_type": "code",
   "execution_count": 21,
   "metadata": {
    "id": "iODdci8D4UPH"
   },
   "outputs": [],
   "source": [
    "def synonym_cost(model, synonym_pairs, synonym_negatives):\n",
    "    \"\"\"\n",
    "    Calcule le coût d'attraction pour les paires de synonymes.\n",
    "\n",
    "    synonym_pairs: liste de tuples d'indices de paires de synonymes\n",
    "    synonym_negatives: dictionnaire de mots avec leurs négatifs {mot_index: négatif_index}\n",
    "\n",
    "    Returns:\n",
    "    torch.Tensor, coût total pour les paires de synonymes\n",
    "    \"\"\"\n",
    "    # HINT: Utiliser torch.relu pour max(0, x)\n",
    "    # TODO\n",
    "    left_indexes = torch.tensor([left for left, _ in synonym_pairs], device=model.device)\n",
    "    right_indexes = torch.tensor([right for _, right in synonym_pairs], device=model.device)\n",
    "    \n",
    "    negative_left_indexes = torch.tensor([synonym_negatives[left.item()] for left in left_indexes], device=model.device)\n",
    "    negative_right_indexes = torch.tensor([synonym_negatives[right.item()] for right in right_indexes], device=model.device)\n",
    "\n",
    "    x_l = model.embeddings(left_indexes)\n",
    "    x_r = model.embeddings(right_indexes)\n",
    "    t_l = model.embeddings(negative_left_indexes)\n",
    "    t_r = model.embeddings(negative_right_indexes)\n",
    "\n",
    "    x_l_t_l = torch.sum(x_l * t_l, dim=1)\n",
    "    x_l_x_r = torch.sum(x_l * x_r, dim=1)\n",
    "    x_r_t_r = torch.sum(x_r * t_r, dim=1)\n",
    "\n",
    "    return torch.sum(\n",
    "        torch.relu(x_l_t_l - x_l_x_r + model.margin_plus) +\n",
    "        torch.relu(x_r_t_r - x_l_x_r + model.margin_plus)\n",
    "    )\n",
    "    # END TODO"
   ]
  },
  {
   "cell_type": "markdown",
   "metadata": {
    "id": "urlSBZQ74UPI"
   },
   "source": [
    "##### 3.2.2 Implémentez la fonction `antonym_cost` qui calcule la fonction de coût de répulsion (sur les paires d'antonymes). (5 points)\n",
    "\n",
    "$$ A(B_A, T_A) = \\sum_{i=1}^{|B_A|} \\left[ \\max \\left(0, \\delta_{ant} + x_i^l x_i^r - x_i^l t_i^l \\right) + \\max \\left( 0, \\delta_{ant} + x_i^r x_i^l - x_i^r t_i^r \\right) \\right] $$\n",
    "\n",
    "Le membre de gauche pénalise si le mot de gauche est plus éloigné de son antonyme que de son négatif. De même, le membre de droite pénalise si le mot de gauche est plus éloigné de son antonyme que de son négatif."
   ]
  },
  {
   "cell_type": "code",
   "execution_count": 22,
   "metadata": {
    "id": "p3S_8gCQ4UPI"
   },
   "outputs": [],
   "source": [
    "def antonym_cost(model, antonym_pairs, antonym_negatives):\n",
    "    \"\"\"\n",
    "    Calcule le coût de répulsion pour les paires d'antonymes.\n",
    "\n",
    "    antonym_pairs: liste de tuples d'indices de paires d'antonymes\n",
    "    antonym_negatives: dictionnaire de mots avec leurs négatifs {mot_index: négatif_index}\n",
    "\n",
    "    Returns:\n",
    "    torch.Tensor, coût total pour les paires d'antonymes\n",
    "    \"\"\"\n",
    "    # HINT: Utiliser torch.relu pour max(0, x)\n",
    "    # TODO\n",
    "    left_indexes = torch.tensor([left for left, _ in antonym_pairs], device=model.device)\n",
    "    right_indexes = torch.tensor([right for _, right in antonym_pairs], device=model.device)\n",
    "\n",
    "    negative_left_indexes = torch.tensor([antonym_negatives[left.item()] for left in left_indexes], device=model.device)\n",
    "    negative_right_indexes = torch.tensor([antonym_negatives[right.item()] for right in right_indexes], device=model.device)\n",
    "\n",
    "    x_l = model.embeddings(left_indexes)\n",
    "    x_r = model.embeddings(right_indexes)\n",
    "    t_l = model.embeddings(negative_left_indexes)\n",
    "    t_r = model.embeddings(negative_right_indexes)\n",
    "\n",
    "    x_l_x_r = torch.sum(x_l * x_r, dim=1)\n",
    "    x_l_t_l = torch.sum(x_l * t_l, dim=1)\n",
    "    x_r_t_r = torch.sum(x_r * t_r, dim=1)\n",
    "\n",
    "    return torch.sum(\n",
    "        torch.relu(x_l_x_r - x_l_t_l + model.margin_minus) +\n",
    "        torch.relu(x_l_x_r - x_r_t_r + model.margin_minus)\n",
    "    )\n",
    "    # END TODO"
   ]
  },
  {
   "cell_type": "markdown",
   "metadata": {
    "id": "bW9WWbxt4UPJ"
   },
   "source": [
    "##### 3.2.3 Implémentez la fonction `regularization_cost` qui calcule la fonction de coût de régularisation. (4 points)\n",
    "\n",
    "$$ R(B_S, B_A) = \\sum_{x_i \\in V(B_S \\cup B_A)} \\lambda_{reg} \\| \\hat{x}_i - x_i \\|^2 $$"
   ]
  },
  {
   "cell_type": "code",
   "execution_count": 23,
   "metadata": {
    "id": "SBIan6m34UPJ"
   },
   "outputs": [],
   "source": [
    "def regularization_cost(model, synonym_pairs, antonym_pairs):\n",
    "    \"\"\"\n",
    "    Calcule le coût de régularisation pour les paires de synonymes et antonymes.\n",
    "\n",
    "    synonym_pairs: liste de tuples d'indices de paires de synonymes\n",
    "    antonym_pairs: liste de tuples d'indices de paires d'antonymes\n",
    "\n",
    "    Returns:\n",
    "    torch.Tensor, coût total de régularisation\n",
    "    \"\"\"\n",
    "    # TODO\n",
    "    syn_indexes = [syn_index for pair  in synonym_pairs for syn_index in pair]\n",
    "    ant_indexes = [ant_index for pair  in antonym_pairs for ant_index in pair]\n",
    "    indexes = set(syn_indexes + ant_indexes)\n",
    "    index_tensor = torch.tensor(list(indexes), device=model.device)\n",
    "\n",
    "    x_hat = model.original_embeddings(index_tensor)\n",
    "    x = model.embeddings(index_tensor)\n",
    "    reg_cost = model.regularization * torch.sum(torch.norm(x_hat - x, p=2, dim=1) ** 2)\n",
    "\n",
    "    return reg_cost\n",
    "    # END TODO"
   ]
  },
  {
   "cell_type": "markdown",
   "metadata": {
    "id": "Jk9qYfl-4UPK"
   },
   "source": [
    "#### 3.3 Mise en place\n",
    "##### 3.3.1 Implémentez la fonction `forward` qui utilise les fonctions définies plus tôt pour calculer le coût total. (4 points)\n",
    "\n",
    "La fonction prend en entrée un lot de synonymes et un lot d'antonymes, c'est-à-dire des paires de synonymes et des paires d'antonymes.\n",
    "\n",
    "Vous devez trouver les négatifs de tous les mots des lots au moyen de votre fonction  run_negative_extraction puis calculer la fonction de coût totale."
   ]
  },
  {
   "cell_type": "code",
   "execution_count": 24,
   "metadata": {
    "id": "RPo8wjrF4UPK"
   },
   "outputs": [],
   "source": [
    "def forward(model, synonym_pairs, antonym_pairs):\n",
    "    \"\"\"\n",
    "    Fonction forward pour calculer le coût total.\n",
    "\n",
    "    Args :\n",
    "        synonym_pairs   :\n",
    "        Liste de tuples d'indices de paires de synonymes\n",
    "\n",
    "        antonym_pairs   :\n",
    "        Liste de tuples d'indices de paires d'antonymes\n",
    "\n",
    "    Returns:\n",
    "    Tenseur contenant le coût total (attraction, répulsion et régularisation)\n",
    "    \"\"\"\n",
    "    # TODO\n",
    "    synonym_negatives = run_negative_extraction(model, synonym_pairs, synonym=True)\n",
    "    antonym_negatives = run_negative_extraction(model, antonym_pairs, synonym=False)\n",
    "    \n",
    "    attraction_cost = synonym_cost(model, synonym_pairs, synonym_negatives)\n",
    "    repulsion_cost = antonym_cost(model, antonym_pairs, antonym_negatives)\n",
    "    regularization = regularization_cost(model, synonym_pairs, antonym_pairs)\n",
    "\n",
    "    return attraction_cost + repulsion_cost + regularization\n",
    "    # END TODO"
   ]
  },
  {
   "cell_type": "markdown",
   "metadata": {
    "id": "-8Xu1uyi4UPL"
   },
   "source": [
    "#### 3.3.2 Évaluation (3 points)\n",
    "\n",
    "Utilisez la fonction `spearman_rank_correlation` pour compléter la fonction d'évaluation `evaluate` qui exécute le modèle sur le jeu d'évaluation et calcule la corrélation de Spearman entre les scores prédits et réels.\n",
    "\n",
    "Utilisez `torch.no_grad()` pour éviter de stocker les gradients."
   ]
  },
  {
   "cell_type": "code",
   "execution_count": 25,
   "metadata": {
    "id": "OKFgt2cA4UPL"
   },
   "outputs": [],
   "source": [
    "def evaluate(model, eval_data, word_to_index):\n",
    "    \"\"\"\n",
    "    Calclue les prédictions du modèle sur le jeu d'évaluation puis la corrélation de Spearman entre les scores prédits et réels.\n",
    "\n",
    "    model: modèle de plongements de mots\n",
    "    eval_data: pd.DataFrame\n",
    "    word_to_index: dict\n",
    "\n",
    "    Returns:\n",
    "    float, la corrélation de Spearman entre les scores prédits par le modèle et réels.\n",
    "    \"\"\"\n",
    "    model.eval()\n",
    "    device = model.device\n",
    "    word_pairs = list(zip(eval_data['word 1'], eval_data['word 2']))\n",
    "    eval_indices = [(word_to_index[w1], word_to_index[w2]) for w1, w2 in word_pairs if w1 in word_to_index and w2 in word_to_index]\n",
    "    # TODO\n",
    "    predicted_scores = []\n",
    "    real_scores = eval_data['score'].tolist()\n",
    "\n",
    "    with torch.no_grad():\n",
    "        for idx1, idx2 in eval_indices:\n",
    "            embedding1 = model.embeddings(torch.tensor([idx1], device=device))\n",
    "            embedding2 = model.embeddings(torch.tensor([idx2], device=device))\n",
    "            \n",
    "            cos_sim = torch.nn.functional.cosine_similarity(embedding1, embedding2).item()\n",
    "            predicted_scores.append(cos_sim)\n",
    "\n",
    "    return spearman_rank_correlation(predicted_scores, real_scores)\n",
    "    # END TODO"
   ]
  },
  {
   "cell_type": "markdown",
   "metadata": {
    "id": "GNInsMBc4UPL"
   },
   "source": [
    "### 4. Entraînement de zéro (16 Points)\n",
    "\n",
    "Nous allons maintenant entraîner le modèle de zéro, sans utiliser les plongements GloVe pré-entraînés. Ensuite, dans la partie 5, nous entraînerons le modèle en l'initialisant avec les plongements GloVe pré-entraînés."
   ]
  },
  {
   "cell_type": "code",
   "execution_count": 26,
   "metadata": {
    "id": "YzD7k2X04UPM"
   },
   "outputs": [],
   "source": [
    "# Hyperparamètres, optimiseur et DataLoader\n",
    "\n",
    "BATCH_SIZE = 64\n",
    "NUM_EPOCHS = 20\n",
    "LEARNING_RATE = 5e-3\n",
    "\n",
    "device = 'cuda' if torch.cuda.is_available() else 'cpu'\n",
    "\n",
    "torch.cuda.empty_cache()\n",
    "gc.collect()\n",
    "\n",
    "train_syn_tensor = data_to_tensor(train_synonyms, glove_word_to_index)\n",
    "train_ant_tensor = data_to_tensor(train_antonyms, glove_word_to_index)\n",
    "\n",
    "syn_data_loader = DataLoader(train_syn_tensor, batch_size=BATCH_SIZE, shuffle=True, drop_last=True)\n",
    "ant_data_loader = DataLoader(train_ant_tensor, batch_size=BATCH_SIZE, shuffle=True, drop_last=True)"
   ]
  },
  {
   "cell_type": "markdown",
   "metadata": {
    "id": "5ZRFsvcq4UPM"
   },
   "source": [
    "#### 4.1 Complétez la cellule suivante pour créer le modèle de zéro `model_zero`, à partir d'une matrice de plongements aléatoire. (1 point)"
   ]
  },
  {
   "cell_type": "code",
   "execution_count": 27,
   "metadata": {
    "id": "pewLXgZF4UPN"
   },
   "outputs": [],
   "source": [
    "model_zero = None\n",
    "random_seed = 0\n",
    "random_generator = torch.Generator(device=device).manual_seed(random_seed)\n",
    "\n",
    "embeddings_size = glove_embeddings.size()\n",
    "random_init_embeddings = torch.randn(embeddings_size, generator=random_generator, device=device)\n",
    "\n",
    "# TODO\n",
    "model_zero = ContrastiveWordEmbeddingModel(random_init_embeddings, device=device)\n",
    "# END TODO\n",
    "\n",
    "optimizer = optim.Adam(model_zero.parameters(), lr=LEARNING_RATE)"
   ]
  },
  {
   "cell_type": "markdown",
   "metadata": {
    "id": "Xncnbe2k4UPN"
   },
   "source": [
    "#### 4.2 Entraînez le modèle sur le jeu des paires de synonymes et d'antonymes. (6 points)\n",
    "\n",
    "N'oubliez pas que l'entraînement se fait sur les synonymes et antonymes et que l'évaluation se fait sur SimLex-999.\n",
    "\n",
    "À défaut d'avoir un jeu de validation, on observe les résultats sur le corpus de test : SimLex-999. Ceci n’est fait qu’à titre illustratif pour voir l'évolution de l'apprentissage. Il ne faut pas faire de choix pour l’entrainement à partir des résultats sur le corpus de test.\n",
    "\n",
    "*Note : Les jeux de synonymes et d'antonymes n'ont pas la même taille. Une époque (epoch) correspond à une itération sur le jeu de données le plus petit.*"
   ]
  },
  {
   "cell_type": "code",
   "execution_count": 28,
   "metadata": {
    "id": "7JThYKmC4UPO"
   },
   "outputs": [
    {
     "name": "stdout",
     "output_type": "stream",
     "text": [
      "Before training, Spearman Correlation: -0.0271\n"
     ]
    },
    {
     "name": "stderr",
     "output_type": "stream",
     "text": [
      "  5%|▌         | 1/20 [00:20<06:29, 20.49s/it]"
     ]
    },
    {
     "name": "stdout",
     "output_type": "stream",
     "text": [
      "[Epoch 1/20] | Loss: 45.9410 | Spearman Correlation: 0.0140\n"
     ]
    },
    {
     "name": "stderr",
     "output_type": "stream",
     "text": [
      " 10%|█         | 2/20 [00:39<05:55, 19.72s/it]"
     ]
    },
    {
     "name": "stdout",
     "output_type": "stream",
     "text": [
      "[Epoch 2/20] | Loss: 32.0542 | Spearman Correlation: 0.0401\n"
     ]
    },
    {
     "name": "stderr",
     "output_type": "stream",
     "text": [
      " 15%|█▌        | 3/20 [01:02<05:56, 20.99s/it]"
     ]
    },
    {
     "name": "stdout",
     "output_type": "stream",
     "text": [
      "[Epoch 3/20] | Loss: 28.0384 | Spearman Correlation: 0.0583\n"
     ]
    },
    {
     "name": "stderr",
     "output_type": "stream",
     "text": [
      " 20%|██        | 4/20 [01:22<05:30, 20.65s/it]"
     ]
    },
    {
     "name": "stdout",
     "output_type": "stream",
     "text": [
      "[Epoch 4/20] | Loss: 25.5188 | Spearman Correlation: 0.0663\n"
     ]
    },
    {
     "name": "stderr",
     "output_type": "stream",
     "text": [
      " 25%|██▌       | 5/20 [01:41<05:01, 20.07s/it]"
     ]
    },
    {
     "name": "stdout",
     "output_type": "stream",
     "text": [
      "[Epoch 5/20] | Loss: 23.5058 | Spearman Correlation: 0.0771\n"
     ]
    },
    {
     "name": "stderr",
     "output_type": "stream",
     "text": [
      " 30%|███       | 6/20 [02:00<04:36, 19.73s/it]"
     ]
    },
    {
     "name": "stdout",
     "output_type": "stream",
     "text": [
      "[Epoch 6/20] | Loss: 21.4825 | Spearman Correlation: 0.0784\n"
     ]
    },
    {
     "name": "stderr",
     "output_type": "stream",
     "text": [
      " 35%|███▌      | 7/20 [02:19<04:13, 19.50s/it]"
     ]
    },
    {
     "name": "stdout",
     "output_type": "stream",
     "text": [
      "[Epoch 7/20] | Loss: 20.9964 | Spearman Correlation: 0.0909\n"
     ]
    },
    {
     "name": "stderr",
     "output_type": "stream",
     "text": [
      " 40%|████      | 8/20 [02:37<03:48, 19.00s/it]"
     ]
    },
    {
     "name": "stdout",
     "output_type": "stream",
     "text": [
      "[Epoch 8/20] | Loss: 18.9174 | Spearman Correlation: 0.0947\n"
     ]
    },
    {
     "name": "stderr",
     "output_type": "stream",
     "text": [
      " 45%|████▌     | 9/20 [02:55<03:25, 18.72s/it]"
     ]
    },
    {
     "name": "stdout",
     "output_type": "stream",
     "text": [
      "[Epoch 9/20] | Loss: 16.8518 | Spearman Correlation: 0.1003\n"
     ]
    },
    {
     "name": "stderr",
     "output_type": "stream",
     "text": [
      " 50%|█████     | 10/20 [03:14<03:07, 18.75s/it]"
     ]
    },
    {
     "name": "stdout",
     "output_type": "stream",
     "text": [
      "[Epoch 10/20] | Loss: 15.0518 | Spearman Correlation: 0.1128\n"
     ]
    },
    {
     "name": "stderr",
     "output_type": "stream",
     "text": [
      " 55%|█████▌    | 11/20 [03:32<02:47, 18.67s/it]"
     ]
    },
    {
     "name": "stdout",
     "output_type": "stream",
     "text": [
      "[Epoch 11/20] | Loss: 13.1403 | Spearman Correlation: 0.1134\n"
     ]
    },
    {
     "name": "stderr",
     "output_type": "stream",
     "text": [
      " 60%|██████    | 12/20 [03:49<02:25, 18.21s/it]"
     ]
    },
    {
     "name": "stdout",
     "output_type": "stream",
     "text": [
      "[Epoch 12/20] | Loss: 11.5307 | Spearman Correlation: 0.1185\n"
     ]
    },
    {
     "name": "stderr",
     "output_type": "stream",
     "text": [
      " 65%|██████▌   | 13/20 [04:07<02:06, 18.08s/it]"
     ]
    },
    {
     "name": "stdout",
     "output_type": "stream",
     "text": [
      "[Epoch 13/20] | Loss: 10.5050 | Spearman Correlation: 0.1241\n"
     ]
    },
    {
     "name": "stderr",
     "output_type": "stream",
     "text": [
      " 70%|███████   | 14/20 [04:25<01:47, 17.95s/it]"
     ]
    },
    {
     "name": "stdout",
     "output_type": "stream",
     "text": [
      "[Epoch 14/20] | Loss: 9.2902 | Spearman Correlation: 0.1268\n"
     ]
    },
    {
     "name": "stderr",
     "output_type": "stream",
     "text": [
      " 75%|███████▌  | 15/20 [04:43<01:30, 18.04s/it]"
     ]
    },
    {
     "name": "stdout",
     "output_type": "stream",
     "text": [
      "[Epoch 15/20] | Loss: 8.2460 | Spearman Correlation: 0.1312\n"
     ]
    },
    {
     "name": "stderr",
     "output_type": "stream",
     "text": [
      " 80%|████████  | 16/20 [05:00<01:10, 17.68s/it]"
     ]
    },
    {
     "name": "stdout",
     "output_type": "stream",
     "text": [
      "[Epoch 16/20] | Loss: 7.3926 | Spearman Correlation: 0.1318\n"
     ]
    },
    {
     "name": "stderr",
     "output_type": "stream",
     "text": [
      " 85%|████████▌ | 17/20 [05:17<00:52, 17.47s/it]"
     ]
    },
    {
     "name": "stdout",
     "output_type": "stream",
     "text": [
      "[Epoch 17/20] | Loss: 6.4456 | Spearman Correlation: 0.1358\n"
     ]
    },
    {
     "name": "stderr",
     "output_type": "stream",
     "text": [
      " 90%|█████████ | 18/20 [05:34<00:34, 17.43s/it]"
     ]
    },
    {
     "name": "stdout",
     "output_type": "stream",
     "text": [
      "[Epoch 18/20] | Loss: 5.8664 | Spearman Correlation: 0.1395\n"
     ]
    },
    {
     "name": "stderr",
     "output_type": "stream",
     "text": [
      " 95%|█████████▌| 19/20 [05:51<00:17, 17.23s/it]"
     ]
    },
    {
     "name": "stdout",
     "output_type": "stream",
     "text": [
      "[Epoch 19/20] | Loss: 5.3824 | Spearman Correlation: 0.1449\n"
     ]
    },
    {
     "name": "stderr",
     "output_type": "stream",
     "text": [
      "100%|██████████| 20/20 [06:08<00:00, 18.42s/it]"
     ]
    },
    {
     "name": "stdout",
     "output_type": "stream",
     "text": [
      "[Epoch 20/20] | Loss: 4.9019 | Spearman Correlation: 0.1485\n",
      "\n",
      "Final Spearman Correlation: 0.1485\n"
     ]
    },
    {
     "name": "stderr",
     "output_type": "stream",
     "text": [
      "\n"
     ]
    }
   ],
   "source": [
    "spearman_corr = evaluate(model_zero, evaluation_simlex, glove_word_to_index)\n",
    "print(f'Before training, Spearman Correlation: {spearman_corr:.4f}')\n",
    "\n",
    "# TODO\n",
    "def train_model(model, optimizer):\n",
    "    losses = []\n",
    "    spearman_correlations = []\n",
    "\n",
    "    for epoch in tqdm(range(1, NUM_EPOCHS + 1)):\n",
    "        model.train()\n",
    "        total_loss = 0.0\n",
    "\n",
    "        for syn_batch, ant_batch in zip(syn_data_loader, ant_data_loader):\n",
    "            syn_batch, ant_batch = syn_batch.to(device), ant_batch.to(device)\n",
    "\n",
    "            optimizer.zero_grad()\n",
    "\n",
    "            loss = forward(model, syn_batch, ant_batch)\n",
    "            loss.backward()\n",
    "\n",
    "            torch.nn.utils.clip_grad_norm_(model.parameters(), max_norm=1.0)\n",
    "            optimizer.step()\n",
    "\n",
    "            total_loss += loss.item()\n",
    "\n",
    "        average_loss = total_loss / len(syn_data_loader)\n",
    "        losses.append(average_loss)\n",
    "\n",
    "        model.eval()\n",
    "        with torch.no_grad():\n",
    "            spearman_corr = evaluate(model, evaluation_simlex, glove_word_to_index)\n",
    "        spearman_correlations.append(spearman_corr)\n",
    "\n",
    "        print(f\"[Epoch {epoch}/{NUM_EPOCHS}] | Loss: {average_loss:.4f} | Spearman Correlation: {spearman_corr:.4f}\")\n",
    "\n",
    "    spearman_corr = evaluate(model, evaluation_simlex, glove_word_to_index)\n",
    "    print(f\"\\nFinal Spearman Correlation: {spearman_corr:.4f}\")\n",
    "\n",
    "    return losses, spearman_correlations\n",
    "\n",
    "losses, spearman_corr = train_model(model_zero, optimizer)\n",
    "# END TODO"
   ]
  },
  {
   "cell_type": "markdown",
   "metadata": {
    "id": "V6I3l6g04UPP"
   },
   "source": [
    "#### 4.3 Courbes d'entraînement du modèle de zéro (4 points)\n",
    "\n",
    "Affichez la perte moyenne sur le jeu d'entraînement et la corrélation de Spearman sur le jeu de validation à chaque époque."
   ]
  },
  {
   "cell_type": "code",
   "execution_count": 29,
   "metadata": {
    "id": "fCGo94hG4UPP"
   },
   "outputs": [
    {
     "data": {
      "image/png": "[encoded data removed]",
      "text/plain": [
       "<Figure size 1200x600 with 2 Axes>"
      ]
     },
     "metadata": {},
     "output_type": "display_data"
    }
   ],
   "source": [
    "def plot_metrics(losses, spearman_corr):\n",
    "    plt.figure(figsize=(12, 6))\n",
    "\n",
    "    plt.subplot(1, 2, 1)\n",
    "    plt.plot(range(1, NUM_EPOCHS + 1), losses, marker='o', color='blue', label='Perte moyenne')\n",
    "    plt.title('Perte moyenne en fonction des Epochs')\n",
    "    plt.xlabel('Epochs')\n",
    "    plt.ylabel('Perte')\n",
    "    plt.grid()\n",
    "    plt.legend()\n",
    "\n",
    "    plt.subplot(1, 2, 2)\n",
    "    plt.plot(range(1, NUM_EPOCHS + 1), spearman_corr, marker='o', color='red', label='Corrélation de Spearman')\n",
    "    plt.title('Corrélation de Spearman en fonction des Epochs')\n",
    "    plt.xlabel('Epochs')\n",
    "    plt.ylabel('Corrélation de Spearman')\n",
    "    plt.grid()\n",
    "    plt.legend()\n",
    "\n",
    "    plt.tight_layout()\n",
    "    plt.show()\n",
    "\n",
    "plot_metrics(losses, spearman_corr)"
   ]
  },
  {
   "cell_type": "markdown",
   "metadata": {
    "id": "vGaV7Gwf4UPQ"
   },
   "source": [
    "#### 4.4 Évaluation du modèle de zéro et comparaison avec GloVe (5 points)\n",
    "\n",
    "Comparez le modèle de zéro après l'entraînement à GloVe (résultat de la partie 2.4) en termes de corrélation de Spearman sur le jeu de validation. Quelle méthode est la plus performante ? Pourquoi ?\n",
    "\n",
    "Le modèle GloVe est plus performant que le modèle de zéro, car il a obtenu une corrélation de Spearman plus élevée (0,29 v.s. 0,1782).\n",
    "\n",
    "Les embeddings GloVe sont pré-entraînés sur un vaste corpus de texte, ce qui leur permet de capturer déjà des relations sémantiques entre les mots. Cela donne une bonne base à GloVe pour comprendre les similarités entre les mots dès le départ. En revanche, le modèle de zéro commence avec des embeddings aléatoires et doit apprendre les relations entre les mots à partir de zéro, en utilisant uniquement les données de synonymes et antonymes fournies. Étant donné la taille limitée du dataset et la période d'entraînement relativement courte (20 epochs), il est difficile pour le modèle de zéro de surpasser un modèle pré-entraîné comme GloVe, qui a été formé sur un corpus bien plus large et diversifié.\n"
   ]
  },
  {
   "cell_type": "markdown",
   "metadata": {
    "id": "evh_Ncx74UPR"
   },
   "source": [
    "### 5. Intérêt de GloVe (18 Points)\n",
    "\n",
    "Dans la section précédente, nous avons entraîné un modèle de zéro.\n",
    "\n",
    "Nous allons maintenant évaluer si initialiser le modèle avec les plongements de GloVe permet d'améliorer les performances."
   ]
  },
  {
   "cell_type": "markdown",
   "metadata": {
    "id": "I5SG3ekA4UPR"
   },
   "source": [
    "#### 5.1 Initialisation avec GloVe (6 points)\n",
    "\n",
    "Entraînez le modèle `model_fine_tuned`, mais cette fois en ititialisant directement avec les plongements du modèle pré-entraîné GloVe.\n",
    "\n",
    "On utilisera Adam comme optimiseur."
   ]
  },
  {
   "cell_type": "code",
   "execution_count": 30,
   "metadata": {
    "id": "0nzWDeJ34UPR"
   },
   "outputs": [],
   "source": [
    "# TODO\n",
    "model_fine_tuned = ContrastiveWordEmbeddingModel(glove_embeddings, device=device)\n",
    "optimizer = optim.Adam(model_fine_tuned.parameters(), lr=LEARNING_RATE)\n",
    "# END TODO"
   ]
  },
  {
   "cell_type": "code",
   "execution_count": 31,
   "metadata": {
    "id": "0pw14n4Z4UPS"
   },
   "outputs": [
    {
     "name": "stdout",
     "output_type": "stream",
     "text": [
      "Before training, Spearman Correlation: 0.2917\n"
     ]
    },
    {
     "name": "stderr",
     "output_type": "stream",
     "text": [
      "  5%|▌         | 1/20 [00:18<05:53, 18.60s/it]"
     ]
    },
    {
     "name": "stdout",
     "output_type": "stream",
     "text": [
      "[Epoch 1/20] | Loss: 15.6512 | Spearman Correlation: 0.3504\n"
     ]
    },
    {
     "name": "stderr",
     "output_type": "stream",
     "text": [
      " 10%|█         | 2/20 [00:36<05:23, 17.95s/it]"
     ]
    },
    {
     "name": "stdout",
     "output_type": "stream",
     "text": [
      "[Epoch 2/20] | Loss: 5.3509 | Spearman Correlation: 0.4057\n"
     ]
    },
    {
     "name": "stderr",
     "output_type": "stream",
     "text": [
      " 15%|█▌        | 3/20 [00:54<05:05, 17.97s/it]"
     ]
    },
    {
     "name": "stdout",
     "output_type": "stream",
     "text": [
      "[Epoch 3/20] | Loss: 2.2095 | Spearman Correlation: 0.4414\n"
     ]
    },
    {
     "name": "stderr",
     "output_type": "stream",
     "text": [
      " 20%|██        | 4/20 [01:11<04:44, 17.77s/it]"
     ]
    },
    {
     "name": "stdout",
     "output_type": "stream",
     "text": [
      "[Epoch 4/20] | Loss: 1.4100 | Spearman Correlation: 0.4563\n"
     ]
    },
    {
     "name": "stderr",
     "output_type": "stream",
     "text": [
      " 25%|██▌       | 5/20 [01:29<04:25, 17.68s/it]"
     ]
    },
    {
     "name": "stdout",
     "output_type": "stream",
     "text": [
      "[Epoch 5/20] | Loss: 0.9529 | Spearman Correlation: 0.4663\n"
     ]
    },
    {
     "name": "stderr",
     "output_type": "stream",
     "text": [
      " 30%|███       | 6/20 [01:46<04:04, 17.47s/it]"
     ]
    },
    {
     "name": "stdout",
     "output_type": "stream",
     "text": [
      "[Epoch 6/20] | Loss: 0.7938 | Spearman Correlation: 0.4768\n"
     ]
    },
    {
     "name": "stderr",
     "output_type": "stream",
     "text": [
      " 35%|███▌      | 7/20 [02:03<03:46, 17.40s/it]"
     ]
    },
    {
     "name": "stdout",
     "output_type": "stream",
     "text": [
      "[Epoch 7/20] | Loss: 0.6317 | Spearman Correlation: 0.4795\n"
     ]
    },
    {
     "name": "stderr",
     "output_type": "stream",
     "text": [
      " 40%|████      | 8/20 [02:21<03:29, 17.47s/it]"
     ]
    },
    {
     "name": "stdout",
     "output_type": "stream",
     "text": [
      "[Epoch 8/20] | Loss: 0.4927 | Spearman Correlation: 0.4745\n"
     ]
    },
    {
     "name": "stderr",
     "output_type": "stream",
     "text": [
      " 45%|████▌     | 9/20 [02:38<03:10, 17.36s/it]"
     ]
    },
    {
     "name": "stdout",
     "output_type": "stream",
     "text": [
      "[Epoch 9/20] | Loss: 0.4044 | Spearman Correlation: 0.4718\n"
     ]
    },
    {
     "name": "stderr",
     "output_type": "stream",
     "text": [
      " 50%|█████     | 10/20 [02:55<02:52, 17.25s/it]"
     ]
    },
    {
     "name": "stdout",
     "output_type": "stream",
     "text": [
      "[Epoch 10/20] | Loss: 0.3519 | Spearman Correlation: 0.4708\n"
     ]
    },
    {
     "name": "stderr",
     "output_type": "stream",
     "text": [
      " 55%|█████▌    | 11/20 [03:12<02:34, 17.22s/it]"
     ]
    },
    {
     "name": "stdout",
     "output_type": "stream",
     "text": [
      "[Epoch 11/20] | Loss: 0.3201 | Spearman Correlation: 0.4689\n"
     ]
    },
    {
     "name": "stderr",
     "output_type": "stream",
     "text": [
      " 60%|██████    | 12/20 [03:29<02:18, 17.26s/it]"
     ]
    },
    {
     "name": "stdout",
     "output_type": "stream",
     "text": [
      "[Epoch 12/20] | Loss: 0.2885 | Spearman Correlation: 0.4678\n"
     ]
    },
    {
     "name": "stderr",
     "output_type": "stream",
     "text": [
      " 65%|██████▌   | 13/20 [03:46<02:00, 17.23s/it]"
     ]
    },
    {
     "name": "stdout",
     "output_type": "stream",
     "text": [
      "[Epoch 13/20] | Loss: 0.2708 | Spearman Correlation: 0.4655\n"
     ]
    },
    {
     "name": "stderr",
     "output_type": "stream",
     "text": [
      " 70%|███████   | 14/20 [04:04<01:43, 17.32s/it]"
     ]
    },
    {
     "name": "stdout",
     "output_type": "stream",
     "text": [
      "[Epoch 14/20] | Loss: 0.2419 | Spearman Correlation: 0.4627\n"
     ]
    },
    {
     "name": "stderr",
     "output_type": "stream",
     "text": [
      " 75%|███████▌  | 15/20 [04:22<01:27, 17.47s/it]"
     ]
    },
    {
     "name": "stdout",
     "output_type": "stream",
     "text": [
      "[Epoch 15/20] | Loss: 0.1967 | Spearman Correlation: 0.4618\n"
     ]
    },
    {
     "name": "stderr",
     "output_type": "stream",
     "text": [
      " 80%|████████  | 16/20 [04:39<01:09, 17.34s/it]"
     ]
    },
    {
     "name": "stdout",
     "output_type": "stream",
     "text": [
      "[Epoch 16/20] | Loss: 0.2141 | Spearman Correlation: 0.4610\n"
     ]
    },
    {
     "name": "stderr",
     "output_type": "stream",
     "text": [
      " 85%|████████▌ | 17/20 [04:56<00:51, 17.29s/it]"
     ]
    },
    {
     "name": "stdout",
     "output_type": "stream",
     "text": [
      "[Epoch 17/20] | Loss: 0.1793 | Spearman Correlation: 0.4585\n"
     ]
    },
    {
     "name": "stderr",
     "output_type": "stream",
     "text": [
      " 90%|█████████ | 18/20 [05:13<00:34, 17.25s/it]"
     ]
    },
    {
     "name": "stdout",
     "output_type": "stream",
     "text": [
      "[Epoch 18/20] | Loss: 0.1692 | Spearman Correlation: 0.4571\n"
     ]
    },
    {
     "name": "stderr",
     "output_type": "stream",
     "text": [
      " 95%|█████████▌| 19/20 [05:30<00:17, 17.32s/it]"
     ]
    },
    {
     "name": "stdout",
     "output_type": "stream",
     "text": [
      "[Epoch 19/20] | Loss: 0.1776 | Spearman Correlation: 0.4593\n"
     ]
    },
    {
     "name": "stderr",
     "output_type": "stream",
     "text": [
      "100%|██████████| 20/20 [05:47<00:00, 17.40s/it]"
     ]
    },
    {
     "name": "stdout",
     "output_type": "stream",
     "text": [
      "[Epoch 20/20] | Loss: 0.1420 | Spearman Correlation: 0.4573\n",
      "\n",
      "Final Spearman Correlation: 0.4573\n"
     ]
    },
    {
     "name": "stderr",
     "output_type": "stream",
     "text": [
      "\n"
     ]
    }
   ],
   "source": [
    "spearman_corr = evaluate(model_fine_tuned, evaluation_simlex, glove_word_to_index)\n",
    "print(f'Before training, Spearman Correlation: {spearman_corr:.4f}')\n",
    "\n",
    "# TODO\n",
    "losses, spearman_corr = train_model(model_fine_tuned, optimizer)\n",
    "# END TODO"
   ]
  },
  {
   "cell_type": "markdown",
   "metadata": {
    "id": "vl7QPwB74UPT"
   },
   "source": [
    "#### 5.2 Courbes d'entraînement (4 points)\n",
    "\n",
    "Affichez la perte moyenne sur le jeu d'entraînement et la corrélation de Spearman sur le jeu de validation à chaque époque."
   ]
  },
  {
   "cell_type": "code",
   "execution_count": 32,
   "metadata": {
    "id": "tpQzqFd94UPT"
   },
   "outputs": [
    {
     "data": {
      "image/png": "[encoded data removed]",
      "text/plain": [
       "<Figure size 1200x600 with 2 Axes>"
      ]
     },
     "metadata": {},
     "output_type": "display_data"
    }
   ],
   "source": [
    "# TODO\n",
    "plot_metrics(losses, spearman_corr)\n",
    "# END TODO"
   ]
  },
  {
   "cell_type": "markdown",
   "metadata": {
    "id": "ah6vDzLj4UPU"
   },
   "source": [
    "#### 5.3 Vérification sur un exemple (3 points)\n",
    "\n",
    "Avec le modèle `model_fine_tuned`, calculez la similarité cosinus entre 'fast' et 'slow' et entre 'fast' et 'rapid'. Commentez les résultats en les comparant avec ceux de la partie 1.4."
   ]
  },
  {
   "cell_type": "code",
   "execution_count": 33,
   "metadata": {},
   "outputs": [
    {
     "name": "stdout",
     "output_type": "stream",
     "text": [
      "Similarité entre 'fast' et 'slow' : -0.1084742620587349\n",
      "Similarité entre 'fast' et 'rapid' : 0.6003726720809937\n",
      "Après l'entraînement du modèle model_fine_tuned, la similarité cosinus entre 'fast' et 'slow' est passée de 0.7114 (dans la partie 1.4) à -0.1902, indiquant que le modèle ajusté a mieux capturé le fait que ces deux mots sont des antonymes.\n",
      "Aussi, la similarité entre 'fast' et 'rapid', qui sont des synonymes, est restée élevée, passant légèrement de 0.6445 à 0.5465. On peut donc en conclure que le model_fine_tuned a amélioré sa capacité à distinguer les antonymes et à renforcer la similarité entre les synonymes.\n"
     ]
    }
   ],
   "source": [
    "embeddings = model_fine_tuned.embeddings(torch.tensor(list(glove_word_to_index.values()), device=device))\n",
    "cosine_similarity_between_2_words('fast', 'slow', embeddings, glove_word_to_index)\n",
    "cosine_similarity_between_2_words('fast', 'rapid', embeddings, glove_word_to_index)\n",
    "\n",
    "print(\"Après l'entraînement du modèle model_fine_tuned, la similarité cosinus entre 'fast' et 'slow' est passée de 0.7114 (dans la partie 1.4) à -0.1902, indiquant que le modèle ajusté a mieux capturé le fait que ces deux mots sont des antonymes.\")\n",
    "print(\"Aussi, la similarité entre 'fast' et 'rapid', qui sont des synonymes, est restée élevée, passant légèrement de 0.6445 à 0.5465. On peut donc en conclure que le model_fine_tuned a amélioré sa capacité à distinguer les antonymes et à renforcer la similarité entre les synonymes.\")"
   ]
  },
  {
   "cell_type": "markdown",
   "metadata": {
    "id": "0tcuh5244UPU"
   },
   "source": [
    "#### 5.4 Analyse, comparaison, conclusion (5 points)\n",
    "\n",
    "Comparez les performances des trois modèles (GloVe, zéro, fine-tuned). Quelle méthode est la plus performante ? Pourquoi ?\n",
    "\n",
    "Le modèle GloVe pré-entraîné a obtenu une corrélation de Spearman de 0.29. Cette performance est notable car GloVe a été pré-entraîné sur un large corpus textuel, ce qui lui permet de capturer efficacement les relations sémantiques entre les mots sans nécessiter d'entraînement supplémentaire.\n",
    "\n",
    "Le modèle de zéro, quant à lui, a débuté avec des embeddings aléatoires et a atteint une corrélation de Spearman de 0.1782 après l'entraînement. Bien que ce modèle ait montré une amélioration progressive, ses performances restent inférieures à celles de GloVe. En l'absence de préconnaissances des relations sémantiques, il doit apprendre à partir de données limitées, ce qui constitue une limitation majeure.\n",
    "\n",
    "Le modèle fine-tuned, lui, a affiché une corrélation de Spearman de 0.4662, se positionnant ainsi comme le plus performant. Ce modèle a utilisé les embeddings GloVe comme base, mais a été affiné sur les données spécifiques à la tâche. Ce processus de fine-tuning permet au modèle d'améliorer sa compréhension des relations sémantiques dans un contexte spécifique, surpassant ainsi les performances des deux autres modèles.\n",
    "\n",
    "En conclusion, le modèle fine-tuned est le plus performant, car il combine les avantages d'un modèle pré-entraîné (GloVe) avec la capacité de s'adapter à un jeu de données particulier."
   ]
  }
 ],
 "metadata": {
  "colab": {
   "provenance": []
  },
  "kernelspec": {
   "display_name": "Python 3",
   "language": "python",
   "name": "python3"
  },
  "language_info": {
   "codemirror_mode": {
    "name": "ipython",
    "version": 3
   },
   "file_extension": ".py",
   "mimetype": "text/x-python",
   "name": "python",
   "nbconvert_exporter": "python",
   "pygments_lexer": "ipython3",
   "version": "3.11.9"
  }
 },
 "nbformat": 4,
 "nbformat_minor": 4
}
