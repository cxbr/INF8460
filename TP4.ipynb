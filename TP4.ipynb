{
 "cells": [
  {
   "cell_type": "markdown",
   "metadata": {
    "id": "znlt8jyJKg-5"
   },
   "source": [
    "## <center> École Polytechnique de Montréal <br> Département Génie Informatique et Génie Logiciel <br>  INF8460 – Traitement automatique de la langue naturelle <br> </center>\n",
    "## <center> TP4 - Les LLMs et la génération augmentée de récupération (RAG) pour les questions-réponses<br> Automne 2024 </center>\n"
   ]
  },
  {
   "cell_type": "markdown",
   "metadata": {
    "id": "DoV3xwEnwXvc"
   },
   "source": [
    "## 1. Introduction\n",
    "\n",
    "### 1.1. Description du TP4\n",
    "\n",
    "Dans ce TP, vous allez travailler sur un système de **génération augmentée de récupération**, ou **RAG** (pour Retrieval Augmented Generation en anglais) qui combine des modèles de langue génératifs et de recherche d'information.\n",
    "\n",
    "Étant donnée une question, il faudra retrouver les passages les plus pertinents  avec un modèle de recherche. Ensuite, il faudra générer une réponse à la question en utilisant ces passages de texte. Vous aurez finalement à trouver des manières d'améliorer les performances de votre modèle RAG.\n",
    "\n",
    "L'ensemble est noté sur 100 points.\n",
    "\n",
    "### Description des données\n",
    "\n",
    "Les passages donnés sont des textes en anglais de quelques phrases sur divers sujets. Par exemple, les mathématiques, la physique, la chimie, la biologie l'informatique, la musique et la psychologie. En général, les textes abordent des sujets très spécifiques reliés à un domaine. Par exemple, il pourrait y avoir 1000 textes parlant d'informatique et 100 qui abordent, à leur manière, la notion de mémoire. Parmi ces 100 passages, 5 pourraient aborder la mémoire dans un processeur spécifique.\n",
    "\n",
    "En ce qui concerne les questions, elles sont basées sur les sujets de certains textes précis et on peut y répondre à l'aide d'au moins un des textes. Dans certains cas, plusieurs textes sont nécessaires pour répondre à la question. Par exemple, plusieurs textes pourraient aborder le processeur Intel i7-13700k, mais la question pourrait nécessiter l'information de tous ces textes pour trouver la réponse.\n",
    "Les questions ont été créées pour faire en sorte que les réponses soient assez courtes. Il peut s'agir d'un simple nombre ou de quelques mots (< 30 mots).\n",
    "\n",
    "\n",
    "Vous trouverez ~ 13 000 passages dans le corpus pour ~ 1 700 paires de questions / réponses dans le jeu d'entraînement et ~ 500 dans le jeu de validation. Vous devez prédire 500 réponses aux questions du jeu de test.\n",
    "\n",
    "### Exemple\n",
    "\n",
    "Par exemple, pour la question\n",
    "\n",
    "> What type of bonds are used to form branches in glycogen?\n",
    "\n",
    "Avec l'approche RAG, plutôt que de générer la réponse directement, on va d'abord chercher dans un corpus de passages. Dans cet exemple, un des passages pertinents est :\n",
    "\n",
    "> **Glycogen Structure and Function** : Glycogen is a molecular polymer of glucose used for energy storage. It is composed of linear chains of glucose molecules linked by α-1,4-glycosidic bonds, with branches formed off the chain via α-1,6-glycosidic bonds. The branches provide additional \"\"free ends\"\" for linear chains, allowing for faster glucose release.\n",
    "\n",
    "Puis on génère une réponse conditionnée par les passages pertinents :\n",
    "\n",
    "> α-1,6-glycosidic bonds\n",
    "\n",
    "### Motivation\n",
    "\n",
    "Le RAG est une approche très populaire en ce moment. Elle permet notamment d'avoir des sources qui supportent les réponses générées, ce qui peut être utile pour la vérification de faits ou pour contrôler les hallucinations. De plus, elle permet d'intégrer des connaissances externes et récentes dans les modèles de génération sans avoir à les ré-entraîner.\n",
    "\n",
    "### Objectif du TP\n",
    "\n",
    "Dans ce TP, vous implémenterez plusieurs systèmes de question-réponse. D'abord, vous testerez une approche de prompting qui n'utilise aucun passage pour aider le modèle de génération. Puis vous implémenterez un système figé qui utilise un modèle de plongements figé pour retrouver les $k$ passages les plus pertinents. Ces passages seront ensuite donnés à un modèle de génération figé aussi.\n",
    "\n",
    "Enfin, vous implémenterez votre propre méthode dans l'objectif d'atteindre les meilleures performances dans la compétition Kaggle.\n",
    "\n",
    "### Jeux de données\n",
    "\n",
    "Vous avez 4 fichiers à votre disposition :\n",
    "- 'rag_texts.csv' : le corpus de passages extraits de Wikipédia.\n",
    "  - **id** : l'identifiant unique du passage.\n",
    "  - **text** : le texte du passage.\n",
    "- 'rag_questions_train.csv', 'rag_questions_val.csv' et 'rag_questions_test.csv' : les questions d'entraînement, de validation et de test.\n",
    "  - **id** : l'identifiant unique de la question.\n",
    "  - **question** : La question.\n",
    "  - **text_id** (sauf pour le fichier de test) : la liste des identifiants des passages pertinents du corpus 'rag_texts.csv' pour la question.\n",
    "  - **answer** (sauf pour le fichier de test) : la réponse à la question.\n",
    "\n",
    "### Contraintes\n",
    "\n",
    "- **Modèle génératif** : pour des raisons d'équité, le seul modèle de génération que vous pouvez utiliser est [microsoft/Phi-3-mini-128k-instruct](https://huggingface.co/microsoft/Phi-3-mini-128k-instruct), disponible sur Hugging Face. Cette contrainte permet de mieux comparer les différentes approches et d'éviter que la performance soit uniquement due à un modèle de génération plus performant.\n",
    "- Données externes : vous ne pouvez pas utiliser de données externes pour entraîner vos modèles, seulement les données fournies.\n",
    "- Modèles de plongements à utiliser: [BAAI/bge-small-en-v1.5](https://huggingface.co/BAAI/bge-small-en-v1.5)"
   ]
  },
  {
   "cell_type": "markdown",
   "metadata": {
    "id": "odOH2_belmzJ"
   },
   "source": [
    "### 1.2. Librairies permises\n",
    "\n",
    "Vous pouvez utiliser les librairies suivantes\n",
    "- Numpy\n",
    "- Pandas\n",
    "- HuggingFace\n",
    "- nltk\n",
    "- SpaCy\n",
    "- PyTorch\n",
    "- faiss\n",
    "- Langchain\n",
    "- re\n",
    "\n",
    "\n",
    "- Pour toute autre librairie, demandez à votre chargé de laboratoire"
   ]
  },
  {
   "cell_type": "markdown",
   "metadata": {
    "id": "RWGhJ8wVlmzK"
   },
   "source": [
    "### 1.3. Infrastructure\n",
    "\n",
    "- Vous avez accès aux GPU du local L-4818. Dans ce cas, vous devez utiliser le dossier temp (voir le tutoriel VirtualEnv.pdf)\n",
    "- Vous pouvez aussi utiliser l’environnement Google Colab :  https://colab.research.google.com/"
   ]
  },
  {
   "cell_type": "markdown",
   "metadata": {
    "id": "tNRaPiNTlmzL"
   },
   "source": [
    "### 1.5. Kaggle\n",
    "\n",
    "La compétion Kaggle sera accessible ici: https://www.kaggle.com/t/c970abbf273b4e13a642fce3bfe219be.\n",
    "\n",
    "Vous devez recréer des équipes de 3 personnes sur Kaggle avec le même nom d'équipe que sur Moodle ainsi que les mêmes membres.\n",
    "\n",
    "Le TP4 se fera sous forme d’une compétition Kaggle.  Vous devrez utiliser l’environnement Kaggle pour la soumission et l’évaluation de vos meilleurs modèles.  \n",
    "Pour tester votre modèle au fur et à mesure, vous aurez le droit à 4 soumissions par jour sur Kaggle. Il y aura deux types de résultats : votre « private leaderboard » et votre « public leaderboard » :\n",
    "- Le « public leaderboard » est calculé sur approximativement 30% des données de test, choisies aléatoirement par Kaggle. Ce score est public et est calculé sur la même tranche de données pour tous les participants.\n",
    "- Le « private leaderboard » est calculé sur approximativement 70% des données de test et n’est visible qu’à la fin de la compétition. Le résultat final sera basé sur ce leaderboard. Si aucune soumission n’est choisie, la soumission avec le meilleur score sur le « public leaderboard » sera utilisée pour calculer le score sur le « private leaderboard ».\n",
    "\n",
    "Pour l’évaluation, vous devrez soumettre un fichier de données _tp4_submission.csv_ du même format que le fichier _sample_submission.csv_ (disponible sur le site de la compétition et Moodle).\n"
   ]
  },
  {
   "cell_type": "markdown",
   "metadata": {
    "id": "4TLhKFVblmzL"
   },
   "source": [
    "### 1.6. Description des données et métriques d’évaluation\n",
    "\n",
    "Dans votre fichier de soumission, il doit y avoir une colonne _id_ et une colonne _answer_. La colonne _id_ doit correspondre à l'identifiant unique de la question et la colonne _answer_ doit correspondre à la réponse générée par votre modèle.\n",
    "\n",
    "Nous utiliserons la métrique **BLEU**, vue en cours, pour évaluer les réponses générées par rapport au jeu de référence (gold standard)."
   ]
  },
  {
   "cell_type": "code",
   "execution_count": 2,
   "metadata": {
    "id": "udMU6GMyAzJg"
   },
   "outputs": [],
   "source": [
    "# Import des librairies\n",
    "\n",
    "import os\n",
    "import torch\n",
    "import numpy as np\n",
    "import pandas as pd\n",
    "from tqdm import tqdm\n",
    "import matplotlib.pyplot as plt\n",
    "from typing import Optional\n",
    "from transformers import (\n",
    "    AutoTokenizer,\n",
    "    AutoModelForCausalLM,\n",
    "    BitsAndBytesConfig,\n",
    "    AutoModelForSeq2SeqLM,\n",
    "    AutoModel,\n",
    "    TrainingArguments\n",
    ")\n",
    "from nltk.tokenize import word_tokenize\n",
    "from nltk.corpus import stopwords\n",
    "from nltk.translate.bleu_score import sentence_bleu, SmoothingFunction\n",
    "from datetime import datetime\n",
    "from datasets import load_dataset, Dataset\n",
    "import nltk\n",
    "import faiss\n",
    "import re\n",
    "from peft import LoraConfig, get_peft_model\n",
    "from trl import SFTTrainer\n",
    "from torch import nn, optim\n",
    "from torch.utils.data import DataLoader\n",
    "from sklearn.model_selection import train_test_split\n",
    "from torch.nn.functional import normalize\n",
    "import torch.nn.functional as F\n",
    "import ast"
   ]
  },
  {
   "cell_type": "code",
   "execution_count": 3,
   "metadata": {
    "colab": {
     "base_uri": "https://localhost:8080/"
    },
    "id": "qSKc-YAaAzJl",
    "outputId": "6316bf0d-df93-4124-9d1a-cd16c86c55a7"
   },
   "outputs": [],
   "source": [
    "# Si vous stockez vos données sur Google Drive\n",
    "\n",
    "# from google.colab import drive\n",
    "# drive.mount('/content/drive')"
   ]
  },
  {
   "cell_type": "code",
   "execution_count": 4,
   "metadata": {
    "id": "LVHJ4q3xAzJm"
   },
   "outputs": [],
   "source": [
    "root_path = './'\n",
    "data_path = root_path + 'data/'\n",
    "generated_path = root_path + 'generated/'"
   ]
  },
  {
   "cell_type": "markdown",
   "metadata": {
    "id": "DiPlzm88lmzM"
   },
   "source": [
    "## 2. Analyse exploratoire et modèle de génération simple (15 points)\n",
    "\n",
    "Pour commencer ce TP, et pour fixer des modèles de base (baselines), vous allez utiliser un modèle de génération simple pour répondre aux questions. Vous utiliserez le modèle de génération **'microsoft/Phi-3-mini-128k-instruct'** disponible sur Hugging Face. Dans cette partie, vous devez simplement générer des réponses aux questions de l'ensemble de validation (_questions_val.csv_) sans utiliser de passages pour aider le modèle."
   ]
  },
  {
   "cell_type": "markdown",
   "metadata": {
    "id": "jibrBtkRlmzM"
   },
   "source": [
    "### 2.1. Chargement des données (5 points)"
   ]
  },
  {
   "cell_type": "markdown",
   "metadata": {
    "id": "7tYp_kZ7AzJn"
   },
   "source": [
    "#### 2.1.1 Taille des données (1 point)\n",
    "\n",
    "Affichez la taille de tous les jeux de données et quelques questions de l'ensemble d'entraînement"
   ]
  },
  {
   "cell_type": "code",
   "execution_count": 5,
   "metadata": {
    "colab": {
     "base_uri": "https://localhost:8080/",
     "height": 276
    },
    "id": "0gfo_V7jlmzM",
    "outputId": "64bdd20f-f242-4362-f763-b2e201e89778"
   },
   "outputs": [
    {
     "name": "stdout",
     "output_type": "stream",
     "text": [
      "La taille de questions_train_df est : (1747, 4)\n",
      "La taille de questions_val_df est : (500, 4)\n",
      "La taille de questions_test_df est : (500, 2)\n",
      "La taille de texts_df est : (13314, 2)\n"
     ]
    },
    {
     "data": {
      "text/html": [
       "<div>\n",
       "<style scoped>\n",
       "    .dataframe tbody tr th:only-of-type {\n",
       "        vertical-align: middle;\n",
       "    }\n",
       "\n",
       "    .dataframe tbody tr th {\n",
       "        vertical-align: top;\n",
       "    }\n",
       "\n",
       "    .dataframe thead th {\n",
       "        text-align: right;\n",
       "    }\n",
       "</style>\n",
       "<table border=\"1\" class=\"dataframe\">\n",
       "  <thead>\n",
       "    <tr style=\"text-align: right;\">\n",
       "      <th></th>\n",
       "      <th>id</th>\n",
       "      <th>text_ids</th>\n",
       "      <th>question</th>\n",
       "      <th>answer</th>\n",
       "    </tr>\n",
       "  </thead>\n",
       "  <tbody>\n",
       "    <tr>\n",
       "      <th>0</th>\n",
       "      <td>2303</td>\n",
       "      <td>[9797 8675 11007 4654]</td>\n",
       "      <td>What type of insects are vectors for the Haemo...</td>\n",
       "      <td>Ceratopogonidae, Culicidae, and Nycteribiidae</td>\n",
       "    </tr>\n",
       "    <tr>\n",
       "      <th>1</th>\n",
       "      <td>2310</td>\n",
       "      <td>[736 9830 5892 3158]</td>\n",
       "      <td>What is the basis of the security of the BBS a...</td>\n",
       "      <td>The computational difficulty of factoring larg...</td>\n",
       "    </tr>\n",
       "    <tr>\n",
       "      <th>2</th>\n",
       "      <td>2548</td>\n",
       "      <td>[10371 6103]</td>\n",
       "      <td>What is the purpose of the catalase test in ba...</td>\n",
       "      <td>To identify bacterial species and determine th...</td>\n",
       "    </tr>\n",
       "    <tr>\n",
       "      <th>3</th>\n",
       "      <td>552</td>\n",
       "      <td>[11829 6677 7137]</td>\n",
       "      <td>What type of cells clear small particles in ve...</td>\n",
       "      <td>Scavenger endothelial cells</td>\n",
       "    </tr>\n",
       "    <tr>\n",
       "      <th>4</th>\n",
       "      <td>1822</td>\n",
       "      <td>[4105 1016]</td>\n",
       "      <td>What information is needed to decrypt a messag...</td>\n",
       "      <td>The user's private key</td>\n",
       "    </tr>\n",
       "  </tbody>\n",
       "</table>\n",
       "</div>"
      ],
      "text/plain": [
       "     id                text_ids  \\\n",
       "0  2303  [9797 8675 11007 4654]   \n",
       "1  2310    [736 9830 5892 3158]   \n",
       "2  2548            [10371 6103]   \n",
       "3   552       [11829 6677 7137]   \n",
       "4  1822             [4105 1016]   \n",
       "\n",
       "                                            question  \\\n",
       "0  What type of insects are vectors for the Haemo...   \n",
       "1  What is the basis of the security of the BBS a...   \n",
       "2  What is the purpose of the catalase test in ba...   \n",
       "3  What type of cells clear small particles in ve...   \n",
       "4  What information is needed to decrypt a messag...   \n",
       "\n",
       "                                              answer  \n",
       "0      Ceratopogonidae, Culicidae, and Nycteribiidae  \n",
       "1  The computational difficulty of factoring larg...  \n",
       "2  To identify bacterial species and determine th...  \n",
       "3                        Scavenger endothelial cells  \n",
       "4                             The user's private key  "
      ]
     },
     "execution_count": 5,
     "metadata": {},
     "output_type": "execute_result"
    }
   ],
   "source": [
    "# TODO\n",
    "questions_train_df = pd.read_csv(data_path + 'questions_train.csv')\n",
    "id_index = questions_train_df.columns.get_loc('id')\n",
    "questions_train_df = questions_train_df.iloc[:, id_index:]\n",
    "print(f'La taille de questions_train_df est :', questions_train_df.shape)\n",
    "\n",
    "questions_val_df = pd.read_csv(data_path + 'questions_val.csv')\n",
    "id_index = questions_val_df.columns.get_loc('id')\n",
    "questions_val_df = questions_val_df.iloc[:, id_index:]\n",
    "print(f'La taille de questions_val_df est :', questions_val_df.shape)\n",
    "\n",
    "questions_test_df = pd.read_csv(data_path + 'questions_test.csv')\n",
    "id_index = questions_test_df.columns.get_loc('id')\n",
    "questions_test_df = questions_test_df.iloc[:, id_index:]\n",
    "print(f'La taille de questions_test_df est :', questions_test_df.shape)\n",
    "\n",
    "texts_df = pd.read_csv(data_path + 'texts.csv')\n",
    "id_index = texts_df.columns.get_loc('id')\n",
    "texts_df = texts_df.iloc[:, id_index:]\n",
    "print(f'La taille de texts_df est :', texts_df.shape)\n",
    "\n",
    "questions_train_df.head()\n",
    "# END TODO"
   ]
  },
  {
   "cell_type": "markdown",
   "metadata": {
    "id": "yC71z4bYAzJo"
   },
   "source": [
    "#### 2.1.2 Analyse exploratoire (4 points)\n",
    "\n",
    "a) Sur l'ensemble d'entraînement, affichez :\n",
    "- Le nombre moyen de mots dans une question\n",
    "- Le nombre moyen de mots dans une réponse\n",
    "- Le nombre moyen de passages nécessaires pour répondre à une question\n",
    "- Le nombre minimal de passages nécessaires pour répondre à une question\n",
    "- Le nombre maximal de passages nécessaires pour répondre à une question\n"
   ]
  },
  {
   "cell_type": "code",
   "execution_count": 6,
   "metadata": {
    "colab": {
     "base_uri": "https://localhost:8080/"
    },
    "id": "5vWCayMDAzJo",
    "outputId": "9da77380-bc2b-4c7b-aa0a-98fa3626da13"
   },
   "outputs": [
    {
     "name": "stdout",
     "output_type": "stream",
     "text": [
      "Nombre moyen de mots dans une question : 10.37\n",
      "Nombre moyen de mots dans une réponse : 6.08\n",
      "Nombre moyen de passages nécessaires pour répondre à une question : 2.84\n",
      "Nombre minimal de passages nécessaires pour répondre à une question : 2\n",
      "Nombre maximal de passages nécessaires pour répondre à une question : 4\n"
     ]
    }
   ],
   "source": [
    "# TODO\n",
    "average_words_question = questions_train_df['question'].str.split().apply(len).mean()\n",
    "print(f\"Nombre moyen de mots dans une question : {average_words_question:.2f}\")\n",
    "\n",
    "average_words_answer = questions_train_df['answer'].str.split().apply(len).mean()\n",
    "print(f\"Nombre moyen de mots dans une réponse : {average_words_answer:.2f}\")\n",
    "\n",
    "average_passages = questions_train_df['text_ids'].str.split().apply(len).mean()\n",
    "print(f\"Nombre moyen de passages nécessaires pour répondre à une question : {average_passages:.2f}\")\n",
    "\n",
    "min_passages = questions_train_df['text_ids'].str.split().apply(len).min()\n",
    "print(f\"Nombre minimal de passages nécessaires pour répondre à une question : {min_passages}\")\n",
    "\n",
    "max_passages = questions_train_df['text_ids'].str.split().apply(len).max()\n",
    "print(f\"Nombre maximal de passages nécessaires pour répondre à une question : {max_passages}\")\n",
    "# END TODO"
   ]
  },
  {
   "cell_type": "markdown",
   "metadata": {
    "id": "rZSaID8dAzJo"
   },
   "source": [
    "b) De plus, affichez des histogrammes décrivant la distribution du nombre de mots des questions, des réponses et des textes. Utilisez des bacs (bins) de 50. Commentez vos résultats."
   ]
  },
  {
   "cell_type": "code",
   "execution_count": 7,
   "metadata": {
    "colab": {
     "base_uri": "https://localhost:8080/",
     "height": 320
    },
    "id": "ydR4Nl75AzJp",
    "outputId": "158269fe-ef30-47c6-becf-2a1c402435ea"
   },
   "outputs": [
    {
     "data": {
      "image/png": "[encoded data removed]",
      "text/plain": [
       "<Figure size 1500x500 with 3 Axes>"
      ]
     },
     "metadata": {},
     "output_type": "display_data"
    }
   ],
   "source": [
    "# TODO\n",
    "fig, axes = plt.subplots(1, 3, figsize=(15, 5))\n",
    "\n",
    "axes[0].hist(questions_train_df['question'].str.split().apply(len), bins=50)\n",
    "axes[0].set_title('Distribution of Word Count in Questions')\n",
    "axes[0].set_xlabel('Number of Words')\n",
    "axes[0].set_ylabel('Frequency')\n",
    "\n",
    "axes[1].hist(questions_train_df['answer'].str.split().apply(len), bins=50)\n",
    "axes[1].set_title('Distribution of Word Count in Answers')\n",
    "axes[1].set_xlabel('Number of Words')\n",
    "axes[1].set_ylabel('Frequency')\n",
    "\n",
    "axes[2].hist(questions_train_df['text_ids'].str.split().apply(len), bins=50)\n",
    "axes[2].set_title('Distribution of Passage Count per Question')\n",
    "axes[2].set_xlabel('Number of Passages')\n",
    "axes[2].set_ylabel('Frequency')\n",
    "\n",
    "plt.tight_layout()\n",
    "plt.show()\n",
    "# TODO"
   ]
  },
  {
   "cell_type": "markdown",
   "metadata": {
    "id": "pzB8RxSPAzJp"
   },
   "source": [
    "COMMENTAIRE:\n",
    "\n",
    "Nombre de mots dans les questions : La plupart des questions contiennent entre 5 et 15 mots, avec une moyenne de 10,37 mots. Cela indique des questions courtes et précises.\n",
    "\n",
    "Nombre de mots dans les réponses : Les réponses sont encore plus courtes, avec une moyenne de 6,08 mots. La majorité des réponses sont brèves, bien que certaines soient plus détaillées.\n",
    "\n",
    "Nombre de passages par question : En moyenne, chaque question nécessite environ 2,84 passages, avec un minimum de 2 et un maximum de 4 passages. Cela montre que les questions nécessitent un contexte modéré, sans être trop complexes."
   ]
  },
  {
   "cell_type": "markdown",
   "metadata": {
    "id": "gMgR_b3nlmzM"
   },
   "source": [
    "### 2.2. Chargement du modèle et génération des réponses (5 points)\n",
    "\n",
    "Nous allons maintenant évaluer la performance d'un modèle de langue à répondre aux questions de l'ensemble de validation. Chargez d'abord le modèle **'microsoft/Phi-3-mini-128k-instruct'** avec la librairie `transformers` de huggingface et générez les réponses du modèle à partir de la question. Générez au maximum 32 nouveaux jetons."
   ]
  },
  {
   "cell_type": "code",
   "execution_count": 8,
   "metadata": {
    "id": "yUSB8gMVAzJq"
   },
   "outputs": [],
   "source": [
    "import gc\n",
    "\n",
    "torch.manual_seed(0)\n",
    "\n",
    "device = 'cuda' if torch.cuda.is_available() else 'cpu'\n",
    "quantization_config = BitsAndBytesConfig(load_in_8bit=True)\n",
    "\n",
    "def clean_cuda():\n",
    "  if torch.cuda.is_available():\n",
    "      torch.cuda.empty_cache()\n",
    "      torch.cuda.reset_peak_memory_stats()\n",
    "      gc.collect()\n",
    "      print(f\"GPU memory cleaned\")"
   ]
  },
  {
   "cell_type": "code",
   "execution_count": 10,
   "metadata": {
    "colab": {
     "base_uri": "https://localhost:8080/",
     "height": 49,
     "referenced_widgets": [
      "65abe388aa564a25b0e640060a88ac42",
      "d822a51c29e8419e8fb9fd593a13a51d",
      "fcf1340b2d2f41ee9e16dbe4ad6505b3",
      "608e3872b9b04bacae2e24ca735d64ec",
      "86df048ac08044e286ec340f7f4f7ced",
      "b2476ee4f8474922894ea99d6d52297b",
      "e8aeb7cd3e814731a977afd6735779ab",
      "ba899452489e46ed96fd37659840fcd3",
      "1e66fef8d4e64066b35a5d774f772955",
      "7c27c926a67e4b90bb6fcb226edce9c5",
      "a536d5fe17a84a3888f755c11986a528",
      "de18040b332c48df805e0da02f4d6342"
     ]
    },
    "collapsed": true,
    "id": "TAXSAUV-AzJq",
    "outputId": "103ec53b-e673-472b-8a23-64e24370beaa"
   },
   "outputs": [
    {
     "data": {
      "application/vnd.jupyter.widget-view+json": {
       "model_id": "cd25d852cb444a8d990ebb4e33ef4e75",
       "version_major": 2,
       "version_minor": 0
      },
      "text/plain": [
       "Loading checkpoint shards:   0%|          | 0/2 [00:00<?, ?it/s]"
      ]
     },
     "metadata": {},
     "output_type": "display_data"
    }
   ],
   "source": [
    "model = AutoModelForCausalLM.from_pretrained(\n",
    "    \"microsoft/Phi-3-mini-128k-instruct\",\n",
    "    device_map=device,\n",
    "    torch_dtype=torch.float16,\n",
    "    trust_remote_code=True,\n",
    ")\n",
    "tokenizer = AutoTokenizer.from_pretrained(\"microsoft/Phi-3-mini-128k-instruct\")"
   ]
  },
  {
   "cell_type": "code",
   "execution_count": 11,
   "metadata": {
    "id": "QTTHrxWFAzJr"
   },
   "outputs": [],
   "source": [
    "DEFAULT_RESPONSE = \"I'm not sure about that.\"\n",
    "\n",
    "def build_prompt(question, base_prompt=\"You are a concise and precise assistant. Limit answers to one sentence.\"):\n",
    "    \"\"\"\n",
    "    Build a conversational prompt for a given question.\n",
    "    \"\"\"\n",
    "    prompt_template = [\n",
    "        {\"role\": \"system\", \"content\": base_prompt},\n",
    "        {\"role\": \"user\", \"content\": question},\n",
    "        {\"role\": \"assistant\", \"content\": \"Answer:\"}\n",
    "    ]\n",
    "    return \"\\n\".join([f\"{item['role']}: {item['content']}\" for item in prompt_template])\n",
    "\n",
    "def extract_first_sentence(text):\n",
    "    \"\"\"\n",
    "    Extract the first sentence from a given text.\n",
    "    \"\"\"\n",
    "    sentences = re.split(r\"[.!?\\n]\", text.strip())\n",
    "    return sentences[0].strip() if sentences else text\n",
    "\n",
    "def generate_answers(dataset: Dataset, batch_size=32) -> Dataset:\n",
    "    \"\"\"\n",
    "    Generate answers for each question in the dataset using the model and tokenizer.\n",
    "    \"\"\"\n",
    "    prompts = [build_prompt(question) for question in dataset['question']]\n",
    "    answers = []\n",
    "\n",
    "    for i in tqdm(range(0, len(prompts), batch_size), desc=\"Generating answers\"):\n",
    "        batch_prompts = prompts[i:i + batch_size]\n",
    "        inputs = tokenizer(\n",
    "            batch_prompts,\n",
    "            return_tensors=\"pt\",\n",
    "            padding=True,\n",
    "            truncation=True\n",
    "        ).to(model.device)\n",
    "\n",
    "        with torch.no_grad():\n",
    "            generated_tokens = model.generate(\n",
    "                inputs.input_ids,\n",
    "                attention_mask=inputs.attention_mask,\n",
    "                max_new_tokens=32,\n",
    "                do_sample=True,\n",
    "                top_p=0.95,\n",
    "                temperature=0.7\n",
    "            )\n",
    "\n",
    "        decoded_answers = tokenizer.batch_decode(\n",
    "            generated_tokens[:, inputs['input_ids'].shape[1]:],\n",
    "            skip_special_tokens=True\n",
    "        )\n",
    "\n",
    "        for decoded_answer in decoded_answers:\n",
    "            first_sentence = extract_first_sentence(decoded_answer)\n",
    "            answers.append(first_sentence or DEFAULT_RESPONSE)\n",
    "\n",
    "    return Dataset.from_dict({\"id\": dataset['id'], \"answer\": answers})"
   ]
  },
  {
   "cell_type": "code",
   "execution_count": 12,
   "metadata": {
    "colab": {
     "base_uri": "https://localhost:8080/",
     "referenced_widgets": [
      "ab328f7b44df48878d30377276484992"
     ]
    },
    "id": "-lS6cw_MAzJs",
    "outputId": "a04bfe59-32e7-401b-8267-720aee6c5f71"
   },
   "outputs": [
    {
     "name": "stderr",
     "output_type": "stream",
     "text": [
      "Generating answers:   0%|          | 0/16 [00:00<?, ?it/s]The `seen_tokens` attribute is deprecated and will be removed in v4.41. Use the `cache_position` model input instead.\n",
      "`get_max_cache()` is deprecated for all Cache classes. Use `get_max_cache_shape()` instead. Calling `get_max_cache()` will raise error from v4.48\n",
      "You are not running the flash-attention implementation, expect numerical differences.\n",
      "Generating answers: 100%|██████████| 16/16 [00:22<00:00,  1.39s/it]\n"
     ]
    },
    {
     "data": {
      "application/vnd.jupyter.widget-view+json": {
       "model_id": "47609efde3d2424fba2e9cee4e82498a",
       "version_major": 2,
       "version_minor": 0
      },
      "text/plain": [
       "Creating CSV from Arrow format:   0%|          | 0/1 [00:00<?, ?ba/s]"
      ]
     },
     "metadata": {},
     "output_type": "display_data"
    },
    {
     "data": {
      "text/html": [
       "<div>\n",
       "<style scoped>\n",
       "    .dataframe tbody tr th:only-of-type {\n",
       "        vertical-align: middle;\n",
       "    }\n",
       "\n",
       "    .dataframe tbody tr th {\n",
       "        vertical-align: top;\n",
       "    }\n",
       "\n",
       "    .dataframe thead th {\n",
       "        text-align: right;\n",
       "    }\n",
       "</style>\n",
       "<table border=\"1\" class=\"dataframe\">\n",
       "  <thead>\n",
       "    <tr style=\"text-align: right;\">\n",
       "      <th></th>\n",
       "      <th>id</th>\n",
       "      <th>answer</th>\n",
       "    </tr>\n",
       "  </thead>\n",
       "  <tbody>\n",
       "    <tr>\n",
       "      <th>0</th>\n",
       "      <td>780</td>\n",
       "      <td>It reduces responsiveness to LTD4</td>\n",
       "    </tr>\n",
       "    <tr>\n",
       "      <th>1</th>\n",
       "      <td>1870</td>\n",
       "      <td>Carbapenems have a different core ring structu...</td>\n",
       "    </tr>\n",
       "    <tr>\n",
       "      <th>2</th>\n",
       "      <td>654</td>\n",
       "      <td>4-dimensional hypercubic facets</td>\n",
       "    </tr>\n",
       "    <tr>\n",
       "      <th>3</th>\n",
       "      <td>2538</td>\n",
       "      <td>5F-AMB is a controlled substance under the Con...</td>\n",
       "    </tr>\n",
       "    <tr>\n",
       "      <th>4</th>\n",
       "      <td>745</td>\n",
       "      <td>Estrone</td>\n",
       "    </tr>\n",
       "  </tbody>\n",
       "</table>\n",
       "</div>"
      ],
      "text/plain": [
       "     id                                             answer\n",
       "0   780                  It reduces responsiveness to LTD4\n",
       "1  1870  Carbapenems have a different core ring structu...\n",
       "2   654                    4-dimensional hypercubic facets\n",
       "3  2538  5F-AMB is a controlled substance under the Con...\n",
       "4   745                                            Estrone"
      ]
     },
     "execution_count": 12,
     "metadata": {},
     "output_type": "execute_result"
    }
   ],
   "source": [
    "answers_dataset = generate_answers(questions_val_df)\n",
    "output_filename = f\"val_2_2_{datetime.now().strftime('%Y%m%d_%H%M%S')}.csv\"\n",
    "answers_dataset.to_csv(generated_path + output_filename, index=False)\n",
    "answers_dataset.select(range(5)).to_pandas().head()"
   ]
  },
  {
   "cell_type": "markdown",
   "metadata": {
    "id": "pX9wHXuolmzN"
   },
   "source": [
    "### 2.3. Évaluation des réponses (3 points)\n",
    "\n",
    "Complétez la fonction `evaluate_bleu` et utilisez la métrique BLEU pour évaluer les réponses générées par rapport aux réponses attendues sur le jeu de validation. Évaluez votre modèle avec les métriques BLEU-1 et BLEU-2. BLEU-1 ne considère que les unigrammes pour évaluer la réponse et BLEU-2 considère les bigrammes aussi. Pour séparer une séquence en mots, vous pouvez simplement utiliser la fonction `split()`."
   ]
  },
  {
   "cell_type": "code",
   "execution_count": 13,
   "metadata": {
    "id": "gcix6hdJlmzN"
   },
   "outputs": [],
   "source": [
    "def evaluate_bleu(df_true: pd.DataFrame, df_pred: pd.DataFrame, bleu_type: int) -> float:\n",
    "    \"\"\"\n",
    "    Evaluate generated responses using the BLEU metric.\n",
    "\n",
    "    Parameters:\n",
    "    - df_true (pd.DataFrame): DataFrame containing the true answers with columns 'id' and 'answer'.\n",
    "    - df_pred (pd.DataFrame): DataFrame containing the predicted answers with columns 'id' and 'answer'.\n",
    "    - bleu_type (int): Specifies the n-gram BLEU type (1 for BLEU-1, 2 for BLEU-2).\n",
    "\n",
    "    Returns:\n",
    "    - float: The average BLEU score across all entries, scaled by 100.\n",
    "    \"\"\"\n",
    "    weights = (1.0, 0, 0, 0) if bleu_type == 1 else (0.5, 0.5, 0, 0)\n",
    "    smoothing_function = SmoothingFunction().method1\n",
    "    bleu_scores = [\n",
    "        sentence_bleu([true_answer.split()], pred_answer.split(), weights, smoothing_function=smoothing_function)\n",
    "        if true_answer and pred_answer else 0.0\n",
    "        for true_answer, pred_answer in zip(df_true['answer'], df_pred['answer'])\n",
    "    ]\n",
    "    return np.mean(bleu_scores) * 100 if bleu_scores else 0.0"
   ]
  },
  {
   "cell_type": "code",
   "execution_count": 14,
   "metadata": {
    "id": "fMQP4HytlmzN",
    "outputId": "d072fd5a-930a-4dd3-fcb1-c9af5950be9a"
   },
   "outputs": [
    {
     "name": "stdout",
     "output_type": "stream",
     "text": [
      "BLEU-1 : 18.27%\n",
      "BLEU-2 : 10.39%\n"
     ]
    }
   ],
   "source": [
    "bleu = {\n",
    "    'BLEU-1': evaluate_bleu(questions_val_df, answers_dataset.to_pandas(), 1),\n",
    "    'BLEU-2': evaluate_bleu(questions_val_df, answers_dataset.to_pandas(), 2)\n",
    "}\n",
    "for key, value in bleu.items():\n",
    "    print(f'{key} : {value:.2f}%')"
   ]
  },
  {
   "cell_type": "markdown",
   "metadata": {
    "id": "G9Her6pglmzN"
   },
   "source": [
    "### 2.4. Commentaire (2 points)\n",
    "\n",
    "Reportez, puis commentez la performance obtenue ici."
   ]
  },
  {
   "cell_type": "code",
   "execution_count": 15,
   "metadata": {
    "id": "yVeAXPH1AzJu"
   },
   "outputs": [
    {
     "name": "stderr",
     "output_type": "stream",
     "text": [
      "Generating answers: 100%|██████████| 16/16 [00:21<00:00,  1.34s/it]\n"
     ]
    },
    {
     "data": {
      "application/vnd.jupyter.widget-view+json": {
       "model_id": "cbf3986f41724775b5b980fbe8935c25",
       "version_major": 2,
       "version_minor": 0
      },
      "text/plain": [
       "Creating CSV from Arrow format:   0%|          | 0/1 [00:00<?, ?ba/s]"
      ]
     },
     "metadata": {},
     "output_type": "display_data"
    },
    {
     "data": {
      "text/html": [
       "<div>\n",
       "<style scoped>\n",
       "    .dataframe tbody tr th:only-of-type {\n",
       "        vertical-align: middle;\n",
       "    }\n",
       "\n",
       "    .dataframe tbody tr th {\n",
       "        vertical-align: top;\n",
       "    }\n",
       "\n",
       "    .dataframe thead th {\n",
       "        text-align: right;\n",
       "    }\n",
       "</style>\n",
       "<table border=\"1\" class=\"dataframe\">\n",
       "  <thead>\n",
       "    <tr style=\"text-align: right;\">\n",
       "      <th></th>\n",
       "      <th>id</th>\n",
       "      <th>answer</th>\n",
       "    </tr>\n",
       "  </thead>\n",
       "  <tbody>\n",
       "    <tr>\n",
       "      <th>0</th>\n",
       "      <td>792</td>\n",
       "      <td>An expectorant and a treatment for hyperacidity</td>\n",
       "    </tr>\n",
       "    <tr>\n",
       "      <th>1</th>\n",
       "      <td>507</td>\n",
       "      <td>Ciliates, such as Paramecium, have lost multic...</td>\n",
       "    </tr>\n",
       "    <tr>\n",
       "      <th>2</th>\n",
       "      <td>1409</td>\n",
       "      <td>Chromosome 17</td>\n",
       "    </tr>\n",
       "    <tr>\n",
       "      <th>3</th>\n",
       "      <td>1369</td>\n",
       "      <td>Photometry</td>\n",
       "    </tr>\n",
       "    <tr>\n",
       "      <th>4</th>\n",
       "      <td>1198</td>\n",
       "      <td>The length of FAM166A in amino acids is not sp...</td>\n",
       "    </tr>\n",
       "  </tbody>\n",
       "</table>\n",
       "</div>"
      ],
      "text/plain": [
       "     id                                             answer\n",
       "0   792    An expectorant and a treatment for hyperacidity\n",
       "1   507  Ciliates, such as Paramecium, have lost multic...\n",
       "2  1409                                      Chromosome 17\n",
       "3  1369                                         Photometry\n",
       "4  1198  The length of FAM166A in amino acids is not sp..."
      ]
     },
     "execution_count": 15,
     "metadata": {},
     "output_type": "execute_result"
    }
   ],
   "source": [
    "questions_test_ds_answers = generate_answers(questions_test_df)\n",
    "questions_test_ds_answers.to_csv(generated_path + f'test_2_4_{datetime.now().strftime(\"%Y%m%d_%H%M%S\")}.csv', index=False)\n",
    "questions_test_ds_answers.select(range(5)).to_pandas().head()"
   ]
  },
  {
   "cell_type": "markdown",
   "metadata": {
    "id": "eHMF79ccxcfr"
   },
   "source": [
    "Performance obtenue:\n",
    "\n",
    "Les résultats obtenus (BLEU-1 : 18.37%, BLEU-2 : 10.36%, Kaggle : 0.06199) sont faibles et c’est normal car le modèle n’a pas été entraîné pour cette tâche spécifique et aucun contexte précis n’a été donné. Avec un entraînement adapté et du contexte, les performances seront meilleures."
   ]
  },
  {
   "cell_type": "markdown",
   "metadata": {
    "id": "SKv1Mb7DlmzN"
   },
   "source": [
    "## 3. Approche RAG figé (45 points)\n",
    "\n",
    "Dans cette partie, vous allez implémenter une approche simple de RAG figé. On dit ici que le modèle est figé car on ne ré-entraîne aucun modèle. Vous implémenterez deux variantes : avec ou sans l'utilisation d'un algorithme d'indexation.\n",
    "\n",
    "Dans la méthode d'implémentation du RAG figé, vous allez d'abord retrouver les passages pertinents pour chaque question avec un modèle de plongements de type Transformers, puis générer une réponse conditionnée par ces passages.\n",
    "\n",
    "Dans cette partie, on utilisera\n",
    "- le modèle de plongements (embedding-model) **[BAAI/bge-small-en-v1.5](https://huggingface.co/BAAI/bge-small-en-v1.5)** pour obtenir les vecteur de plongements des questions et des passages\n",
    "- le modèle de génération (generative-model) **[microsoft/Phi-3-mini-128k-instruct](https://huggingface.co/microsoft/Phi-3-mini-128k-instruct)** pour générer les réponses"
   ]
  },
  {
   "cell_type": "markdown",
   "metadata": {
    "id": "LVDX1sDyd1AR",
    "tags": []
   },
   "source": [
    "### 3.1 RAG figé sans indexation (23 points)"
   ]
  },
  {
   "cell_type": "markdown",
   "metadata": {
    "id": "bGXPWfqXlmzN"
   },
   "source": [
    "#### 3.1.1 Passages pertinents (8 points)\n",
    "\n",
    "Pour retrouver les passages pertinents, vous devez d'abord encoder les questions et les passages avec le modèle de plongements. Puis, vous devez calculer la similarité cosinus entre les questions et les passages pour retrouver les $k$ passages les plus pertinents pour chaque question."
   ]
  },
  {
   "cell_type": "code",
   "execution_count": 16,
   "metadata": {
    "id": "6iU2Yh5bAzJv",
    "outputId": "a734706c-87b6-4e41-8457-f5b93cb07b31"
   },
   "outputs": [],
   "source": [
    "# # TODO\n",
    "embedding_model = AutoModel.from_pretrained(\"BAAI/bge-small-en-v1.5\",\n",
    "    device_map='cuda',\n",
    "    torch_dtype=torch.float16,\n",
    "    trust_remote_code=True,\n",
    ")\n",
    "embedding_tokenizer = AutoTokenizer.from_pretrained(\"BAAI/bge-small-en-v1.5\")\n",
    "# # END TODO"
   ]
  },
  {
   "cell_type": "code",
   "execution_count": 17,
   "metadata": {
    "id": "3qdWbf1AlmzN"
   },
   "outputs": [],
   "source": [
    "def encode_sequences(sequences: list, tokenizer, model, device, batch_size=64):\n",
    "    \"\"\"\n",
    "    Encode texts using the provided model to generate text embeddings.\n",
    "\n",
    "    Parameters:\n",
    "    sequences    : List of sequences to encode as embeddings\n",
    "    tokenizer    : Tokenizer for the embedding model\n",
    "    model        : Embedding model (already loaded on CUDA if applicable)\n",
    "    device       : Device for performing computations (e.g., 'cuda' or 'cpu')\n",
    "    batch_size   : Batch size for processing\n",
    "\n",
    "    Returns:\n",
    "    torch.Tensor : Combined embeddings for all sequences\n",
    "    \"\"\"\n",
    "    embeddings = []\n",
    "    model.eval()\n",
    "    mixed_precision = torch.cuda.is_available()\n",
    "\n",
    "    with torch.no_grad(), torch.amp.autocast(device_type='cuda', enabled=mixed_precision):\n",
    "        for i in tqdm(range(0, len(sequences), batch_size), desc=\"Encoding sequences\"):\n",
    "            batch = sequences[i:i + batch_size]\n",
    "            inputs = tokenizer(batch, padding=True, truncation=True, return_tensors='pt', return_token_type_ids=False).to(device)\n",
    "            outputs = model(**inputs)\n",
    "            embedding_layer = outputs.last_hidden_state\n",
    "            embeddings.append(embedding_layer.mean(dim=1))\n",
    "\n",
    "    return torch.cat(embeddings, dim=0)"
   ]
  },
  {
   "cell_type": "code",
   "execution_count": 18,
   "metadata": {
    "id": "JbpTRPuTlmzO",
    "outputId": "224b766c-e040-4c2d-ec9d-b8740535e362"
   },
   "outputs": [
    {
     "name": "stderr",
     "output_type": "stream",
     "text": [
      "Encoding sequences: 100%|██████████| 209/209 [00:02<00:00, 94.66it/s]\n"
     ]
    }
   ],
   "source": [
    "# TODO\n",
    "passages_embed = encode_sequences(texts_df['text'].to_list(), embedding_tokenizer, embedding_model, device=device)\n",
    "# END TODO"
   ]
  },
  {
   "cell_type": "markdown",
   "metadata": {
    "id": "INz7NdXMAzJ3"
   },
   "source": [
    "#### 3.1.2 Évaluation des passages retrouvés avec Recall@k et precision@k (7 points)\n",
    "\n",
    "Maintenant que les passages ont tous été encodés, on peut évaluer si les passages retrouvés sont pertinents. En prenant les $k$ premiers passages, on peut évaluer si on retrouve les bons passages associés aux questions. C'est un des avantages du système RAG : on peut évaluer de façon indépendante la qualité du système qui retrouve les passages pertinents et de celui qui génère les réponses. Cela permet notamment d'évaluer quels sont les points forts et points faibles du système.\n",
    "\n",
    "Pour cela, vous allez utiliser les métriques **Precision@k** et **Recall@k** définies dans les équations suivantes. Implémentez ces métriques.\n",
    "\n",
    "$$\\text{Precision@k} = \\frac{\\text{Nombre d'éléments pertinents dans les k premiers}}{k}$$\n",
    "\n",
    "$$\\text{Recall@k} (Rappel@k) = \\frac{\\text{Nombre d'éléments pertinents dans les k premiers}}{\\text{Nombre total d'éléments pertinents}}$$\n"
   ]
  },
  {
   "cell_type": "code",
   "execution_count": 19,
   "metadata": {
    "id": "YRNFORA2AzJ3"
   },
   "outputs": [],
   "source": [
    "def compute_recall_at_k(ground_truth, predictions):\n",
    "    \"\"\"\n",
    "    Calcule la métrique du \"Recall@k\". On assume que predictions contiennent le bon nombre de passages (=k)\n",
    "\n",
    "    Paramètres:\n",
    "    ground_truth : Liste contenant tous les vrais passages associés aux questions (ex : [[1, 2, 3], [4, 5, 6]] si les passages de la question 1 sont [1, 2, 3] et\n",
    "    les passages de la question 2 sont [4, 5, 6])\n",
    "    predictions : Liste contenant tous les passages retrouvés pour chacune des questions formattée de la même manière que `ground_truth`\n",
    "\n",
    "    Retourne:\n",
    "    Recall moyen\n",
    "    \"\"\"\n",
    "    # TODO\n",
    "    total_recall = sum(\n",
    "        len(set(predicted) & set(true)) / len(true) if true else 0\n",
    "        for true, predicted in zip(ground_truth, predictions)\n",
    "    )\n",
    "    return total_recall / len(ground_truth) if ground_truth else 0\n",
    "    # END TODO"
   ]
  },
  {
   "cell_type": "code",
   "execution_count": 20,
   "metadata": {
    "id": "EOfpVBxoAzJ3"
   },
   "outputs": [],
   "source": [
    "def compute_precision_at_k(ground_truth, predictions):\n",
    "    \"\"\"\n",
    "    Calcule la métrique du \"Precision@k\". On assume que predictions contiennent le bon nombre de passages (=k)\n",
    "\n",
    "    Paramètres:\n",
    "    ground_truth : Liste contenant tous les vrais passages associés aux questions (ex : [[1, 2, 3], [4, 5, 6]] si les passages de la question 1 sont [1, 2, 3] et\n",
    "    les passages de la question 2 sont [4, 5, 6])\n",
    "    predictions : Liste contenant tous les passages retrouvés pour chacune des questions formattée de la même manière que `ground_truth`\n",
    "\n",
    "    Retourne:\n",
    "    Précision moyenne\n",
    "    \"\"\"\n",
    "    # TODO\n",
    "    total_precision = sum(\n",
    "        len(set(predicted) & set(true)) / len(predicted) if predicted else 0\n",
    "        for true, predicted in zip(ground_truth, predictions)\n",
    "    )\n",
    "    return total_precision / len(ground_truth) if ground_truth else 0\n",
    "    # END TODO"
   ]
  },
  {
   "cell_type": "markdown",
   "metadata": {
    "id": "yaSgDOovAzJ3"
   },
   "source": [
    "#### 3.1.3 Résultat d'évaluation (5 points)\n",
    "Implémentez la fonction _'retrieve_passages'_ qui retourne les indices des $k$ passages les plus similaires pour une question. Utilisez la similarité cosinus pour comparer les passages et les questions. Évaluez ensuite votre modèle récupérant les passages avec les métriques Precision@k et Recall@k sur le jeu de validation. Calculez avec $k={1, 2, 3, 4, 5}$."
   ]
  },
  {
   "cell_type": "code",
   "execution_count": 21,
   "metadata": {
    "id": "HohwnKxMAzJ4"
   },
   "outputs": [],
   "source": [
    "def retrieve_passages(questions: list, passage_embed: torch.Tensor, k: int, embedding_model_tokenizer, embedding_model, device='cuda'):\n",
    "    \"\"\"\n",
    "    Retourne les k passages les plus pertinents pour chaque question passée en paramètre\n",
    "\n",
    "    Paramètres:\n",
    "    questions       : Les questions pour lesquelles on cherche les passages les plus pertinents\n",
    "    passage_embed   : Tenseur contenant les plongements de chaque passage (n, dim)\n",
    "    k               : le nombre de passages à retourner\n",
    "    embedding_model_tokenizer : Segmenteur du modèle de plongements\n",
    "    embedding_model : Modèle de plongements\n",
    "\n",
    "    Retourne:\n",
    "    Les indices des k passages les plus pertinents pour chaque question\n",
    "    \"\"\"\n",
    "    questions_embed = encode_sequences(questions, embedding_model_tokenizer, embedding_model, device=device)\n",
    "    \n",
    "    if isinstance(passage_embed, np.ndarray):\n",
    "        passage_embed = torch.tensor(passage_embed, device=device)\n",
    "    \n",
    "    questions_embed = questions_embed.unsqueeze(1)\n",
    "    passage_embed = passage_embed.unsqueeze(0)\n",
    "    \n",
    "    cosines = F.cosine_similarity(questions_embed, passage_embed, dim=-1)\n",
    "    return cosines.topk(k, dim=1, largest=True).indices"
   ]
  },
  {
   "cell_type": "code",
   "execution_count": 22,
   "metadata": {
    "id": "OV8iLaAWAzJ4",
    "outputId": "067225b0-8a60-47a6-e9ed-c4ebb5e7e8b5"
   },
   "outputs": [
    {
     "name": "stderr",
     "output_type": "stream",
     "text": [
      "Computing metrics:   0%|          | 0/5 [00:00<?, ?it/s]"
     ]
    },
    {
     "name": "stdout",
     "output_type": "stream",
     "text": [
      "GPU memory cleaned\n"
     ]
    },
    {
     "name": "stderr",
     "output_type": "stream",
     "text": [
      "Encoding sequences: 100%|██████████| 8/8 [00:00<00:00, 115.69it/s]\n",
      "Computing metrics:  20%|██        | 1/5 [00:00<00:01,  2.54it/s]"
     ]
    },
    {
     "name": "stdout",
     "output_type": "stream",
     "text": [
      "GPU memory cleaned\n"
     ]
    },
    {
     "name": "stderr",
     "output_type": "stream",
     "text": [
      "Encoding sequences: 100%|██████████| 8/8 [00:00<00:00, 109.43it/s]\n",
      "Computing metrics:  40%|████      | 2/5 [00:01<00:01,  1.78it/s]"
     ]
    },
    {
     "name": "stdout",
     "output_type": "stream",
     "text": [
      "GPU memory cleaned\n"
     ]
    },
    {
     "name": "stderr",
     "output_type": "stream",
     "text": [
      "Encoding sequences: 100%|██████████| 8/8 [00:00<00:00, 107.34it/s]\n",
      "Computing metrics:  60%|██████    | 3/5 [00:01<00:01,  1.62it/s]"
     ]
    },
    {
     "name": "stdout",
     "output_type": "stream",
     "text": [
      "GPU memory cleaned\n"
     ]
    },
    {
     "name": "stderr",
     "output_type": "stream",
     "text": [
      "Encoding sequences: 100%|██████████| 8/8 [00:00<00:00, 107.00it/s]\n",
      "Computing metrics:  80%|████████  | 4/5 [00:02<00:00,  1.56it/s]"
     ]
    },
    {
     "name": "stdout",
     "output_type": "stream",
     "text": [
      "GPU memory cleaned\n"
     ]
    },
    {
     "name": "stderr",
     "output_type": "stream",
     "text": [
      "Encoding sequences: 100%|██████████| 8/8 [00:00<00:00, 108.69it/s]\n",
      "Computing metrics: 100%|██████████| 5/5 [00:03<00:00,  1.60it/s]\n"
     ]
    }
   ],
   "source": [
    "# TODO\n",
    "k_values = range(1, 6)\n",
    "\n",
    "questions_list = questions_val_df['question'].tolist()\n",
    "ground_truth = [list(map(int, text_ids.strip(\"[]\").split())) for text_ids in questions_val_df['text_ids']]\n",
    "\n",
    "recall_at_k = []; precision_at_k = []\n",
    "for k in tqdm(k_values, desc=\"Computing metrics\"):\n",
    "    clean_cuda()\n",
    "    top_k_indices = retrieve_passages(questions_list, passages_embed.cpu().numpy(), k, embedding_tokenizer, embedding_model).cpu().numpy().tolist()\n",
    "    recall_at_k.append(compute_recall_at_k(ground_truth, top_k_indices))\n",
    "    precision_at_k.append(compute_precision_at_k(ground_truth, top_k_indices))\n",
    "# END TODO"
   ]
  },
  {
   "cell_type": "code",
   "execution_count": 23,
   "metadata": {
    "id": "YbYFc8c-AzJ4",
    "outputId": "42584a33-c431-43ea-e8ee-51e46c08ad15"
   },
   "outputs": [
    {
     "name": "stdout",
     "output_type": "stream",
     "text": [
      "Precision@1: 89.00%\n",
      "Recall@1: 33.28%\n",
      "Precision@2: 67.50%\n",
      "Recall@2: 49.15%\n",
      "Precision@3: 56.27%\n",
      "Recall@3: 60.78%\n",
      "Precision@4: 49.95%\n",
      "Recall@4: 70.93%\n",
      "Precision@5: 44.32%\n",
      "Recall@5: 78.32%\n"
     ]
    }
   ],
   "source": [
    "for k, recall, precision in zip(k_values, recall_at_k, precision_at_k):\n",
    "    print(f\"Precision@{k}: {precision*100:.2f}%\")\n",
    "    print(f\"Recall@{k}: {recall *100:.2f}%\")"
   ]
  },
  {
   "cell_type": "markdown",
   "metadata": {
    "id": "Nu-fCEnrAzJ4"
   },
   "source": [
    "#### 3.1.4 Graphique (3 points)\n",
    "Affichez maintenant un graphique de vos résultats de la question précédente en mettant à l'axe des x la valeur de $k$ et à l'axe des y la valeur de la précision et du rappel. Quel est le nombre optimal de passages à passer au modèle en vous basant sur le recall@k et precision@k ? Pourquoi ?"
   ]
  },
  {
   "cell_type": "code",
   "execution_count": 24,
   "metadata": {
    "id": "EVCFApObAzJ5"
   },
   "outputs": [
    {
     "data": {
      "image/png": "[encoded data removed]",
      "text/plain": [
       "<Figure size 1000x600 with 1 Axes>"
      ]
     },
     "metadata": {},
     "output_type": "display_data"
    }
   ],
   "source": [
    "# TODO\n",
    "def plot_metrics(k, recall_at_k, precision_at_k):\n",
    "    \"\"\"\n",
    "    Plot the Recall@k and Precision@k metrics.\n",
    "\n",
    "    Parameters:\n",
    "    k             : List of k values\n",
    "    recall_at_k   : List of Recall@k scores\n",
    "    precision_at_k: List of Precision@k scores\n",
    "    \"\"\"\n",
    "    plt.figure(figsize=(10, 6))\n",
    "    plt.plot(k, precision_at_k, label='Precision@k', marker='o')\n",
    "    plt.plot(k, recall_at_k, label='Recall@k', marker='o')\n",
    "    plt.xlabel('k')\n",
    "    plt.ylabel('Score')\n",
    "    plt.title('Recall@k and Precision@k')\n",
    "    plt.legend()\n",
    "    plt.show()\n",
    "\n",
    "plot_metrics(k_values, recall_at_k, precision_at_k)\n",
    "# END TODO"
   ]
  },
  {
   "cell_type": "markdown",
   "metadata": {},
   "source": [
    "Si l'on cherche un compromis entre précision et rappel, k=3 représente le meilleur choix, car le rappel (60,78%) et la précision (56,27%) sont relativement bien équilibrés, offrant un compromis acceptable entre la couverture des éléments pertinents et la limitation des faux positifs."
   ]
  },
  {
   "cell_type": "markdown",
   "metadata": {
    "id": "8K_W3diFg0ae",
    "jp-MarkdownHeadingCollapsed": true,
    "tags": []
   },
   "source": [
    "### 3.2 RAG figé avec FAISS (14 points)"
   ]
  },
  {
   "cell_type": "markdown",
   "metadata": {
    "id": "qlYM7rVOJumv"
   },
   "source": [
    "Maintenant on vous demande d'utiliser FAISS pour l'indexation des plongements des passages.\n",
    "\n",
    "[FAISS (Facebook AI Similarity Search)](https://ai.meta.com/tools/faiss/) est une bibliothèque open-source développée par Meta pour la recherche de similarité rapide sur des vecteurs denses, comme des embeddings de textes ou d'images. Elle est optimisée pour gérer de grands volumes de données en haute dimension et peut être accélérée avec des GPU. FAISS est largement utilisée pour des systèmes de recommandation ou la recherche d'information à grande échelle. Pour plus de détails, veuillez consulter  [le tutoriel sur Moodle](https://moodle.polymtl.ca/course/view.php?id=2813).\n"
   ]
  },
  {
   "cell_type": "markdown",
   "metadata": {
    "id": "bcauZveIK4P1",
    "tags": []
   },
   "source": [
    "#### 3.2.1 Initialisez l'indexation FAISS avec les plongements des passages (2 points)\n",
    "\n",
    "Utilisez les plongements des passages générés au niveau de la question 3.1.1 et indexez-les avec FAISS. Vérifiez que le nombre de plongements dans l'objet FAISS est bien le même que le nombre de passages. N'oubliez pas qu'on veut une indexation basée sur la similarité cosinus."
   ]
  },
  {
   "cell_type": "code",
   "execution_count": 25,
   "metadata": {
    "id": "gNZQDsq4AzJ5"
   },
   "outputs": [],
   "source": [
    "# TODO\n",
    "passages_embed_np = passages_embed.cpu().numpy().astype('float32')\n",
    "faiss.normalize_L2(passages_embed_np)\n",
    "\n",
    "d = passages_embed_np.shape[1]\n",
    "index = faiss.IndexFlatIP(d)\n",
    "index.add(passages_embed_np)\n",
    "\n",
    "assert index.ntotal == len(passages_embed_np), (\"Mismatch between the number of embeddings in the FAISS index and the passages.\")\n",
    "# END TODO"
   ]
  },
  {
   "cell_type": "markdown",
   "metadata": {
    "id": "EU-dtdjmLGF5",
    "tags": []
   },
   "source": [
    "#### 3.2.2 Récupération des passages avec FAISS (4 points)\n",
    "\n",
    "Implémentez la fonction _'retrieve_passages_faiss'_ qui retourne les indices des $k$ passages les plus similaires pour une question à l'aide d'un indexation FAISS\n"
   ]
  },
  {
   "cell_type": "code",
   "execution_count": 26,
   "metadata": {
    "id": "N4nPlN8hN41H"
   },
   "outputs": [],
   "source": [
    "def retrieve_passages_faiss(questions: list, vector_index: faiss.IndexFlatL2, k: int, embedding_model_tokenizer, embedding_model, device='cuda'):\n",
    "    \"\"\"\n",
    "    Retourne les k passages les plus pertinents pour chaque question passée en paramètre.\n",
    "\n",
    "    Paramètres:\n",
    "    questions       : list : Les questions pour lesquelles on cherche les passages les plus pertinents\n",
    "    vector_index    : faiss.IndexFlatL2 : L'objet d'indexation FAISS\n",
    "    k               : int : le nombre de passages à retourner\n",
    "    embedding_model_tokenizer : Tokenizer : Segmenteur du modèle de plongements\n",
    "    embedding_model : Model : Modèle de plongements\n",
    "    device          : str : L'appareil à utiliser pour les plongements ('cpu' ou 'cuda')\n",
    "\n",
    "    Retourne:\n",
    "    top_k_indices   : list : Les indices des k passages les plus pertinents pour chaque question.\n",
    "    \"\"\"\n",
    "    questions_embed = encode_sequences(questions, embedding_model_tokenizer, embedding_model, device=device)\n",
    "    questions_embed = questions_embed.detach().cpu().numpy().astype('float32')\n",
    "    _, top_k_indices = vector_index.search(questions_embed, k)\n",
    "    return top_k_indices"
   ]
  },
  {
   "cell_type": "markdown",
   "metadata": {
    "id": "J8d78asIAzJ6"
   },
   "source": [
    "#### 3.2.3 Exécution de FAISS (4 points)\n",
    "\n",
    "Exécutez maintenant la fonction _\"retrieve_passages_faiss\"_ pour récupérer les bons passages pour les questions du jeu de validation avec votre k optimal."
   ]
  },
  {
   "cell_type": "code",
   "execution_count": 27,
   "metadata": {
    "id": "A7mJ_jbHOBBq",
    "outputId": "b4cb51c0-e10d-4e30-dfe1-f8be6017c017"
   },
   "outputs": [
    {
     "name": "stderr",
     "output_type": "stream",
     "text": [
      "Encoding sequences: 100%|██████████| 8/8 [00:00<00:00, 111.95it/s]\n"
     ]
    }
   ],
   "source": [
    "# TODO\n",
    "k_optimal = 3\n",
    "relevant_passages = retrieve_passages_faiss(questions_val_df['question'].to_list(), index, k_optimal, embedding_tokenizer, embedding_model)\n",
    "# END TODO"
   ]
  },
  {
   "cell_type": "markdown",
   "metadata": {
    "id": "gmHFzjkUMXsR"
   },
   "source": [
    "#### 3.2.4 Calculez les métriques Precision@K et Rappel@K pour les passages retrouvés avec FAISS avec votre k optimal (2 points)"
   ]
  },
  {
   "cell_type": "code",
   "execution_count": 28,
   "metadata": {
    "id": "XlL3pfYsObrX",
    "outputId": "2f583416-1b8a-45ac-9a69-0c6a83631f2b"
   },
   "outputs": [
    {
     "name": "stdout",
     "output_type": "stream",
     "text": [
      "Precision@3: 56.27%\n",
      "Recall@3: 60.78%\n"
     ]
    }
   ],
   "source": [
    "# TODO\n",
    "predictions = [[texts_df['id'][idx] for idx in index_list] for index_list in relevant_passages]\n",
    "ground_truth = [list(map(int, gt.replace('[', '').replace(']', '').split())) for gt in questions_val_df['text_ids']]\n",
    "precision_at_k = compute_precision_at_k(ground_truth, predictions)\n",
    "recall_at_k = compute_recall_at_k(ground_truth, predictions)\n",
    "print(f\"Precision@{k_optimal}: {precision_at_k * 100:.2f}%\")\n",
    "print(f\"Recall@{k_optimal}: {recall_at_k *100:.2f}%\")\n",
    "# END TODO"
   ]
  },
  {
   "cell_type": "markdown",
   "metadata": {
    "id": "cakuBta3AzJ7"
   },
   "source": [
    "#### 3.2.5 Quelle remarque pouvez-vous faire sur l'utilisation de FAISS en termes de passages retrouvés, de temps d'exécution et de tout autre élément qui vous semble approprié ? (2 points)"
   ]
  },
  {
   "cell_type": "markdown",
   "metadata": {
    "id": "kqZFXrg-AzJ7"
   },
   "source": [
    "Sans FAISS : \n",
    "Precision@3: 56.27%\n",
    "Recall@3: 60.78%\n",
    "\n",
    "Avec FAISS : \n",
    "Precision@3: 56.27%\n",
    "Recall@3: 60.78%\n",
    "\n",
    "Bien que les valeurs de précision et de rappel restent identiques dans les deux cas, une amélioration est observée au niveau du temps d'exécution. Sans FAISS, les passages sont retrouvés en environ 3 secondes, tandis qu’avec FAISS, ce temps est réduit à moins de 0,5 seconde. Cette différence est attribuée aux optimisations spécifiques de FAISS, qui est conçu pour accélérer les recherches de similarité."
   ]
  },
  {
   "cell_type": "markdown",
   "metadata": {
    "id": "9w2YJOqflmzO",
    "tags": []
   },
   "source": [
    "### 3.3 Génération des réponses (5 points)\n",
    "\n",
    "Générez maintenant les réponses des questions sur l'ensemble de validation avec les passages récupérés. Pour générer les réponses, vous devez concaténer les passages pertinents avec la question et donner le tout au modèle de génération. Faites-le sur l'ensemble du jeu de validation. Pour la méthode, vous avez le choix entre les passages retrouvés avec FAISS ou manuellement (avec votre propre implémentation). Faites cela pour toutes les valeurs de $k$: (1, 2, 3 et 4)."
   ]
  },
  {
   "cell_type": "code",
   "execution_count": 29,
   "metadata": {
    "id": "mIlPHAg1lmzO"
   },
   "outputs": [],
   "source": [
    "# TODO\n",
    "def generate_prompts(questions, passages_indices, passages, k_values):\n",
    "    \"\"\"\n",
    "    Génère des prompts pour chaque question, en combinant la question avec les passages les plus pertinents.\n",
    "\n",
    "    Paramètres:\n",
    "    questions        : list : Liste de questions pour lesquelles générer des prompts.\n",
    "    passages_indices : list : Liste des indices de passages pertinents pour chaque question.\n",
    "    passages         : list : Liste de passages textuels disponibles.\n",
    "    k_values         : list : Liste de valeurs de k, représentant le nombre de passages à inclure.\n",
    "\n",
    "    Retourne:\n",
    "    prompts_by_k     : dict : Dictionnaire contenant des listes de prompts pour chaque valeur de k.\n",
    "    \"\"\"\n",
    "    prompts_by_k = {k: [] for k in k_values}\n",
    "    base_prompt = \"You are a concise and precise assistant. Limit answers to one sentence.\"\n",
    "\n",
    "    for i, question in enumerate(questions):\n",
    "        for k in k_values:\n",
    "            relevant_passages = ' '.join([passages[idx] for idx in passages_indices[i][:k]])\n",
    "            messages = [\n",
    "                {\"role\": \"system\", \"content\": base_prompt},\n",
    "                {\"role\": \"user\", \"content\": f\"Context: {relevant_passages}\"},\n",
    "                {\"role\": \"user\", \"content\": question},\n",
    "                {\"role\": \"assistant\", \"content\": \"Answer:\"}\n",
    "            ]\n",
    "            prompt = \"\\n\".join([f\"{msg['role']}: {msg['content']}\" for msg in messages])\n",
    "            prompts_by_k[k].append(prompt)\n",
    "\n",
    "    return prompts_by_k\n",
    "# END TODO"
   ]
  },
  {
   "cell_type": "markdown",
   "metadata": {
    "id": "QoaOcskKAzJ8"
   },
   "source": [
    "Affichez un exemple d'invite (prompt) qui sera envoyé au modèle de génération"
   ]
  },
  {
   "cell_type": "code",
   "execution_count": 30,
   "metadata": {
    "id": "HOfzHSK-AzJ8",
    "outputId": "5fca8833-4053-4c7a-b036-1db1d639cfce"
   },
   "outputs": [
    {
     "name": "stdout",
     "output_type": "stream",
     "text": [
      "['system: You are a concise and precise assistant. Limit answers to one sentence.\\nuser: Context:  Polymorphism in the CYSLTR2 gene has been associated with the inheritance of asthma in separate populations. The M201V variant of CYSLTR2 exhibits decreased responsiveness to LTD4, suggesting that this hypo-responsiveness underlies its asthma transmission-protecting effect.\\nuser: What is the effect of the M201V variant of CYSLTR2 on responsiveness to LTD4?\\nassistant: Answer:', 'system: You are a concise and precise assistant. Limit answers to one sentence.\\nuser: Context:   Carbapenems are structurally similar to penicillins, but with a carbon atom replacing the sulfur atom in position 1. They are biosynthesized through a series of steps involving the condensation of malonyl-CoA with glutamate-5-semialdehyde, followed by the formation of the β-lactam and saturated carbapenam core.\\nuser: What is the key difference in the structure of carbapenems compared to penicillins?\\nassistant: Answer:', 'system: You are a concise and precise assistant. Limit answers to one sentence.\\nuser: Context:   The 8-demicubic honeycomb is a uniform space-filling tessellation in Euclidean 8-space, constructed as an alternation of the regular 8-cubic honeycomb. It is composed of two types of facets: 8-demicubes and 8-orthoplex facets.\\nuser: What type of facets are there in the 8-demicubic honeycomb?\\nassistant: Answer:', 'system: You are a concise and precise assistant. Limit answers to one sentence.\\nuser: Context:   5F-AMB is a controlled substance in several countries, including the United States, Germany, Sweden, Louisiana, Singapore, Japan, and China. The UNODC has recommended scheduling it as a Schedule II controlled research chemical.\\nuser: What is the legal status of 5F-AMB in the United States?\\nassistant: Answer:', 'system: You are a concise and precise assistant. Limit answers to one sentence.\\nuser: Context:   17α-Hydroxyprogesterone (17α-OHP) is an endogenous progestogen steroid hormone related to progesterone. It plays a crucial role in the biosynthesis of various endogenous steroids, including androgens, estrogens, glucocorticoids, and mineralocorticoids.\\nuser: What is converted into estrone sulfamate by 17β-hydroxysteroid dehydrogenase?\\nassistant: Answer:']\n"
     ]
    }
   ],
   "source": [
    "# TODO\n",
    "prompts_by_k = generate_prompts(questions_val_df['question'].to_list(), relevant_passages, texts_df['text'].to_list(), k_values)\n",
    "print(prompts_by_k[1][:5])\n",
    "# END TODO"
   ]
  },
  {
   "cell_type": "code",
   "execution_count": 31,
   "metadata": {
    "id": "cNhR-yWJBdOl"
   },
   "outputs": [],
   "source": [
    "# TODO\n",
    "def generate_answers_with_prompts(prompts, model, tokenizer, device='cuda', batch_size=4):\n",
    "    \"\"\"\n",
    "    Génère des réponses pour chaque prompt en utilisant le modèle de génération de texte.\n",
    "\n",
    "    Paramètres:\n",
    "    prompts  : dict : Dictionnaire contenant des listes de prompts pour chaque valeur de k.\n",
    "    model    : Model : Modèle de génération de texte.\n",
    "    tokenizer: Tokenizer : Segmenteur du modèle.\n",
    "    device   : str : L'appareil à utiliser pour les plongements ('cpu' ou 'cuda').\n",
    "    batch_size: int : Taille du lot pour le traitement.\n",
    "\n",
    "    Retourne:\n",
    "    answers  : dict : Dictionnaire contenant des listes de réponses pour chaque valeur de k.\n",
    "    \"\"\"\n",
    "    clean_cuda()\n",
    "    answers = {k: [] for k in prompts.keys()}\n",
    "\n",
    "    for k, prompt_list in prompts.items():\n",
    "        if len(prompt_list) == 0:\n",
    "            print(f\"Skipping k={k} due to empty prompts\")\n",
    "            continue\n",
    "\n",
    "        for i in tqdm(range(0, len(prompt_list), batch_size), desc=f\"Generating answers for k={k}\"):\n",
    "            batch_prompts = prompt_list[i:i + batch_size]\n",
    "            inputs = tokenizer(batch_prompts, return_tensors='pt', padding=True, truncation=True).to(device)\n",
    "\n",
    "            with torch.no_grad():\n",
    "                gen_tokens = model.generate(\n",
    "                    inputs.input_ids,\n",
    "                    attention_mask=inputs.attention_mask,\n",
    "                    max_new_tokens=64,\n",
    "                    do_sample=True,\n",
    "                    top_p=0.95,\n",
    "                    temperature=0.7\n",
    "                )\n",
    "\n",
    "            batch_answers = tokenizer.batch_decode(gen_tokens[:, inputs['input_ids'].shape[1]:], skip_special_tokens=True)\n",
    "            answers[k].extend([extract_first_sentence(answer) or DEFAULT_RESPONSE for answer in batch_answers])\n",
    "\n",
    "    return answers\n",
    "# END TODO"
   ]
  },
  {
   "cell_type": "code",
   "execution_count": 32,
   "metadata": {
    "id": "daxXt32JAzJ9",
    "outputId": "9c9010aa-99f9-46d6-899f-2ca62e5aab4a"
   },
   "outputs": [
    {
     "name": "stdout",
     "output_type": "stream",
     "text": [
      "GPU memory cleaned\n"
     ]
    },
    {
     "name": "stderr",
     "output_type": "stream",
     "text": [
      "Generating answers for k=1: 100%|██████████| 16/16 [00:46<00:00,  2.89s/it]\n",
      "Generating answers for k=2: 100%|██████████| 16/16 [00:55<00:00,  3.50s/it]\n",
      "Generating answers for k=3: 100%|██████████| 16/16 [01:06<00:00,  4.15s/it]\n",
      "Generating answers for k=4: 100%|██████████| 16/16 [01:06<00:00,  4.15s/it]\n",
      "Generating answers for k=5: 100%|██████████| 16/16 [01:06<00:00,  4.15s/it]\n"
     ]
    }
   ],
   "source": [
    "output_df_faiss = generate_answers_with_prompts(prompts_by_k, model, tokenizer, device=device, batch_size=32)"
   ]
  },
  {
   "cell_type": "markdown",
   "metadata": {
    "id": "yciS3tYxlmzO",
    "tags": []
   },
   "source": [
    "### 3.4 Évaluation des réponses (3 points)\n",
    "\n",
    "Utilisez la métrique BLEU (BLEU-1 et BLEU-2) pour évaluer les réponses générées par rapport aux réponses attendues sur le jeu de validation."
   ]
  },
  {
   "cell_type": "code",
   "execution_count": 33,
   "metadata": {
    "id": "FRax476YlmzO",
    "outputId": "a8ee1a24-98de-460a-f0fd-b6ed90f75f5f"
   },
   "outputs": [
    {
     "name": "stdout",
     "output_type": "stream",
     "text": [
      "BLEU-1 score for k=1: 54.53%\n",
      "BLEU-2 score for k=1: 44.06%\n",
      "BLEU-1 score for k=2: 57.70%\n",
      "BLEU-2 score for k=2: 47.80%\n",
      "BLEU-1 score for k=3: 57.33%\n",
      "BLEU-2 score for k=3: 47.19%\n",
      "BLEU-1 score for k=4: 58.85%\n",
      "BLEU-2 score for k=4: 48.43%\n",
      "BLEU-1 score for k=5: 59.16%\n",
      "BLEU-2 score for k=5: 49.06%\n"
     ]
    }
   ],
   "source": [
    "# TODO\n",
    "bleu_scores_faiss = {}\n",
    "for k, answers in output_df_faiss.items():\n",
    "    faiss_df = pd.DataFrame({'id': questions_val_df['id'], 'answer': answers})\n",
    "    bleu1 = evaluate_bleu(questions_val_df, faiss_df, 1)\n",
    "    bleu2 = evaluate_bleu(questions_val_df, faiss_df, 2)\n",
    "    bleu_scores_faiss[k] = (bleu1, bleu2)\n",
    "\n",
    "for k, (bleu1, bleu2) in bleu_scores_faiss.items():\n",
    "    print(f\"BLEU-1 score for k={k}: {bleu1:.2f}%\")\n",
    "    print(f\"BLEU-2 score for k={k}: {bleu2:.2f}%\")\n",
    "# END TODO"
   ]
  },
  {
   "cell_type": "markdown",
   "metadata": {
    "id": "RMj38EymAzJ-"
   },
   "source": [
    "En vous basant sur les résultats de génération du modèle sur l'ensemble de validation, quel est le nombre optimal de passages à passer au modèle ? Qu'en concluez-vous par rapport au nombre optimal de passages trouvé à la question 3.1.4 ?"
   ]
  },
  {
   "cell_type": "markdown",
   "metadata": {
    "id": "81uMlx3_Kf4X",
    "outputId": "29fac328-8192-4832-ec73-12c3ea78fd4c"
   },
   "source": [
    "Le score BLEU montre que k=5 est le plus optimal, ce qui est différent de k=3, qui est optimal pour la précision et le rappel. Cette différence s'explique par le fait que, avec un k plus élevé (plus de passages), le modèle a plus de chances de générer des n-grammes correspondant à ceux de la référence, ce qui améliore le score BLEU."
   ]
  },
  {
   "cell_type": "markdown",
   "metadata": {
    "id": "3HgCGFSmAzJ-"
   },
   "source": [
    "### 3.5 Test de soumission Kaggle\n",
    "Faites également une soumission Kaggle de votre modèle RAG sur le fichier de test et reportez la valeur obtenue ici.\n"
   ]
  },
  {
   "cell_type": "code",
   "execution_count": 34,
   "metadata": {
    "id": "gPE_EzAZAzJ_",
    "outputId": "a763fa6b-bc19-4dad-8937-d167f867e25f"
   },
   "outputs": [
    {
     "name": "stderr",
     "output_type": "stream",
     "text": [
      "Encoding sequences: 100%|██████████| 8/8 [00:00<00:00, 112.68it/s]\n"
     ]
    },
    {
     "name": "stdout",
     "output_type": "stream",
     "text": [
      "GPU memory cleaned\n"
     ]
    },
    {
     "name": "stderr",
     "output_type": "stream",
     "text": [
      "Generating answers for k=1: 100%|██████████| 16/16 [00:46<00:00,  2.88s/it]\n",
      "Generating answers for k=2: 100%|██████████| 16/16 [00:56<00:00,  3.51s/it]\n",
      "Generating answers for k=3: 100%|██████████| 16/16 [01:05<00:00,  4.11s/it]\n",
      "Generating answers for k=4: 100%|██████████| 16/16 [01:05<00:00,  4.11s/it]\n",
      "Generating answers for k=5: 100%|██████████| 16/16 [01:05<00:00,  4.11s/it]\n"
     ]
    }
   ],
   "source": [
    "k_optimal = 3\n",
    "relevant_passages_test = retrieve_passages_faiss(questions_test_df['question'].to_list(), index, k_optimal, embedding_tokenizer, embedding_model)\n",
    "prompts_by_k_test = generate_prompts(questions_test_df['question'].to_list(), relevant_passages_test, texts_df['text'].to_list(), k_values)\n",
    "output_df_test_faiss = generate_answers_with_prompts(prompts_by_k_test, model, tokenizer, device=device, batch_size=32)\n",
    "\n",
    "output_test_df_faiss = questions_test_df.copy()\n",
    "output_test_df_faiss['answer'] = output_df_test_faiss[k_optimal]\n",
    "\n",
    "output_test_file_df = generated_path + \"test_predictions_faiss.csv\"\n",
    "output_test_df_faiss.to_csv(output_test_file_df, index=False)"
   ]
  },
  {
   "cell_type": "markdown",
   "metadata": {},
   "source": [
    "Nous avons effectué 2 tentatives sur Kaggle : \n",
    "\n",
    "- k=3 : 0.34757\n",
    "- k=5 : 0.35870"
   ]
  },
  {
   "cell_type": "markdown",
   "metadata": {
    "id": "MXAFT57QlmzP"
   },
   "source": [
    "## 4. Compétition Kaggle (40 points)\n",
    "\n",
    "Dans cette partie, vous devez implémenter votre propre méthode pour répondre aux questions. Pour rappel, vous ne pouvez pas utiliser de données externes pour entraîner vos modèles, seulement les données fournies, et vous devez utiliser le modèle de génération **'microsoft/Phi-3-mini-128k-instruct'**.\n",
    "\n",
    "Proposez une architecture plus complexe, ou améliorez les modèles des parties précédentes, afin d’obtenir un score plus élevé que vos autres modèles sur l’ensemble de validation ET dans la compétition Kaggle. Démontrez bien cette amélioration dans votre notebook dans les cellules suivantes. Un autre objectif est d'obtenir le meilleur score de la classe.\n",
    "\n",
    "Vous devez commencer cette démarche par un état de l'art.\n",
    "\n",
    "### 4.1. État de l'art (5 points)\n",
    "\n",
    "Décrivez en **deux paragraphes**, dans une cellule du notebook, avec les références appropriées, les approches de l’état de l’art pour la tâche que vous tentez d'accomplir. Utilisez une recherche dans Google Scholar.\n",
    "\n",
    "En vous basant sur vos recherches, quelles sont les meilleures techniques de l’état de l’art ?  Soyez brefs et clairs. Attention, on ne vous demande pas les détails d'un papier particulier mais une synthèse des meilleures approches de l'état de l'art."
   ]
  },
  {
   "cell_type": "markdown",
   "metadata": {
    "id": "y00x9leClmzQ"
   },
   "source": [
    "Synthèse:\n",
    "\n",
    "Les approches les plus récentes pour améliorer les systèmes de génération augmentée par récupération (RAG), notamment pour les tâches de question-réponse, utilisent des techniques avancées de récupération et de génération. Par exemple, Re2G [1] s'appuie sur des modèles comme BART pour mieux répondre aux questions et vérifier des faits, atteignant de très bons résultats sur des benchmarks comme KILT. Une autre méthode, G-RAG [2], utilise des graphes de documents et des structures AMR (représentation abstraite du sens) pour classer plus efficacement les informations récupérées, tout en réduisant les coûts de calcul. Cependant, les performances de cette approche peuvent être limitées par la qualité des données en entrée et les capacités des modèles de langage comme PaLM 2.\n",
    "\n",
    "Pour les modèles plus récents comme Phi-3, d'autres travaux [3] proposent des techniques pour améliorer la récupération et le contexte des réponses. Par exemple, l’utilisation de Phi-2 (le modèle précédent à Phi-3) a montré qu’il peut surpasser GPT-4 dans certains cas grâce à un meilleur découpage du contexte et une optimisation de l’information récupérée. Une autre avancée consiste à intégrer directement Dense Passage Retrieval (DPR) dans le processus d’entraînement de RAG [4], ce qui a permis d’augmenter les performances de 12 % sur des tâches comme SQuAD. Cependant, cette approche nécessite des ressources importantes pour reconstituer et mettre à jour les bases de connaissances. Les meilleures techniques actuelles reposent donc sur une combinaison efficace de récupération d'informations, de classement optimisé et de génération contextuelle pour fournir des réponses précises et pertinentes."
   ]
  },
  {
   "cell_type": "markdown",
   "metadata": {
    "id": "s1v1PxzjlmzQ"
   },
   "source": [
    "Références: Listez vos références de manière appropriée (4-5 parmi les meilleures approches)\n",
    "\n",
    "1. Glass et al. 2024. Re2G: Retrieve, Rerank, Generate\n",
    "2. Dong et al. 2024. Don’t Forget to Connect! Improving RAG with Graph-based Reranking\n",
    "3. Erka et al. 2024. Leveraging Fine-Tuned Retrieval-Augmented Generation with Long-Context Support: For 3GPP Standards\n",
    "4. Siriwardhana et al. 2021. FINE-TUNE THE ENTIRE RAG ARCHITECTURE (INCLUDING DPR RETRIEVER) FOR QUESTION-ANSWERING\n"
   ]
  },
  {
   "cell_type": "markdown",
   "metadata": {
    "id": "TmC52uiQlmzQ"
   },
   "source": [
    "### 4.2. Description de votre méthode (5 points)\n",
    "\n",
    "Décrivez en deux paragraphes l'architecture proposée en soulignant notamment les additions ou l'originalité de l'approche et comment l'état de l'art l'a inspirée"
   ]
  },
  {
   "cell_type": "markdown",
   "metadata": {},
   "source": [
    "L’architecture proposée s'inspire des travaux récents comme Re2G [1] et G-RAG [2] et s’inscrit dans une tendance où la combinaison de récupération rapide et reranking précis améliore les performances globales des systèmes de question-réponse. En effet, pour renforcer la qualité des représentations textuelles, un entraînement contrastif est utilisé, rapprochant les paires question-passage pertinentes et éloignant celles non pertinentes. En parallèle, un pipeline de reranking, basé sur FAISS, identifie et priorise les passages les plus pertinents. De plus, on exploite LoRA (Low-Rank Adaptation) pour adapter efficacement les paramètres critiques, tels que les mécanismes d’attention et les projections MLP, limitant ainsi le nombre de paramètres entraînables et les besoins en ressources.\n",
    "\n",
    "En complément, des techniques de prompt tuning structurent explicitement les entrées pour guider le modèle vers des réponses alignées avec les attentes, même avec des données limitées. Pour assurer une convergence stable, l’entraînement utilise un scheduler cosinus pour ajuster dynamiquement le taux d’apprentissage, combiné à des stratégies telles que l’accumulation de gradients. Ces choix permettent de maximiser l’efficacité et de garantir des performances élevées dans des contextes contraints. Comparée à l’état de l’art, notamment aux approches comme Dense Passage Retrieval (DPR) [4], qui améliorent les performances des modèles de RAG mais nécessitent des ressources importantes, cette architecture modulaire apporte une alternative plus légère et flexible."
   ]
  },
  {
   "cell_type": "markdown",
   "metadata": {},
   "source": [
    "### 4.3. Implémentation (20 points)\n",
    "\n",
    "Implémentez votre modèle ci-dessous dans une ou plusieurs cellules (veillez à la qualité de votre code) et effectuez votre soumission sur Kaggle en respectant le format de soumission."
   ]
  },
  {
   "cell_type": "markdown",
   "metadata": {},
   "source": [
    "Ce modèle est notre modèle final qui nous a valu un score de prédiction de 0.45950 sur Kaggle"
   ]
  },
  {
   "cell_type": "code",
   "execution_count": 35,
   "metadata": {},
   "outputs": [],
   "source": [
    "class QuestionAnsweringDataset(Dataset):\n",
    "    def __init__(self, questions_df, texts_df, tokenizer, max_len=512):\n",
    "        self.questions_df = questions_df\n",
    "        self.texts_df = texts_df\n",
    "        self.tokenizer = tokenizer\n",
    "        self.max_len = max_len\n",
    "\n",
    "        self.pairs = []\n",
    "        for idx, row in self.questions_df.iterrows():\n",
    "            question = row['question']\n",
    "            relevant_texts = eval(row['text_ids'].replace(' ', ','))\n",
    "            \n",
    "            for text_id in relevant_texts:\n",
    "                passage = self.texts_df.loc[self.texts_df['id'] == text_id, 'text'].values[0]\n",
    "                self.pairs.append((question, passage, 1))\n",
    "                non_relevant_passage = self.texts_df.sample(1)['text'].values[0]\n",
    "                self.pairs.append((question, non_relevant_passage, 0))\n",
    "\n",
    "    def __len__(self):\n",
    "        return len(self.pairs)\n",
    "\n",
    "    def __getitem__(self, idx):\n",
    "        if isinstance(idx, list):\n",
    "            batch = [self.pairs[i] for i in idx]\n",
    "            questions, passages, labels = zip(*batch)\n",
    "\n",
    "            encoding = self.tokenizer(\n",
    "                list(questions),\n",
    "                list(passages),\n",
    "                truncation=True,\n",
    "                padding='max_length',\n",
    "                max_length=self.max_len,\n",
    "                return_tensors='pt'\n",
    "            )\n",
    "            return {\n",
    "                'input_ids': encoding['input_ids'],\n",
    "                'attention_mask': encoding['attention_mask'],\n",
    "                'label': torch.tensor(labels, dtype=torch.float)\n",
    "            }\n",
    "        else:\n",
    "            question, passage, label = self.pairs[idx]\n",
    "            encoding = self.tokenizer(\n",
    "                question, passage,\n",
    "                truncation=True,\n",
    "                padding='max_length',\n",
    "                max_length=self.max_len,\n",
    "                return_tensors='pt'\n",
    "            )\n",
    "            input_ids = encoding['input_ids'].squeeze(0)\n",
    "            attention_mask = encoding['attention_mask'].squeeze(0)\n",
    "            return {\n",
    "                'input_ids': input_ids,\n",
    "                'attention_mask': attention_mask,\n",
    "                'label': torch.tensor(label, dtype=torch.float)\n",
    "            }\n",
    "\n",
    "class ContrastiveLoss(nn.Module):\n",
    "    def __init__(self, margin=1.0):\n",
    "        super(ContrastiveLoss, self).__init__()\n",
    "        self.margin = margin\n",
    "\n",
    "    def forward(self, anchor, positive, negative):\n",
    "        positive_distance = torch.norm(anchor - positive, p=2, dim=-1)\n",
    "        negative_distance = torch.norm(anchor - negative, p=2, dim=-1)\n",
    "        loss = torch.clamp(positive_distance - negative_distance + self.margin, min=0.0)\n",
    "        return loss.mean()"
   ]
  },
  {
   "cell_type": "code",
   "execution_count": 36,
   "metadata": {},
   "outputs": [
    {
     "name": "stdout",
     "output_type": "stream",
     "text": [
      "Epoch 1, Loss: 0.8900684402354302\n",
      "Epoch 2, Loss: 0.8780859841454414\n",
      "Epoch 3, Loss: 0.8683266190271224\n",
      "Epoch 4, Loss: 0.8659030965739681\n",
      "Epoch 5, Loss: 0.8602616735043064\n"
     ]
    }
   ],
   "source": [
    "train_dataset = QuestionAnsweringDataset(questions_train_df, texts_df, embedding_tokenizer)\n",
    "train_loader = DataLoader(train_dataset, batch_size=8, shuffle=True)\n",
    "\n",
    "embedding_model = AutoModel.from_pretrained('BAAI/bge-small-en-v1.5').to(\"cuda\")\n",
    "optimizer = optim.AdamW(embedding_model.parameters(), lr=1e-7)\n",
    "\n",
    "embedding_model.train()\n",
    "for epoch in range(5):\n",
    "    total_loss = 0\n",
    "    for batch in train_loader:\n",
    "        input_ids = batch['input_ids'].to('cuda')\n",
    "        attention_mask = batch['attention_mask'].to('cuda')\n",
    "        labels = batch['label'].to('cuda')\n",
    "\n",
    "        input_ids = torch.clamp(input_ids, min=0, max=embedding_tokenizer.vocab_size - 1)\n",
    "        outputs = embedding_model(input_ids=input_ids, attention_mask=attention_mask)\n",
    "        embeddings = outputs.last_hidden_state.mean(dim=1) \n",
    "        embeddings = torch.clamp(embeddings, min=-1e3, max=1e3)\n",
    "\n",
    "        positive_embeddings = embeddings[labels == 1]\n",
    "        negative_embeddings = embeddings[labels == 0]\n",
    "\n",
    "        if positive_embeddings.size(0) > negative_embeddings.size(0):\n",
    "            positive_embeddings = positive_embeddings[:negative_embeddings.size(0)]\n",
    "        elif negative_embeddings.size(0) > positive_embeddings.size(0):\n",
    "            negative_embeddings = negative_embeddings[:positive_embeddings.size(0)]\n",
    "\n",
    "        if positive_embeddings.size(0) > 0 and negative_embeddings.size(0) > 0:\n",
    "            anchor = positive_embeddings\n",
    "            positive = positive_embeddings\n",
    "            negative = negative_embeddings\n",
    "\n",
    "            anchor = torch.nn.functional.normalize(anchor, p=2, dim=-1)\n",
    "            positive = torch.nn.functional.normalize(positive, p=2, dim=-1)\n",
    "            negative = torch.nn.functional.normalize(negative, p=2, dim=-1)\n",
    "\n",
    "            positive_distance = torch.norm(anchor - positive + 1e-8, p=2, dim=-1) / 10\n",
    "            negative_distance = torch.norm(anchor - negative + 1e-8, p=2, dim=-1) / 10\n",
    "\n",
    "            loss = torch.clamp(positive_distance - negative_distance + 1.0, min=0.0)\n",
    "            loss = loss.mean()\n",
    "            optimizer.zero_grad()\n",
    "            loss.backward()\n",
    "            torch.nn.utils.clip_grad_norm_(embedding_model.parameters(), max_norm=1.0)\n",
    "            optimizer.step()\n",
    "            total_loss += loss.item()\n",
    "    print(f\"Epoch {epoch+1}, Loss: {total_loss / len(train_loader)}\")\n"
   ]
  },
  {
   "cell_type": "code",
   "execution_count": null,
   "metadata": {},
   "outputs": [
    {
     "name": "stderr",
     "output_type": "stream",
     "text": [
      "Encoding sequences: 100%|██████████| 209/209 [00:02<00:00, 99.90it/s] \n"
     ]
    }
   ],
   "source": [
    "passages_embed = encode_sequences(texts_df['text'].to_list(), embedding_tokenizer, embedding_model, device=device)"
   ]
  },
  {
   "cell_type": "code",
   "execution_count": null,
   "metadata": {},
   "outputs": [],
   "source": [
    "def retrieve_passages_faiss(questions: list, vector_index: faiss.IndexFlatIP, passage_embeddings: np.ndarray, k: int, embedding_model_tokenizer, embedding_model, device='cuda', initial_k=10):\n",
    "    device = \"cuda\" if torch.cuda.is_available() and device == \"cuda\" else \"cpu\"\n",
    "\n",
    "    embedding_model.to(device)\n",
    "    question_embeddings = encode_sequences(questions, embedding_model_tokenizer, embedding_model, device=device)\n",
    "\n",
    "    question_embeddings = question_embeddings.detach().cpu().numpy().astype('float32')\n",
    "\n",
    "    faiss.normalize_L2(question_embeddings)\n",
    "\n",
    "    _, initial_top_k_indices = vector_index.search(question_embeddings, initial_k)\n",
    "\n",
    "    reranked_indices = []\n",
    "    for question_idx, candidate_indices in enumerate(initial_top_k_indices):\n",
    "        candidate_embeddings = passage_embeddings[candidate_indices]\n",
    "\n",
    "        if not isinstance(candidate_embeddings, np.ndarray):\n",
    "            candidate_embeddings = candidate_embeddings.detach().cpu().numpy().astype('float32')\n",
    "\n",
    "        query_embedding = question_embeddings[question_idx]\n",
    "        scores = np.dot(candidate_embeddings, query_embedding)\n",
    "        top_indices = scores.argsort()[-k:][::-1]\n",
    "        reranked_indices.append([candidate_indices[idx] for idx in top_indices])\n",
    "\n",
    "    return reranked_indices"
   ]
  },
  {
   "cell_type": "code",
   "execution_count": null,
   "metadata": {},
   "outputs": [
    {
     "name": "stderr",
     "output_type": "stream",
     "text": [
      "Encoding sequences: 100%|██████████| 8/8 [00:00<00:00, 120.11it/s]\n"
     ]
    }
   ],
   "source": [
    "k_optimal = 3\n",
    "relevant_passages = retrieve_passages_faiss(\n",
    "    questions=questions_val_df['question'].tolist(),\n",
    "    vector_index=index,\n",
    "    passage_embeddings=passages_embed,\n",
    "    k=k_optimal,\n",
    "    embedding_model_tokenizer=embedding_tokenizer,\n",
    "    embedding_model=embedding_model,\n",
    "    device='cuda'\n",
    ")"
   ]
  },
  {
   "cell_type": "code",
   "execution_count": null,
   "metadata": {},
   "outputs": [
    {
     "name": "stdout",
     "output_type": "stream",
     "text": [
      "['system: You are a concise and precise assistant. Limit answers to one sentence.\\nuser: Context:  Polymorphism in the CYSLTR2 gene has been associated with the inheritance of asthma in separate populations. The M201V variant of CYSLTR2 exhibits decreased responsiveness to LTD4, suggesting that this hypo-responsiveness underlies its asthma transmission-protecting effect.\\nuser: What is the effect of the M201V variant of CYSLTR2 on responsiveness to LTD4?\\nassistant: Answer:', 'system: You are a concise and precise assistant. Limit answers to one sentence.\\nuser: Context:   Carbapenems are structurally similar to penicillins, but with a carbon atom replacing the sulfur atom in position 1. They are biosynthesized through a series of steps involving the condensation of malonyl-CoA with glutamate-5-semialdehyde, followed by the formation of the β-lactam and saturated carbapenam core.\\nuser: What is the key difference in the structure of carbapenems compared to penicillins?\\nassistant: Answer:', 'system: You are a concise and precise assistant. Limit answers to one sentence.\\nuser: Context:   The 8-demicubic honeycomb is a uniform space-filling tessellation in Euclidean 8-space, constructed as an alternation of the regular 8-cubic honeycomb. It is composed of two types of facets: 8-demicubes and 8-orthoplex facets.\\nuser: What type of facets are there in the 8-demicubic honeycomb?\\nassistant: Answer:', 'system: You are a concise and precise assistant. Limit answers to one sentence.\\nuser: Context:   5F-AMB is a controlled substance in several countries, including the United States, Germany, Sweden, Louisiana, Singapore, Japan, and China. The UNODC has recommended scheduling it as a Schedule II controlled research chemical.\\nuser: What is the legal status of 5F-AMB in the United States?\\nassistant: Answer:', 'system: You are a concise and precise assistant. Limit answers to one sentence.\\nuser: Context:   17α-Hydroxyprogesterone (17α-OHP) is an endogenous progestogen steroid hormone related to progesterone. It plays a crucial role in the biosynthesis of various endogenous steroids, including androgens, estrogens, glucocorticoids, and mineralocorticoids.\\nuser: What is converted into estrone sulfamate by 17β-hydroxysteroid dehydrogenase?\\nassistant: Answer:']\n"
     ]
    }
   ],
   "source": [
    "prompts_by_k = generate_prompts(questions_val_df['question'].to_list(), relevant_passages, texts_df['text'].to_list(), k_values)\n",
    "print(prompts_by_k[1][:5])"
   ]
  },
  {
   "cell_type": "code",
   "execution_count": 42,
   "metadata": {},
   "outputs": [],
   "source": [
    "lora_config = LoraConfig(\n",
    "    r=16,\n",
    "    lora_alpha=32,\n",
    "    target_modules=[\n",
    "        \"self_attn.qkv_proj\",\n",
    "        \"mlp.gate_up_proj\",\n",
    "        \"mlp.down_proj\"\n",
    "    ],\n",
    "    lora_dropout=0.1,\n",
    "    bias=\"none\",\n",
    "    task_type=\"CAUSAL_LM\"\n",
    ")\n",
    "lora_model = get_peft_model(model, lora_config)"
   ]
  },
  {
   "cell_type": "code",
   "execution_count": 43,
   "metadata": {},
   "outputs": [
    {
     "data": {
      "application/vnd.jupyter.widget-view+json": {
       "model_id": "befd98627c534652b1dc2724c896fb48",
       "version_major": 2,
       "version_minor": 0
      },
      "text/plain": [
       "Map:   0%|          | 0/1747 [00:00<?, ? examples/s]"
      ]
     },
     "metadata": {},
     "output_type": "display_data"
    },
    {
     "data": {
      "application/vnd.jupyter.widget-view+json": {
       "model_id": "d95c798b1a8e4566a51536083c0e4d70",
       "version_major": 2,
       "version_minor": 0
      },
      "text/plain": [
       "Map:   0%|          | 0/500 [00:00<?, ? examples/s]"
      ]
     },
     "metadata": {},
     "output_type": "display_data"
    }
   ],
   "source": [
    "def generate_answers_with_peft_batch(batch):\n",
    "    inputs = []\n",
    "    for text_ids, question in zip(batch[\"text_ids\"], batch[\"question\"]):\n",
    "        cleaned_ids = [int(id) for id in text_ids.strip('[]').split()]\n",
    "        max_idx = len(texts_df) - 1\n",
    "        valid_ids = [i for i in cleaned_ids if 0 <= i <= max_idx]\n",
    "        context = ' '.join([texts_df['text'].iloc[i] for i in valid_ids])\n",
    "        input_text = f\"Context: {context} Question: {question}\"\n",
    "        inputs.append(input_text)\n",
    "    \n",
    "    targets = batch[\"answer\"]\n",
    "    \n",
    "    return {\n",
    "        \"train\": [\n",
    "            f\"{input_text} Answer: {target}\"\n",
    "            for input_text, target in zip(inputs, targets)\n",
    "        ]\n",
    "    }\n",
    "\n",
    "train_dataset = Dataset.from_pandas(questions_train_df)\n",
    "val_dataset = Dataset.from_pandas(questions_val_df)\n",
    "\n",
    "train_dataset = train_dataset.map(generate_answers_with_peft_batch, batched=True)\n",
    "val_dataset = val_dataset.map(generate_answers_with_peft_batch, batched=True)"
   ]
  },
  {
   "cell_type": "code",
   "execution_count": 44,
   "metadata": {},
   "outputs": [
    {
     "name": "stderr",
     "output_type": "stream",
     "text": [
      "/home/zeus/miniconda3/envs/cloudspace/lib/python3.10/site-packages/transformers/training_args.py:1568: FutureWarning: `evaluation_strategy` is deprecated and will be removed in version 4.46 of 🤗 Transformers. Use `eval_strategy` instead\n",
      "  warnings.warn(\n",
      "/home/zeus/miniconda3/envs/cloudspace/lib/python3.10/site-packages/huggingface_hub/utils/_deprecation.py:100: FutureWarning: Deprecated argument(s) used in '__init__': dataset_text_field. Will not be supported from version '0.13.0'.\n",
      "\n",
      "Deprecated positional argument(s) used in SFTTrainer, please use the SFTConfig to set these arguments instead.\n",
      "  warnings.warn(message, FutureWarning)\n",
      "/home/zeus/miniconda3/envs/cloudspace/lib/python3.10/site-packages/transformers/training_args.py:1568: FutureWarning: `evaluation_strategy` is deprecated and will be removed in version 4.46 of 🤗 Transformers. Use `eval_strategy` instead\n",
      "  warnings.warn(\n",
      "/home/zeus/miniconda3/envs/cloudspace/lib/python3.10/site-packages/trl/trainer/sft_trainer.py:309: UserWarning: You didn't pass a `max_seq_length` argument to the SFTTrainer, this will default to 1024\n",
      "  warnings.warn(\n",
      "/home/zeus/miniconda3/envs/cloudspace/lib/python3.10/site-packages/trl/trainer/sft_trainer.py:328: UserWarning: You passed a `dataset_text_field` argument to the SFTTrainer, the value you passed will override the one in the `SFTConfig`.\n",
      "  warnings.warn(\n"
     ]
    },
    {
     "data": {
      "application/vnd.jupyter.widget-view+json": {
       "model_id": "b5bc70ca0a834a57a583256302a3654e",
       "version_major": 2,
       "version_minor": 0
      },
      "text/plain": [
       "Map:   0%|          | 0/1747 [00:00<?, ? examples/s]"
      ]
     },
     "metadata": {},
     "output_type": "display_data"
    },
    {
     "data": {
      "application/vnd.jupyter.widget-view+json": {
       "model_id": "7b637173e36b48f6b6b00ca8b8c81a63",
       "version_major": 2,
       "version_minor": 0
      },
      "text/plain": [
       "Map:   0%|          | 0/500 [00:00<?, ? examples/s]"
      ]
     },
     "metadata": {},
     "output_type": "display_data"
    },
    {
     "name": "stderr",
     "output_type": "stream",
     "text": [
      "/home/zeus/miniconda3/envs/cloudspace/lib/python3.10/site-packages/trl/trainer/sft_trainer.py:403: UserWarning: You passed a processing_class with `padding_side` not equal to `right` to the SFTTrainer. This might lead to some unexpected behaviour due to overflow issues when training a model in half-precision. You might consider adding `processing_class.padding_side = 'right'` to your code.\n",
      "  warnings.warn(\n"
     ]
    },
    {
     "data": {
      "text/html": [
       "\n",
       "    <div>\n",
       "      \n",
       "      <progress value='162' max='162' style='width:300px; height:20px; vertical-align: middle;'></progress>\n",
       "      [162/162 08:34, Epoch 2/3]\n",
       "    </div>\n",
       "    <table border=\"1\" class=\"dataframe\">\n",
       "  <thead>\n",
       " <tr style=\"text-align: left;\">\n",
       "      <th>Step</th>\n",
       "      <th>Training Loss</th>\n",
       "      <th>Validation Loss</th>\n",
       "    </tr>\n",
       "  </thead>\n",
       "  <tbody>\n",
       "    <tr>\n",
       "      <td>10</td>\n",
       "      <td>1.559000</td>\n",
       "      <td>1.541993</td>\n",
       "    </tr>\n",
       "    <tr>\n",
       "      <td>20</td>\n",
       "      <td>1.541900</td>\n",
       "      <td>1.535250</td>\n",
       "    </tr>\n",
       "    <tr>\n",
       "      <td>30</td>\n",
       "      <td>1.544600</td>\n",
       "      <td>1.523745</td>\n",
       "    </tr>\n",
       "    <tr>\n",
       "      <td>40</td>\n",
       "      <td>1.516500</td>\n",
       "      <td>1.504277</td>\n",
       "    </tr>\n",
       "    <tr>\n",
       "      <td>50</td>\n",
       "      <td>1.486700</td>\n",
       "      <td>1.477498</td>\n",
       "    </tr>\n",
       "    <tr>\n",
       "      <td>60</td>\n",
       "      <td>1.474200</td>\n",
       "      <td>1.443518</td>\n",
       "    </tr>\n",
       "    <tr>\n",
       "      <td>70</td>\n",
       "      <td>1.443800</td>\n",
       "      <td>1.401170</td>\n",
       "    </tr>\n",
       "    <tr>\n",
       "      <td>80</td>\n",
       "      <td>1.392800</td>\n",
       "      <td>1.352890</td>\n",
       "    </tr>\n",
       "    <tr>\n",
       "      <td>90</td>\n",
       "      <td>1.332300</td>\n",
       "      <td>1.296544</td>\n",
       "    </tr>\n",
       "    <tr>\n",
       "      <td>100</td>\n",
       "      <td>1.266100</td>\n",
       "      <td>1.251597</td>\n",
       "    </tr>\n",
       "    <tr>\n",
       "      <td>110</td>\n",
       "      <td>1.275200</td>\n",
       "      <td>1.216818</td>\n",
       "    </tr>\n",
       "    <tr>\n",
       "      <td>120</td>\n",
       "      <td>1.214100</td>\n",
       "      <td>1.200598</td>\n",
       "    </tr>\n",
       "    <tr>\n",
       "      <td>130</td>\n",
       "      <td>1.195900</td>\n",
       "      <td>1.193151</td>\n",
       "    </tr>\n",
       "    <tr>\n",
       "      <td>140</td>\n",
       "      <td>1.197000</td>\n",
       "      <td>1.189958</td>\n",
       "    </tr>\n",
       "    <tr>\n",
       "      <td>150</td>\n",
       "      <td>1.182600</td>\n",
       "      <td>1.188837</td>\n",
       "    </tr>\n",
       "    <tr>\n",
       "      <td>160</td>\n",
       "      <td>1.191700</td>\n",
       "      <td>1.188501</td>\n",
       "    </tr>\n",
       "  </tbody>\n",
       "</table><p>"
      ],
      "text/plain": [
       "<IPython.core.display.HTML object>"
      ]
     },
     "metadata": {},
     "output_type": "display_data"
    },
    {
     "data": {
      "text/plain": [
       "TrainOutput(global_step=162, training_loss=1.3616916095768963, metrics={'train_runtime': 516.9636, 'train_samples_per_second': 10.138, 'train_steps_per_second': 0.313, 'total_flos': 3.459272575868928e+16, 'train_loss': 1.3616916095768963, 'epoch': 2.974828375286041})"
      ]
     },
     "execution_count": 44,
     "metadata": {},
     "output_type": "execute_result"
    }
   ],
   "source": [
    "os.environ[\"TOKENIZERS_PARALLELISM\"] = \"false\"\n",
    "\n",
    "training_args = TrainingArguments(\n",
    "    output_dir=\"your_output_dir\",  \n",
    "    evaluation_strategy=\"steps\",  \n",
    "    eval_steps=10, \n",
    "    save_steps=10,  \n",
    "    logging_steps=10,  \n",
    "    num_train_epochs=3,  \n",
    "    per_device_train_batch_size=4,  \n",
    "    gradient_accumulation_steps=8,  \n",
    "    weight_decay=0.01, \n",
    "    fp16=True,  \n",
    "    save_total_limit=2, \n",
    "    load_best_model_at_end=True,  \n",
    "    seed=42,  \n",
    "    logging_dir=\"./logs\",  \n",
    "    report_to=\"none\",  \n",
    "    disable_tqdm=False,  \n",
    "    dataloader_num_workers=4,  \n",
    "    warmup_steps=100,  \n",
    "    logging_first_step=True,  \n",
    "    run_name=\"lora_model\",\n",
    "    learning_rate=2e-5,  \n",
    "    lr_scheduler_type=\"cosine\",  \n",
    ")\n",
    "\n",
    "trainer = SFTTrainer(\n",
    "    model=lora_model,\n",
    "    args=training_args,\n",
    "    peft_config=lora_config,\n",
    "    dataset_text_field=\"train\",\n",
    "    train_dataset=train_dataset,\n",
    "    eval_dataset=val_dataset,\n",
    "    tokenizer=tokenizer,\n",
    ")\n",
    "trainer.train()"
   ]
  },
  {
   "cell_type": "code",
   "execution_count": 45,
   "metadata": {},
   "outputs": [
    {
     "name": "stdout",
     "output_type": "stream",
     "text": [
      "GPU memory cleaned\n"
     ]
    },
    {
     "name": "stderr",
     "output_type": "stream",
     "text": [
      "Generating answers for k=1: 100%|██████████| 16/16 [00:59<00:00,  3.69s/it]\n",
      "Generating answers for k=2: 100%|██████████| 16/16 [01:06<00:00,  4.14s/it]\n",
      "Generating answers for k=3: 100%|██████████| 16/16 [01:17<00:00,  4.87s/it]\n",
      "Generating answers for k=4: 100%|██████████| 16/16 [01:17<00:00,  4.85s/it]\n",
      "Generating answers for k=5: 100%|██████████| 16/16 [01:17<00:00,  4.85s/it]\n"
     ]
    }
   ],
   "source": [
    "answers_lora = generate_answers_with_prompts(prompts_by_k, lora_model, tokenizer, device=device, batch_size=32)"
   ]
  },
  {
   "cell_type": "markdown",
   "metadata": {
    "id": "J7igy31XlmzR"
   },
   "source": [
    "### 4.4. Évaluation (2 points)\n",
    "\n",
    "#### 4.4.1. Évaluez votre modèle sur le jeu de validation en utilisant la métrique BLEU-2 (1 point)"
   ]
  },
  {
   "cell_type": "code",
   "execution_count": null,
   "metadata": {
    "id": "RnifBbOPlmzR"
   },
   "outputs": [
    {
     "name": "stdout",
     "output_type": "stream",
     "text": [
      "BLEU-2 score for k=1: 47.36%\n",
      "BLEU-2 score for k=2: 49.79%\n",
      "BLEU-2 score for k=3: 51.95%\n",
      "BLEU-2 score for k=4: 51.25%\n",
      "BLEU-2 score for k=5: 51.43%\n"
     ]
    }
   ],
   "source": [
    "bleu_scores_lora = {}\n",
    "for k, answers in answers_lora.items():\n",
    "    lora_df = pd.DataFrame({'id': questions_val_df['id'], 'answer': answers})\n",
    "    bleu1 = evaluate_bleu(questions_val_df, lora_df, 1)\n",
    "    bleu2 = evaluate_bleu(questions_val_df, lora_df, 2)\n",
    "    bleu_scores_lora[k] = (bleu1, bleu2)\n",
    "\n",
    "for k, (bleu1, bleu2) in bleu_scores_lora.items():\n",
    "    # print(f\"BLEU-1 score for k={k}: {bleu1:.2f}%\")\n",
    "    print(f\"BLEU-2 score for k={k}: {bleu2:.2f}%\")"
   ]
  },
  {
   "cell_type": "code",
   "execution_count": 47,
   "metadata": {},
   "outputs": [
    {
     "name": "stderr",
     "output_type": "stream",
     "text": [
      "Encoding sequences: 100%|██████████| 8/8 [00:00<00:00, 91.91it/s]\n"
     ]
    },
    {
     "name": "stdout",
     "output_type": "stream",
     "text": [
      "GPU memory cleaned\n"
     ]
    },
    {
     "name": "stderr",
     "output_type": "stream",
     "text": [
      "Generating answers for k=1: 100%|██████████| 16/16 [00:58<00:00,  3.66s/it]\n",
      "Generating answers for k=2: 100%|██████████| 16/16 [01:06<00:00,  4.13s/it]\n",
      "Generating answers for k=3: 100%|██████████| 16/16 [01:17<00:00,  4.82s/it]\n",
      "Generating answers for k=4: 100%|██████████| 16/16 [01:17<00:00,  4.83s/it]\n",
      "Generating answers for k=5: 100%|██████████| 16/16 [01:17<00:00,  4.82s/it]\n"
     ]
    }
   ],
   "source": [
    "k_optimal = 3\n",
    "\n",
    "relevant_passages_lora = retrieve_passages_faiss(\n",
    "    questions=questions_test_df['question'].tolist(),\n",
    "    vector_index=index,\n",
    "    passage_embeddings=passages_embed,  # Pass precomputed passage embeddings\n",
    "    k=k_optimal,\n",
    "    embedding_model_tokenizer=embedding_tokenizer,\n",
    "    embedding_model=embedding_model,\n",
    "    device='cuda'\n",
    ")\n",
    "\n",
    "prompts_by_k_lora = generate_prompts(questions_test_df['question'].to_list(), relevant_passages_lora, texts_df['text'].to_list(), k_values)\n",
    "answers_lora_test = generate_answers_with_prompts(prompts_by_k_lora, lora_model, tokenizer, device=device, batch_size=32)\n",
    "\n",
    "output_test_df = questions_test_df.copy()\n",
    "output_test_df['answer'] = answers_lora_test[k_optimal]\n",
    "\n",
    "output_test_file = generated_path + \"test_predictions.csv\"\n",
    "output_test_df.to_csv(output_test_file, index=False)"
   ]
  },
  {
   "cell_type": "markdown",
   "metadata": {
    "id": "D_il7CiblmzR"
   },
   "source": [
    "#### 4.4.2 Comparez les résultats obtenus avec les modèles précédents sur l'ensemble de validation. Quelles sont vos conclusions? (1 point)"
   ]
  },
  {
   "cell_type": "markdown",
   "metadata": {},
   "source": [
    "Les résultats montrent que l’approche avec prompting, reranking et LoRA est plus performante que l’approche basique (RAG et FAISS) pour générer des réponses de qualité. Avec l’approche basique, les scores BLEU-2 augmentent progressivement lorsque k augmente, atteignant un maximum de 49.06 % pour k=5. Cela indique que l’ajout de plus de passages enrichit le contexte et améliore les résultats. En comparaison, l’approche avec reranking et LoRA atteint un meilleur score BLEU-2, avec un maximum de 51.95 % pour k=3. Cela montre que le reranking aide à sélectionner les passages les plus pertinents et que LoRA permet d’ajuster le modèle de manière efficace. Cependant, les performances diminuent légèrement au-delà de k=3, probablement à cause de l’ajout de passages moins utiles ou redondants."
   ]
  },
  {
   "cell_type": "markdown",
   "metadata": {
    "id": "fwp6bhI_lmzR"
   },
   "source": [
    "### 4.5. Analyse (8 points)\n",
    "#### 4.5.1. Avantages/limites/Erreurs types (5 points)\n",
    "En quelques phrases précises, discutez des avantages et limites de votre meilleure architecture. Analysez les cas d’erreur."
   ]
  },
  {
   "cell_type": "markdown",
   "metadata": {},
   "source": [
    "Avantages :\n",
    "- Prompt clair et structuré : Le prompt utilisé est simple et efficace, fournissant un cadre contextuel précis qui facilite la génération de réponses adaptées par le modèle.\n",
    "- Fine-tuning complet : Grâce à LoRA (Low-Rank Adaptation), toutes les parties entraînables, y compris le modèle d'embedding et le générateur, ont été fine-tuné. Cette approche réduit la complexité tout en améliorant les performances et la généralisation sur la tâche.\n",
    "- Reranking des passages récupérés : La mise en place d’un reranking optimise la pertinence des passages extraits, ce qui améliore la qualité du contexte fourni au modèle générateur.\n",
    "- Précision accrue grâce à LoRA : L’intégration de LoRA a significativement amélioré la précision du modèle tout en réduisant les coûts en ressources et en adaptant efficacement le modèle à nos besoins.\n",
    "\n",
    "\n",
    "Limites :\n",
    "- Manque de preprocessing : L’absence de nettoyage et de normalisation des données peut affecter la qualité des embeddings et les correspondances entre requêtes et passages.\n",
    "    - Cas d'erreur : Les passages récupérés peuvent contenir du bruit ou des informations hors sujet, ce qui nuit à la pertinence des réponses générées.\n",
    "- Extraction rigide des réponses : L’extraction repose sur une segmentation simple par ponctuation, ce qui peut entraîner des réponses coupées ou redondantes.\n",
    "    - Cas d'erreur : Des réponses trop longues peuvent être tronquées, ou le modèle peut répéter certaines informations dans ses sorties.\n",
    "- Prompt limité au zero-shot : L’approche zero-shot limite l’effet de guidage que des exemples (few-shot) pourraient apporter, réduisant la précision dans les scénarios complexes.\n",
    "- Reranking non optimal : Faute de bibliothèques plus avancées, les méthodes de reranking restent basiques et n’exploitent pas pleinement les techniques de l’état de l’art, ce qui limite la précision des passages récupérés."
   ]
  },
  {
   "cell_type": "markdown",
   "metadata": {
    "id": "gnjiHOSslmzR"
   },
   "source": [
    "#### 4.5.2. Améliorations potentielles (3 points)\n",
    "\n",
    "Indiquez deux pistes d’amélioration futures potentielles et pourquoi vous pensez qu'elles permettraient d'obtenir de meilleurs résultats en vous basant sur un raisonnement logique ou sur des références à l'état de l'art"
   ]
  },
  {
   "cell_type": "markdown",
   "metadata": {},
   "source": [
    "- Préprocessing des données : Ajouter des étapes de nettoyage et de normalisation des textes, comme la suppression du bruit ou l’uniformisation des formats, améliorerait la qualité des embeddings et augmenterait la précision des correspondances. Cela permettrait au modèle de travailler avec des données plus pertinentes et mieux structurées.\n",
    "\n",
    "- Amélioration de la fonction d’extraction : Utiliser un tokenizer plus avancé (comme celui de Hugging Face) ou en concevoir un adapté à notre tâche éviterait les coupures maladroites et rendrait les réponses plus fluides et contextuellement cohérentes.\n",
    "\n",
    "- Optimisation du prompt : Intégrer des techniques comme le few-shot learning ou le chain-of-thought prompting guiderait le modèle dans des tâches complexes. Ces approches, bien documentées dans l’état de l’art, sont reconnues pour améliorer la précision et la compréhension des contextes multi-étapes.\n",
    "\n",
    "- Amélioration de l’apprentissage contrastif : Optimiser les hyperparamètres de l’apprentissage contrastif (nombre d’epochs, taux d’apprentissage) et tester des modèles comme DPR (Dense Passage Retriever) ou HyDE (Hypothetical Document Embeddings) pour renforcer la pertinence des passages récupérés.\n",
    "\n",
    "- Métriques d’évaluation alternatives : Remplacer ou compléter BLEU par des métriques plus sensibles aux nuances contextuelles, comme le score Kaggle ou d’autres métriques spécifiques aux tâches de question-réponse, permettrait de mieux évaluer les améliorations dès l’entraînement sans attendre la fin des tests.\n",
    "\n",
    "- Implémentation avancée de retrieval et reranking : Réimplémenter des méthodes de retrieval et reranking personnalisées permettrait de surmonter les limitations des bibliothèques actuelles et d'adopter des techniques plus récentes pour une meilleure optimisation."
   ]
  }
 ],
 "metadata": {
  "accelerator": "GPU",
  "colab": {
   "gpuType": "T4",
   "provenance": [],
   "toc_visible": true
  },
  "kernelspec": {
   "display_name": "Python 3",
   "language": "python",
   "name": "python3"
  },
  "language_info": {
   "codemirror_mode": {
    "name": "ipython",
    "version": 3
   },
   "file_extension": ".py",
   "mimetype": "text/x-python",
   "name": "python",
   "nbconvert_exporter": "python",
   "pygments_lexer": "ipython3",
   "version": "3.11.9"
  },
  "widgets": {
   "application/vnd.jupyter.widget-state+json": {
    "1e66fef8d4e64066b35a5d774f772955": {
     "model_module": "@jupyter-widgets/controls",
     "model_module_version": "1.5.0",
     "model_name": "ProgressStyleModel",
     "state": {
      "_model_module": "@jupyter-widgets/controls",
      "_model_module_version": "1.5.0",
      "_model_name": "ProgressStyleModel",
      "_view_count": null,
      "_view_module": "@jupyter-widgets/base",
      "_view_module_version": "1.2.0",
      "_view_name": "StyleView",
      "bar_color": null,
      "description_width": ""
     }
    },
    "608e3872b9b04bacae2e24ca735d64ec": {
     "model_module": "@jupyter-widgets/controls",
     "model_module_version": "1.5.0",
     "model_name": "HTMLModel",
     "state": {
      "_dom_classes": [],
      "_model_module": "@jupyter-widgets/controls",
      "_model_module_version": "1.5.0",
      "_model_name": "HTMLModel",
      "_view_count": null,
      "_view_module": "@jupyter-widgets/controls",
      "_view_module_version": "1.5.0",
      "_view_name": "HTMLView",
      "description": "",
      "description_tooltip": null,
      "layout": "IPY_MODEL_7c27c926a67e4b90bb6fcb226edce9c5",
      "placeholder": "​",
      "style": "IPY_MODEL_a536d5fe17a84a3888f755c11986a528",
      "value": " 2/2 [00:33&lt;00:00, 16.03s/it]"
     }
    },
    "65abe388aa564a25b0e640060a88ac42": {
     "model_module": "@jupyter-widgets/controls",
     "model_module_version": "1.5.0",
     "model_name": "HBoxModel",
     "state": {
      "_dom_classes": [],
      "_model_module": "@jupyter-widgets/controls",
      "_model_module_version": "1.5.0",
      "_model_name": "HBoxModel",
      "_view_count": null,
      "_view_module": "@jupyter-widgets/controls",
      "_view_module_version": "1.5.0",
      "_view_name": "HBoxView",
      "box_style": "",
      "children": [
       "IPY_MODEL_d822a51c29e8419e8fb9fd593a13a51d",
       "IPY_MODEL_fcf1340b2d2f41ee9e16dbe4ad6505b3",
       "IPY_MODEL_608e3872b9b04bacae2e24ca735d64ec"
      ],
      "layout": "IPY_MODEL_86df048ac08044e286ec340f7f4f7ced"
     }
    },
    "7c27c926a67e4b90bb6fcb226edce9c5": {
     "model_module": "@jupyter-widgets/base",
     "model_module_version": "1.2.0",
     "model_name": "LayoutModel",
     "state": {
      "_model_module": "@jupyter-widgets/base",
      "_model_module_version": "1.2.0",
      "_model_name": "LayoutModel",
      "_view_count": null,
      "_view_module": "@jupyter-widgets/base",
      "_view_module_version": "1.2.0",
      "_view_name": "LayoutView",
      "align_content": null,
      "align_items": null,
      "align_self": null,
      "border": null,
      "bottom": null,
      "display": null,
      "flex": null,
      "flex_flow": null,
      "grid_area": null,
      "grid_auto_columns": null,
      "grid_auto_flow": null,
      "grid_auto_rows": null,
      "grid_column": null,
      "grid_gap": null,
      "grid_row": null,
      "grid_template_areas": null,
      "grid_template_columns": null,
      "grid_template_rows": null,
      "height": null,
      "justify_content": null,
      "justify_items": null,
      "left": null,
      "margin": null,
      "max_height": null,
      "max_width": null,
      "min_height": null,
      "min_width": null,
      "object_fit": null,
      "object_position": null,
      "order": null,
      "overflow": null,
      "overflow_x": null,
      "overflow_y": null,
      "padding": null,
      "right": null,
      "top": null,
      "visibility": null,
      "width": null
     }
    },
    "86df048ac08044e286ec340f7f4f7ced": {
     "model_module": "@jupyter-widgets/base",
     "model_module_version": "1.2.0",
     "model_name": "LayoutModel",
     "state": {
      "_model_module": "@jupyter-widgets/base",
      "_model_module_version": "1.2.0",
      "_model_name": "LayoutModel",
      "_view_count": null,
      "_view_module": "@jupyter-widgets/base",
      "_view_module_version": "1.2.0",
      "_view_name": "LayoutView",
      "align_content": null,
      "align_items": null,
      "align_self": null,
      "border": null,
      "bottom": null,
      "display": null,
      "flex": null,
      "flex_flow": null,
      "grid_area": null,
      "grid_auto_columns": null,
      "grid_auto_flow": null,
      "grid_auto_rows": null,
      "grid_column": null,
      "grid_gap": null,
      "grid_row": null,
      "grid_template_areas": null,
      "grid_template_columns": null,
      "grid_template_rows": null,
      "height": null,
      "justify_content": null,
      "justify_items": null,
      "left": null,
      "margin": null,
      "max_height": null,
      "max_width": null,
      "min_height": null,
      "min_width": null,
      "object_fit": null,
      "object_position": null,
      "order": null,
      "overflow": null,
      "overflow_x": null,
      "overflow_y": null,
      "padding": null,
      "right": null,
      "top": null,
      "visibility": null,
      "width": null
     }
    },
    "a536d5fe17a84a3888f755c11986a528": {
     "model_module": "@jupyter-widgets/controls",
     "model_module_version": "1.5.0",
     "model_name": "DescriptionStyleModel",
     "state": {
      "_model_module": "@jupyter-widgets/controls",
      "_model_module_version": "1.5.0",
      "_model_name": "DescriptionStyleModel",
      "_view_count": null,
      "_view_module": "@jupyter-widgets/base",
      "_view_module_version": "1.2.0",
      "_view_name": "StyleView",
      "description_width": ""
     }
    },
    "b2476ee4f8474922894ea99d6d52297b": {
     "model_module": "@jupyter-widgets/base",
     "model_module_version": "1.2.0",
     "model_name": "LayoutModel",
     "state": {
      "_model_module": "@jupyter-widgets/base",
      "_model_module_version": "1.2.0",
      "_model_name": "LayoutModel",
      "_view_count": null,
      "_view_module": "@jupyter-widgets/base",
      "_view_module_version": "1.2.0",
      "_view_name": "LayoutView",
      "align_content": null,
      "align_items": null,
      "align_self": null,
      "border": null,
      "bottom": null,
      "display": null,
      "flex": null,
      "flex_flow": null,
      "grid_area": null,
      "grid_auto_columns": null,
      "grid_auto_flow": null,
      "grid_auto_rows": null,
      "grid_column": null,
      "grid_gap": null,
      "grid_row": null,
      "grid_template_areas": null,
      "grid_template_columns": null,
      "grid_template_rows": null,
      "height": null,
      "justify_content": null,
      "justify_items": null,
      "left": null,
      "margin": null,
      "max_height": null,
      "max_width": null,
      "min_height": null,
      "min_width": null,
      "object_fit": null,
      "object_position": null,
      "order": null,
      "overflow": null,
      "overflow_x": null,
      "overflow_y": null,
      "padding": null,
      "right": null,
      "top": null,
      "visibility": null,
      "width": null
     }
    },
    "ba899452489e46ed96fd37659840fcd3": {
     "model_module": "@jupyter-widgets/base",
     "model_module_version": "1.2.0",
     "model_name": "LayoutModel",
     "state": {
      "_model_module": "@jupyter-widgets/base",
      "_model_module_version": "1.2.0",
      "_model_name": "LayoutModel",
      "_view_count": null,
      "_view_module": "@jupyter-widgets/base",
      "_view_module_version": "1.2.0",
      "_view_name": "LayoutView",
      "align_content": null,
      "align_items": null,
      "align_self": null,
      "border": null,
      "bottom": null,
      "display": null,
      "flex": null,
      "flex_flow": null,
      "grid_area": null,
      "grid_auto_columns": null,
      "grid_auto_flow": null,
      "grid_auto_rows": null,
      "grid_column": null,
      "grid_gap": null,
      "grid_row": null,
      "grid_template_areas": null,
      "grid_template_columns": null,
      "grid_template_rows": null,
      "height": null,
      "justify_content": null,
      "justify_items": null,
      "left": null,
      "margin": null,
      "max_height": null,
      "max_width": null,
      "min_height": null,
      "min_width": null,
      "object_fit": null,
      "object_position": null,
      "order": null,
      "overflow": null,
      "overflow_x": null,
      "overflow_y": null,
      "padding": null,
      "right": null,
      "top": null,
      "visibility": null,
      "width": null
     }
    },
    "d822a51c29e8419e8fb9fd593a13a51d": {
     "model_module": "@jupyter-widgets/controls",
     "model_module_version": "1.5.0",
     "model_name": "HTMLModel",
     "state": {
      "_dom_classes": [],
      "_model_module": "@jupyter-widgets/controls",
      "_model_module_version": "1.5.0",
      "_model_name": "HTMLModel",
      "_view_count": null,
      "_view_module": "@jupyter-widgets/controls",
      "_view_module_version": "1.5.0",
      "_view_name": "HTMLView",
      "description": "",
      "description_tooltip": null,
      "layout": "IPY_MODEL_b2476ee4f8474922894ea99d6d52297b",
      "placeholder": "​",
      "style": "IPY_MODEL_e8aeb7cd3e814731a977afd6735779ab",
      "value": "Loading checkpoint shards: 100%"
     }
    },
    "e8aeb7cd3e814731a977afd6735779ab": {
     "model_module": "@jupyter-widgets/controls",
     "model_module_version": "1.5.0",
     "model_name": "DescriptionStyleModel",
     "state": {
      "_model_module": "@jupyter-widgets/controls",
      "_model_module_version": "1.5.0",
      "_model_name": "DescriptionStyleModel",
      "_view_count": null,
      "_view_module": "@jupyter-widgets/base",
      "_view_module_version": "1.2.0",
      "_view_name": "StyleView",
      "description_width": ""
     }
    },
    "fcf1340b2d2f41ee9e16dbe4ad6505b3": {
     "model_module": "@jupyter-widgets/controls",
     "model_module_version": "1.5.0",
     "model_name": "FloatProgressModel",
     "state": {
      "_dom_classes": [],
      "_model_module": "@jupyter-widgets/controls",
      "_model_module_version": "1.5.0",
      "_model_name": "FloatProgressModel",
      "_view_count": null,
      "_view_module": "@jupyter-widgets/controls",
      "_view_module_version": "1.5.0",
      "_view_name": "ProgressView",
      "bar_style": "success",
      "description": "",
      "description_tooltip": null,
      "layout": "IPY_MODEL_ba899452489e46ed96fd37659840fcd3",
      "max": 2,
      "min": 0,
      "orientation": "horizontal",
      "style": "IPY_MODEL_1e66fef8d4e64066b35a5d774f772955",
      "value": 2
     }
    }
   }
  }
 },
 "nbformat": 4,
 "nbformat_minor": 0
}
